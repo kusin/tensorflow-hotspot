{
 "cells": [
  {
   "cell_type": "markdown",
   "id": "6a3d4522-e20a-4a4c-a0ad-219f6c1768ef",
   "metadata": {},
   "source": [
    "## Grid-Search Univariate LSTM-RNN Sumatera Selatan Percobaan 1"
   ]
  },
  {
   "cell_type": "markdown",
   "id": "023fd763-a166-439d-8847-09f68f5b40e9",
   "metadata": {},
   "source": [
    "### 1. Declaration Library"
   ]
  },
  {
   "cell_type": "code",
   "execution_count": null,
   "id": "2482c1ca-ae1a-429c-b10f-2f3f7b71f4d9",
   "metadata": {},
   "outputs": [],
   "source": [
    "# library manipulation dataset\n",
    "import pandas as pd\n",
    "from pandas import concat\n",
    "from pandas import DataFrame\n",
    "from pandas import read_csv\n",
    "from pandas import read_excel\n",
    "\n",
    "# library manipulation array\n",
    "import numpy as np\n",
    "from numpy import concatenate\n",
    "from numpy import array\n",
    "\n",
    "# library configuration date and time\n",
    "import time\n",
    "from datetime import datetime\n",
    "\n",
    "# library data visualization\n",
    "import seaborn as sns\n",
    "from matplotlib import pyplot\n",
    "from matplotlib import pyplot as plt\n",
    "\n",
    "# library analysis acf and pacf\n",
    "import statsmodels.api as sm\n",
    "from statsmodels.graphics.tsaplots import plot_pacf\n",
    "from statsmodels.graphics.tsaplots import plot_acf\n",
    "\n",
    "# library normalize data with max-min algorithm\n",
    "from sklearn.preprocessing import MinMaxScaler\n",
    "from sklearn.preprocessing import LabelEncoder\n",
    "\n",
    "# library algorithm lstm-rnn with keras\n",
    "import tensorflow as tf\n",
    "from tensorflow.keras import models\n",
    "from keras.models import Sequential\n",
    "from keras.layers import RNN\n",
    "from keras.layers import LSTM\n",
    "from keras.layers import GRU\n",
    "from keras.layers import Dense\n",
    "from keras.layers import Dropout\n",
    "from keras.layers import TimeDistributed\n",
    "from keras.layers import Bidirectional\n",
    "from keras.optimizers import Adam, Adamax, RMSprop, SGD\n",
    "\n",
    "# Early stoping\n",
    "from keras.callbacks import EarlyStopping\n",
    "from keras.callbacks import ModelCheckpoint\n",
    "\n",
    "# library evaluation model\n",
    "from math import sqrt\n",
    "from sklearn.metrics import make_scorer\n",
    "from sklearn.metrics import mean_squared_error\n",
    "from sklearn.metrics import mean_absolute_error"
   ]
  },
  {
   "cell_type": "markdown",
   "id": "594fca14-45e5-4efa-aa9d-470ac664c2e0",
   "metadata": {},
   "source": [
    "### 2. Akuisisi Data"
   ]
  },
  {
   "cell_type": "code",
   "execution_count": null,
   "id": "48ed3834-ea60-4c43-a0af-c3010ea0d06a",
   "metadata": {},
   "outputs": [],
   "source": [
    "# set time for complexity computation\n",
    "start = time.time()"
   ]
  },
  {
   "cell_type": "code",
   "execution_count": null,
   "id": "bef4dda6-0e4e-41b6-b367-ab4745adc6e8",
   "metadata": {},
   "outputs": [],
   "source": [
    "# fix random seed for reproducibility\n",
    "np.random.seed(1234)"
   ]
  },
  {
   "cell_type": "code",
   "execution_count": null,
   "id": "2ba8885c-781f-4e63-83ec-9bddbfbbb9af",
   "metadata": {},
   "outputs": [],
   "source": [
    "# load dataset csv\n",
    "dataset = pd.read_csv(\"dataset/modis_sumsel_bulanan.csv\", parse_dates=['acq_date'], engine=\"python\")"
   ]
  },
  {
   "cell_type": "code",
   "execution_count": null,
   "id": "51cabe7e-5587-484c-a8a9-00bee163fd5f",
   "metadata": {},
   "outputs": [],
   "source": [
    "# # set index\n",
    "# dataset = dataset.set_index(\"Date\");"
   ]
  },
  {
   "cell_type": "code",
   "execution_count": null,
   "id": "9435954e-e4bd-417e-84be-062bdfb6abdd",
   "metadata": {},
   "outputs": [],
   "source": [
    "# show metadata dataset\n",
    "dataset.info()"
   ]
  },
  {
   "cell_type": "code",
   "execution_count": null,
   "id": "477ed857-d111-434e-bd8b-8e82255cd3c8",
   "metadata": {},
   "outputs": [],
   "source": [
    "# show dataset\n",
    "dataset"
   ]
  },
  {
   "cell_type": "markdown",
   "id": "8bf1d4dc-0dc9-4ef0-937e-2f4c72807f85",
   "metadata": {},
   "source": [
    "### 3. Exploration Data Analysis"
   ]
  },
  {
   "cell_type": "markdown",
   "id": "44836e1a-a0e7-476a-86c0-cd84d85a72e8",
   "metadata": {},
   "source": [
    "- Data Visualization"
   ]
  },
  {
   "cell_type": "code",
   "execution_count": null,
   "id": "923103f0-c7c6-4d10-9ad2-973ea73b65af",
   "metadata": {},
   "outputs": [],
   "source": [
    "# make frame\n",
    "fig, ax = plt.subplots(figsize = (20,6))\n",
    "\n",
    "# make time series plot\n",
    "ax.plot(dataset[\"acq_date\"], dataset[\"hotspot\"], color=\"tab:blue\", label=\"hotspot sumsel 2001-2020\", linewidth=3)\n",
    "\n",
    "# make are labels\n",
    "ax.set_title(\"Hotspot Sumsel 2001-2020\", fontsize=14)\n",
    "ax.set_xlabel(\"Date\", fontsize=12)\n",
    "ax.set_ylabel(\"Sum of hostpot\", fontsize=12)\n",
    "ax.legend(loc='best')\n",
    "ax.grid(True)\n",
    "\n",
    "# show plot time series\n",
    "plt.show()"
   ]
  },
  {
   "cell_type": "markdown",
   "id": "65e20dde-6aac-4e20-ad4f-8811eed15e16",
   "metadata": {},
   "source": [
    "- Analysis ACF and PACF"
   ]
  },
  {
   "cell_type": "code",
   "execution_count": null,
   "id": "e18d498a-1809-4766-b373-973193b82c87",
   "metadata": {},
   "outputs": [],
   "source": [
    "# make frame\n",
    "fig, ax= plt.subplots(nrows=1, ncols=2, facecolor=\"#F0F0F0\", figsize = (20,5))\n",
    "\n",
    "# plot acf\n",
    "plot_acf(dataset[\"hotspot\"], lags=24, ax=ax[0])\n",
    "ax[0].grid(True)\n",
    "\n",
    "# plot pacf\n",
    "plot_pacf(dataset[\"hotspot\"],lags=24, ax=ax[1], method=\"yw\")\n",
    "ax[1].grid(True)\n",
    "\n",
    "# show plot acf and pacf\n",
    "plt.show()"
   ]
  },
  {
   "cell_type": "markdown",
   "id": "aad5538b-e006-485a-81b8-daf87d1a17f1",
   "metadata": {},
   "source": [
    "### 4. Praproses Data"
   ]
  },
  {
   "cell_type": "markdown",
   "id": "a862d8b2-db17-42a6-a933-1d9663ce19c0",
   "metadata": {},
   "source": [
    "- feature selection"
   ]
  },
  {
   "cell_type": "code",
   "execution_count": null,
   "id": "f58ed43b-ebcc-415a-b641-9998f9b0f450",
   "metadata": {},
   "outputs": [],
   "source": [
    "# set a feature selection\n",
    "df_sumsel = dataset.filter([\"hotspot\"])"
   ]
  },
  {
   "cell_type": "code",
   "execution_count": null,
   "id": "9cf7e0cc-177e-4f76-8820-4aa4e856d2da",
   "metadata": {},
   "outputs": [],
   "source": [
    "# convert dataframe to series\n",
    "df_sumsel = df_sumsel.values"
   ]
  },
  {
   "cell_type": "code",
   "execution_count": null,
   "id": "826235b7-3a2f-42de-8dd5-1d203a5a83c4",
   "metadata": {},
   "outputs": [],
   "source": [
    "# show a dataset\n",
    "np.round(df_sumsel[:5],7)"
   ]
  },
  {
   "cell_type": "code",
   "execution_count": null,
   "id": "d2f59f82-bfe6-48f0-9425-d7eab98f4196",
   "metadata": {},
   "outputs": [],
   "source": [
    "# view a dimension dataset\n",
    "df_sumsel.shape"
   ]
  },
  {
   "cell_type": "markdown",
   "id": "7a732b80-f8d6-47db-a5bb-d938ff36e692",
   "metadata": {},
   "source": [
    "- normalization data"
   ]
  },
  {
   "cell_type": "code",
   "execution_count": null,
   "id": "28899a78-cdde-4535-894b-61018e935cde",
   "metadata": {},
   "outputs": [],
   "source": [
    "# normalize data with max-min algorithm\n",
    "scaler = MinMaxScaler(feature_range=(-1, 1))\n",
    "scaled_data = scaler.fit_transform(np.array(df_sumsel).reshape(-1,1))"
   ]
  },
  {
   "cell_type": "code",
   "execution_count": null,
   "id": "5492dc56-2893-468b-ad1c-b65b1a6563ec",
   "metadata": {},
   "outputs": [],
   "source": [
    "# show a dataset after normalize\n",
    "np.round(scaled_data[:5],7)"
   ]
  },
  {
   "cell_type": "code",
   "execution_count": null,
   "id": "39e245f5-8890-4486-88f5-20f425b276e0",
   "metadata": {},
   "outputs": [],
   "source": [
    "# view a dimension dataset after normalize\n",
    "scaled_data.shape"
   ]
  },
  {
   "cell_type": "code",
   "execution_count": null,
   "id": "e7f6f1e5-b6ef-431e-9729-356d8b98952c",
   "metadata": {},
   "outputs": [],
   "source": [
    "# make a frame\n",
    "fig, ax = plt.subplots(figsize = (20,6))\n",
    "\n",
    "# make a time series plot\n",
    "ax.plot(dataset[\"acq_date\"], scaled_data, color=\"tab:blue\", label=\"hotspot sumsel 2001-2020\", linewidth=2.5)\n",
    "\n",
    "# make a labels\n",
    "ax.set_title(\"Hotspot Sumsel Sensor MODIS 2001-2020\", fontsize=14)\n",
    "ax.set_xlabel(\"Tahun\", fontsize=12)\n",
    "ax.set_ylabel(\"Jumlah Hostpot\", fontsize=12)\n",
    "ax.legend(loc='best')\n",
    "ax.grid(True)\n",
    "\n",
    "# show plot time series\n",
    "plt.show()"
   ]
  },
  {
   "cell_type": "markdown",
   "id": "f89a0cd9-49dd-4edc-b2bd-268ed1c8ba73",
   "metadata": {},
   "source": [
    "- set data train and data test"
   ]
  },
  {
   "cell_type": "code",
   "execution_count": null,
   "id": "10adc00b-a7a2-450c-8930-be69f3af4dd9",
   "metadata": {},
   "outputs": [],
   "source": [
    "# set data train\n",
    "train_size = int(len(scaled_data) * 0.8)"
   ]
  },
  {
   "cell_type": "code",
   "execution_count": null,
   "id": "25961b9f-b389-4159-9675-55df187308d8",
   "metadata": {},
   "outputs": [],
   "source": [
    "# set loc data train\n",
    "train_data = scaled_data[0:train_size,:]"
   ]
  },
  {
   "cell_type": "code",
   "execution_count": null,
   "id": "f03fd69e-7e85-4ca0-a8bc-dffdf4892f10",
   "metadata": {},
   "outputs": [],
   "source": [
    "# show data train\n",
    "np.round(train_data[:5],7)"
   ]
  },
  {
   "cell_type": "code",
   "execution_count": null,
   "id": "c388b30f-4276-4a1f-b2e4-ff6dba864a4e",
   "metadata": {},
   "outputs": [],
   "source": [
    "# view dimension of data train\n",
    "train_data.shape"
   ]
  },
  {
   "cell_type": "code",
   "execution_count": null,
   "id": "eec36db6-e4b5-4336-b6b2-dc944bee37f6",
   "metadata": {},
   "outputs": [],
   "source": [
    "# set data test\n",
    "test_size = len(df_sumsel) - train_size"
   ]
  },
  {
   "cell_type": "code",
   "execution_count": null,
   "id": "952fda3e-cac5-42e2-89df-eb636cd9f443",
   "metadata": {},
   "outputs": [],
   "source": [
    "# set loc data train\n",
    "test_data = scaled_data[train_size:len(df_sumsel),:]"
   ]
  },
  {
   "cell_type": "code",
   "execution_count": null,
   "id": "bef4be71-8d42-4101-b750-954fbc1a5795",
   "metadata": {},
   "outputs": [],
   "source": [
    "# show data train\n",
    "np.round(test_data[:5],7)"
   ]
  },
  {
   "cell_type": "code",
   "execution_count": null,
   "id": "a72729d6-95bd-49a5-81d7-d6cb84ccaf17",
   "metadata": {},
   "outputs": [],
   "source": [
    "# view dimension of data train\n",
    "test_data.shape"
   ]
  },
  {
   "cell_type": "code",
   "execution_count": null,
   "id": "f9ce90a6-7dc8-471c-9d7b-426dc51d0552",
   "metadata": {},
   "outputs": [],
   "source": [
    "# make a frame\n",
    "fig, ax = plt.subplots(figsize = (20,7))\n",
    "\n",
    "# make a time series plot\n",
    "ax.plot(dataset.iloc[0:train_size,0], train_data, color=\"tab:blue\", label=\"Data Latih\", linewidth=2.5)\n",
    "ax.plot(dataset.iloc[train_size:len(scaled_data),0], test_data, color=\"tab:red\", label=\"Data Uji\", linewidth=2.5)\n",
    "\n",
    "# make are labels\n",
    "ax.set_title(\"Hotspot Sumsel Sensor MODIS 2001-2020\", fontsize=14)\n",
    "ax.set_xlabel(\"Tahun\", fontsize=12)\n",
    "ax.set_ylabel(\"Jumlah Hostpot\", fontsize=12)\n",
    "ax.legend(loc=\"best\")\n",
    "ax.grid(True)\n",
    "\n",
    "# show plot time series\n",
    "plt.show()"
   ]
  },
  {
   "cell_type": "markdown",
   "id": "b46a6815-2638-4646-89fa-cc0e544168a3",
   "metadata": {},
   "source": [
    "### 5. Supervised Learning"
   ]
  },
  {
   "cell_type": "code",
   "execution_count": null,
   "id": "ed1d52c0-20e8-45cf-bfce-98216b375b17",
   "metadata": {},
   "outputs": [],
   "source": [
    "# function for supervised learning\n",
    "def create_dataset(dataset, look_back):\n",
    "    \n",
    "    # declare variable X and Y\n",
    "    dataX = []\n",
    "    dataY = []\n",
    "    \n",
    "    # for loop for create supervised learning\n",
    "    for i in range(look_back, len(dataset)):\n",
    "        \n",
    "        # insert value X and Y \n",
    "        dataX.append(dataset[i-look_back:i, 0])\n",
    "        dataY.append(dataset[i, 0])\n",
    "        \n",
    "    # return value X and Y\n",
    "    return np.array(dataX), np.array(dataY)"
   ]
  },
  {
   "cell_type": "markdown",
   "id": "f5a75b81-8f47-4767-b607-317dcb159534",
   "metadata": {},
   "source": [
    "- process supervised learning, with look back t-1 into X=t and Y=t+1"
   ]
  },
  {
   "cell_type": "code",
   "execution_count": null,
   "id": "977c8197-630d-4410-acd6-c645be70fa1f",
   "metadata": {},
   "outputs": [],
   "source": [
    "# set look back -1\n",
    "look_back = 1"
   ]
  },
  {
   "cell_type": "code",
   "execution_count": null,
   "id": "e9d88c2b-149e-4355-82aa-f10c5e5a00d4",
   "metadata": {},
   "outputs": [],
   "source": [
    "# set supervised learning for data train\n",
    "x_train, y_train = create_dataset(train_data, look_back)"
   ]
  },
  {
   "cell_type": "code",
   "execution_count": null,
   "id": "a1c72822-9f75-4909-8cc3-6d0c6f95e7a5",
   "metadata": {},
   "outputs": [],
   "source": [
    "# view a dimension dataset after supervised learning\n",
    "print(x_train.shape, y_train.shape)"
   ]
  },
  {
   "cell_type": "code",
   "execution_count": null,
   "id": "85e188e9-cca1-4fe6-b8ff-b571cfec4b34",
   "metadata": {},
   "outputs": [],
   "source": [
    "# set supervised learning for data test\n",
    "x_test, y_test = create_dataset(test_data, look_back)"
   ]
  },
  {
   "cell_type": "code",
   "execution_count": null,
   "id": "31e4194e-6715-4ba4-a108-03cc5fb93e5b",
   "metadata": {},
   "outputs": [],
   "source": [
    "# view a dimension dataset after supervised learning\n",
    "print(x_test.shape, y_test.shape)"
   ]
  },
  {
   "cell_type": "markdown",
   "id": "e1b7dd18-a643-4651-8506-db3993437938",
   "metadata": {},
   "source": [
    "- Check data train, for result supervised learning"
   ]
  },
  {
   "cell_type": "code",
   "execution_count": null,
   "id": "97594d00-1537-4ad4-b214-8efd1f31f1f3",
   "metadata": {},
   "outputs": [],
   "source": [
    "temp_trainX = pd.DataFrame(x_train, columns=['y train'])\n",
    "temp_trainY = pd.DataFrame(y_train, columns=['x train'])"
   ]
  },
  {
   "cell_type": "code",
   "execution_count": null,
   "id": "c93664de-fe58-4986-9501-67811a34e5cc",
   "metadata": {},
   "outputs": [],
   "source": [
    "hasil_train = pd.concat([temp_trainX, temp_trainY], axis=1)\n",
    "hasil_train.head()"
   ]
  },
  {
   "cell_type": "code",
   "execution_count": null,
   "id": "5011d409-32be-460c-9a34-784597134fbe",
   "metadata": {},
   "outputs": [],
   "source": [
    "hasil_train.info()"
   ]
  },
  {
   "cell_type": "markdown",
   "id": "ae2b2d0c-e6d3-4b9a-a805-a43ef725e31c",
   "metadata": {},
   "source": [
    "- Check data test, for result supervised learning"
   ]
  },
  {
   "cell_type": "code",
   "execution_count": null,
   "id": "9833b510-5876-416b-9078-3350515a62d3",
   "metadata": {},
   "outputs": [],
   "source": [
    "temp_testX = pd.DataFrame(x_test, columns=['y test'])\n",
    "temp_testY = pd.DataFrame(y_test, columns=['x test'])"
   ]
  },
  {
   "cell_type": "code",
   "execution_count": null,
   "id": "d1c22bb2-17b8-480f-9adc-35dfe9cac0b1",
   "metadata": {},
   "outputs": [],
   "source": [
    "hasil_test = pd.concat([temp_testX, temp_testY], axis=1)\n",
    "hasil_test.head()"
   ]
  },
  {
   "cell_type": "code",
   "execution_count": null,
   "id": "ee0c64a9-cc26-4406-acd7-5ce1b9cf1be0",
   "metadata": {},
   "outputs": [],
   "source": [
    "hasil_test.info()"
   ]
  },
  {
   "cell_type": "markdown",
   "id": "b113417f-4958-496b-92e0-b0842a935c9f",
   "metadata": {},
   "source": [
    "- reshape input to be [samples, time steps, features]"
   ]
  },
  {
   "cell_type": "code",
   "execution_count": null,
   "id": "ee873ee4-5885-4f81-abab-9c64bc730d4c",
   "metadata": {},
   "outputs": [],
   "source": [
    "# reshape data train\n",
    "x_train = np.reshape(x_train, (x_train.shape[0], x_train.shape[1], 1))"
   ]
  },
  {
   "cell_type": "code",
   "execution_count": null,
   "id": "313d3f8f-239e-43e8-9348-e45fe52c4a08",
   "metadata": {},
   "outputs": [],
   "source": [
    "print(x_train.shape, y_train.shape)"
   ]
  },
  {
   "cell_type": "code",
   "execution_count": null,
   "id": "942bff0c-0e40-4117-b352-b0f9bb9464eb",
   "metadata": {},
   "outputs": [],
   "source": [
    "# reshape data train\n",
    "x_test = np.reshape(x_test, (x_test.shape[0], x_test.shape[1], 1))"
   ]
  },
  {
   "cell_type": "code",
   "execution_count": null,
   "id": "549881e0-a250-4ac7-8af3-d6a58249c792",
   "metadata": {},
   "outputs": [],
   "source": [
    "print(x_test.shape, y_test.shape)"
   ]
  },
  {
   "cell_type": "markdown",
   "id": "95ffa4ed-0a66-48cc-ace4-45f8c1f131d5",
   "metadata": {},
   "source": [
    "### 6. Hyperparameter GridSearchCV LSTM-RNN"
   ]
  },
  {
   "cell_type": "markdown",
   "id": "9ec1d41d-fe66-4ea6-850f-a2fdddb9aa81",
   "metadata": {},
   "source": [
    "- library for hyperparameter"
   ]
  },
  {
   "cell_type": "code",
   "execution_count": null,
   "id": "11d08fbb-d945-409a-bc94-7de78849066e",
   "metadata": {},
   "outputs": [],
   "source": [
    "import itertools\n",
    "from scikeras.wrappers import KerasRegressor\n",
    "from scikeras.wrappers import KerasClassifier\n",
    "from sklearn.model_selection import GridSearchCV\n",
    "from sklearn.model_selection import RandomizedSearchCV\n",
    "from sklearn.pipeline import Pipeline\n",
    "from sklearn.preprocessing import StandardScaler"
   ]
  },
  {
   "cell_type": "markdown",
   "id": "e73b3744-3232-48e2-ac2b-206bfed42e3d",
   "metadata": {},
   "source": [
    "- set models lstm-rnn"
   ]
  },
  {
   "cell_type": "code",
   "execution_count": null,
   "id": "88f27357-ec43-4bc5-bc85-90162bbb218b",
   "metadata": {},
   "outputs": [],
   "source": [
    "# function models lstm-rnn\n",
    "def get_model(activation='tanh', optimizer='Adam', dropout_rate=0.00):\n",
    "    tf.keras.backend.clear_session()\n",
    "    \n",
    "    # design network\n",
    "    model = Sequential()\n",
    "    \n",
    "    # first LSTM-RNN layer with dropout regularisation\n",
    "    model.add(LSTM(units=10, activation=activation, input_shape=(x_train.shape[1], 1)))\n",
    "    model.add(Dropout(dropout_rate))\n",
    "    \n",
    "    # The output layer\n",
    "    model.add(Dense(1))\n",
    "    \n",
    "    # if optimizer == \"adam\":\n",
    "    #     opt = Adam(learning_rate)\n",
    "    # elif optimizer == \"adamax\":\n",
    "    #     opt = Adamax(learning_rate)\n",
    "    # elif optimizer == \"rmsprop\":\n",
    "    #     opt = Adamax(learning_rate)\n",
    "    # else:\n",
    "    #     opt = SGD(learning_rate)\n",
    "    \n",
    "    # Compiling model the LSTM-RNN\n",
    "    model.compile(\n",
    "        optimizer=optimizer,\n",
    "        loss=\"mae\",\n",
    "        metrics=[\n",
    "            tf.keras.metrics.MeanAbsoluteError(),\n",
    "            tf.keras.metrics.MeanSquaredError(),\n",
    "            tf.keras.metrics.RootMeanSquaredError()\n",
    "        ]\n",
    "    )\n",
    "\n",
    "    # return values\n",
    "    return model;"
   ]
  },
  {
   "cell_type": "markdown",
   "id": "8001385b-cb7c-4611-a85d-bd599bd66eee",
   "metadata": {},
   "source": [
    "Set parameter\n",
    "<ul>\n",
    "    <li>activation function = tanh, sigmoid, relu, selu, softplus, elu.</li>\n",
    "    <li>optimizers = adam, adamax, rmsprop, sgd.</li>\n",
    "    <li>droupout = 0.1, 0.2, 0.3, 0.4, 0.5</li>\n",
    "    <li>batch size = 4, 8, 16, 32, 64</li>\n",
    "    <li>epoch = 500, 1000, 1500, 2000</li>\n",
    "</ul>"
   ]
  },
  {
   "cell_type": "code",
   "execution_count": null,
   "id": "9d3d8456-2b59-4e92-a56c-17e3b8604a33",
   "metadata": {},
   "outputs": [],
   "source": [
    "# set parameter activation\n",
    "activation = ['tanh', 'sigmoid', 'relu', 'selu', 'elu', 'softplus']"
   ]
  },
  {
   "cell_type": "code",
   "execution_count": null,
   "id": "146dd706-1178-43bb-bf14-0fbe3c75566e",
   "metadata": {},
   "outputs": [],
   "source": [
    "# set parameter optimizer\n",
    "optimizer = ['Adam', 'Adamax', 'RMSprop', 'SGD']"
   ]
  },
  {
   "cell_type": "code",
   "execution_count": null,
   "id": "0f4633b7-bb8c-44cd-a75d-37ca050dc6a5",
   "metadata": {},
   "outputs": [],
   "source": [
    "# set parameter dropout_rate\n",
    "dropout_rate = [0.00, 0.05, 0.1, 0.15, 0.2, 0.25]"
   ]
  },
  {
   "cell_type": "code",
   "execution_count": null,
   "id": "3f3d420e-f002-4f8d-bc9d-7876b1f2eea3",
   "metadata": {},
   "outputs": [],
   "source": [
    "# set parameters batch sizes\n",
    "batch_size = [2, 4, 8, 16, 32]"
   ]
  },
  {
   "cell_type": "code",
   "execution_count": null,
   "id": "6096b500-9b6b-454a-952b-75d237d2230e",
   "metadata": {},
   "outputs": [],
   "source": [
    "# set parameter epochs\n",
    "epochs = [10]"
   ]
  },
  {
   "cell_type": "code",
   "execution_count": null,
   "id": "e5df5894-2594-4254-be97-3727a2a2407c",
   "metadata": {},
   "outputs": [],
   "source": [
    "# convert parameter to dictionary\n",
    "param_grid = dict(\n",
    "    model__activation=activation,\n",
    "    model__optimizer=optimizer,\n",
    "    model__dropout_rate=dropout_rate,\n",
    "    batch_size=batch_size,\n",
    "    epochs=epochs\n",
    ")"
   ]
  },
  {
   "cell_type": "code",
   "execution_count": null,
   "id": "fdfa39a0-8626-4451-b5c9-787189e324d3",
   "metadata": {},
   "outputs": [],
   "source": [
    "param_grid"
   ]
  },
  {
   "cell_type": "code",
   "execution_count": null,
   "id": "4ce72701-18d4-4857-a07e-0a8a8ff7761a",
   "metadata": {},
   "outputs": [],
   "source": [
    "grid_model = KerasRegressor(model=get_model, verbose=1)"
   ]
  },
  {
   "cell_type": "code",
   "execution_count": null,
   "id": "3b3e5fde-b478-40c7-9615-86682ecfeba9",
   "metadata": {},
   "outputs": [],
   "source": [
    "grid_search = GridSearchCV(estimator=grid_model, param_grid=param_grid, n_jobs=-1, cv=2)"
   ]
  },
  {
   "cell_type": "code",
   "execution_count": null,
   "id": "2bf93b30-d9a4-4a23-8fdc-4efb44784450",
   "metadata": {},
   "outputs": [],
   "source": [
    "grid_result = grid_search.fit(x_train, y_train)"
   ]
  },
  {
   "cell_type": "code",
   "execution_count": null,
   "id": "bad3ec69-0b71-416b-b67b-ac7545b5a6fd",
   "metadata": {},
   "outputs": [],
   "source": [
    "print(grid_result)"
   ]
  },
  {
   "cell_type": "code",
   "execution_count": null,
   "id": "6e7f4c0f-2223-42dc-aefa-6d77d890975c",
   "metadata": {},
   "outputs": [],
   "source": [
    "# summarize results\n",
    "print(\"Best parameters: %f using %s\\n\" % (grid_search.best_score_, grid_search.best_params_))"
   ]
  },
  {
   "cell_type": "code",
   "execution_count": null,
   "id": "e8869ca5-d41f-40b2-ac26-be9091259aa5",
   "metadata": {},
   "outputs": [],
   "source": [
    "means = grid_search.cv_results_['mean_test_score']\n",
    "stds = grid_search.cv_results_['std_test_score']\n",
    "params = grid_search.cv_results_['params']\n",
    "for mean, stdev, param in zip(means, stds, params):\n",
    "    print(\"%f (%f) with: %r\" % (mean, stdev, param))"
   ]
  },
  {
   "cell_type": "code",
   "execution_count": null,
   "id": "09208c86-6595-4a5f-b140-b0ef40a4329b",
   "metadata": {},
   "outputs": [],
   "source": [
    "len(params)"
   ]
  },
  {
   "cell_type": "markdown",
   "id": "b25823ad-c0b6-40fa-91dd-a8949a15ec0f",
   "metadata": {},
   "source": [
    "### 7. Evaluasi Model LSTM-RNN"
   ]
  },
  {
   "cell_type": "code",
   "execution_count": null,
   "id": "b624720d-5735-47d8-bed3-b4aff2183e65",
   "metadata": {},
   "outputs": [],
   "source": [
    "# Set akhir waktu komputasi \n",
    "end = time.time()"
   ]
  },
  {
   "cell_type": "code",
   "execution_count": null,
   "id": "fbebaca9-7798-4406-bdb7-14e5e28be1c3",
   "metadata": {},
   "outputs": [],
   "source": [
    "# Proses menghitung waktu komputasi\n",
    "hours, rem = divmod(end-start, 3600)\n",
    "minutes, seconds = divmod(rem, 60)"
   ]
  },
  {
   "cell_type": "code",
   "execution_count": null,
   "id": "3d525481-adc1-48ba-8272-1176d8021beb",
   "metadata": {},
   "outputs": [],
   "source": [
    "# Hasil waktu komputasi\n",
    "print(\"{:0>2}:{:0>2}:{:05.2f}\".format(int(hours),int(minutes),seconds))"
   ]
  },
  {
   "cell_type": "code",
   "execution_count": null,
   "id": "4f55d29e-a6ad-4056-b421-81f1391a993d",
   "metadata": {},
   "outputs": [],
   "source": []
  }
 ],
 "metadata": {
  "kernelspec": {
   "display_name": "Python 3 (ipykernel)",
   "language": "python",
   "name": "python3"
  },
  "language_info": {
   "codemirror_mode": {
    "name": "ipython",
    "version": 3
   },
   "file_extension": ".py",
   "mimetype": "text/x-python",
   "name": "python",
   "nbconvert_exporter": "python",
   "pygments_lexer": "ipython3",
   "version": "3.11.5"
  }
 },
 "nbformat": 4,
 "nbformat_minor": 5
}
