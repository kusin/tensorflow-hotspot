{
 "cells": [
  {
   "cell_type": "markdown",
   "metadata": {
    "id": "qmEp_gntlAX_"
   },
   "source": [
    "### Hyperparameter GridSearchCV LSTM-RNN Percobaan 4"
   ]
  },
  {
   "cell_type": "markdown",
   "metadata": {},
   "source": [
    "- Variabel Terikat : Titik Panas\n",
    "- Variabel Bebas : Curah Hujan\n",
    "- Variabel Moderator : ENSO"
   ]
  },
  {
   "cell_type": "code",
   "execution_count": 1,
   "metadata": {
    "id": "aFdF9w2TlAYC"
   },
   "outputs": [],
   "source": [
    "# pustaka untuk manipulasi data\n",
    "import pandas as pd\n",
    "from pandas import concat\n",
    "from pandas import DataFrame\n",
    "from pandas import read_csv\n",
    "from pandas import read_excel\n",
    "import numpy as np\n",
    "from numpy import concatenate\n",
    "\n",
    "# pustaka untuk waktu komputasi\n",
    "import time\n",
    "from datetime import datetime\n",
    "\n",
    "# Pustaka untuk visualisasi data\n",
    "import seaborn as sns # Visualization\n",
    "from matplotlib import pyplot\n",
    "from matplotlib import pyplot as plt\n",
    "        \n",
    "# Pustaka untuk membuat data latih dan data uji.\n",
    "from sklearn.preprocessing import MinMaxScaler\n",
    "from sklearn.preprocessing import LabelEncoder\n",
    "\n",
    "# Pustaka untuk membuat model prediksi LSTM-RNN\n",
    "import itertools\n",
    "import tensorflow as tf\n",
    "from keras.models import Sequential\n",
    "from keras.layers import LSTM\n",
    "from keras.layers import GRU\n",
    "from keras.layers import Dense\n",
    "from keras.layers import Dropout\n",
    "from keras.layers import TimeDistributed\n",
    "from keras.layers import Bidirectional\n",
    "from keras.optimizers import Adam, Adamax, RMSprop, SGD\n",
    "\n",
    "# Early stoping\n",
    "from keras.callbacks import EarlyStopping\n",
    "from keras.callbacks import ModelCheckpoint\n",
    "\n",
    "# Pustaka untuk  evaluasi model prediksi\n",
    "from math import sqrt\n",
    "from sklearn.metrics import mean_squared_error\n",
    "from sklearn.metrics import mean_absolute_error"
   ]
  },
  {
   "cell_type": "code",
   "execution_count": 2,
   "metadata": {},
   "outputs": [],
   "source": [
    "# Set waktu komputasi\n",
    "start = time.time()"
   ]
  },
  {
   "cell_type": "code",
   "execution_count": 3,
   "metadata": {},
   "outputs": [],
   "source": [
    "# fix random seed for reproducibility\n",
    "np.random.seed(1234)"
   ]
  },
  {
   "cell_type": "code",
   "execution_count": 4,
   "metadata": {
    "id": "QO6BLIJxlAYC"
   },
   "outputs": [],
   "source": [
    "# membaca dataset\n",
    "dataset = pd.read_excel(\"D:/Belajar Python/dataset/dataset tesis/dataset.xlsx\")"
   ]
  },
  {
   "cell_type": "code",
   "execution_count": 5,
   "metadata": {
    "id": "_X0C84vZlAYD"
   },
   "outputs": [],
   "source": [
    "# set index tanggal\n",
    "dataset = dataset.set_index(\"tanggal\")"
   ]
  },
  {
   "cell_type": "code",
   "execution_count": 6,
   "metadata": {
    "colab": {
     "base_uri": "https://localhost:8080/"
    },
    "executionInfo": {
     "elapsed": 3,
     "status": "ok",
     "timestamp": 1626258920272,
     "user": {
      "displayName": "colab aji",
      "photoUrl": "",
      "userId": "15648518280582116117"
     },
     "user_tz": -420
    },
    "id": "ex6mK9NwlAYD",
    "outputId": "f3a673bb-ad4a-4809-96d5-3bb8c8829b94"
   },
   "outputs": [
    {
     "name": "stdout",
     "output_type": "stream",
     "text": [
      "<class 'pandas.core.frame.DataFrame'>\n",
      "DatetimeIndex: 240 entries, 2001-01-31 to 2020-12-31\n",
      "Data columns (total 5 columns):\n",
      " #   Column          Non-Null Count  Dtype  \n",
      "---  ------          --------------  -----  \n",
      " 0   sst             240 non-null    float64\n",
      " 1   soi             240 non-null    float64\n",
      " 2   oni             240 non-null    float64\n",
      " 3   curah_hujan     240 non-null    float64\n",
      " 4   hotspot_sumsel  240 non-null    int64  \n",
      "dtypes: float64(4), int64(1)\n",
      "memory usage: 11.2 KB\n"
     ]
    }
   ],
   "source": [
    "# set informasi dataset\n",
    "dataset.info()"
   ]
  },
  {
   "cell_type": "code",
   "execution_count": 7,
   "metadata": {
    "colab": {
     "base_uri": "https://localhost:8080/",
     "height": 450
    },
    "executionInfo": {
     "elapsed": 10,
     "status": "ok",
     "timestamp": 1626258922893,
     "user": {
      "displayName": "colab aji",
      "photoUrl": "",
      "userId": "15648518280582116117"
     },
     "user_tz": -420
    },
    "id": "-tCG5W3UlAYE",
    "outputId": "6ddd11f7-e325-4134-e0bf-fbf164eeef54"
   },
   "outputs": [
    {
     "name": "stdout",
     "output_type": "stream",
     "text": [
      "             sst  soi   oni  curah_hujan  hotspot_sumsel\n",
      "tanggal                                                 \n",
      "2001-01-31 -0.76  1.0 -0.68   418.600006               3\n",
      "2001-02-28 -0.56  1.7 -0.52   295.399994               5\n",
      "2001-03-31 -0.37  0.9 -0.44   360.600006              10\n",
      "2001-04-30 -0.56  0.2 -0.34   403.700012              20\n",
      "2001-05-31 -0.46 -0.5 -0.25   116.900002              39\n"
     ]
    }
   ],
   "source": [
    "# menampilkan dataset\n",
    "print(dataset.head())"
   ]
  },
  {
   "cell_type": "markdown",
   "metadata": {
    "id": "vHygYC21lAYF"
   },
   "source": [
    "### Studi kasus wilayah Sumatra Selatan"
   ]
  },
  {
   "cell_type": "code",
   "execution_count": 8,
   "metadata": {
    "id": "NLHR0cBblAYG"
   },
   "outputs": [
    {
     "name": "stdout",
     "output_type": "stream",
     "text": [
      "<class 'pandas.core.frame.DataFrame'>\n",
      "DatetimeIndex: 240 entries, 2001-01-31 to 2020-12-31\n",
      "Data columns (total 4 columns):\n",
      " #   Column          Non-Null Count  Dtype  \n",
      "---  ------          --------------  -----  \n",
      " 0   hotspot_sumsel  240 non-null    int64  \n",
      " 1   curah_hujan     240 non-null    float64\n",
      " 2   sst             240 non-null    float64\n",
      " 3   soi             240 non-null    float64\n",
      "dtypes: float64(3), int64(1)\n",
      "memory usage: 9.4 KB\n"
     ]
    }
   ],
   "source": [
    "# memilih area studi\n",
    "df_sumsel = dataset[[\"hotspot_sumsel\", \"curah_hujan\", \"sst\", \"soi\"]]\n",
    "df_sumsel.info()"
   ]
  },
  {
   "cell_type": "code",
   "execution_count": 9,
   "metadata": {
    "colab": {
     "base_uri": "https://localhost:8080/",
     "height": 450
    },
    "executionInfo": {
     "elapsed": 4,
     "status": "ok",
     "timestamp": 1626258927759,
     "user": {
      "displayName": "colab aji",
      "photoUrl": "",
      "userId": "15648518280582116117"
     },
     "user_tz": -420
    },
    "id": "NDmtn18olAYG",
    "outputId": "81155b7f-8f28-4380-c9d5-305d2769609c"
   },
   "outputs": [
    {
     "name": "stdout",
     "output_type": "stream",
     "text": [
      "            hotspot_sumsel  curah_hujan   sst  soi\n",
      "tanggal                                           \n",
      "2001-01-31               3   418.600006 -0.76  1.0\n",
      "2001-02-28               5   295.399994 -0.56  1.7\n",
      "2001-03-31              10   360.600006 -0.37  0.9\n",
      "2001-04-30              20   403.700012 -0.56  0.2\n",
      "2001-05-31              39   116.900002 -0.46 -0.5\n"
     ]
    }
   ],
   "source": [
    "print(df_sumsel.head())"
   ]
  },
  {
   "cell_type": "code",
   "execution_count": 10,
   "metadata": {
    "id": "lkvpA74UlAYH"
   },
   "outputs": [],
   "source": [
    "# ensure all data is float\n",
    "values = df_sumsel.values\n",
    "values = values.astype('float32')"
   ]
  },
  {
   "cell_type": "markdown",
   "metadata": {
    "id": "ChnwwI0tlAYH"
   },
   "source": [
    "### Normalisasi Data"
   ]
  },
  {
   "cell_type": "code",
   "execution_count": 11,
   "metadata": {
    "id": "Fbrm4QrllAYH"
   },
   "outputs": [],
   "source": [
    "# membuat fungsi max-min scaler\n",
    "# menggunakan pustaka scikit-learn\n",
    "def normalisasi_max_min(df):\n",
    "    # memanggil fungsi max min scaler\n",
    "    hasil = preprocessing.MinMaxScaler(feature_range=(-1, 1))\n",
    "    \n",
    "    # proses max min scaler\n",
    "    hasil = hasil.fit_transform(df)\n",
    "    \n",
    "    # pengembalian nilai\n",
    "    return hasil"
   ]
  },
  {
   "cell_type": "code",
   "execution_count": 12,
   "metadata": {},
   "outputs": [],
   "source": [
    "# normalize features\n",
    "scaler = MinMaxScaler(feature_range=(-1, 1))\n",
    "scaled = scaler.fit_transform(values)"
   ]
  },
  {
   "cell_type": "code",
   "execution_count": 13,
   "metadata": {},
   "outputs": [
    {
     "data": {
      "text/plain": [
       "array([[-0.999723,  0.549573, -0.614849,  0.366667],\n",
       "       [-0.999445,  0.082464, -0.522042,  0.6     ],\n",
       "       [-0.998751,  0.329668, -0.433875,  0.333333],\n",
       "       [-0.997364,  0.493081, -0.522042,  0.1     ],\n",
       "       [-0.994728, -0.594313, -0.475638, -0.133333]], dtype=float32)"
      ]
     },
     "execution_count": 13,
     "metadata": {},
     "output_type": "execute_result"
    }
   ],
   "source": [
    "np.round(scaled[:5],6)"
   ]
  },
  {
   "cell_type": "markdown",
   "metadata": {
    "id": "QGGUCbtxlAYI"
   },
   "source": [
    "### Normalisasi dan Supervised learning"
   ]
  },
  {
   "cell_type": "code",
   "execution_count": 14,
   "metadata": {
    "id": "MS2tmB8llAYJ"
   },
   "outputs": [],
   "source": [
    "def series_to_supervised(data, n_in=1, n_out=1, dropnan=True):\n",
    "    n_vars = 1 if type(data) is list else data.shape[1]\n",
    "    df = pd.DataFrame(data)\n",
    "    cols, names = list(), list()\n",
    "    \n",
    "    # input sequence (t-n, ... t-1)\n",
    "    for i in range(n_in, 0, -1):\n",
    "        cols.append(df.shift(i))\n",
    "        names += [('var%d(t-%d)' % (j+1, i)) for j in range(n_vars)]\n",
    "    \n",
    "    # forecast sequence (t, t+1, ... t+n)\n",
    "    for i in range(0, n_out):\n",
    "        cols.append(df.shift(-i))\n",
    "        if i == 0:\n",
    "            names += [('var%d(t)' % (j+1)) for j in range(n_vars)]\n",
    "        else:\n",
    "            names += [('var%d(t+%d)' % (j+1, i)) for j in range(n_vars)]\n",
    "    \n",
    "    # put it all together\n",
    "    agg = pd.concat(cols, axis=1)\n",
    "    agg.columns = names\n",
    "    \n",
    "    # drop rows with NaN values\n",
    "    if dropnan:\n",
    "        agg.dropna(inplace=True)\n",
    "    \n",
    "    # return value\n",
    "    return agg"
   ]
  },
  {
   "cell_type": "code",
   "execution_count": 15,
   "metadata": {
    "id": "sO4ef4_dlAYJ"
   },
   "outputs": [],
   "source": [
    "# supervised learning\n",
    "reframed = series_to_supervised(scaled, 1, 1)"
   ]
  },
  {
   "cell_type": "code",
   "execution_count": 16,
   "metadata": {
    "id": "rwM0hrEJlAYJ"
   },
   "outputs": [],
   "source": [
    "# drop columns we don't want to predict\n",
    "reframed.drop(reframed.columns[[5,6,7]], axis=1, inplace=True)"
   ]
  },
  {
   "cell_type": "code",
   "execution_count": 17,
   "metadata": {
    "colab": {
     "base_uri": "https://localhost:8080/",
     "height": 419
    },
    "executionInfo": {
     "elapsed": 3,
     "status": "ok",
     "timestamp": 1626258939582,
     "user": {
      "displayName": "colab aji",
      "photoUrl": "",
      "userId": "15648518280582116117"
     },
     "user_tz": -420
    },
    "id": "e7cBI6cjlAYJ",
    "outputId": "d26c9baa-7d8f-40b8-a70f-3077ff3eae72"
   },
   "outputs": [],
   "source": [
    "values = reframed.values"
   ]
  },
  {
   "cell_type": "code",
   "execution_count": 18,
   "metadata": {},
   "outputs": [
    {
     "name": "stdout",
     "output_type": "stream",
     "text": [
      "   var1(t-1)  var2(t-1)  var3(t-1)  var4(t-1)   var1(t)\n",
      "1  -0.999723   0.549573  -0.614849   0.366667 -0.999445\n",
      "2  -0.999445   0.082464  -0.522042   0.600000 -0.998751\n",
      "3  -0.998751   0.329668  -0.433875   0.333333 -0.997364\n",
      "4  -0.997364   0.493081  -0.522042   0.100000 -0.994728\n",
      "5  -0.994728  -0.594313  -0.475638  -0.133333 -0.999029\n"
     ]
    }
   ],
   "source": [
    "print(reframed.head())"
   ]
  },
  {
   "cell_type": "markdown",
   "metadata": {
    "id": "uzdHWPJBlAYK"
   },
   "source": [
    "### Data latih dan Data uji"
   ]
  },
  {
   "cell_type": "code",
   "execution_count": 19,
   "metadata": {
    "id": "112zwkjllAYK"
   },
   "outputs": [],
   "source": [
    "# split into train and test sets\n",
    "train_size = int(len(values) * 0.8)\n",
    "test_size = len(values) - train_size\n",
    "train, test = values[0:train_size,:], values[train_size:len(values),:]"
   ]
  },
  {
   "cell_type": "code",
   "execution_count": 20,
   "metadata": {
    "id": "ZgWternzlAYK"
   },
   "outputs": [],
   "source": [
    "# split into input and outputs\n",
    "train_X, train_y = train[:, :-1], train[:, -1]\n",
    "test_X, test_y = test[:, :-1], test[:, -1]"
   ]
  },
  {
   "cell_type": "code",
   "execution_count": 21,
   "metadata": {
    "id": "CrpRb-ZGlAYK"
   },
   "outputs": [],
   "source": [
    "# reshape input to be 3D [samples, timesteps, features]\n",
    "train_X = train_X.reshape((train_X.shape[0], 1, train_X.shape[1]))\n",
    "test_X = test_X.reshape((test_X.shape[0], 1, test_X.shape[1]))"
   ]
  },
  {
   "cell_type": "code",
   "execution_count": 22,
   "metadata": {
    "colab": {
     "base_uri": "https://localhost:8080/"
    },
    "executionInfo": {
     "elapsed": 2,
     "status": "ok",
     "timestamp": 1626258949398,
     "user": {
      "displayName": "colab aji",
      "photoUrl": "",
      "userId": "15648518280582116117"
     },
     "user_tz": -420
    },
    "id": "cGk1fqY1lAYK",
    "outputId": "2e69741d-7616-4375-8f91-c4cdb2c34487"
   },
   "outputs": [
    {
     "name": "stdout",
     "output_type": "stream",
     "text": [
      "(191, 1, 4) (191,) (48, 1, 4) (48,)\n"
     ]
    }
   ],
   "source": [
    "print(train_X.shape, train_y.shape, test_X.shape, test_y.shape)"
   ]
  },
  {
   "cell_type": "markdown",
   "metadata": {},
   "source": [
    "### Hyperparameter GridSearchCV LTSM-RNN"
   ]
  },
  {
   "cell_type": "code",
   "execution_count": 23,
   "metadata": {},
   "outputs": [],
   "source": [
    "from keras.wrappers.scikit_learn import KerasClassifier\n",
    "from keras.wrappers.scikit_learn import KerasRegressor\n",
    "from sklearn.model_selection import GridSearchCV"
   ]
  },
  {
   "cell_type": "code",
   "execution_count": 24,
   "metadata": {},
   "outputs": [],
   "source": [
    "parameters = {'neurons' : [10],\n",
    "              'activation' : ['sigmoid', 'tanh', 'relu', 'selu', 'elu', 'softplus'],\n",
    "              'optimizer' : ['adam', 'adamax', 'rmsprop', 'sgd'],\n",
    "              'dropout_rate' : [0.05, 0.1, 0.15, 0.2, 0.25],\n",
    "              'epochs' : [2000],\n",
    "              'batch_size' : [4, 8, 16, 32, 64],\n",
    "              'verbose' : [0]}"
   ]
  },
  {
   "cell_type": "code",
   "execution_count": 25,
   "metadata": {},
   "outputs": [
    {
     "name": "stdout",
     "output_type": "stream",
     "text": [
      "600 kombinasi hyperparameter\n"
     ]
    }
   ],
   "source": [
    "keys = parameters.keys()\n",
    "values = (parameters[key] for key in keys)\n",
    "combinations = [dict(zip(keys, combination)) for combination in itertools.product(*values)]\n",
    "print(len(combinations), str('kombinasi hyperparameter'))"
   ]
  },
  {
   "cell_type": "code",
   "execution_count": 26,
   "metadata": {},
   "outputs": [],
   "source": [
    "def build_classifier(neurons='', activation='', optimizer='', dropout_rate=''):\n",
    "    tf.keras.backend.clear_session()\n",
    "    \n",
    "    # design network\n",
    "    grid_model = Sequential()\n",
    "    grid_model.add(LSTM(units=neurons, activation=activation, input_shape=(train_X.shape[1], train_X.shape[2])))\n",
    "    grid_model.add(Dropout(dropout_rate))\n",
    "    grid_model.add(Dense(1))\n",
    "\n",
    "    # model compile\n",
    "    grid_model.compile(loss='mae', optimizer=optimizer)\n",
    "    \n",
    "    # return value\n",
    "    return grid_model"
   ]
  },
  {
   "cell_type": "code",
   "execution_count": 27,
   "metadata": {},
   "outputs": [],
   "source": [
    "grid_model = KerasRegressor(build_fn=build_classifier)"
   ]
  },
  {
   "cell_type": "code",
   "execution_count": 28,
   "metadata": {},
   "outputs": [],
   "source": [
    "grid_search = GridSearchCV(estimator=grid_model, param_grid=parameters, n_jobs=-1, cv=2, scoring= 'neg_root_mean_squared_error')"
   ]
  },
  {
   "cell_type": "code",
   "execution_count": 29,
   "metadata": {},
   "outputs": [],
   "source": [
    "grid_result = grid_search.fit(train_X, train_y)"
   ]
  },
  {
   "cell_type": "code",
   "execution_count": 30,
   "metadata": {},
   "outputs": [
    {
     "name": "stdout",
     "output_type": "stream",
     "text": [
      "Best parameters: -0.195122 using {'activation': 'elu', 'batch_size': 64, 'dropout_rate': 0.1, 'epochs': 2000, 'neurons': 10, 'optimizer': 'rmsprop', 'verbose': 0}\n",
      "\n",
      "-0.236676 (0.025890) with: {'activation': 'sigmoid', 'batch_size': 4, 'dropout_rate': 0.05, 'epochs': 2000, 'neurons': 10, 'optimizer': 'adam', 'verbose': 0}\n",
      "-0.229636 (0.078869) with: {'activation': 'sigmoid', 'batch_size': 4, 'dropout_rate': 0.05, 'epochs': 2000, 'neurons': 10, 'optimizer': 'adamax', 'verbose': 0}\n",
      "-0.216673 (0.036780) with: {'activation': 'sigmoid', 'batch_size': 4, 'dropout_rate': 0.05, 'epochs': 2000, 'neurons': 10, 'optimizer': 'rmsprop', 'verbose': 0}\n",
      "-0.238276 (0.074333) with: {'activation': 'sigmoid', 'batch_size': 4, 'dropout_rate': 0.05, 'epochs': 2000, 'neurons': 10, 'optimizer': 'sgd', 'verbose': 0}\n",
      "-0.244180 (0.061929) with: {'activation': 'sigmoid', 'batch_size': 4, 'dropout_rate': 0.1, 'epochs': 2000, 'neurons': 10, 'optimizer': 'adam', 'verbose': 0}\n",
      "-0.202511 (0.051963) with: {'activation': 'sigmoid', 'batch_size': 4, 'dropout_rate': 0.1, 'epochs': 2000, 'neurons': 10, 'optimizer': 'adamax', 'verbose': 0}\n",
      "-0.220001 (0.034662) with: {'activation': 'sigmoid', 'batch_size': 4, 'dropout_rate': 0.1, 'epochs': 2000, 'neurons': 10, 'optimizer': 'rmsprop', 'verbose': 0}\n",
      "-0.247101 (0.061333) with: {'activation': 'sigmoid', 'batch_size': 4, 'dropout_rate': 0.1, 'epochs': 2000, 'neurons': 10, 'optimizer': 'sgd', 'verbose': 0}\n",
      "-0.224318 (0.033949) with: {'activation': 'sigmoid', 'batch_size': 4, 'dropout_rate': 0.15, 'epochs': 2000, 'neurons': 10, 'optimizer': 'adam', 'verbose': 0}\n",
      "-0.208209 (0.054866) with: {'activation': 'sigmoid', 'batch_size': 4, 'dropout_rate': 0.15, 'epochs': 2000, 'neurons': 10, 'optimizer': 'adamax', 'verbose': 0}\n",
      "-0.220257 (0.037533) with: {'activation': 'sigmoid', 'batch_size': 4, 'dropout_rate': 0.15, 'epochs': 2000, 'neurons': 10, 'optimizer': 'rmsprop', 'verbose': 0}\n",
      "-0.259528 (0.071380) with: {'activation': 'sigmoid', 'batch_size': 4, 'dropout_rate': 0.15, 'epochs': 2000, 'neurons': 10, 'optimizer': 'sgd', 'verbose': 0}\n",
      "-0.222068 (0.031870) with: {'activation': 'sigmoid', 'batch_size': 4, 'dropout_rate': 0.2, 'epochs': 2000, 'neurons': 10, 'optimizer': 'adam', 'verbose': 0}\n",
      "-0.207924 (0.059012) with: {'activation': 'sigmoid', 'batch_size': 4, 'dropout_rate': 0.2, 'epochs': 2000, 'neurons': 10, 'optimizer': 'adamax', 'verbose': 0}\n",
      "-0.213910 (0.035149) with: {'activation': 'sigmoid', 'batch_size': 4, 'dropout_rate': 0.2, 'epochs': 2000, 'neurons': 10, 'optimizer': 'rmsprop', 'verbose': 0}\n",
      "-0.259260 (0.067163) with: {'activation': 'sigmoid', 'batch_size': 4, 'dropout_rate': 0.2, 'epochs': 2000, 'neurons': 10, 'optimizer': 'sgd', 'verbose': 0}\n",
      "-0.242949 (0.078502) with: {'activation': 'sigmoid', 'batch_size': 4, 'dropout_rate': 0.25, 'epochs': 2000, 'neurons': 10, 'optimizer': 'adam', 'verbose': 0}\n",
      "-0.201664 (0.052786) with: {'activation': 'sigmoid', 'batch_size': 4, 'dropout_rate': 0.25, 'epochs': 2000, 'neurons': 10, 'optimizer': 'adamax', 'verbose': 0}\n",
      "-0.210680 (0.047409) with: {'activation': 'sigmoid', 'batch_size': 4, 'dropout_rate': 0.25, 'epochs': 2000, 'neurons': 10, 'optimizer': 'rmsprop', 'verbose': 0}\n",
      "-0.256743 (0.073620) with: {'activation': 'sigmoid', 'batch_size': 4, 'dropout_rate': 0.25, 'epochs': 2000, 'neurons': 10, 'optimizer': 'sgd', 'verbose': 0}\n",
      "-0.213842 (0.039710) with: {'activation': 'sigmoid', 'batch_size': 8, 'dropout_rate': 0.05, 'epochs': 2000, 'neurons': 10, 'optimizer': 'adam', 'verbose': 0}\n",
      "-0.224356 (0.071231) with: {'activation': 'sigmoid', 'batch_size': 8, 'dropout_rate': 0.05, 'epochs': 2000, 'neurons': 10, 'optimizer': 'adamax', 'verbose': 0}\n",
      "-0.211942 (0.039942) with: {'activation': 'sigmoid', 'batch_size': 8, 'dropout_rate': 0.05, 'epochs': 2000, 'neurons': 10, 'optimizer': 'rmsprop', 'verbose': 0}\n",
      "-0.260041 (0.066010) with: {'activation': 'sigmoid', 'batch_size': 8, 'dropout_rate': 0.05, 'epochs': 2000, 'neurons': 10, 'optimizer': 'sgd', 'verbose': 0}\n",
      "-0.238300 (0.070947) with: {'activation': 'sigmoid', 'batch_size': 8, 'dropout_rate': 0.1, 'epochs': 2000, 'neurons': 10, 'optimizer': 'adam', 'verbose': 0}\n",
      "-0.215979 (0.064209) with: {'activation': 'sigmoid', 'batch_size': 8, 'dropout_rate': 0.1, 'epochs': 2000, 'neurons': 10, 'optimizer': 'adamax', 'verbose': 0}\n",
      "-0.210872 (0.042743) with: {'activation': 'sigmoid', 'batch_size': 8, 'dropout_rate': 0.1, 'epochs': 2000, 'neurons': 10, 'optimizer': 'rmsprop', 'verbose': 0}\n",
      "-0.258373 (0.071270) with: {'activation': 'sigmoid', 'batch_size': 8, 'dropout_rate': 0.1, 'epochs': 2000, 'neurons': 10, 'optimizer': 'sgd', 'verbose': 0}\n",
      "-0.208092 (0.048740) with: {'activation': 'sigmoid', 'batch_size': 8, 'dropout_rate': 0.15, 'epochs': 2000, 'neurons': 10, 'optimizer': 'adam', 'verbose': 0}\n",
      "-0.219266 (0.068546) with: {'activation': 'sigmoid', 'batch_size': 8, 'dropout_rate': 0.15, 'epochs': 2000, 'neurons': 10, 'optimizer': 'adamax', 'verbose': 0}\n",
      "-0.215969 (0.041166) with: {'activation': 'sigmoid', 'batch_size': 8, 'dropout_rate': 0.15, 'epochs': 2000, 'neurons': 10, 'optimizer': 'rmsprop', 'verbose': 0}\n",
      "-0.266672 (0.063184) with: {'activation': 'sigmoid', 'batch_size': 8, 'dropout_rate': 0.15, 'epochs': 2000, 'neurons': 10, 'optimizer': 'sgd', 'verbose': 0}\n",
      "-0.243169 (0.076608) with: {'activation': 'sigmoid', 'batch_size': 8, 'dropout_rate': 0.2, 'epochs': 2000, 'neurons': 10, 'optimizer': 'adam', 'verbose': 0}\n",
      "-0.224522 (0.063702) with: {'activation': 'sigmoid', 'batch_size': 8, 'dropout_rate': 0.2, 'epochs': 2000, 'neurons': 10, 'optimizer': 'adamax', 'verbose': 0}\n",
      "-0.212587 (0.043890) with: {'activation': 'sigmoid', 'batch_size': 8, 'dropout_rate': 0.2, 'epochs': 2000, 'neurons': 10, 'optimizer': 'rmsprop', 'verbose': 0}\n",
      "-0.267559 (0.062620) with: {'activation': 'sigmoid', 'batch_size': 8, 'dropout_rate': 0.2, 'epochs': 2000, 'neurons': 10, 'optimizer': 'sgd', 'verbose': 0}\n",
      "-0.206277 (0.048979) with: {'activation': 'sigmoid', 'batch_size': 8, 'dropout_rate': 0.25, 'epochs': 2000, 'neurons': 10, 'optimizer': 'adam', 'verbose': 0}\n",
      "-0.225677 (0.063873) with: {'activation': 'sigmoid', 'batch_size': 8, 'dropout_rate': 0.25, 'epochs': 2000, 'neurons': 10, 'optimizer': 'adamax', 'verbose': 0}\n",
      "-0.238802 (0.082984) with: {'activation': 'sigmoid', 'batch_size': 8, 'dropout_rate': 0.25, 'epochs': 2000, 'neurons': 10, 'optimizer': 'rmsprop', 'verbose': 0}\n",
      "-0.265466 (0.064322) with: {'activation': 'sigmoid', 'batch_size': 8, 'dropout_rate': 0.25, 'epochs': 2000, 'neurons': 10, 'optimizer': 'sgd', 'verbose': 0}\n",
      "-0.228511 (0.078872) with: {'activation': 'sigmoid', 'batch_size': 16, 'dropout_rate': 0.05, 'epochs': 2000, 'neurons': 10, 'optimizer': 'adam', 'verbose': 0}\n",
      "-0.235085 (0.059673) with: {'activation': 'sigmoid', 'batch_size': 16, 'dropout_rate': 0.05, 'epochs': 2000, 'neurons': 10, 'optimizer': 'adamax', 'verbose': 0}\n",
      "-0.209716 (0.036316) with: {'activation': 'sigmoid', 'batch_size': 16, 'dropout_rate': 0.05, 'epochs': 2000, 'neurons': 10, 'optimizer': 'rmsprop', 'verbose': 0}\n",
      "-0.262476 (0.067540) with: {'activation': 'sigmoid', 'batch_size': 16, 'dropout_rate': 0.05, 'epochs': 2000, 'neurons': 10, 'optimizer': 'sgd', 'verbose': 0}\n",
      "-0.205668 (0.054203) with: {'activation': 'sigmoid', 'batch_size': 16, 'dropout_rate': 0.1, 'epochs': 2000, 'neurons': 10, 'optimizer': 'adam', 'verbose': 0}\n",
      "-0.238107 (0.068024) with: {'activation': 'sigmoid', 'batch_size': 16, 'dropout_rate': 0.1, 'epochs': 2000, 'neurons': 10, 'optimizer': 'adamax', 'verbose': 0}\n",
      "-0.207255 (0.040629) with: {'activation': 'sigmoid', 'batch_size': 16, 'dropout_rate': 0.1, 'epochs': 2000, 'neurons': 10, 'optimizer': 'rmsprop', 'verbose': 0}\n",
      "-0.263365 (0.068225) with: {'activation': 'sigmoid', 'batch_size': 16, 'dropout_rate': 0.1, 'epochs': 2000, 'neurons': 10, 'optimizer': 'sgd', 'verbose': 0}\n",
      "-0.235918 (0.088173) with: {'activation': 'sigmoid', 'batch_size': 16, 'dropout_rate': 0.15, 'epochs': 2000, 'neurons': 10, 'optimizer': 'adam', 'verbose': 0}\n",
      "-0.246105 (0.080861) with: {'activation': 'sigmoid', 'batch_size': 16, 'dropout_rate': 0.15, 'epochs': 2000, 'neurons': 10, 'optimizer': 'adamax', 'verbose': 0}\n",
      "-0.204666 (0.046006) with: {'activation': 'sigmoid', 'batch_size': 16, 'dropout_rate': 0.15, 'epochs': 2000, 'neurons': 10, 'optimizer': 'rmsprop', 'verbose': 0}\n",
      "-0.267831 (0.064619) with: {'activation': 'sigmoid', 'batch_size': 16, 'dropout_rate': 0.15, 'epochs': 2000, 'neurons': 10, 'optimizer': 'sgd', 'verbose': 0}\n",
      "-0.211295 (0.059360) with: {'activation': 'sigmoid', 'batch_size': 16, 'dropout_rate': 0.2, 'epochs': 2000, 'neurons': 10, 'optimizer': 'adam', 'verbose': 0}\n",
      "-0.231981 (0.073518) with: {'activation': 'sigmoid', 'batch_size': 16, 'dropout_rate': 0.2, 'epochs': 2000, 'neurons': 10, 'optimizer': 'adamax', 'verbose': 0}\n",
      "-0.200671 (0.051408) with: {'activation': 'sigmoid', 'batch_size': 16, 'dropout_rate': 0.2, 'epochs': 2000, 'neurons': 10, 'optimizer': 'rmsprop', 'verbose': 0}\n",
      "-0.267155 (0.065266) with: {'activation': 'sigmoid', 'batch_size': 16, 'dropout_rate': 0.2, 'epochs': 2000, 'neurons': 10, 'optimizer': 'sgd', 'verbose': 0}\n",
      "-0.209289 (0.060168) with: {'activation': 'sigmoid', 'batch_size': 16, 'dropout_rate': 0.25, 'epochs': 2000, 'neurons': 10, 'optimizer': 'adam', 'verbose': 0}\n",
      "-0.233661 (0.060732) with: {'activation': 'sigmoid', 'batch_size': 16, 'dropout_rate': 0.25, 'epochs': 2000, 'neurons': 10, 'optimizer': 'adamax', 'verbose': 0}\n",
      "-0.209295 (0.055168) with: {'activation': 'sigmoid', 'batch_size': 16, 'dropout_rate': 0.25, 'epochs': 2000, 'neurons': 10, 'optimizer': 'rmsprop', 'verbose': 0}\n",
      "-0.270287 (0.066871) with: {'activation': 'sigmoid', 'batch_size': 16, 'dropout_rate': 0.25, 'epochs': 2000, 'neurons': 10, 'optimizer': 'sgd', 'verbose': 0}\n",
      "-0.239209 (0.060453) with: {'activation': 'sigmoid', 'batch_size': 32, 'dropout_rate': 0.05, 'epochs': 2000, 'neurons': 10, 'optimizer': 'adam', 'verbose': 0}\n",
      "-0.238281 (0.060828) with: {'activation': 'sigmoid', 'batch_size': 32, 'dropout_rate': 0.05, 'epochs': 2000, 'neurons': 10, 'optimizer': 'adamax', 'verbose': 0}\n",
      "-0.223995 (0.073808) with: {'activation': 'sigmoid', 'batch_size': 32, 'dropout_rate': 0.05, 'epochs': 2000, 'neurons': 10, 'optimizer': 'rmsprop', 'verbose': 0}\n",
      "-0.258586 (0.067544) with: {'activation': 'sigmoid', 'batch_size': 32, 'dropout_rate': 0.05, 'epochs': 2000, 'neurons': 10, 'optimizer': 'sgd', 'verbose': 0}\n",
      "-0.246993 (0.077936) with: {'activation': 'sigmoid', 'batch_size': 32, 'dropout_rate': 0.1, 'epochs': 2000, 'neurons': 10, 'optimizer': 'adam', 'verbose': 0}\n",
      "-0.243415 (0.064839) with: {'activation': 'sigmoid', 'batch_size': 32, 'dropout_rate': 0.1, 'epochs': 2000, 'neurons': 10, 'optimizer': 'adamax', 'verbose': 0}\n",
      "-0.200706 (0.051236) with: {'activation': 'sigmoid', 'batch_size': 32, 'dropout_rate': 0.1, 'epochs': 2000, 'neurons': 10, 'optimizer': 'rmsprop', 'verbose': 0}\n",
      "-0.266299 (0.067530) with: {'activation': 'sigmoid', 'batch_size': 32, 'dropout_rate': 0.1, 'epochs': 2000, 'neurons': 10, 'optimizer': 'sgd', 'verbose': 0}\n",
      "-0.234603 (0.073443) with: {'activation': 'sigmoid', 'batch_size': 32, 'dropout_rate': 0.15, 'epochs': 2000, 'neurons': 10, 'optimizer': 'adam', 'verbose': 0}\n",
      "-0.243398 (0.063294) with: {'activation': 'sigmoid', 'batch_size': 32, 'dropout_rate': 0.15, 'epochs': 2000, 'neurons': 10, 'optimizer': 'adamax', 'verbose': 0}\n",
      "-0.212906 (0.063663) with: {'activation': 'sigmoid', 'batch_size': 32, 'dropout_rate': 0.15, 'epochs': 2000, 'neurons': 10, 'optimizer': 'rmsprop', 'verbose': 0}\n",
      "-0.269915 (0.064059) with: {'activation': 'sigmoid', 'batch_size': 32, 'dropout_rate': 0.15, 'epochs': 2000, 'neurons': 10, 'optimizer': 'sgd', 'verbose': 0}\n",
      "-0.232161 (0.072451) with: {'activation': 'sigmoid', 'batch_size': 32, 'dropout_rate': 0.2, 'epochs': 2000, 'neurons': 10, 'optimizer': 'adam', 'verbose': 0}\n",
      "-0.242889 (0.065477) with: {'activation': 'sigmoid', 'batch_size': 32, 'dropout_rate': 0.2, 'epochs': 2000, 'neurons': 10, 'optimizer': 'adamax', 'verbose': 0}\n",
      "-0.206308 (0.054467) with: {'activation': 'sigmoid', 'batch_size': 32, 'dropout_rate': 0.2, 'epochs': 2000, 'neurons': 10, 'optimizer': 'rmsprop', 'verbose': 0}\n",
      "-0.267770 (0.064540) with: {'activation': 'sigmoid', 'batch_size': 32, 'dropout_rate': 0.2, 'epochs': 2000, 'neurons': 10, 'optimizer': 'sgd', 'verbose': 0}\n",
      "-0.247520 (0.081522) with: {'activation': 'sigmoid', 'batch_size': 32, 'dropout_rate': 0.25, 'epochs': 2000, 'neurons': 10, 'optimizer': 'adam', 'verbose': 0}\n",
      "-0.254152 (0.074652) with: {'activation': 'sigmoid', 'batch_size': 32, 'dropout_rate': 0.25, 'epochs': 2000, 'neurons': 10, 'optimizer': 'adamax', 'verbose': 0}\n",
      "-0.208567 (0.055497) with: {'activation': 'sigmoid', 'batch_size': 32, 'dropout_rate': 0.25, 'epochs': 2000, 'neurons': 10, 'optimizer': 'rmsprop', 'verbose': 0}\n",
      "-0.270134 (0.064384) with: {'activation': 'sigmoid', 'batch_size': 32, 'dropout_rate': 0.25, 'epochs': 2000, 'neurons': 10, 'optimizer': 'sgd', 'verbose': 0}\n",
      "-0.239965 (0.065039) with: {'activation': 'sigmoid', 'batch_size': 64, 'dropout_rate': 0.05, 'epochs': 2000, 'neurons': 10, 'optimizer': 'adam', 'verbose': 0}\n",
      "-0.234991 (0.061308) with: {'activation': 'sigmoid', 'batch_size': 64, 'dropout_rate': 0.05, 'epochs': 2000, 'neurons': 10, 'optimizer': 'adamax', 'verbose': 0}\n",
      "-0.238987 (0.062774) with: {'activation': 'sigmoid', 'batch_size': 64, 'dropout_rate': 0.05, 'epochs': 2000, 'neurons': 10, 'optimizer': 'rmsprop', 'verbose': 0}\n",
      "-0.248342 (0.063343) with: {'activation': 'sigmoid', 'batch_size': 64, 'dropout_rate': 0.05, 'epochs': 2000, 'neurons': 10, 'optimizer': 'sgd', 'verbose': 0}\n",
      "-0.251088 (0.065937) with: {'activation': 'sigmoid', 'batch_size': 64, 'dropout_rate': 0.1, 'epochs': 2000, 'neurons': 10, 'optimizer': 'adam', 'verbose': 0}\n",
      "-0.244227 (0.065184) with: {'activation': 'sigmoid', 'batch_size': 64, 'dropout_rate': 0.1, 'epochs': 2000, 'neurons': 10, 'optimizer': 'adamax', 'verbose': 0}\n",
      "-0.232247 (0.049860) with: {'activation': 'sigmoid', 'batch_size': 64, 'dropout_rate': 0.1, 'epochs': 2000, 'neurons': 10, 'optimizer': 'rmsprop', 'verbose': 0}\n",
      "-0.263024 (0.064783) with: {'activation': 'sigmoid', 'batch_size': 64, 'dropout_rate': 0.1, 'epochs': 2000, 'neurons': 10, 'optimizer': 'sgd', 'verbose': 0}\n",
      "-0.255362 (0.070696) with: {'activation': 'sigmoid', 'batch_size': 64, 'dropout_rate': 0.15, 'epochs': 2000, 'neurons': 10, 'optimizer': 'adam', 'verbose': 0}\n",
      "-0.246880 (0.067062) with: {'activation': 'sigmoid', 'batch_size': 64, 'dropout_rate': 0.15, 'epochs': 2000, 'neurons': 10, 'optimizer': 'adamax', 'verbose': 0}\n",
      "-0.211278 (0.060253) with: {'activation': 'sigmoid', 'batch_size': 64, 'dropout_rate': 0.15, 'epochs': 2000, 'neurons': 10, 'optimizer': 'rmsprop', 'verbose': 0}\n",
      "-0.270420 (0.062316) with: {'activation': 'sigmoid', 'batch_size': 64, 'dropout_rate': 0.15, 'epochs': 2000, 'neurons': 10, 'optimizer': 'sgd', 'verbose': 0}\n",
      "-0.256167 (0.071155) with: {'activation': 'sigmoid', 'batch_size': 64, 'dropout_rate': 0.2, 'epochs': 2000, 'neurons': 10, 'optimizer': 'adam', 'verbose': 0}\n",
      "-0.247232 (0.066304) with: {'activation': 'sigmoid', 'batch_size': 64, 'dropout_rate': 0.2, 'epochs': 2000, 'neurons': 10, 'optimizer': 'adamax', 'verbose': 0}\n",
      "-0.215441 (0.064623) with: {'activation': 'sigmoid', 'batch_size': 64, 'dropout_rate': 0.2, 'epochs': 2000, 'neurons': 10, 'optimizer': 'rmsprop', 'verbose': 0}\n",
      "-0.269192 (0.064808) with: {'activation': 'sigmoid', 'batch_size': 64, 'dropout_rate': 0.2, 'epochs': 2000, 'neurons': 10, 'optimizer': 'sgd', 'verbose': 0}\n",
      "-0.252299 (0.067325) with: {'activation': 'sigmoid', 'batch_size': 64, 'dropout_rate': 0.25, 'epochs': 2000, 'neurons': 10, 'optimizer': 'adam', 'verbose': 0}\n",
      "-0.250105 (0.066272) with: {'activation': 'sigmoid', 'batch_size': 64, 'dropout_rate': 0.25, 'epochs': 2000, 'neurons': 10, 'optimizer': 'adamax', 'verbose': 0}\n",
      "-0.245203 (0.082164) with: {'activation': 'sigmoid', 'batch_size': 64, 'dropout_rate': 0.25, 'epochs': 2000, 'neurons': 10, 'optimizer': 'rmsprop', 'verbose': 0}\n",
      "-0.270950 (0.064510) with: {'activation': 'sigmoid', 'batch_size': 64, 'dropout_rate': 0.25, 'epochs': 2000, 'neurons': 10, 'optimizer': 'sgd', 'verbose': 0}\n",
      "-0.261418 (0.039493) with: {'activation': 'tanh', 'batch_size': 4, 'dropout_rate': 0.05, 'epochs': 2000, 'neurons': 10, 'optimizer': 'adam', 'verbose': 0}\n",
      "-0.204762 (0.035133) with: {'activation': 'tanh', 'batch_size': 4, 'dropout_rate': 0.05, 'epochs': 2000, 'neurons': 10, 'optimizer': 'adamax', 'verbose': 0}\n",
      "-0.242894 (0.014974) with: {'activation': 'tanh', 'batch_size': 4, 'dropout_rate': 0.05, 'epochs': 2000, 'neurons': 10, 'optimizer': 'rmsprop', 'verbose': 0}\n",
      "-0.204552 (0.053867) with: {'activation': 'tanh', 'batch_size': 4, 'dropout_rate': 0.05, 'epochs': 2000, 'neurons': 10, 'optimizer': 'sgd', 'verbose': 0}\n",
      "-0.302869 (0.055787) with: {'activation': 'tanh', 'batch_size': 4, 'dropout_rate': 0.1, 'epochs': 2000, 'neurons': 10, 'optimizer': 'adam', 'verbose': 0}\n",
      "-0.209185 (0.035651) with: {'activation': 'tanh', 'batch_size': 4, 'dropout_rate': 0.1, 'epochs': 2000, 'neurons': 10, 'optimizer': 'adamax', 'verbose': 0}\n",
      "-0.234432 (0.025792) with: {'activation': 'tanh', 'batch_size': 4, 'dropout_rate': 0.1, 'epochs': 2000, 'neurons': 10, 'optimizer': 'rmsprop', 'verbose': 0}\n",
      "-0.204521 (0.054558) with: {'activation': 'tanh', 'batch_size': 4, 'dropout_rate': 0.1, 'epochs': 2000, 'neurons': 10, 'optimizer': 'sgd', 'verbose': 0}\n",
      "-0.262271 (0.044191) with: {'activation': 'tanh', 'batch_size': 4, 'dropout_rate': 0.15, 'epochs': 2000, 'neurons': 10, 'optimizer': 'adam', 'verbose': 0}\n",
      "-0.205583 (0.035413) with: {'activation': 'tanh', 'batch_size': 4, 'dropout_rate': 0.15, 'epochs': 2000, 'neurons': 10, 'optimizer': 'adamax', 'verbose': 0}\n",
      "-0.235184 (0.028568) with: {'activation': 'tanh', 'batch_size': 4, 'dropout_rate': 0.15, 'epochs': 2000, 'neurons': 10, 'optimizer': 'rmsprop', 'verbose': 0}\n",
      "-0.204392 (0.054153) with: {'activation': 'tanh', 'batch_size': 4, 'dropout_rate': 0.15, 'epochs': 2000, 'neurons': 10, 'optimizer': 'sgd', 'verbose': 0}\n",
      "-0.323502 (0.081378) with: {'activation': 'tanh', 'batch_size': 4, 'dropout_rate': 0.2, 'epochs': 2000, 'neurons': 10, 'optimizer': 'adam', 'verbose': 0}\n",
      "-0.205826 (0.036970) with: {'activation': 'tanh', 'batch_size': 4, 'dropout_rate': 0.2, 'epochs': 2000, 'neurons': 10, 'optimizer': 'adamax', 'verbose': 0}\n",
      "-0.259829 (0.057142) with: {'activation': 'tanh', 'batch_size': 4, 'dropout_rate': 0.2, 'epochs': 2000, 'neurons': 10, 'optimizer': 'rmsprop', 'verbose': 0}\n",
      "-0.204047 (0.052283) with: {'activation': 'tanh', 'batch_size': 4, 'dropout_rate': 0.2, 'epochs': 2000, 'neurons': 10, 'optimizer': 'sgd', 'verbose': 0}\n",
      "-0.295338 (0.052792) with: {'activation': 'tanh', 'batch_size': 4, 'dropout_rate': 0.25, 'epochs': 2000, 'neurons': 10, 'optimizer': 'adam', 'verbose': 0}\n",
      "-0.205443 (0.035798) with: {'activation': 'tanh', 'batch_size': 4, 'dropout_rate': 0.25, 'epochs': 2000, 'neurons': 10, 'optimizer': 'adamax', 'verbose': 0}\n",
      "-0.301351 (0.075934) with: {'activation': 'tanh', 'batch_size': 4, 'dropout_rate': 0.25, 'epochs': 2000, 'neurons': 10, 'optimizer': 'rmsprop', 'verbose': 0}\n",
      "-0.208007 (0.058947) with: {'activation': 'tanh', 'batch_size': 4, 'dropout_rate': 0.25, 'epochs': 2000, 'neurons': 10, 'optimizer': 'sgd', 'verbose': 0}\n",
      "-0.227205 (0.024021) with: {'activation': 'tanh', 'batch_size': 8, 'dropout_rate': 0.05, 'epochs': 2000, 'neurons': 10, 'optimizer': 'adam', 'verbose': 0}\n",
      "-0.200147 (0.043528) with: {'activation': 'tanh', 'batch_size': 8, 'dropout_rate': 0.05, 'epochs': 2000, 'neurons': 10, 'optimizer': 'adamax', 'verbose': 0}\n",
      "-0.221651 (0.023491) with: {'activation': 'tanh', 'batch_size': 8, 'dropout_rate': 0.05, 'epochs': 2000, 'neurons': 10, 'optimizer': 'rmsprop', 'verbose': 0}\n",
      "-0.207770 (0.053683) with: {'activation': 'tanh', 'batch_size': 8, 'dropout_rate': 0.05, 'epochs': 2000, 'neurons': 10, 'optimizer': 'sgd', 'verbose': 0}\n",
      "-0.234846 (0.017179) with: {'activation': 'tanh', 'batch_size': 8, 'dropout_rate': 0.1, 'epochs': 2000, 'neurons': 10, 'optimizer': 'adam', 'verbose': 0}\n",
      "-0.205825 (0.037148) with: {'activation': 'tanh', 'batch_size': 8, 'dropout_rate': 0.1, 'epochs': 2000, 'neurons': 10, 'optimizer': 'adamax', 'verbose': 0}\n",
      "-0.231243 (0.011140) with: {'activation': 'tanh', 'batch_size': 8, 'dropout_rate': 0.1, 'epochs': 2000, 'neurons': 10, 'optimizer': 'rmsprop', 'verbose': 0}\n",
      "-0.209247 (0.055753) with: {'activation': 'tanh', 'batch_size': 8, 'dropout_rate': 0.1, 'epochs': 2000, 'neurons': 10, 'optimizer': 'sgd', 'verbose': 0}\n",
      "-0.244765 (0.027864) with: {'activation': 'tanh', 'batch_size': 8, 'dropout_rate': 0.15, 'epochs': 2000, 'neurons': 10, 'optimizer': 'adam', 'verbose': 0}\n",
      "-0.203303 (0.040160) with: {'activation': 'tanh', 'batch_size': 8, 'dropout_rate': 0.15, 'epochs': 2000, 'neurons': 10, 'optimizer': 'adamax', 'verbose': 0}\n",
      "-0.221837 (0.032196) with: {'activation': 'tanh', 'batch_size': 8, 'dropout_rate': 0.15, 'epochs': 2000, 'neurons': 10, 'optimizer': 'rmsprop', 'verbose': 0}\n",
      "-0.218072 (0.060451) with: {'activation': 'tanh', 'batch_size': 8, 'dropout_rate': 0.15, 'epochs': 2000, 'neurons': 10, 'optimizer': 'sgd', 'verbose': 0}\n",
      "-0.245457 (0.012477) with: {'activation': 'tanh', 'batch_size': 8, 'dropout_rate': 0.2, 'epochs': 2000, 'neurons': 10, 'optimizer': 'adam', 'verbose': 0}\n",
      "-0.202982 (0.042308) with: {'activation': 'tanh', 'batch_size': 8, 'dropout_rate': 0.2, 'epochs': 2000, 'neurons': 10, 'optimizer': 'adamax', 'verbose': 0}\n",
      "-0.229683 (0.019228) with: {'activation': 'tanh', 'batch_size': 8, 'dropout_rate': 0.2, 'epochs': 2000, 'neurons': 10, 'optimizer': 'rmsprop', 'verbose': 0}\n",
      "-0.210919 (0.055001) with: {'activation': 'tanh', 'batch_size': 8, 'dropout_rate': 0.2, 'epochs': 2000, 'neurons': 10, 'optimizer': 'sgd', 'verbose': 0}\n",
      "-0.266477 (0.041373) with: {'activation': 'tanh', 'batch_size': 8, 'dropout_rate': 0.25, 'epochs': 2000, 'neurons': 10, 'optimizer': 'adam', 'verbose': 0}\n",
      "-0.201696 (0.041651) with: {'activation': 'tanh', 'batch_size': 8, 'dropout_rate': 0.25, 'epochs': 2000, 'neurons': 10, 'optimizer': 'adamax', 'verbose': 0}\n",
      "-0.223432 (0.016536) with: {'activation': 'tanh', 'batch_size': 8, 'dropout_rate': 0.25, 'epochs': 2000, 'neurons': 10, 'optimizer': 'rmsprop', 'verbose': 0}\n",
      "-0.220546 (0.064589) with: {'activation': 'tanh', 'batch_size': 8, 'dropout_rate': 0.25, 'epochs': 2000, 'neurons': 10, 'optimizer': 'sgd', 'verbose': 0}\n",
      "-0.219769 (0.026051) with: {'activation': 'tanh', 'batch_size': 16, 'dropout_rate': 0.05, 'epochs': 2000, 'neurons': 10, 'optimizer': 'adam', 'verbose': 0}\n",
      "-0.200115 (0.047218) with: {'activation': 'tanh', 'batch_size': 16, 'dropout_rate': 0.05, 'epochs': 2000, 'neurons': 10, 'optimizer': 'adamax', 'verbose': 0}\n",
      "-0.215389 (0.025066) with: {'activation': 'tanh', 'batch_size': 16, 'dropout_rate': 0.05, 'epochs': 2000, 'neurons': 10, 'optimizer': 'rmsprop', 'verbose': 0}\n",
      "-0.227573 (0.068264) with: {'activation': 'tanh', 'batch_size': 16, 'dropout_rate': 0.05, 'epochs': 2000, 'neurons': 10, 'optimizer': 'sgd', 'verbose': 0}\n",
      "-0.218013 (0.026139) with: {'activation': 'tanh', 'batch_size': 16, 'dropout_rate': 0.1, 'epochs': 2000, 'neurons': 10, 'optimizer': 'adam', 'verbose': 0}\n",
      "-0.201903 (0.048820) with: {'activation': 'tanh', 'batch_size': 16, 'dropout_rate': 0.1, 'epochs': 2000, 'neurons': 10, 'optimizer': 'adamax', 'verbose': 0}\n",
      "-0.208818 (0.031423) with: {'activation': 'tanh', 'batch_size': 16, 'dropout_rate': 0.1, 'epochs': 2000, 'neurons': 10, 'optimizer': 'rmsprop', 'verbose': 0}\n",
      "-0.223609 (0.063189) with: {'activation': 'tanh', 'batch_size': 16, 'dropout_rate': 0.1, 'epochs': 2000, 'neurons': 10, 'optimizer': 'sgd', 'verbose': 0}\n",
      "-0.217946 (0.026181) with: {'activation': 'tanh', 'batch_size': 16, 'dropout_rate': 0.15, 'epochs': 2000, 'neurons': 10, 'optimizer': 'adam', 'verbose': 0}\n",
      "-0.200094 (0.045262) with: {'activation': 'tanh', 'batch_size': 16, 'dropout_rate': 0.15, 'epochs': 2000, 'neurons': 10, 'optimizer': 'adamax', 'verbose': 0}\n",
      "-0.223659 (0.021115) with: {'activation': 'tanh', 'batch_size': 16, 'dropout_rate': 0.15, 'epochs': 2000, 'neurons': 10, 'optimizer': 'rmsprop', 'verbose': 0}\n",
      "-0.232423 (0.060230) with: {'activation': 'tanh', 'batch_size': 16, 'dropout_rate': 0.15, 'epochs': 2000, 'neurons': 10, 'optimizer': 'sgd', 'verbose': 0}\n",
      "-0.210254 (0.033613) with: {'activation': 'tanh', 'batch_size': 16, 'dropout_rate': 0.2, 'epochs': 2000, 'neurons': 10, 'optimizer': 'adam', 'verbose': 0}\n",
      "-0.199974 (0.046071) with: {'activation': 'tanh', 'batch_size': 16, 'dropout_rate': 0.2, 'epochs': 2000, 'neurons': 10, 'optimizer': 'adamax', 'verbose': 0}\n",
      "-0.211266 (0.028208) with: {'activation': 'tanh', 'batch_size': 16, 'dropout_rate': 0.2, 'epochs': 2000, 'neurons': 10, 'optimizer': 'rmsprop', 'verbose': 0}\n",
      "-0.227544 (0.066270) with: {'activation': 'tanh', 'batch_size': 16, 'dropout_rate': 0.2, 'epochs': 2000, 'neurons': 10, 'optimizer': 'sgd', 'verbose': 0}\n",
      "-0.215236 (0.024433) with: {'activation': 'tanh', 'batch_size': 16, 'dropout_rate': 0.25, 'epochs': 2000, 'neurons': 10, 'optimizer': 'adam', 'verbose': 0}\n",
      "-0.203340 (0.047280) with: {'activation': 'tanh', 'batch_size': 16, 'dropout_rate': 0.25, 'epochs': 2000, 'neurons': 10, 'optimizer': 'adamax', 'verbose': 0}\n",
      "-0.207730 (0.031906) with: {'activation': 'tanh', 'batch_size': 16, 'dropout_rate': 0.25, 'epochs': 2000, 'neurons': 10, 'optimizer': 'rmsprop', 'verbose': 0}\n",
      "-0.238429 (0.067334) with: {'activation': 'tanh', 'batch_size': 16, 'dropout_rate': 0.25, 'epochs': 2000, 'neurons': 10, 'optimizer': 'sgd', 'verbose': 0}\n",
      "-0.200792 (0.039374) with: {'activation': 'tanh', 'batch_size': 32, 'dropout_rate': 0.05, 'epochs': 2000, 'neurons': 10, 'optimizer': 'adam', 'verbose': 0}\n",
      "-0.204978 (0.051963) with: {'activation': 'tanh', 'batch_size': 32, 'dropout_rate': 0.05, 'epochs': 2000, 'neurons': 10, 'optimizer': 'adamax', 'verbose': 0}\n",
      "-0.208310 (0.040238) with: {'activation': 'tanh', 'batch_size': 32, 'dropout_rate': 0.05, 'epochs': 2000, 'neurons': 10, 'optimizer': 'rmsprop', 'verbose': 0}\n",
      "-0.235602 (0.062716) with: {'activation': 'tanh', 'batch_size': 32, 'dropout_rate': 0.05, 'epochs': 2000, 'neurons': 10, 'optimizer': 'sgd', 'verbose': 0}\n",
      "-0.210288 (0.033303) with: {'activation': 'tanh', 'batch_size': 32, 'dropout_rate': 0.1, 'epochs': 2000, 'neurons': 10, 'optimizer': 'adam', 'verbose': 0}\n",
      "-0.214686 (0.062238) with: {'activation': 'tanh', 'batch_size': 32, 'dropout_rate': 0.1, 'epochs': 2000, 'neurons': 10, 'optimizer': 'adamax', 'verbose': 0}\n",
      "-0.206808 (0.035288) with: {'activation': 'tanh', 'batch_size': 32, 'dropout_rate': 0.1, 'epochs': 2000, 'neurons': 10, 'optimizer': 'rmsprop', 'verbose': 0}\n",
      "-0.239286 (0.067250) with: {'activation': 'tanh', 'batch_size': 32, 'dropout_rate': 0.1, 'epochs': 2000, 'neurons': 10, 'optimizer': 'sgd', 'verbose': 0}\n",
      "-0.206658 (0.039710) with: {'activation': 'tanh', 'batch_size': 32, 'dropout_rate': 0.15, 'epochs': 2000, 'neurons': 10, 'optimizer': 'adam', 'verbose': 0}\n",
      "-0.213796 (0.059494) with: {'activation': 'tanh', 'batch_size': 32, 'dropout_rate': 0.15, 'epochs': 2000, 'neurons': 10, 'optimizer': 'adamax', 'verbose': 0}\n",
      "-0.211136 (0.035067) with: {'activation': 'tanh', 'batch_size': 32, 'dropout_rate': 0.15, 'epochs': 2000, 'neurons': 10, 'optimizer': 'rmsprop', 'verbose': 0}\n",
      "-0.245195 (0.060043) with: {'activation': 'tanh', 'batch_size': 32, 'dropout_rate': 0.15, 'epochs': 2000, 'neurons': 10, 'optimizer': 'sgd', 'verbose': 0}\n",
      "-0.201545 (0.041148) with: {'activation': 'tanh', 'batch_size': 32, 'dropout_rate': 0.2, 'epochs': 2000, 'neurons': 10, 'optimizer': 'adam', 'verbose': 0}\n",
      "-0.215712 (0.060983) with: {'activation': 'tanh', 'batch_size': 32, 'dropout_rate': 0.2, 'epochs': 2000, 'neurons': 10, 'optimizer': 'adamax', 'verbose': 0}\n",
      "-0.207128 (0.035203) with: {'activation': 'tanh', 'batch_size': 32, 'dropout_rate': 0.2, 'epochs': 2000, 'neurons': 10, 'optimizer': 'rmsprop', 'verbose': 0}\n",
      "-0.245508 (0.070658) with: {'activation': 'tanh', 'batch_size': 32, 'dropout_rate': 0.2, 'epochs': 2000, 'neurons': 10, 'optimizer': 'sgd', 'verbose': 0}\n",
      "-0.201769 (0.041545) with: {'activation': 'tanh', 'batch_size': 32, 'dropout_rate': 0.25, 'epochs': 2000, 'neurons': 10, 'optimizer': 'adam', 'verbose': 0}\n",
      "-0.220966 (0.064620) with: {'activation': 'tanh', 'batch_size': 32, 'dropout_rate': 0.25, 'epochs': 2000, 'neurons': 10, 'optimizer': 'adamax', 'verbose': 0}\n",
      "-0.208736 (0.032249) with: {'activation': 'tanh', 'batch_size': 32, 'dropout_rate': 0.25, 'epochs': 2000, 'neurons': 10, 'optimizer': 'rmsprop', 'verbose': 0}\n",
      "-0.242961 (0.064362) with: {'activation': 'tanh', 'batch_size': 32, 'dropout_rate': 0.25, 'epochs': 2000, 'neurons': 10, 'optimizer': 'sgd', 'verbose': 0}\n",
      "-0.199604 (0.048655) with: {'activation': 'tanh', 'batch_size': 64, 'dropout_rate': 0.05, 'epochs': 2000, 'neurons': 10, 'optimizer': 'adam', 'verbose': 0}\n",
      "-0.207481 (0.053764) with: {'activation': 'tanh', 'batch_size': 64, 'dropout_rate': 0.05, 'epochs': 2000, 'neurons': 10, 'optimizer': 'adamax', 'verbose': 0}\n",
      "-0.199558 (0.048215) with: {'activation': 'tanh', 'batch_size': 64, 'dropout_rate': 0.05, 'epochs': 2000, 'neurons': 10, 'optimizer': 'rmsprop', 'verbose': 0}\n",
      "-0.238607 (0.058056) with: {'activation': 'tanh', 'batch_size': 64, 'dropout_rate': 0.05, 'epochs': 2000, 'neurons': 10, 'optimizer': 'sgd', 'verbose': 0}\n",
      "-0.202769 (0.049404) with: {'activation': 'tanh', 'batch_size': 64, 'dropout_rate': 0.1, 'epochs': 2000, 'neurons': 10, 'optimizer': 'adam', 'verbose': 0}\n",
      "-0.205144 (0.050874) with: {'activation': 'tanh', 'batch_size': 64, 'dropout_rate': 0.1, 'epochs': 2000, 'neurons': 10, 'optimizer': 'adamax', 'verbose': 0}\n",
      "-0.202794 (0.040736) with: {'activation': 'tanh', 'batch_size': 64, 'dropout_rate': 0.1, 'epochs': 2000, 'neurons': 10, 'optimizer': 'rmsprop', 'verbose': 0}\n",
      "-0.243363 (0.065510) with: {'activation': 'tanh', 'batch_size': 64, 'dropout_rate': 0.1, 'epochs': 2000, 'neurons': 10, 'optimizer': 'sgd', 'verbose': 0}\n",
      "-0.208114 (0.050546) with: {'activation': 'tanh', 'batch_size': 64, 'dropout_rate': 0.15, 'epochs': 2000, 'neurons': 10, 'optimizer': 'adam', 'verbose': 0}\n",
      "-0.209788 (0.056725) with: {'activation': 'tanh', 'batch_size': 64, 'dropout_rate': 0.15, 'epochs': 2000, 'neurons': 10, 'optimizer': 'adamax', 'verbose': 0}\n",
      "-0.202013 (0.040304) with: {'activation': 'tanh', 'batch_size': 64, 'dropout_rate': 0.15, 'epochs': 2000, 'neurons': 10, 'optimizer': 'rmsprop', 'verbose': 0}\n",
      "-0.246237 (0.064339) with: {'activation': 'tanh', 'batch_size': 64, 'dropout_rate': 0.15, 'epochs': 2000, 'neurons': 10, 'optimizer': 'sgd', 'verbose': 0}\n",
      "-0.208627 (0.050884) with: {'activation': 'tanh', 'batch_size': 64, 'dropout_rate': 0.2, 'epochs': 2000, 'neurons': 10, 'optimizer': 'adam', 'verbose': 0}\n",
      "-0.212036 (0.055628) with: {'activation': 'tanh', 'batch_size': 64, 'dropout_rate': 0.2, 'epochs': 2000, 'neurons': 10, 'optimizer': 'adamax', 'verbose': 0}\n",
      "-0.203918 (0.041016) with: {'activation': 'tanh', 'batch_size': 64, 'dropout_rate': 0.2, 'epochs': 2000, 'neurons': 10, 'optimizer': 'rmsprop', 'verbose': 0}\n",
      "-0.248323 (0.062816) with: {'activation': 'tanh', 'batch_size': 64, 'dropout_rate': 0.2, 'epochs': 2000, 'neurons': 10, 'optimizer': 'sgd', 'verbose': 0}\n",
      "-0.212548 (0.057446) with: {'activation': 'tanh', 'batch_size': 64, 'dropout_rate': 0.25, 'epochs': 2000, 'neurons': 10, 'optimizer': 'adam', 'verbose': 0}\n",
      "-0.224310 (0.068009) with: {'activation': 'tanh', 'batch_size': 64, 'dropout_rate': 0.25, 'epochs': 2000, 'neurons': 10, 'optimizer': 'adamax', 'verbose': 0}\n",
      "-0.201937 (0.040764) with: {'activation': 'tanh', 'batch_size': 64, 'dropout_rate': 0.25, 'epochs': 2000, 'neurons': 10, 'optimizer': 'rmsprop', 'verbose': 0}\n",
      "-0.246782 (0.065670) with: {'activation': 'tanh', 'batch_size': 64, 'dropout_rate': 0.25, 'epochs': 2000, 'neurons': 10, 'optimizer': 'sgd', 'verbose': 0}\n",
      "-0.329254 (0.133279) with: {'activation': 'relu', 'batch_size': 4, 'dropout_rate': 0.05, 'epochs': 2000, 'neurons': 10, 'optimizer': 'adam', 'verbose': 0}\n",
      "-0.346883 (0.169772) with: {'activation': 'relu', 'batch_size': 4, 'dropout_rate': 0.05, 'epochs': 2000, 'neurons': 10, 'optimizer': 'adamax', 'verbose': 0}\n",
      "-0.329692 (0.174385) with: {'activation': 'relu', 'batch_size': 4, 'dropout_rate': 0.05, 'epochs': 2000, 'neurons': 10, 'optimizer': 'rmsprop', 'verbose': 0}\n",
      "-0.223645 (0.049931) with: {'activation': 'relu', 'batch_size': 4, 'dropout_rate': 0.05, 'epochs': 2000, 'neurons': 10, 'optimizer': 'sgd', 'verbose': 0}\n",
      "-0.317328 (0.007360) with: {'activation': 'relu', 'batch_size': 4, 'dropout_rate': 0.1, 'epochs': 2000, 'neurons': 10, 'optimizer': 'adam', 'verbose': 0}\n",
      "-0.232836 (0.062662) with: {'activation': 'relu', 'batch_size': 4, 'dropout_rate': 0.1, 'epochs': 2000, 'neurons': 10, 'optimizer': 'adamax', 'verbose': 0}\n",
      "-0.248439 (0.079626) with: {'activation': 'relu', 'batch_size': 4, 'dropout_rate': 0.1, 'epochs': 2000, 'neurons': 10, 'optimizer': 'rmsprop', 'verbose': 0}\n",
      "-0.208694 (0.036507) with: {'activation': 'relu', 'batch_size': 4, 'dropout_rate': 0.1, 'epochs': 2000, 'neurons': 10, 'optimizer': 'sgd', 'verbose': 0}\n",
      "-0.366132 (0.073449) with: {'activation': 'relu', 'batch_size': 4, 'dropout_rate': 0.15, 'epochs': 2000, 'neurons': 10, 'optimizer': 'adam', 'verbose': 0}\n",
      "-0.333653 (0.161591) with: {'activation': 'relu', 'batch_size': 4, 'dropout_rate': 0.15, 'epochs': 2000, 'neurons': 10, 'optimizer': 'adamax', 'verbose': 0}\n",
      "-0.230563 (0.065367) with: {'activation': 'relu', 'batch_size': 4, 'dropout_rate': 0.15, 'epochs': 2000, 'neurons': 10, 'optimizer': 'rmsprop', 'verbose': 0}\n",
      "-0.204460 (0.039411) with: {'activation': 'relu', 'batch_size': 4, 'dropout_rate': 0.15, 'epochs': 2000, 'neurons': 10, 'optimizer': 'sgd', 'verbose': 0}\n",
      "-0.531107 (0.280730) with: {'activation': 'relu', 'batch_size': 4, 'dropout_rate': 0.2, 'epochs': 2000, 'neurons': 10, 'optimizer': 'adam', 'verbose': 0}\n",
      "-0.259967 (0.099812) with: {'activation': 'relu', 'batch_size': 4, 'dropout_rate': 0.2, 'epochs': 2000, 'neurons': 10, 'optimizer': 'adamax', 'verbose': 0}\n",
      "-0.238370 (0.079922) with: {'activation': 'relu', 'batch_size': 4, 'dropout_rate': 0.2, 'epochs': 2000, 'neurons': 10, 'optimizer': 'rmsprop', 'verbose': 0}\n",
      "-0.243814 (0.080487) with: {'activation': 'relu', 'batch_size': 4, 'dropout_rate': 0.2, 'epochs': 2000, 'neurons': 10, 'optimizer': 'sgd', 'verbose': 0}\n",
      "-0.270992 (0.059869) with: {'activation': 'relu', 'batch_size': 4, 'dropout_rate': 0.25, 'epochs': 2000, 'neurons': 10, 'optimizer': 'adam', 'verbose': 0}\n",
      "-0.208472 (0.050016) with: {'activation': 'relu', 'batch_size': 4, 'dropout_rate': 0.25, 'epochs': 2000, 'neurons': 10, 'optimizer': 'adamax', 'verbose': 0}\n",
      "-0.290390 (0.132376) with: {'activation': 'relu', 'batch_size': 4, 'dropout_rate': 0.25, 'epochs': 2000, 'neurons': 10, 'optimizer': 'rmsprop', 'verbose': 0}\n",
      "-0.211526 (0.049674) with: {'activation': 'relu', 'batch_size': 4, 'dropout_rate': 0.25, 'epochs': 2000, 'neurons': 10, 'optimizer': 'sgd', 'verbose': 0}\n",
      "-0.419459 (0.181682) with: {'activation': 'relu', 'batch_size': 8, 'dropout_rate': 0.05, 'epochs': 2000, 'neurons': 10, 'optimizer': 'adam', 'verbose': 0}\n",
      "-0.358774 (0.173113) with: {'activation': 'relu', 'batch_size': 8, 'dropout_rate': 0.05, 'epochs': 2000, 'neurons': 10, 'optimizer': 'adamax', 'verbose': 0}\n",
      "-0.248652 (0.038330) with: {'activation': 'relu', 'batch_size': 8, 'dropout_rate': 0.05, 'epochs': 2000, 'neurons': 10, 'optimizer': 'rmsprop', 'verbose': 0}\n",
      "-0.223485 (0.050685) with: {'activation': 'relu', 'batch_size': 8, 'dropout_rate': 0.05, 'epochs': 2000, 'neurons': 10, 'optimizer': 'sgd', 'verbose': 0}\n",
      "-0.377628 (0.099562) with: {'activation': 'relu', 'batch_size': 8, 'dropout_rate': 0.1, 'epochs': 2000, 'neurons': 10, 'optimizer': 'adam', 'verbose': 0}\n",
      "-0.208327 (0.041361) with: {'activation': 'relu', 'batch_size': 8, 'dropout_rate': 0.1, 'epochs': 2000, 'neurons': 10, 'optimizer': 'adamax', 'verbose': 0}\n",
      "-0.375366 (0.146418) with: {'activation': 'relu', 'batch_size': 8, 'dropout_rate': 0.1, 'epochs': 2000, 'neurons': 10, 'optimizer': 'rmsprop', 'verbose': 0}\n",
      "-0.203372 (0.037762) with: {'activation': 'relu', 'batch_size': 8, 'dropout_rate': 0.1, 'epochs': 2000, 'neurons': 10, 'optimizer': 'sgd', 'verbose': 0}\n",
      "-0.342522 (0.046358) with: {'activation': 'relu', 'batch_size': 8, 'dropout_rate': 0.15, 'epochs': 2000, 'neurons': 10, 'optimizer': 'adam', 'verbose': 0}\n",
      "-0.242550 (0.075601) with: {'activation': 'relu', 'batch_size': 8, 'dropout_rate': 0.15, 'epochs': 2000, 'neurons': 10, 'optimizer': 'adamax', 'verbose': 0}\n",
      "-0.845884 (0.674139) with: {'activation': 'relu', 'batch_size': 8, 'dropout_rate': 0.15, 'epochs': 2000, 'neurons': 10, 'optimizer': 'rmsprop', 'verbose': 0}\n",
      "-0.202171 (0.044141) with: {'activation': 'relu', 'batch_size': 8, 'dropout_rate': 0.15, 'epochs': 2000, 'neurons': 10, 'optimizer': 'sgd', 'verbose': 0}\n",
      "-0.238411 (0.066370) with: {'activation': 'relu', 'batch_size': 8, 'dropout_rate': 0.2, 'epochs': 2000, 'neurons': 10, 'optimizer': 'adam', 'verbose': 0}\n",
      "-0.215858 (0.057675) with: {'activation': 'relu', 'batch_size': 8, 'dropout_rate': 0.2, 'epochs': 2000, 'neurons': 10, 'optimizer': 'adamax', 'verbose': 0}\n",
      "-0.236317 (0.069444) with: {'activation': 'relu', 'batch_size': 8, 'dropout_rate': 0.2, 'epochs': 2000, 'neurons': 10, 'optimizer': 'rmsprop', 'verbose': 0}\n",
      "-0.204641 (0.049141) with: {'activation': 'relu', 'batch_size': 8, 'dropout_rate': 0.2, 'epochs': 2000, 'neurons': 10, 'optimizer': 'sgd', 'verbose': 0}\n",
      "-0.252682 (0.071207) with: {'activation': 'relu', 'batch_size': 8, 'dropout_rate': 0.25, 'epochs': 2000, 'neurons': 10, 'optimizer': 'adam', 'verbose': 0}\n",
      "-0.210556 (0.047546) with: {'activation': 'relu', 'batch_size': 8, 'dropout_rate': 0.25, 'epochs': 2000, 'neurons': 10, 'optimizer': 'adamax', 'verbose': 0}\n",
      "-0.229213 (0.072203) with: {'activation': 'relu', 'batch_size': 8, 'dropout_rate': 0.25, 'epochs': 2000, 'neurons': 10, 'optimizer': 'rmsprop', 'verbose': 0}\n",
      "-0.202934 (0.043137) with: {'activation': 'relu', 'batch_size': 8, 'dropout_rate': 0.25, 'epochs': 2000, 'neurons': 10, 'optimizer': 'sgd', 'verbose': 0}\n",
      "-0.280156 (0.000245) with: {'activation': 'relu', 'batch_size': 16, 'dropout_rate': 0.05, 'epochs': 2000, 'neurons': 10, 'optimizer': 'adam', 'verbose': 0}\n",
      "-0.284165 (0.120247) with: {'activation': 'relu', 'batch_size': 16, 'dropout_rate': 0.05, 'epochs': 2000, 'neurons': 10, 'optimizer': 'adamax', 'verbose': 0}\n",
      "-0.464453 (0.282430) with: {'activation': 'relu', 'batch_size': 16, 'dropout_rate': 0.05, 'epochs': 2000, 'neurons': 10, 'optimizer': 'rmsprop', 'verbose': 0}\n",
      "-0.222267 (0.068423) with: {'activation': 'relu', 'batch_size': 16, 'dropout_rate': 0.05, 'epochs': 2000, 'neurons': 10, 'optimizer': 'sgd', 'verbose': 0}\n",
      "-0.241095 (0.061945) with: {'activation': 'relu', 'batch_size': 16, 'dropout_rate': 0.1, 'epochs': 2000, 'neurons': 10, 'optimizer': 'adam', 'verbose': 0}\n",
      "-0.226818 (0.059989) with: {'activation': 'relu', 'batch_size': 16, 'dropout_rate': 0.1, 'epochs': 2000, 'neurons': 10, 'optimizer': 'adamax', 'verbose': 0}\n",
      "-0.210128 (0.029289) with: {'activation': 'relu', 'batch_size': 16, 'dropout_rate': 0.1, 'epochs': 2000, 'neurons': 10, 'optimizer': 'rmsprop', 'verbose': 0}\n",
      "-0.229831 (0.076224) with: {'activation': 'relu', 'batch_size': 16, 'dropout_rate': 0.1, 'epochs': 2000, 'neurons': 10, 'optimizer': 'sgd', 'verbose': 0}\n",
      "-0.232218 (0.056811) with: {'activation': 'relu', 'batch_size': 16, 'dropout_rate': 0.15, 'epochs': 2000, 'neurons': 10, 'optimizer': 'adam', 'verbose': 0}\n",
      "-0.208216 (0.039235) with: {'activation': 'relu', 'batch_size': 16, 'dropout_rate': 0.15, 'epochs': 2000, 'neurons': 10, 'optimizer': 'adamax', 'verbose': 0}\n",
      "-0.537941 (0.359744) with: {'activation': 'relu', 'batch_size': 16, 'dropout_rate': 0.15, 'epochs': 2000, 'neurons': 10, 'optimizer': 'rmsprop', 'verbose': 0}\n",
      "-0.210514 (0.058010) with: {'activation': 'relu', 'batch_size': 16, 'dropout_rate': 0.15, 'epochs': 2000, 'neurons': 10, 'optimizer': 'sgd', 'verbose': 0}\n",
      "-0.244563 (0.070849) with: {'activation': 'relu', 'batch_size': 16, 'dropout_rate': 0.2, 'epochs': 2000, 'neurons': 10, 'optimizer': 'adam', 'verbose': 0}\n",
      "-0.222112 (0.065184) with: {'activation': 'relu', 'batch_size': 16, 'dropout_rate': 0.2, 'epochs': 2000, 'neurons': 10, 'optimizer': 'adamax', 'verbose': 0}\n",
      "-0.224854 (0.056957) with: {'activation': 'relu', 'batch_size': 16, 'dropout_rate': 0.2, 'epochs': 2000, 'neurons': 10, 'optimizer': 'rmsprop', 'verbose': 0}\n",
      "-0.221813 (0.067662) with: {'activation': 'relu', 'batch_size': 16, 'dropout_rate': 0.2, 'epochs': 2000, 'neurons': 10, 'optimizer': 'sgd', 'verbose': 0}\n",
      "-0.303911 (0.142093) with: {'activation': 'relu', 'batch_size': 16, 'dropout_rate': 0.25, 'epochs': 2000, 'neurons': 10, 'optimizer': 'adam', 'verbose': 0}\n",
      "-0.316386 (0.156953) with: {'activation': 'relu', 'batch_size': 16, 'dropout_rate': 0.25, 'epochs': 2000, 'neurons': 10, 'optimizer': 'adamax', 'verbose': 0}\n",
      "-0.480028 (0.319568) with: {'activation': 'relu', 'batch_size': 16, 'dropout_rate': 0.25, 'epochs': 2000, 'neurons': 10, 'optimizer': 'rmsprop', 'verbose': 0}\n",
      "-0.214988 (0.061631) with: {'activation': 'relu', 'batch_size': 16, 'dropout_rate': 0.25, 'epochs': 2000, 'neurons': 10, 'optimizer': 'sgd', 'verbose': 0}\n",
      "-0.470904 (0.253249) with: {'activation': 'relu', 'batch_size': 32, 'dropout_rate': 0.05, 'epochs': 2000, 'neurons': 10, 'optimizer': 'adam', 'verbose': 0}\n",
      "-0.265701 (0.108664) with: {'activation': 'relu', 'batch_size': 32, 'dropout_rate': 0.05, 'epochs': 2000, 'neurons': 10, 'optimizer': 'adamax', 'verbose': 0}\n",
      "-0.394024 (0.213555) with: {'activation': 'relu', 'batch_size': 32, 'dropout_rate': 0.05, 'epochs': 2000, 'neurons': 10, 'optimizer': 'rmsprop', 'verbose': 0}\n",
      "-0.235812 (0.074681) with: {'activation': 'relu', 'batch_size': 32, 'dropout_rate': 0.05, 'epochs': 2000, 'neurons': 10, 'optimizer': 'sgd', 'verbose': 0}\n",
      "-0.244907 (0.042203) with: {'activation': 'relu', 'batch_size': 32, 'dropout_rate': 0.1, 'epochs': 2000, 'neurons': 10, 'optimizer': 'adam', 'verbose': 0}\n",
      "-0.205366 (0.049146) with: {'activation': 'relu', 'batch_size': 32, 'dropout_rate': 0.1, 'epochs': 2000, 'neurons': 10, 'optimizer': 'adamax', 'verbose': 0}\n",
      "-0.234535 (0.036337) with: {'activation': 'relu', 'batch_size': 32, 'dropout_rate': 0.1, 'epochs': 2000, 'neurons': 10, 'optimizer': 'rmsprop', 'verbose': 0}\n",
      "-0.245016 (0.061792) with: {'activation': 'relu', 'batch_size': 32, 'dropout_rate': 0.1, 'epochs': 2000, 'neurons': 10, 'optimizer': 'sgd', 'verbose': 0}\n",
      "-0.224791 (0.057821) with: {'activation': 'relu', 'batch_size': 32, 'dropout_rate': 0.15, 'epochs': 2000, 'neurons': 10, 'optimizer': 'adam', 'verbose': 0}\n",
      "-0.310546 (0.139946) with: {'activation': 'relu', 'batch_size': 32, 'dropout_rate': 0.15, 'epochs': 2000, 'neurons': 10, 'optimizer': 'adamax', 'verbose': 0}\n",
      "-0.248307 (0.063106) with: {'activation': 'relu', 'batch_size': 32, 'dropout_rate': 0.15, 'epochs': 2000, 'neurons': 10, 'optimizer': 'rmsprop', 'verbose': 0}\n",
      "-0.250940 (0.070129) with: {'activation': 'relu', 'batch_size': 32, 'dropout_rate': 0.15, 'epochs': 2000, 'neurons': 10, 'optimizer': 'sgd', 'verbose': 0}\n",
      "-0.243820 (0.064347) with: {'activation': 'relu', 'batch_size': 32, 'dropout_rate': 0.2, 'epochs': 2000, 'neurons': 10, 'optimizer': 'adam', 'verbose': 0}\n",
      "-0.264210 (0.109950) with: {'activation': 'relu', 'batch_size': 32, 'dropout_rate': 0.2, 'epochs': 2000, 'neurons': 10, 'optimizer': 'adamax', 'verbose': 0}\n",
      "-0.219025 (0.057812) with: {'activation': 'relu', 'batch_size': 32, 'dropout_rate': 0.2, 'epochs': 2000, 'neurons': 10, 'optimizer': 'rmsprop', 'verbose': 0}\n",
      "-0.244633 (0.067587) with: {'activation': 'relu', 'batch_size': 32, 'dropout_rate': 0.2, 'epochs': 2000, 'neurons': 10, 'optimizer': 'sgd', 'verbose': 0}\n",
      "-0.221399 (0.045884) with: {'activation': 'relu', 'batch_size': 32, 'dropout_rate': 0.25, 'epochs': 2000, 'neurons': 10, 'optimizer': 'adam', 'verbose': 0}\n",
      "-0.245732 (0.084169) with: {'activation': 'relu', 'batch_size': 32, 'dropout_rate': 0.25, 'epochs': 2000, 'neurons': 10, 'optimizer': 'adamax', 'verbose': 0}\n",
      "-0.241830 (0.079400) with: {'activation': 'relu', 'batch_size': 32, 'dropout_rate': 0.25, 'epochs': 2000, 'neurons': 10, 'optimizer': 'rmsprop', 'verbose': 0}\n",
      "-0.236110 (0.072456) with: {'activation': 'relu', 'batch_size': 32, 'dropout_rate': 0.25, 'epochs': 2000, 'neurons': 10, 'optimizer': 'sgd', 'verbose': 0}\n",
      "-0.222076 (0.052140) with: {'activation': 'relu', 'batch_size': 64, 'dropout_rate': 0.05, 'epochs': 2000, 'neurons': 10, 'optimizer': 'adam', 'verbose': 0}\n",
      "-0.278837 (0.127440) with: {'activation': 'relu', 'batch_size': 64, 'dropout_rate': 0.05, 'epochs': 2000, 'neurons': 10, 'optimizer': 'adamax', 'verbose': 0}\n",
      "-0.226670 (0.032875) with: {'activation': 'relu', 'batch_size': 64, 'dropout_rate': 0.05, 'epochs': 2000, 'neurons': 10, 'optimizer': 'rmsprop', 'verbose': 0}\n",
      "-0.239185 (0.070159) with: {'activation': 'relu', 'batch_size': 64, 'dropout_rate': 0.05, 'epochs': 2000, 'neurons': 10, 'optimizer': 'sgd', 'verbose': 0}\n",
      "-0.250974 (0.047335) with: {'activation': 'relu', 'batch_size': 64, 'dropout_rate': 0.1, 'epochs': 2000, 'neurons': 10, 'optimizer': 'adam', 'verbose': 0}\n",
      "-0.221830 (0.065238) with: {'activation': 'relu', 'batch_size': 64, 'dropout_rate': 0.1, 'epochs': 2000, 'neurons': 10, 'optimizer': 'adamax', 'verbose': 0}\n",
      "-0.343194 (0.178358) with: {'activation': 'relu', 'batch_size': 64, 'dropout_rate': 0.1, 'epochs': 2000, 'neurons': 10, 'optimizer': 'rmsprop', 'verbose': 0}\n",
      "-0.242929 (0.064907) with: {'activation': 'relu', 'batch_size': 64, 'dropout_rate': 0.1, 'epochs': 2000, 'neurons': 10, 'optimizer': 'sgd', 'verbose': 0}\n",
      "-0.231746 (0.026941) with: {'activation': 'relu', 'batch_size': 64, 'dropout_rate': 0.15, 'epochs': 2000, 'neurons': 10, 'optimizer': 'adam', 'verbose': 0}\n",
      "-0.248633 (0.091157) with: {'activation': 'relu', 'batch_size': 64, 'dropout_rate': 0.15, 'epochs': 2000, 'neurons': 10, 'optimizer': 'adamax', 'verbose': 0}\n",
      "-0.327465 (0.162694) with: {'activation': 'relu', 'batch_size': 64, 'dropout_rate': 0.15, 'epochs': 2000, 'neurons': 10, 'optimizer': 'rmsprop', 'verbose': 0}\n",
      "-0.266624 (0.068232) with: {'activation': 'relu', 'batch_size': 64, 'dropout_rate': 0.15, 'epochs': 2000, 'neurons': 10, 'optimizer': 'sgd', 'verbose': 0}\n",
      "-0.256071 (0.065661) with: {'activation': 'relu', 'batch_size': 64, 'dropout_rate': 0.2, 'epochs': 2000, 'neurons': 10, 'optimizer': 'adam', 'verbose': 0}\n",
      "-0.221157 (0.063228) with: {'activation': 'relu', 'batch_size': 64, 'dropout_rate': 0.2, 'epochs': 2000, 'neurons': 10, 'optimizer': 'adamax', 'verbose': 0}\n",
      "-0.204794 (0.039864) with: {'activation': 'relu', 'batch_size': 64, 'dropout_rate': 0.2, 'epochs': 2000, 'neurons': 10, 'optimizer': 'rmsprop', 'verbose': 0}\n",
      "-0.235727 (0.064961) with: {'activation': 'relu', 'batch_size': 64, 'dropout_rate': 0.2, 'epochs': 2000, 'neurons': 10, 'optimizer': 'sgd', 'verbose': 0}\n",
      "-0.380462 (0.198378) with: {'activation': 'relu', 'batch_size': 64, 'dropout_rate': 0.25, 'epochs': 2000, 'neurons': 10, 'optimizer': 'adam', 'verbose': 0}\n",
      "-0.231389 (0.073002) with: {'activation': 'relu', 'batch_size': 64, 'dropout_rate': 0.25, 'epochs': 2000, 'neurons': 10, 'optimizer': 'adamax', 'verbose': 0}\n",
      "-0.225578 (0.066916) with: {'activation': 'relu', 'batch_size': 64, 'dropout_rate': 0.25, 'epochs': 2000, 'neurons': 10, 'optimizer': 'rmsprop', 'verbose': 0}\n",
      "-0.248932 (0.071069) with: {'activation': 'relu', 'batch_size': 64, 'dropout_rate': 0.25, 'epochs': 2000, 'neurons': 10, 'optimizer': 'sgd', 'verbose': 0}\n",
      "-0.263867 (0.046737) with: {'activation': 'selu', 'batch_size': 4, 'dropout_rate': 0.05, 'epochs': 2000, 'neurons': 10, 'optimizer': 'adam', 'verbose': 0}\n",
      "-0.203608 (0.041037) with: {'activation': 'selu', 'batch_size': 4, 'dropout_rate': 0.05, 'epochs': 2000, 'neurons': 10, 'optimizer': 'adamax', 'verbose': 0}\n",
      "-0.277144 (0.055078) with: {'activation': 'selu', 'batch_size': 4, 'dropout_rate': 0.05, 'epochs': 2000, 'neurons': 10, 'optimizer': 'rmsprop', 'verbose': 0}\n",
      "-0.196541 (0.048811) with: {'activation': 'selu', 'batch_size': 4, 'dropout_rate': 0.05, 'epochs': 2000, 'neurons': 10, 'optimizer': 'sgd', 'verbose': 0}\n",
      "-0.391610 (0.169694) with: {'activation': 'selu', 'batch_size': 4, 'dropout_rate': 0.1, 'epochs': 2000, 'neurons': 10, 'optimizer': 'adam', 'verbose': 0}\n",
      "-0.217549 (0.027291) with: {'activation': 'selu', 'batch_size': 4, 'dropout_rate': 0.1, 'epochs': 2000, 'neurons': 10, 'optimizer': 'adamax', 'verbose': 0}\n",
      "-0.265314 (0.039919) with: {'activation': 'selu', 'batch_size': 4, 'dropout_rate': 0.1, 'epochs': 2000, 'neurons': 10, 'optimizer': 'rmsprop', 'verbose': 0}\n",
      "-0.200649 (0.047132) with: {'activation': 'selu', 'batch_size': 4, 'dropout_rate': 0.1, 'epochs': 2000, 'neurons': 10, 'optimizer': 'sgd', 'verbose': 0}\n",
      "-0.291196 (0.043435) with: {'activation': 'selu', 'batch_size': 4, 'dropout_rate': 0.15, 'epochs': 2000, 'neurons': 10, 'optimizer': 'adam', 'verbose': 0}\n",
      "-0.207462 (0.039770) with: {'activation': 'selu', 'batch_size': 4, 'dropout_rate': 0.15, 'epochs': 2000, 'neurons': 10, 'optimizer': 'adamax', 'verbose': 0}\n",
      "-0.272335 (0.043510) with: {'activation': 'selu', 'batch_size': 4, 'dropout_rate': 0.15, 'epochs': 2000, 'neurons': 10, 'optimizer': 'rmsprop', 'verbose': 0}\n",
      "-0.202347 (0.052352) with: {'activation': 'selu', 'batch_size': 4, 'dropout_rate': 0.15, 'epochs': 2000, 'neurons': 10, 'optimizer': 'sgd', 'verbose': 0}\n",
      "-0.362627 (0.128094) with: {'activation': 'selu', 'batch_size': 4, 'dropout_rate': 0.2, 'epochs': 2000, 'neurons': 10, 'optimizer': 'adam', 'verbose': 0}\n",
      "-0.208603 (0.040955) with: {'activation': 'selu', 'batch_size': 4, 'dropout_rate': 0.2, 'epochs': 2000, 'neurons': 10, 'optimizer': 'adamax', 'verbose': 0}\n",
      "-0.290037 (0.070739) with: {'activation': 'selu', 'batch_size': 4, 'dropout_rate': 0.2, 'epochs': 2000, 'neurons': 10, 'optimizer': 'rmsprop', 'verbose': 0}\n",
      "-0.200422 (0.050500) with: {'activation': 'selu', 'batch_size': 4, 'dropout_rate': 0.2, 'epochs': 2000, 'neurons': 10, 'optimizer': 'sgd', 'verbose': 0}\n",
      "-0.336098 (0.105244) with: {'activation': 'selu', 'batch_size': 4, 'dropout_rate': 0.25, 'epochs': 2000, 'neurons': 10, 'optimizer': 'adam', 'verbose': 0}\n",
      "-0.200037 (0.039593) with: {'activation': 'selu', 'batch_size': 4, 'dropout_rate': 0.25, 'epochs': 2000, 'neurons': 10, 'optimizer': 'adamax', 'verbose': 0}\n",
      "-0.246505 (0.019866) with: {'activation': 'selu', 'batch_size': 4, 'dropout_rate': 0.25, 'epochs': 2000, 'neurons': 10, 'optimizer': 'rmsprop', 'verbose': 0}\n",
      "-0.200233 (0.055500) with: {'activation': 'selu', 'batch_size': 4, 'dropout_rate': 0.25, 'epochs': 2000, 'neurons': 10, 'optimizer': 'sgd', 'verbose': 0}\n",
      "-0.237045 (0.003811) with: {'activation': 'selu', 'batch_size': 8, 'dropout_rate': 0.05, 'epochs': 2000, 'neurons': 10, 'optimizer': 'adam', 'verbose': 0}\n",
      "-0.218568 (0.039756) with: {'activation': 'selu', 'batch_size': 8, 'dropout_rate': 0.05, 'epochs': 2000, 'neurons': 10, 'optimizer': 'adamax', 'verbose': 0}\n",
      "-0.212114 (0.025791) with: {'activation': 'selu', 'batch_size': 8, 'dropout_rate': 0.05, 'epochs': 2000, 'neurons': 10, 'optimizer': 'rmsprop', 'verbose': 0}\n",
      "-0.204136 (0.051058) with: {'activation': 'selu', 'batch_size': 8, 'dropout_rate': 0.05, 'epochs': 2000, 'neurons': 10, 'optimizer': 'sgd', 'verbose': 0}\n",
      "-0.250659 (0.022134) with: {'activation': 'selu', 'batch_size': 8, 'dropout_rate': 0.1, 'epochs': 2000, 'neurons': 10, 'optimizer': 'adam', 'verbose': 0}\n",
      "-0.210995 (0.042965) with: {'activation': 'selu', 'batch_size': 8, 'dropout_rate': 0.1, 'epochs': 2000, 'neurons': 10, 'optimizer': 'adamax', 'verbose': 0}\n",
      "-0.230999 (0.019927) with: {'activation': 'selu', 'batch_size': 8, 'dropout_rate': 0.1, 'epochs': 2000, 'neurons': 10, 'optimizer': 'rmsprop', 'verbose': 0}\n",
      "-0.204950 (0.054841) with: {'activation': 'selu', 'batch_size': 8, 'dropout_rate': 0.1, 'epochs': 2000, 'neurons': 10, 'optimizer': 'sgd', 'verbose': 0}\n",
      "-0.252656 (0.046795) with: {'activation': 'selu', 'batch_size': 8, 'dropout_rate': 0.15, 'epochs': 2000, 'neurons': 10, 'optimizer': 'adam', 'verbose': 0}\n",
      "-0.200593 (0.038359) with: {'activation': 'selu', 'batch_size': 8, 'dropout_rate': 0.15, 'epochs': 2000, 'neurons': 10, 'optimizer': 'adamax', 'verbose': 0}\n",
      "-0.239692 (0.032115) with: {'activation': 'selu', 'batch_size': 8, 'dropout_rate': 0.15, 'epochs': 2000, 'neurons': 10, 'optimizer': 'rmsprop', 'verbose': 0}\n",
      "-0.205983 (0.051299) with: {'activation': 'selu', 'batch_size': 8, 'dropout_rate': 0.15, 'epochs': 2000, 'neurons': 10, 'optimizer': 'sgd', 'verbose': 0}\n",
      "-0.261995 (0.044051) with: {'activation': 'selu', 'batch_size': 8, 'dropout_rate': 0.2, 'epochs': 2000, 'neurons': 10, 'optimizer': 'adam', 'verbose': 0}\n",
      "-0.206636 (0.039344) with: {'activation': 'selu', 'batch_size': 8, 'dropout_rate': 0.2, 'epochs': 2000, 'neurons': 10, 'optimizer': 'adamax', 'verbose': 0}\n",
      "-0.283942 (0.068595) with: {'activation': 'selu', 'batch_size': 8, 'dropout_rate': 0.2, 'epochs': 2000, 'neurons': 10, 'optimizer': 'rmsprop', 'verbose': 0}\n",
      "-0.211607 (0.052286) with: {'activation': 'selu', 'batch_size': 8, 'dropout_rate': 0.2, 'epochs': 2000, 'neurons': 10, 'optimizer': 'sgd', 'verbose': 0}\n",
      "-0.239796 (0.019942) with: {'activation': 'selu', 'batch_size': 8, 'dropout_rate': 0.25, 'epochs': 2000, 'neurons': 10, 'optimizer': 'adam', 'verbose': 0}\n",
      "-0.202531 (0.042309) with: {'activation': 'selu', 'batch_size': 8, 'dropout_rate': 0.25, 'epochs': 2000, 'neurons': 10, 'optimizer': 'adamax', 'verbose': 0}\n",
      "-0.229315 (0.011753) with: {'activation': 'selu', 'batch_size': 8, 'dropout_rate': 0.25, 'epochs': 2000, 'neurons': 10, 'optimizer': 'rmsprop', 'verbose': 0}\n",
      "-0.209073 (0.057531) with: {'activation': 'selu', 'batch_size': 8, 'dropout_rate': 0.25, 'epochs': 2000, 'neurons': 10, 'optimizer': 'sgd', 'verbose': 0}\n",
      "-0.228943 (0.016241) with: {'activation': 'selu', 'batch_size': 16, 'dropout_rate': 0.05, 'epochs': 2000, 'neurons': 10, 'optimizer': 'adam', 'verbose': 0}\n",
      "-0.200722 (0.041820) with: {'activation': 'selu', 'batch_size': 16, 'dropout_rate': 0.05, 'epochs': 2000, 'neurons': 10, 'optimizer': 'adamax', 'verbose': 0}\n",
      "-0.227452 (0.010069) with: {'activation': 'selu', 'batch_size': 16, 'dropout_rate': 0.05, 'epochs': 2000, 'neurons': 10, 'optimizer': 'rmsprop', 'verbose': 0}\n",
      "-0.211731 (0.056524) with: {'activation': 'selu', 'batch_size': 16, 'dropout_rate': 0.05, 'epochs': 2000, 'neurons': 10, 'optimizer': 'sgd', 'verbose': 0}\n",
      "-0.219065 (0.027422) with: {'activation': 'selu', 'batch_size': 16, 'dropout_rate': 0.1, 'epochs': 2000, 'neurons': 10, 'optimizer': 'adam', 'verbose': 0}\n",
      "-0.196130 (0.046561) with: {'activation': 'selu', 'batch_size': 16, 'dropout_rate': 0.1, 'epochs': 2000, 'neurons': 10, 'optimizer': 'adamax', 'verbose': 0}\n",
      "-0.214855 (0.027215) with: {'activation': 'selu', 'batch_size': 16, 'dropout_rate': 0.1, 'epochs': 2000, 'neurons': 10, 'optimizer': 'rmsprop', 'verbose': 0}\n",
      "-0.215373 (0.058825) with: {'activation': 'selu', 'batch_size': 16, 'dropout_rate': 0.1, 'epochs': 2000, 'neurons': 10, 'optimizer': 'sgd', 'verbose': 0}\n",
      "-0.211521 (0.037320) with: {'activation': 'selu', 'batch_size': 16, 'dropout_rate': 0.15, 'epochs': 2000, 'neurons': 10, 'optimizer': 'adam', 'verbose': 0}\n",
      "-0.203928 (0.043028) with: {'activation': 'selu', 'batch_size': 16, 'dropout_rate': 0.15, 'epochs': 2000, 'neurons': 10, 'optimizer': 'adamax', 'verbose': 0}\n",
      "-0.217146 (0.029666) with: {'activation': 'selu', 'batch_size': 16, 'dropout_rate': 0.15, 'epochs': 2000, 'neurons': 10, 'optimizer': 'rmsprop', 'verbose': 0}\n",
      "-0.216680 (0.061155) with: {'activation': 'selu', 'batch_size': 16, 'dropout_rate': 0.15, 'epochs': 2000, 'neurons': 10, 'optimizer': 'sgd', 'verbose': 0}\n",
      "-0.213940 (0.032857) with: {'activation': 'selu', 'batch_size': 16, 'dropout_rate': 0.2, 'epochs': 2000, 'neurons': 10, 'optimizer': 'adam', 'verbose': 0}\n",
      "-0.203903 (0.046500) with: {'activation': 'selu', 'batch_size': 16, 'dropout_rate': 0.2, 'epochs': 2000, 'neurons': 10, 'optimizer': 'adamax', 'verbose': 0}\n",
      "-0.229962 (0.033202) with: {'activation': 'selu', 'batch_size': 16, 'dropout_rate': 0.2, 'epochs': 2000, 'neurons': 10, 'optimizer': 'rmsprop', 'verbose': 0}\n",
      "-0.210822 (0.053307) with: {'activation': 'selu', 'batch_size': 16, 'dropout_rate': 0.2, 'epochs': 2000, 'neurons': 10, 'optimizer': 'sgd', 'verbose': 0}\n",
      "-0.213660 (0.034794) with: {'activation': 'selu', 'batch_size': 16, 'dropout_rate': 0.25, 'epochs': 2000, 'neurons': 10, 'optimizer': 'adam', 'verbose': 0}\n",
      "-0.201811 (0.048779) with: {'activation': 'selu', 'batch_size': 16, 'dropout_rate': 0.25, 'epochs': 2000, 'neurons': 10, 'optimizer': 'adamax', 'verbose': 0}\n",
      "-0.216760 (0.022536) with: {'activation': 'selu', 'batch_size': 16, 'dropout_rate': 0.25, 'epochs': 2000, 'neurons': 10, 'optimizer': 'rmsprop', 'verbose': 0}\n",
      "-0.211671 (0.054764) with: {'activation': 'selu', 'batch_size': 16, 'dropout_rate': 0.25, 'epochs': 2000, 'neurons': 10, 'optimizer': 'sgd', 'verbose': 0}\n",
      "-0.203197 (0.038098) with: {'activation': 'selu', 'batch_size': 32, 'dropout_rate': 0.05, 'epochs': 2000, 'neurons': 10, 'optimizer': 'adam', 'verbose': 0}\n",
      "-0.198329 (0.048222) with: {'activation': 'selu', 'batch_size': 32, 'dropout_rate': 0.05, 'epochs': 2000, 'neurons': 10, 'optimizer': 'adamax', 'verbose': 0}\n",
      "-0.215942 (0.027747) with: {'activation': 'selu', 'batch_size': 32, 'dropout_rate': 0.05, 'epochs': 2000, 'neurons': 10, 'optimizer': 'rmsprop', 'verbose': 0}\n",
      "-0.217854 (0.061996) with: {'activation': 'selu', 'batch_size': 32, 'dropout_rate': 0.05, 'epochs': 2000, 'neurons': 10, 'optimizer': 'sgd', 'verbose': 0}\n",
      "-0.212302 (0.034308) with: {'activation': 'selu', 'batch_size': 32, 'dropout_rate': 0.1, 'epochs': 2000, 'neurons': 10, 'optimizer': 'adam', 'verbose': 0}\n",
      "-0.201215 (0.045826) with: {'activation': 'selu', 'batch_size': 32, 'dropout_rate': 0.1, 'epochs': 2000, 'neurons': 10, 'optimizer': 'adamax', 'verbose': 0}\n",
      "-0.209126 (0.037569) with: {'activation': 'selu', 'batch_size': 32, 'dropout_rate': 0.1, 'epochs': 2000, 'neurons': 10, 'optimizer': 'rmsprop', 'verbose': 0}\n",
      "-0.224240 (0.067212) with: {'activation': 'selu', 'batch_size': 32, 'dropout_rate': 0.1, 'epochs': 2000, 'neurons': 10, 'optimizer': 'sgd', 'verbose': 0}\n",
      "-0.209195 (0.037912) with: {'activation': 'selu', 'batch_size': 32, 'dropout_rate': 0.15, 'epochs': 2000, 'neurons': 10, 'optimizer': 'adam', 'verbose': 0}\n",
      "-0.198553 (0.046198) with: {'activation': 'selu', 'batch_size': 32, 'dropout_rate': 0.15, 'epochs': 2000, 'neurons': 10, 'optimizer': 'adamax', 'verbose': 0}\n",
      "-0.213134 (0.041574) with: {'activation': 'selu', 'batch_size': 32, 'dropout_rate': 0.15, 'epochs': 2000, 'neurons': 10, 'optimizer': 'rmsprop', 'verbose': 0}\n",
      "-0.223105 (0.062532) with: {'activation': 'selu', 'batch_size': 32, 'dropout_rate': 0.15, 'epochs': 2000, 'neurons': 10, 'optimizer': 'sgd', 'verbose': 0}\n",
      "-0.204787 (0.040848) with: {'activation': 'selu', 'batch_size': 32, 'dropout_rate': 0.2, 'epochs': 2000, 'neurons': 10, 'optimizer': 'adam', 'verbose': 0}\n",
      "-0.220122 (0.063156) with: {'activation': 'selu', 'batch_size': 32, 'dropout_rate': 0.2, 'epochs': 2000, 'neurons': 10, 'optimizer': 'adamax', 'verbose': 0}\n",
      "-0.217607 (0.025887) with: {'activation': 'selu', 'batch_size': 32, 'dropout_rate': 0.2, 'epochs': 2000, 'neurons': 10, 'optimizer': 'rmsprop', 'verbose': 0}\n",
      "-0.219499 (0.053878) with: {'activation': 'selu', 'batch_size': 32, 'dropout_rate': 0.2, 'epochs': 2000, 'neurons': 10, 'optimizer': 'sgd', 'verbose': 0}\n",
      "-0.203235 (0.045279) with: {'activation': 'selu', 'batch_size': 32, 'dropout_rate': 0.25, 'epochs': 2000, 'neurons': 10, 'optimizer': 'adam', 'verbose': 0}\n",
      "-0.210421 (0.058260) with: {'activation': 'selu', 'batch_size': 32, 'dropout_rate': 0.25, 'epochs': 2000, 'neurons': 10, 'optimizer': 'adamax', 'verbose': 0}\n",
      "-0.204669 (0.037674) with: {'activation': 'selu', 'batch_size': 32, 'dropout_rate': 0.25, 'epochs': 2000, 'neurons': 10, 'optimizer': 'rmsprop', 'verbose': 0}\n",
      "-0.221785 (0.050559) with: {'activation': 'selu', 'batch_size': 32, 'dropout_rate': 0.25, 'epochs': 2000, 'neurons': 10, 'optimizer': 'sgd', 'verbose': 0}\n",
      "-0.218983 (0.033969) with: {'activation': 'selu', 'batch_size': 64, 'dropout_rate': 0.05, 'epochs': 2000, 'neurons': 10, 'optimizer': 'adam', 'verbose': 0}\n",
      "-0.204022 (0.051953) with: {'activation': 'selu', 'batch_size': 64, 'dropout_rate': 0.05, 'epochs': 2000, 'neurons': 10, 'optimizer': 'adamax', 'verbose': 0}\n",
      "-0.201998 (0.043228) with: {'activation': 'selu', 'batch_size': 64, 'dropout_rate': 0.05, 'epochs': 2000, 'neurons': 10, 'optimizer': 'rmsprop', 'verbose': 0}\n",
      "-0.221075 (0.062773) with: {'activation': 'selu', 'batch_size': 64, 'dropout_rate': 0.05, 'epochs': 2000, 'neurons': 10, 'optimizer': 'sgd', 'verbose': 0}\n",
      "-0.204007 (0.041531) with: {'activation': 'selu', 'batch_size': 64, 'dropout_rate': 0.1, 'epochs': 2000, 'neurons': 10, 'optimizer': 'adam', 'verbose': 0}\n",
      "-0.207093 (0.056975) with: {'activation': 'selu', 'batch_size': 64, 'dropout_rate': 0.1, 'epochs': 2000, 'neurons': 10, 'optimizer': 'adamax', 'verbose': 0}\n",
      "-0.209536 (0.034664) with: {'activation': 'selu', 'batch_size': 64, 'dropout_rate': 0.1, 'epochs': 2000, 'neurons': 10, 'optimizer': 'rmsprop', 'verbose': 0}\n",
      "-0.225538 (0.068448) with: {'activation': 'selu', 'batch_size': 64, 'dropout_rate': 0.1, 'epochs': 2000, 'neurons': 10, 'optimizer': 'sgd', 'verbose': 0}\n",
      "-0.211855 (0.056458) with: {'activation': 'selu', 'batch_size': 64, 'dropout_rate': 0.15, 'epochs': 2000, 'neurons': 10, 'optimizer': 'adam', 'verbose': 0}\n",
      "-0.202245 (0.049988) with: {'activation': 'selu', 'batch_size': 64, 'dropout_rate': 0.15, 'epochs': 2000, 'neurons': 10, 'optimizer': 'adamax', 'verbose': 0}\n",
      "-0.206675 (0.038961) with: {'activation': 'selu', 'batch_size': 64, 'dropout_rate': 0.15, 'epochs': 2000, 'neurons': 10, 'optimizer': 'rmsprop', 'verbose': 0}\n",
      "-0.226203 (0.052945) with: {'activation': 'selu', 'batch_size': 64, 'dropout_rate': 0.15, 'epochs': 2000, 'neurons': 10, 'optimizer': 'sgd', 'verbose': 0}\n",
      "-0.211442 (0.057743) with: {'activation': 'selu', 'batch_size': 64, 'dropout_rate': 0.2, 'epochs': 2000, 'neurons': 10, 'optimizer': 'adam', 'verbose': 0}\n",
      "-0.216964 (0.064222) with: {'activation': 'selu', 'batch_size': 64, 'dropout_rate': 0.2, 'epochs': 2000, 'neurons': 10, 'optimizer': 'adamax', 'verbose': 0}\n",
      "-0.204395 (0.040234) with: {'activation': 'selu', 'batch_size': 64, 'dropout_rate': 0.2, 'epochs': 2000, 'neurons': 10, 'optimizer': 'rmsprop', 'verbose': 0}\n",
      "-0.225900 (0.060458) with: {'activation': 'selu', 'batch_size': 64, 'dropout_rate': 0.2, 'epochs': 2000, 'neurons': 10, 'optimizer': 'sgd', 'verbose': 0}\n",
      "-0.208094 (0.049224) with: {'activation': 'selu', 'batch_size': 64, 'dropout_rate': 0.25, 'epochs': 2000, 'neurons': 10, 'optimizer': 'adam', 'verbose': 0}\n",
      "-0.218947 (0.065192) with: {'activation': 'selu', 'batch_size': 64, 'dropout_rate': 0.25, 'epochs': 2000, 'neurons': 10, 'optimizer': 'adamax', 'verbose': 0}\n",
      "-0.204083 (0.042078) with: {'activation': 'selu', 'batch_size': 64, 'dropout_rate': 0.25, 'epochs': 2000, 'neurons': 10, 'optimizer': 'rmsprop', 'verbose': 0}\n",
      "-0.223747 (0.058208) with: {'activation': 'selu', 'batch_size': 64, 'dropout_rate': 0.25, 'epochs': 2000, 'neurons': 10, 'optimizer': 'sgd', 'verbose': 0}\n",
      "-0.255056 (0.035114) with: {'activation': 'elu', 'batch_size': 4, 'dropout_rate': 0.05, 'epochs': 2000, 'neurons': 10, 'optimizer': 'adam', 'verbose': 0}\n",
      "-0.207257 (0.032175) with: {'activation': 'elu', 'batch_size': 4, 'dropout_rate': 0.05, 'epochs': 2000, 'neurons': 10, 'optimizer': 'adamax', 'verbose': 0}\n",
      "-0.236686 (0.029050) with: {'activation': 'elu', 'batch_size': 4, 'dropout_rate': 0.05, 'epochs': 2000, 'neurons': 10, 'optimizer': 'rmsprop', 'verbose': 0}\n",
      "-0.206403 (0.046395) with: {'activation': 'elu', 'batch_size': 4, 'dropout_rate': 0.05, 'epochs': 2000, 'neurons': 10, 'optimizer': 'sgd', 'verbose': 0}\n",
      "-0.279048 (0.041324) with: {'activation': 'elu', 'batch_size': 4, 'dropout_rate': 0.1, 'epochs': 2000, 'neurons': 10, 'optimizer': 'adam', 'verbose': 0}\n",
      "-0.205571 (0.034128) with: {'activation': 'elu', 'batch_size': 4, 'dropout_rate': 0.1, 'epochs': 2000, 'neurons': 10, 'optimizer': 'adamax', 'verbose': 0}\n",
      "-0.365495 (0.161011) with: {'activation': 'elu', 'batch_size': 4, 'dropout_rate': 0.1, 'epochs': 2000, 'neurons': 10, 'optimizer': 'rmsprop', 'verbose': 0}\n",
      "-0.207990 (0.046505) with: {'activation': 'elu', 'batch_size': 4, 'dropout_rate': 0.1, 'epochs': 2000, 'neurons': 10, 'optimizer': 'sgd', 'verbose': 0}\n",
      "-0.279523 (0.042626) with: {'activation': 'elu', 'batch_size': 4, 'dropout_rate': 0.15, 'epochs': 2000, 'neurons': 10, 'optimizer': 'adam', 'verbose': 0}\n",
      "-0.203575 (0.034045) with: {'activation': 'elu', 'batch_size': 4, 'dropout_rate': 0.15, 'epochs': 2000, 'neurons': 10, 'optimizer': 'adamax', 'verbose': 0}\n",
      "-0.232018 (0.016025) with: {'activation': 'elu', 'batch_size': 4, 'dropout_rate': 0.15, 'epochs': 2000, 'neurons': 10, 'optimizer': 'rmsprop', 'verbose': 0}\n",
      "-0.210181 (0.050357) with: {'activation': 'elu', 'batch_size': 4, 'dropout_rate': 0.15, 'epochs': 2000, 'neurons': 10, 'optimizer': 'sgd', 'verbose': 0}\n",
      "-0.254255 (0.015523) with: {'activation': 'elu', 'batch_size': 4, 'dropout_rate': 0.2, 'epochs': 2000, 'neurons': 10, 'optimizer': 'adam', 'verbose': 0}\n",
      "-0.202534 (0.037960) with: {'activation': 'elu', 'batch_size': 4, 'dropout_rate': 0.2, 'epochs': 2000, 'neurons': 10, 'optimizer': 'adamax', 'verbose': 0}\n",
      "-0.227807 (0.024463) with: {'activation': 'elu', 'batch_size': 4, 'dropout_rate': 0.2, 'epochs': 2000, 'neurons': 10, 'optimizer': 'rmsprop', 'verbose': 0}\n",
      "-0.203631 (0.052367) with: {'activation': 'elu', 'batch_size': 4, 'dropout_rate': 0.2, 'epochs': 2000, 'neurons': 10, 'optimizer': 'sgd', 'verbose': 0}\n",
      "-0.262371 (0.033989) with: {'activation': 'elu', 'batch_size': 4, 'dropout_rate': 0.25, 'epochs': 2000, 'neurons': 10, 'optimizer': 'adam', 'verbose': 0}\n",
      "-0.202501 (0.038791) with: {'activation': 'elu', 'batch_size': 4, 'dropout_rate': 0.25, 'epochs': 2000, 'neurons': 10, 'optimizer': 'adamax', 'verbose': 0}\n",
      "-0.236590 (0.033308) with: {'activation': 'elu', 'batch_size': 4, 'dropout_rate': 0.25, 'epochs': 2000, 'neurons': 10, 'optimizer': 'rmsprop', 'verbose': 0}\n",
      "-0.202591 (0.051648) with: {'activation': 'elu', 'batch_size': 4, 'dropout_rate': 0.25, 'epochs': 2000, 'neurons': 10, 'optimizer': 'sgd', 'verbose': 0}\n",
      "-0.224926 (0.016332) with: {'activation': 'elu', 'batch_size': 8, 'dropout_rate': 0.05, 'epochs': 2000, 'neurons': 10, 'optimizer': 'adam', 'verbose': 0}\n",
      "-0.202792 (0.035416) with: {'activation': 'elu', 'batch_size': 8, 'dropout_rate': 0.05, 'epochs': 2000, 'neurons': 10, 'optimizer': 'adamax', 'verbose': 0}\n",
      "-0.210506 (0.026843) with: {'activation': 'elu', 'batch_size': 8, 'dropout_rate': 0.05, 'epochs': 2000, 'neurons': 10, 'optimizer': 'rmsprop', 'verbose': 0}\n",
      "-0.201326 (0.049274) with: {'activation': 'elu', 'batch_size': 8, 'dropout_rate': 0.05, 'epochs': 2000, 'neurons': 10, 'optimizer': 'sgd', 'verbose': 0}\n",
      "-0.227615 (0.023454) with: {'activation': 'elu', 'batch_size': 8, 'dropout_rate': 0.1, 'epochs': 2000, 'neurons': 10, 'optimizer': 'adam', 'verbose': 0}\n",
      "-0.201737 (0.037931) with: {'activation': 'elu', 'batch_size': 8, 'dropout_rate': 0.1, 'epochs': 2000, 'neurons': 10, 'optimizer': 'adamax', 'verbose': 0}\n",
      "-0.215928 (0.026081) with: {'activation': 'elu', 'batch_size': 8, 'dropout_rate': 0.1, 'epochs': 2000, 'neurons': 10, 'optimizer': 'rmsprop', 'verbose': 0}\n",
      "-0.211775 (0.056699) with: {'activation': 'elu', 'batch_size': 8, 'dropout_rate': 0.1, 'epochs': 2000, 'neurons': 10, 'optimizer': 'sgd', 'verbose': 0}\n",
      "-0.225895 (0.028669) with: {'activation': 'elu', 'batch_size': 8, 'dropout_rate': 0.15, 'epochs': 2000, 'neurons': 10, 'optimizer': 'adam', 'verbose': 0}\n",
      "-0.203369 (0.040022) with: {'activation': 'elu', 'batch_size': 8, 'dropout_rate': 0.15, 'epochs': 2000, 'neurons': 10, 'optimizer': 'adamax', 'verbose': 0}\n",
      "-0.229236 (0.026697) with: {'activation': 'elu', 'batch_size': 8, 'dropout_rate': 0.15, 'epochs': 2000, 'neurons': 10, 'optimizer': 'rmsprop', 'verbose': 0}\n",
      "-0.209918 (0.054299) with: {'activation': 'elu', 'batch_size': 8, 'dropout_rate': 0.15, 'epochs': 2000, 'neurons': 10, 'optimizer': 'sgd', 'verbose': 0}\n",
      "-0.227496 (0.021562) with: {'activation': 'elu', 'batch_size': 8, 'dropout_rate': 0.2, 'epochs': 2000, 'neurons': 10, 'optimizer': 'adam', 'verbose': 0}\n",
      "-0.199767 (0.040964) with: {'activation': 'elu', 'batch_size': 8, 'dropout_rate': 0.2, 'epochs': 2000, 'neurons': 10, 'optimizer': 'adamax', 'verbose': 0}\n",
      "-0.211812 (0.028972) with: {'activation': 'elu', 'batch_size': 8, 'dropout_rate': 0.2, 'epochs': 2000, 'neurons': 10, 'optimizer': 'rmsprop', 'verbose': 0}\n",
      "-0.218206 (0.060648) with: {'activation': 'elu', 'batch_size': 8, 'dropout_rate': 0.2, 'epochs': 2000, 'neurons': 10, 'optimizer': 'sgd', 'verbose': 0}\n",
      "-0.232282 (0.025517) with: {'activation': 'elu', 'batch_size': 8, 'dropout_rate': 0.25, 'epochs': 2000, 'neurons': 10, 'optimizer': 'adam', 'verbose': 0}\n",
      "-0.199711 (0.041133) with: {'activation': 'elu', 'batch_size': 8, 'dropout_rate': 0.25, 'epochs': 2000, 'neurons': 10, 'optimizer': 'adamax', 'verbose': 0}\n",
      "-0.220816 (0.023735) with: {'activation': 'elu', 'batch_size': 8, 'dropout_rate': 0.25, 'epochs': 2000, 'neurons': 10, 'optimizer': 'rmsprop', 'verbose': 0}\n",
      "-0.213324 (0.056456) with: {'activation': 'elu', 'batch_size': 8, 'dropout_rate': 0.25, 'epochs': 2000, 'neurons': 10, 'optimizer': 'sgd', 'verbose': 0}\n",
      "-0.213349 (0.028425) with: {'activation': 'elu', 'batch_size': 16, 'dropout_rate': 0.05, 'epochs': 2000, 'neurons': 10, 'optimizer': 'adam', 'verbose': 0}\n",
      "-0.212508 (0.050105) with: {'activation': 'elu', 'batch_size': 16, 'dropout_rate': 0.05, 'epochs': 2000, 'neurons': 10, 'optimizer': 'adamax', 'verbose': 0}\n",
      "-0.212798 (0.025421) with: {'activation': 'elu', 'batch_size': 16, 'dropout_rate': 0.05, 'epochs': 2000, 'neurons': 10, 'optimizer': 'rmsprop', 'verbose': 0}\n",
      "-0.220698 (0.065082) with: {'activation': 'elu', 'batch_size': 16, 'dropout_rate': 0.05, 'epochs': 2000, 'neurons': 10, 'optimizer': 'sgd', 'verbose': 0}\n",
      "-0.211467 (0.028411) with: {'activation': 'elu', 'batch_size': 16, 'dropout_rate': 0.1, 'epochs': 2000, 'neurons': 10, 'optimizer': 'adam', 'verbose': 0}\n",
      "-0.205673 (0.048224) with: {'activation': 'elu', 'batch_size': 16, 'dropout_rate': 0.1, 'epochs': 2000, 'neurons': 10, 'optimizer': 'adamax', 'verbose': 0}\n",
      "-0.208203 (0.030842) with: {'activation': 'elu', 'batch_size': 16, 'dropout_rate': 0.1, 'epochs': 2000, 'neurons': 10, 'optimizer': 'rmsprop', 'verbose': 0}\n",
      "-0.227198 (0.061014) with: {'activation': 'elu', 'batch_size': 16, 'dropout_rate': 0.1, 'epochs': 2000, 'neurons': 10, 'optimizer': 'sgd', 'verbose': 0}\n",
      "-0.212499 (0.028371) with: {'activation': 'elu', 'batch_size': 16, 'dropout_rate': 0.15, 'epochs': 2000, 'neurons': 10, 'optimizer': 'adam', 'verbose': 0}\n",
      "-0.200920 (0.044314) with: {'activation': 'elu', 'batch_size': 16, 'dropout_rate': 0.15, 'epochs': 2000, 'neurons': 10, 'optimizer': 'adamax', 'verbose': 0}\n",
      "-0.210121 (0.027175) with: {'activation': 'elu', 'batch_size': 16, 'dropout_rate': 0.15, 'epochs': 2000, 'neurons': 10, 'optimizer': 'rmsprop', 'verbose': 0}\n",
      "-0.229205 (0.066776) with: {'activation': 'elu', 'batch_size': 16, 'dropout_rate': 0.15, 'epochs': 2000, 'neurons': 10, 'optimizer': 'sgd', 'verbose': 0}\n",
      "-0.212923 (0.027870) with: {'activation': 'elu', 'batch_size': 16, 'dropout_rate': 0.2, 'epochs': 2000, 'neurons': 10, 'optimizer': 'adam', 'verbose': 0}\n",
      "-0.199441 (0.043765) with: {'activation': 'elu', 'batch_size': 16, 'dropout_rate': 0.2, 'epochs': 2000, 'neurons': 10, 'optimizer': 'adamax', 'verbose': 0}\n",
      "-0.208163 (0.032322) with: {'activation': 'elu', 'batch_size': 16, 'dropout_rate': 0.2, 'epochs': 2000, 'neurons': 10, 'optimizer': 'rmsprop', 'verbose': 0}\n",
      "-0.231998 (0.067831) with: {'activation': 'elu', 'batch_size': 16, 'dropout_rate': 0.2, 'epochs': 2000, 'neurons': 10, 'optimizer': 'sgd', 'verbose': 0}\n",
      "-0.218439 (0.019684) with: {'activation': 'elu', 'batch_size': 16, 'dropout_rate': 0.25, 'epochs': 2000, 'neurons': 10, 'optimizer': 'adam', 'verbose': 0}\n",
      "-0.203694 (0.046212) with: {'activation': 'elu', 'batch_size': 16, 'dropout_rate': 0.25, 'epochs': 2000, 'neurons': 10, 'optimizer': 'adamax', 'verbose': 0}\n",
      "-0.208434 (0.031460) with: {'activation': 'elu', 'batch_size': 16, 'dropout_rate': 0.25, 'epochs': 2000, 'neurons': 10, 'optimizer': 'rmsprop', 'verbose': 0}\n",
      "-0.233430 (0.069771) with: {'activation': 'elu', 'batch_size': 16, 'dropout_rate': 0.25, 'epochs': 2000, 'neurons': 10, 'optimizer': 'sgd', 'verbose': 0}\n",
      "-0.207152 (0.036158) with: {'activation': 'elu', 'batch_size': 32, 'dropout_rate': 0.05, 'epochs': 2000, 'neurons': 10, 'optimizer': 'adam', 'verbose': 0}\n",
      "-0.202480 (0.051696) with: {'activation': 'elu', 'batch_size': 32, 'dropout_rate': 0.05, 'epochs': 2000, 'neurons': 10, 'optimizer': 'adamax', 'verbose': 0}\n",
      "-0.205862 (0.033989) with: {'activation': 'elu', 'batch_size': 32, 'dropout_rate': 0.05, 'epochs': 2000, 'neurons': 10, 'optimizer': 'rmsprop', 'verbose': 0}\n",
      "-0.239395 (0.064007) with: {'activation': 'elu', 'batch_size': 32, 'dropout_rate': 0.05, 'epochs': 2000, 'neurons': 10, 'optimizer': 'sgd', 'verbose': 0}\n",
      "-0.205117 (0.034706) with: {'activation': 'elu', 'batch_size': 32, 'dropout_rate': 0.1, 'epochs': 2000, 'neurons': 10, 'optimizer': 'adam', 'verbose': 0}\n",
      "-0.210386 (0.057377) with: {'activation': 'elu', 'batch_size': 32, 'dropout_rate': 0.1, 'epochs': 2000, 'neurons': 10, 'optimizer': 'adamax', 'verbose': 0}\n",
      "-0.203813 (0.033676) with: {'activation': 'elu', 'batch_size': 32, 'dropout_rate': 0.1, 'epochs': 2000, 'neurons': 10, 'optimizer': 'rmsprop', 'verbose': 0}\n",
      "-0.237946 (0.058840) with: {'activation': 'elu', 'batch_size': 32, 'dropout_rate': 0.1, 'epochs': 2000, 'neurons': 10, 'optimizer': 'sgd', 'verbose': 0}\n",
      "-0.205267 (0.040282) with: {'activation': 'elu', 'batch_size': 32, 'dropout_rate': 0.15, 'epochs': 2000, 'neurons': 10, 'optimizer': 'adam', 'verbose': 0}\n",
      "-0.205352 (0.052137) with: {'activation': 'elu', 'batch_size': 32, 'dropout_rate': 0.15, 'epochs': 2000, 'neurons': 10, 'optimizer': 'adamax', 'verbose': 0}\n",
      "-0.205346 (0.035098) with: {'activation': 'elu', 'batch_size': 32, 'dropout_rate': 0.15, 'epochs': 2000, 'neurons': 10, 'optimizer': 'rmsprop', 'verbose': 0}\n",
      "-0.244098 (0.066626) with: {'activation': 'elu', 'batch_size': 32, 'dropout_rate': 0.15, 'epochs': 2000, 'neurons': 10, 'optimizer': 'sgd', 'verbose': 0}\n",
      "-0.204634 (0.038001) with: {'activation': 'elu', 'batch_size': 32, 'dropout_rate': 0.2, 'epochs': 2000, 'neurons': 10, 'optimizer': 'adam', 'verbose': 0}\n",
      "-0.213193 (0.059560) with: {'activation': 'elu', 'batch_size': 32, 'dropout_rate': 0.2, 'epochs': 2000, 'neurons': 10, 'optimizer': 'adamax', 'verbose': 0}\n",
      "-0.205779 (0.038390) with: {'activation': 'elu', 'batch_size': 32, 'dropout_rate': 0.2, 'epochs': 2000, 'neurons': 10, 'optimizer': 'rmsprop', 'verbose': 0}\n",
      "-0.241341 (0.065918) with: {'activation': 'elu', 'batch_size': 32, 'dropout_rate': 0.2, 'epochs': 2000, 'neurons': 10, 'optimizer': 'sgd', 'verbose': 0}\n",
      "-0.202148 (0.037790) with: {'activation': 'elu', 'batch_size': 32, 'dropout_rate': 0.25, 'epochs': 2000, 'neurons': 10, 'optimizer': 'adam', 'verbose': 0}\n",
      "-0.217322 (0.061959) with: {'activation': 'elu', 'batch_size': 32, 'dropout_rate': 0.25, 'epochs': 2000, 'neurons': 10, 'optimizer': 'adamax', 'verbose': 0}\n",
      "-0.202649 (0.038353) with: {'activation': 'elu', 'batch_size': 32, 'dropout_rate': 0.25, 'epochs': 2000, 'neurons': 10, 'optimizer': 'rmsprop', 'verbose': 0}\n",
      "-0.248694 (0.060707) with: {'activation': 'elu', 'batch_size': 32, 'dropout_rate': 0.25, 'epochs': 2000, 'neurons': 10, 'optimizer': 'sgd', 'verbose': 0}\n",
      "-0.203696 (0.035315) with: {'activation': 'elu', 'batch_size': 64, 'dropout_rate': 0.05, 'epochs': 2000, 'neurons': 10, 'optimizer': 'adam', 'verbose': 0}\n",
      "-0.204385 (0.053301) with: {'activation': 'elu', 'batch_size': 64, 'dropout_rate': 0.05, 'epochs': 2000, 'neurons': 10, 'optimizer': 'adamax', 'verbose': 0}\n",
      "-0.201982 (0.038426) with: {'activation': 'elu', 'batch_size': 64, 'dropout_rate': 0.05, 'epochs': 2000, 'neurons': 10, 'optimizer': 'rmsprop', 'verbose': 0}\n",
      "-0.239498 (0.061001) with: {'activation': 'elu', 'batch_size': 64, 'dropout_rate': 0.05, 'epochs': 2000, 'neurons': 10, 'optimizer': 'sgd', 'verbose': 0}\n",
      "-0.205350 (0.040093) with: {'activation': 'elu', 'batch_size': 64, 'dropout_rate': 0.1, 'epochs': 2000, 'neurons': 10, 'optimizer': 'adam', 'verbose': 0}\n",
      "-0.211901 (0.059699) with: {'activation': 'elu', 'batch_size': 64, 'dropout_rate': 0.1, 'epochs': 2000, 'neurons': 10, 'optimizer': 'adamax', 'verbose': 0}\n",
      "-0.195122 (0.043597) with: {'activation': 'elu', 'batch_size': 64, 'dropout_rate': 0.1, 'epochs': 2000, 'neurons': 10, 'optimizer': 'rmsprop', 'verbose': 0}\n",
      "-0.244695 (0.066044) with: {'activation': 'elu', 'batch_size': 64, 'dropout_rate': 0.1, 'epochs': 2000, 'neurons': 10, 'optimizer': 'sgd', 'verbose': 0}\n",
      "-0.208411 (0.046179) with: {'activation': 'elu', 'batch_size': 64, 'dropout_rate': 0.15, 'epochs': 2000, 'neurons': 10, 'optimizer': 'adam', 'verbose': 0}\n",
      "-0.212560 (0.060397) with: {'activation': 'elu', 'batch_size': 64, 'dropout_rate': 0.15, 'epochs': 2000, 'neurons': 10, 'optimizer': 'adamax', 'verbose': 0}\n",
      "-0.204570 (0.039907) with: {'activation': 'elu', 'batch_size': 64, 'dropout_rate': 0.15, 'epochs': 2000, 'neurons': 10, 'optimizer': 'rmsprop', 'verbose': 0}\n",
      "-0.244016 (0.063708) with: {'activation': 'elu', 'batch_size': 64, 'dropout_rate': 0.15, 'epochs': 2000, 'neurons': 10, 'optimizer': 'sgd', 'verbose': 0}\n",
      "-0.203629 (0.042078) with: {'activation': 'elu', 'batch_size': 64, 'dropout_rate': 0.2, 'epochs': 2000, 'neurons': 10, 'optimizer': 'adam', 'verbose': 0}\n",
      "-0.215986 (0.061208) with: {'activation': 'elu', 'batch_size': 64, 'dropout_rate': 0.2, 'epochs': 2000, 'neurons': 10, 'optimizer': 'adamax', 'verbose': 0}\n",
      "-0.203232 (0.038609) with: {'activation': 'elu', 'batch_size': 64, 'dropout_rate': 0.2, 'epochs': 2000, 'neurons': 10, 'optimizer': 'rmsprop', 'verbose': 0}\n",
      "-0.244961 (0.065607) with: {'activation': 'elu', 'batch_size': 64, 'dropout_rate': 0.2, 'epochs': 2000, 'neurons': 10, 'optimizer': 'sgd', 'verbose': 0}\n",
      "-0.214631 (0.055373) with: {'activation': 'elu', 'batch_size': 64, 'dropout_rate': 0.25, 'epochs': 2000, 'neurons': 10, 'optimizer': 'adam', 'verbose': 0}\n",
      "-0.219690 (0.063218) with: {'activation': 'elu', 'batch_size': 64, 'dropout_rate': 0.25, 'epochs': 2000, 'neurons': 10, 'optimizer': 'adamax', 'verbose': 0}\n",
      "-0.203922 (0.040199) with: {'activation': 'elu', 'batch_size': 64, 'dropout_rate': 0.25, 'epochs': 2000, 'neurons': 10, 'optimizer': 'rmsprop', 'verbose': 0}\n",
      "-0.242408 (0.063173) with: {'activation': 'elu', 'batch_size': 64, 'dropout_rate': 0.25, 'epochs': 2000, 'neurons': 10, 'optimizer': 'sgd', 'verbose': 0}\n",
      "-0.298840 (0.007157) with: {'activation': 'softplus', 'batch_size': 4, 'dropout_rate': 0.05, 'epochs': 2000, 'neurons': 10, 'optimizer': 'adam', 'verbose': 0}\n",
      "-0.211500 (0.038425) with: {'activation': 'softplus', 'batch_size': 4, 'dropout_rate': 0.05, 'epochs': 2000, 'neurons': 10, 'optimizer': 'adamax', 'verbose': 0}\n",
      "-0.244983 (0.030596) with: {'activation': 'softplus', 'batch_size': 4, 'dropout_rate': 0.05, 'epochs': 2000, 'neurons': 10, 'optimizer': 'rmsprop', 'verbose': 0}\n",
      "-0.215176 (0.058566) with: {'activation': 'softplus', 'batch_size': 4, 'dropout_rate': 0.05, 'epochs': 2000, 'neurons': 10, 'optimizer': 'sgd', 'verbose': 0}\n",
      "-0.294229 (0.010098) with: {'activation': 'softplus', 'batch_size': 4, 'dropout_rate': 0.1, 'epochs': 2000, 'neurons': 10, 'optimizer': 'adam', 'verbose': 0}\n",
      "-0.209942 (0.037235) with: {'activation': 'softplus', 'batch_size': 4, 'dropout_rate': 0.1, 'epochs': 2000, 'neurons': 10, 'optimizer': 'adamax', 'verbose': 0}\n",
      "-0.238452 (0.037392) with: {'activation': 'softplus', 'batch_size': 4, 'dropout_rate': 0.1, 'epochs': 2000, 'neurons': 10, 'optimizer': 'rmsprop', 'verbose': 0}\n",
      "-0.249655 (0.079285) with: {'activation': 'softplus', 'batch_size': 4, 'dropout_rate': 0.1, 'epochs': 2000, 'neurons': 10, 'optimizer': 'sgd', 'verbose': 0}\n",
      "-0.279758 (0.018343) with: {'activation': 'softplus', 'batch_size': 4, 'dropout_rate': 0.15, 'epochs': 2000, 'neurons': 10, 'optimizer': 'adam', 'verbose': 0}\n",
      "-0.216733 (0.044624) with: {'activation': 'softplus', 'batch_size': 4, 'dropout_rate': 0.15, 'epochs': 2000, 'neurons': 10, 'optimizer': 'adamax', 'verbose': 0}\n",
      "-0.233565 (0.040373) with: {'activation': 'softplus', 'batch_size': 4, 'dropout_rate': 0.15, 'epochs': 2000, 'neurons': 10, 'optimizer': 'rmsprop', 'verbose': 0}\n",
      "-0.247463 (0.079016) with: {'activation': 'softplus', 'batch_size': 4, 'dropout_rate': 0.15, 'epochs': 2000, 'neurons': 10, 'optimizer': 'sgd', 'verbose': 0}\n",
      "-0.290543 (0.034967) with: {'activation': 'softplus', 'batch_size': 4, 'dropout_rate': 0.2, 'epochs': 2000, 'neurons': 10, 'optimizer': 'adam', 'verbose': 0}\n",
      "-0.212829 (0.044942) with: {'activation': 'softplus', 'batch_size': 4, 'dropout_rate': 0.2, 'epochs': 2000, 'neurons': 10, 'optimizer': 'adamax', 'verbose': 0}\n",
      "-0.233555 (0.042985) with: {'activation': 'softplus', 'batch_size': 4, 'dropout_rate': 0.2, 'epochs': 2000, 'neurons': 10, 'optimizer': 'rmsprop', 'verbose': 0}\n",
      "-0.254700 (0.072271) with: {'activation': 'softplus', 'batch_size': 4, 'dropout_rate': 0.2, 'epochs': 2000, 'neurons': 10, 'optimizer': 'sgd', 'verbose': 0}\n",
      "-0.328214 (0.092381) with: {'activation': 'softplus', 'batch_size': 4, 'dropout_rate': 0.25, 'epochs': 2000, 'neurons': 10, 'optimizer': 'adam', 'verbose': 0}\n",
      "-0.215408 (0.054959) with: {'activation': 'softplus', 'batch_size': 4, 'dropout_rate': 0.25, 'epochs': 2000, 'neurons': 10, 'optimizer': 'adamax', 'verbose': 0}\n",
      "-0.225001 (0.046713) with: {'activation': 'softplus', 'batch_size': 4, 'dropout_rate': 0.25, 'epochs': 2000, 'neurons': 10, 'optimizer': 'rmsprop', 'verbose': 0}\n",
      "-0.261060 (0.062563) with: {'activation': 'softplus', 'batch_size': 4, 'dropout_rate': 0.25, 'epochs': 2000, 'neurons': 10, 'optimizer': 'sgd', 'verbose': 0}\n",
      "-0.247164 (0.006726) with: {'activation': 'softplus', 'batch_size': 8, 'dropout_rate': 0.05, 'epochs': 2000, 'neurons': 10, 'optimizer': 'adam', 'verbose': 0}\n",
      "-0.231819 (0.068966) with: {'activation': 'softplus', 'batch_size': 8, 'dropout_rate': 0.05, 'epochs': 2000, 'neurons': 10, 'optimizer': 'adamax', 'verbose': 0}\n",
      "-0.234226 (0.019028) with: {'activation': 'softplus', 'batch_size': 8, 'dropout_rate': 0.05, 'epochs': 2000, 'neurons': 10, 'optimizer': 'rmsprop', 'verbose': 0}\n",
      "-0.257232 (0.065009) with: {'activation': 'softplus', 'batch_size': 8, 'dropout_rate': 0.05, 'epochs': 2000, 'neurons': 10, 'optimizer': 'sgd', 'verbose': 0}\n",
      "-0.238364 (0.025083) with: {'activation': 'softplus', 'batch_size': 8, 'dropout_rate': 0.1, 'epochs': 2000, 'neurons': 10, 'optimizer': 'adam', 'verbose': 0}\n",
      "-0.213772 (0.053907) with: {'activation': 'softplus', 'batch_size': 8, 'dropout_rate': 0.1, 'epochs': 2000, 'neurons': 10, 'optimizer': 'adamax', 'verbose': 0}\n",
      "-0.226087 (0.035477) with: {'activation': 'softplus', 'batch_size': 8, 'dropout_rate': 0.1, 'epochs': 2000, 'neurons': 10, 'optimizer': 'rmsprop', 'verbose': 0}\n",
      "-0.263929 (0.066465) with: {'activation': 'softplus', 'batch_size': 8, 'dropout_rate': 0.1, 'epochs': 2000, 'neurons': 10, 'optimizer': 'sgd', 'verbose': 0}\n",
      "-0.242771 (0.028838) with: {'activation': 'softplus', 'batch_size': 8, 'dropout_rate': 0.15, 'epochs': 2000, 'neurons': 10, 'optimizer': 'adam', 'verbose': 0}\n",
      "-0.206918 (0.043021) with: {'activation': 'softplus', 'batch_size': 8, 'dropout_rate': 0.15, 'epochs': 2000, 'neurons': 10, 'optimizer': 'adamax', 'verbose': 0}\n",
      "-0.230578 (0.042876) with: {'activation': 'softplus', 'batch_size': 8, 'dropout_rate': 0.15, 'epochs': 2000, 'neurons': 10, 'optimizer': 'rmsprop', 'verbose': 0}\n",
      "-0.265416 (0.063710) with: {'activation': 'softplus', 'batch_size': 8, 'dropout_rate': 0.15, 'epochs': 2000, 'neurons': 10, 'optimizer': 'sgd', 'verbose': 0}\n",
      "-0.263393 (0.056577) with: {'activation': 'softplus', 'batch_size': 8, 'dropout_rate': 0.2, 'epochs': 2000, 'neurons': 10, 'optimizer': 'adam', 'verbose': 0}\n",
      "-0.205807 (0.049587) with: {'activation': 'softplus', 'batch_size': 8, 'dropout_rate': 0.2, 'epochs': 2000, 'neurons': 10, 'optimizer': 'adamax', 'verbose': 0}\n",
      "-0.218223 (0.037823) with: {'activation': 'softplus', 'batch_size': 8, 'dropout_rate': 0.2, 'epochs': 2000, 'neurons': 10, 'optimizer': 'rmsprop', 'verbose': 0}\n",
      "-0.262686 (0.072359) with: {'activation': 'softplus', 'batch_size': 8, 'dropout_rate': 0.2, 'epochs': 2000, 'neurons': 10, 'optimizer': 'sgd', 'verbose': 0}\n",
      "-0.224244 (0.034716) with: {'activation': 'softplus', 'batch_size': 8, 'dropout_rate': 0.25, 'epochs': 2000, 'neurons': 10, 'optimizer': 'adam', 'verbose': 0}\n",
      "-0.243485 (0.083760) with: {'activation': 'softplus', 'batch_size': 8, 'dropout_rate': 0.25, 'epochs': 2000, 'neurons': 10, 'optimizer': 'adamax', 'verbose': 0}\n",
      "-0.220689 (0.043921) with: {'activation': 'softplus', 'batch_size': 8, 'dropout_rate': 0.25, 'epochs': 2000, 'neurons': 10, 'optimizer': 'rmsprop', 'verbose': 0}\n",
      "-0.266586 (0.067628) with: {'activation': 'softplus', 'batch_size': 8, 'dropout_rate': 0.25, 'epochs': 2000, 'neurons': 10, 'optimizer': 'sgd', 'verbose': 0}\n",
      "-0.220034 (0.019392) with: {'activation': 'softplus', 'batch_size': 16, 'dropout_rate': 0.05, 'epochs': 2000, 'neurons': 10, 'optimizer': 'adam', 'verbose': 0}\n",
      "-0.227372 (0.072189) with: {'activation': 'softplus', 'batch_size': 16, 'dropout_rate': 0.05, 'epochs': 2000, 'neurons': 10, 'optimizer': 'adamax', 'verbose': 0}\n",
      "-0.244449 (0.056279) with: {'activation': 'softplus', 'batch_size': 16, 'dropout_rate': 0.05, 'epochs': 2000, 'neurons': 10, 'optimizer': 'rmsprop', 'verbose': 0}\n",
      "-0.259701 (0.064798) with: {'activation': 'softplus', 'batch_size': 16, 'dropout_rate': 0.05, 'epochs': 2000, 'neurons': 10, 'optimizer': 'sgd', 'verbose': 0}\n",
      "-0.251292 (0.063747) with: {'activation': 'softplus', 'batch_size': 16, 'dropout_rate': 0.1, 'epochs': 2000, 'neurons': 10, 'optimizer': 'adam', 'verbose': 0}\n",
      "-0.229163 (0.071982) with: {'activation': 'softplus', 'batch_size': 16, 'dropout_rate': 0.1, 'epochs': 2000, 'neurons': 10, 'optimizer': 'adamax', 'verbose': 0}\n",
      "-0.216320 (0.034842) with: {'activation': 'softplus', 'batch_size': 16, 'dropout_rate': 0.1, 'epochs': 2000, 'neurons': 10, 'optimizer': 'rmsprop', 'verbose': 0}\n",
      "-0.263186 (0.064664) with: {'activation': 'softplus', 'batch_size': 16, 'dropout_rate': 0.1, 'epochs': 2000, 'neurons': 10, 'optimizer': 'sgd', 'verbose': 0}\n",
      "-0.218443 (0.041317) with: {'activation': 'softplus', 'batch_size': 16, 'dropout_rate': 0.15, 'epochs': 2000, 'neurons': 10, 'optimizer': 'adam', 'verbose': 0}\n",
      "-0.224496 (0.065904) with: {'activation': 'softplus', 'batch_size': 16, 'dropout_rate': 0.15, 'epochs': 2000, 'neurons': 10, 'optimizer': 'adamax', 'verbose': 0}\n",
      "-0.216338 (0.036097) with: {'activation': 'softplus', 'batch_size': 16, 'dropout_rate': 0.15, 'epochs': 2000, 'neurons': 10, 'optimizer': 'rmsprop', 'verbose': 0}\n",
      "-0.267449 (0.065106) with: {'activation': 'softplus', 'batch_size': 16, 'dropout_rate': 0.15, 'epochs': 2000, 'neurons': 10, 'optimizer': 'sgd', 'verbose': 0}\n",
      "-0.255141 (0.070839) with: {'activation': 'softplus', 'batch_size': 16, 'dropout_rate': 0.2, 'epochs': 2000, 'neurons': 10, 'optimizer': 'adam', 'verbose': 0}\n",
      "-0.220273 (0.063544) with: {'activation': 'softplus', 'batch_size': 16, 'dropout_rate': 0.2, 'epochs': 2000, 'neurons': 10, 'optimizer': 'adamax', 'verbose': 0}\n",
      "-0.214350 (0.038395) with: {'activation': 'softplus', 'batch_size': 16, 'dropout_rate': 0.2, 'epochs': 2000, 'neurons': 10, 'optimizer': 'rmsprop', 'verbose': 0}\n",
      "-0.268541 (0.064997) with: {'activation': 'softplus', 'batch_size': 16, 'dropout_rate': 0.2, 'epochs': 2000, 'neurons': 10, 'optimizer': 'sgd', 'verbose': 0}\n",
      "-0.251901 (0.074774) with: {'activation': 'softplus', 'batch_size': 16, 'dropout_rate': 0.25, 'epochs': 2000, 'neurons': 10, 'optimizer': 'adam', 'verbose': 0}\n",
      "-0.230120 (0.068206) with: {'activation': 'softplus', 'batch_size': 16, 'dropout_rate': 0.25, 'epochs': 2000, 'neurons': 10, 'optimizer': 'adamax', 'verbose': 0}\n",
      "-0.248590 (0.075893) with: {'activation': 'softplus', 'batch_size': 16, 'dropout_rate': 0.25, 'epochs': 2000, 'neurons': 10, 'optimizer': 'rmsprop', 'verbose': 0}\n",
      "-0.266685 (0.063987) with: {'activation': 'softplus', 'batch_size': 16, 'dropout_rate': 0.25, 'epochs': 2000, 'neurons': 10, 'optimizer': 'sgd', 'verbose': 0}\n",
      "-0.233445 (0.066081) with: {'activation': 'softplus', 'batch_size': 32, 'dropout_rate': 0.05, 'epochs': 2000, 'neurons': 10, 'optimizer': 'adam', 'verbose': 0}\n",
      "-0.230364 (0.069265) with: {'activation': 'softplus', 'batch_size': 32, 'dropout_rate': 0.05, 'epochs': 2000, 'neurons': 10, 'optimizer': 'adamax', 'verbose': 0}\n",
      "-0.205561 (0.033149) with: {'activation': 'softplus', 'batch_size': 32, 'dropout_rate': 0.05, 'epochs': 2000, 'neurons': 10, 'optimizer': 'rmsprop', 'verbose': 0}\n",
      "-0.259777 (0.065667) with: {'activation': 'softplus', 'batch_size': 32, 'dropout_rate': 0.05, 'epochs': 2000, 'neurons': 10, 'optimizer': 'sgd', 'verbose': 0}\n",
      "-0.231952 (0.062705) with: {'activation': 'softplus', 'batch_size': 32, 'dropout_rate': 0.1, 'epochs': 2000, 'neurons': 10, 'optimizer': 'adam', 'verbose': 0}\n",
      "-0.236219 (0.069759) with: {'activation': 'softplus', 'batch_size': 32, 'dropout_rate': 0.1, 'epochs': 2000, 'neurons': 10, 'optimizer': 'adamax', 'verbose': 0}\n",
      "-0.210066 (0.036903) with: {'activation': 'softplus', 'batch_size': 32, 'dropout_rate': 0.1, 'epochs': 2000, 'neurons': 10, 'optimizer': 'rmsprop', 'verbose': 0}\n",
      "-0.265392 (0.064377) with: {'activation': 'softplus', 'batch_size': 32, 'dropout_rate': 0.1, 'epochs': 2000, 'neurons': 10, 'optimizer': 'sgd', 'verbose': 0}\n",
      "-0.230564 (0.063163) with: {'activation': 'softplus', 'batch_size': 32, 'dropout_rate': 0.15, 'epochs': 2000, 'neurons': 10, 'optimizer': 'adam', 'verbose': 0}\n",
      "-0.239079 (0.065749) with: {'activation': 'softplus', 'batch_size': 32, 'dropout_rate': 0.15, 'epochs': 2000, 'neurons': 10, 'optimizer': 'adamax', 'verbose': 0}\n",
      "-0.212127 (0.040235) with: {'activation': 'softplus', 'batch_size': 32, 'dropout_rate': 0.15, 'epochs': 2000, 'neurons': 10, 'optimizer': 'rmsprop', 'verbose': 0}\n",
      "-0.268013 (0.063826) with: {'activation': 'softplus', 'batch_size': 32, 'dropout_rate': 0.15, 'epochs': 2000, 'neurons': 10, 'optimizer': 'sgd', 'verbose': 0}\n",
      "-0.247387 (0.081327) with: {'activation': 'softplus', 'batch_size': 32, 'dropout_rate': 0.2, 'epochs': 2000, 'neurons': 10, 'optimizer': 'adam', 'verbose': 0}\n",
      "-0.251158 (0.075008) with: {'activation': 'softplus', 'batch_size': 32, 'dropout_rate': 0.2, 'epochs': 2000, 'neurons': 10, 'optimizer': 'adamax', 'verbose': 0}\n",
      "-0.212606 (0.045399) with: {'activation': 'softplus', 'batch_size': 32, 'dropout_rate': 0.2, 'epochs': 2000, 'neurons': 10, 'optimizer': 'rmsprop', 'verbose': 0}\n",
      "-0.272085 (0.062379) with: {'activation': 'softplus', 'batch_size': 32, 'dropout_rate': 0.2, 'epochs': 2000, 'neurons': 10, 'optimizer': 'sgd', 'verbose': 0}\n",
      "-0.228770 (0.064002) with: {'activation': 'softplus', 'batch_size': 32, 'dropout_rate': 0.25, 'epochs': 2000, 'neurons': 10, 'optimizer': 'adam', 'verbose': 0}\n",
      "-0.249185 (0.079643) with: {'activation': 'softplus', 'batch_size': 32, 'dropout_rate': 0.25, 'epochs': 2000, 'neurons': 10, 'optimizer': 'adamax', 'verbose': 0}\n",
      "-0.214334 (0.048896) with: {'activation': 'softplus', 'batch_size': 32, 'dropout_rate': 0.25, 'epochs': 2000, 'neurons': 10, 'optimizer': 'rmsprop', 'verbose': 0}\n",
      "-0.269516 (0.063911) with: {'activation': 'softplus', 'batch_size': 32, 'dropout_rate': 0.25, 'epochs': 2000, 'neurons': 10, 'optimizer': 'sgd', 'verbose': 0}\n",
      "-0.230879 (0.072452) with: {'activation': 'softplus', 'batch_size': 64, 'dropout_rate': 0.05, 'epochs': 2000, 'neurons': 10, 'optimizer': 'adam', 'verbose': 0}\n",
      "-0.230899 (0.055490) with: {'activation': 'softplus', 'batch_size': 64, 'dropout_rate': 0.05, 'epochs': 2000, 'neurons': 10, 'optimizer': 'adamax', 'verbose': 0}\n",
      "-0.227809 (0.066782) with: {'activation': 'softplus', 'batch_size': 64, 'dropout_rate': 0.05, 'epochs': 2000, 'neurons': 10, 'optimizer': 'rmsprop', 'verbose': 0}\n",
      "-0.255150 (0.066415) with: {'activation': 'softplus', 'batch_size': 64, 'dropout_rate': 0.05, 'epochs': 2000, 'neurons': 10, 'optimizer': 'sgd', 'verbose': 0}\n",
      "-0.237348 (0.077615) with: {'activation': 'softplus', 'batch_size': 64, 'dropout_rate': 0.1, 'epochs': 2000, 'neurons': 10, 'optimizer': 'adam', 'verbose': 0}\n",
      "-0.246140 (0.065654) with: {'activation': 'softplus', 'batch_size': 64, 'dropout_rate': 0.1, 'epochs': 2000, 'neurons': 10, 'optimizer': 'adamax', 'verbose': 0}\n",
      "-0.228791 (0.063883) with: {'activation': 'softplus', 'batch_size': 64, 'dropout_rate': 0.1, 'epochs': 2000, 'neurons': 10, 'optimizer': 'rmsprop', 'verbose': 0}\n",
      "-0.265902 (0.065267) with: {'activation': 'softplus', 'batch_size': 64, 'dropout_rate': 0.1, 'epochs': 2000, 'neurons': 10, 'optimizer': 'sgd', 'verbose': 0}\n",
      "-0.251605 (0.075679) with: {'activation': 'softplus', 'batch_size': 64, 'dropout_rate': 0.15, 'epochs': 2000, 'neurons': 10, 'optimizer': 'adam', 'verbose': 0}\n",
      "-0.241671 (0.065879) with: {'activation': 'softplus', 'batch_size': 64, 'dropout_rate': 0.15, 'epochs': 2000, 'neurons': 10, 'optimizer': 'adamax', 'verbose': 0}\n",
      "-0.209924 (0.046404) with: {'activation': 'softplus', 'batch_size': 64, 'dropout_rate': 0.15, 'epochs': 2000, 'neurons': 10, 'optimizer': 'rmsprop', 'verbose': 0}\n",
      "-0.269554 (0.065674) with: {'activation': 'softplus', 'batch_size': 64, 'dropout_rate': 0.15, 'epochs': 2000, 'neurons': 10, 'optimizer': 'sgd', 'verbose': 0}\n",
      "-0.243282 (0.085879) with: {'activation': 'softplus', 'batch_size': 64, 'dropout_rate': 0.2, 'epochs': 2000, 'neurons': 10, 'optimizer': 'adam', 'verbose': 0}\n",
      "-0.244531 (0.066673) with: {'activation': 'softplus', 'batch_size': 64, 'dropout_rate': 0.2, 'epochs': 2000, 'neurons': 10, 'optimizer': 'adamax', 'verbose': 0}\n",
      "-0.214734 (0.050953) with: {'activation': 'softplus', 'batch_size': 64, 'dropout_rate': 0.2, 'epochs': 2000, 'neurons': 10, 'optimizer': 'rmsprop', 'verbose': 0}\n",
      "-0.268177 (0.063999) with: {'activation': 'softplus', 'batch_size': 64, 'dropout_rate': 0.2, 'epochs': 2000, 'neurons': 10, 'optimizer': 'sgd', 'verbose': 0}\n",
      "-0.245787 (0.085394) with: {'activation': 'softplus', 'batch_size': 64, 'dropout_rate': 0.25, 'epochs': 2000, 'neurons': 10, 'optimizer': 'adam', 'verbose': 0}\n",
      "-0.250031 (0.067439) with: {'activation': 'softplus', 'batch_size': 64, 'dropout_rate': 0.25, 'epochs': 2000, 'neurons': 10, 'optimizer': 'adamax', 'verbose': 0}\n",
      "-0.217908 (0.055125) with: {'activation': 'softplus', 'batch_size': 64, 'dropout_rate': 0.25, 'epochs': 2000, 'neurons': 10, 'optimizer': 'rmsprop', 'verbose': 0}\n",
      "-0.270948 (0.064698) with: {'activation': 'softplus', 'batch_size': 64, 'dropout_rate': 0.25, 'epochs': 2000, 'neurons': 10, 'optimizer': 'sgd', 'verbose': 0}\n"
     ]
    }
   ],
   "source": [
    "# summarize results\n",
    "print(\"Best parameters: %f using %s\\n\" % (grid_search.best_score_, grid_search.best_params_))\n",
    "\n",
    "means = grid_search.cv_results_['mean_test_score']\n",
    "stds = grid_search.cv_results_['std_test_score']\n",
    "params = grid_search.cv_results_['params']\n",
    "for mean, stdev, param in zip(means, stds, params):\n",
    "    print(\"%f (%f) with: %r\" % (mean, stdev, param))"
   ]
  },
  {
   "cell_type": "code",
   "execution_count": 31,
   "metadata": {},
   "outputs": [],
   "source": [
    "result = pd.concat([pd.DataFrame(grid_search.cv_results_[\"params\"]),pd.DataFrame(grid_search.cv_results_[\"mean_test_score\"], columns=[\"score\"])],axis=1)"
   ]
  },
  {
   "cell_type": "code",
   "execution_count": 32,
   "metadata": {},
   "outputs": [
    {
     "data": {
      "text/html": [
       "<div>\n",
       "<style scoped>\n",
       "    .dataframe tbody tr th:only-of-type {\n",
       "        vertical-align: middle;\n",
       "    }\n",
       "\n",
       "    .dataframe tbody tr th {\n",
       "        vertical-align: top;\n",
       "    }\n",
       "\n",
       "    .dataframe thead th {\n",
       "        text-align: right;\n",
       "    }\n",
       "</style>\n",
       "<table border=\"1\" class=\"dataframe\">\n",
       "  <thead>\n",
       "    <tr style=\"text-align: right;\">\n",
       "      <th></th>\n",
       "      <th>activation</th>\n",
       "      <th>batch_size</th>\n",
       "      <th>dropout_rate</th>\n",
       "      <th>epochs</th>\n",
       "      <th>neurons</th>\n",
       "      <th>optimizer</th>\n",
       "      <th>verbose</th>\n",
       "      <th>score</th>\n",
       "    </tr>\n",
       "  </thead>\n",
       "  <tbody>\n",
       "    <tr>\n",
       "      <th>486</th>\n",
       "      <td>elu</td>\n",
       "      <td>64</td>\n",
       "      <td>0.10</td>\n",
       "      <td>2000</td>\n",
       "      <td>10</td>\n",
       "      <td>rmsprop</td>\n",
       "      <td>0</td>\n",
       "      <td>-0.195122</td>\n",
       "    </tr>\n",
       "    <tr>\n",
       "      <th>345</th>\n",
       "      <td>selu</td>\n",
       "      <td>16</td>\n",
       "      <td>0.10</td>\n",
       "      <td>2000</td>\n",
       "      <td>10</td>\n",
       "      <td>adamax</td>\n",
       "      <td>0</td>\n",
       "      <td>-0.196130</td>\n",
       "    </tr>\n",
       "    <tr>\n",
       "      <th>303</th>\n",
       "      <td>selu</td>\n",
       "      <td>4</td>\n",
       "      <td>0.05</td>\n",
       "      <td>2000</td>\n",
       "      <td>10</td>\n",
       "      <td>sgd</td>\n",
       "      <td>0</td>\n",
       "      <td>-0.196541</td>\n",
       "    </tr>\n",
       "    <tr>\n",
       "      <th>361</th>\n",
       "      <td>selu</td>\n",
       "      <td>32</td>\n",
       "      <td>0.05</td>\n",
       "      <td>2000</td>\n",
       "      <td>10</td>\n",
       "      <td>adamax</td>\n",
       "      <td>0</td>\n",
       "      <td>-0.198329</td>\n",
       "    </tr>\n",
       "    <tr>\n",
       "      <th>369</th>\n",
       "      <td>selu</td>\n",
       "      <td>32</td>\n",
       "      <td>0.15</td>\n",
       "      <td>2000</td>\n",
       "      <td>10</td>\n",
       "      <td>adamax</td>\n",
       "      <td>0</td>\n",
       "      <td>-0.198553</td>\n",
       "    </tr>\n",
       "    <tr>\n",
       "      <th>...</th>\n",
       "      <td>...</td>\n",
       "      <td>...</td>\n",
       "      <td>...</td>\n",
       "      <td>...</td>\n",
       "      <td>...</td>\n",
       "      <td>...</td>\n",
       "      <td>...</td>\n",
       "      <td>...</td>\n",
       "    </tr>\n",
       "    <tr>\n",
       "      <th>260</th>\n",
       "      <td>relu</td>\n",
       "      <td>32</td>\n",
       "      <td>0.05</td>\n",
       "      <td>2000</td>\n",
       "      <td>10</td>\n",
       "      <td>adam</td>\n",
       "      <td>0</td>\n",
       "      <td>-0.470904</td>\n",
       "    </tr>\n",
       "    <tr>\n",
       "      <th>258</th>\n",
       "      <td>relu</td>\n",
       "      <td>16</td>\n",
       "      <td>0.25</td>\n",
       "      <td>2000</td>\n",
       "      <td>10</td>\n",
       "      <td>rmsprop</td>\n",
       "      <td>0</td>\n",
       "      <td>-0.480028</td>\n",
       "    </tr>\n",
       "    <tr>\n",
       "      <th>212</th>\n",
       "      <td>relu</td>\n",
       "      <td>4</td>\n",
       "      <td>0.20</td>\n",
       "      <td>2000</td>\n",
       "      <td>10</td>\n",
       "      <td>adam</td>\n",
       "      <td>0</td>\n",
       "      <td>-0.531107</td>\n",
       "    </tr>\n",
       "    <tr>\n",
       "      <th>250</th>\n",
       "      <td>relu</td>\n",
       "      <td>16</td>\n",
       "      <td>0.15</td>\n",
       "      <td>2000</td>\n",
       "      <td>10</td>\n",
       "      <td>rmsprop</td>\n",
       "      <td>0</td>\n",
       "      <td>-0.537941</td>\n",
       "    </tr>\n",
       "    <tr>\n",
       "      <th>230</th>\n",
       "      <td>relu</td>\n",
       "      <td>8</td>\n",
       "      <td>0.15</td>\n",
       "      <td>2000</td>\n",
       "      <td>10</td>\n",
       "      <td>rmsprop</td>\n",
       "      <td>0</td>\n",
       "      <td>-0.845884</td>\n",
       "    </tr>\n",
       "  </tbody>\n",
       "</table>\n",
       "<p>600 rows × 8 columns</p>\n",
       "</div>"
      ],
      "text/plain": [
       "    activation  batch_size  dropout_rate  epochs  neurons optimizer  verbose  \\\n",
       "486        elu          64          0.10    2000       10   rmsprop        0   \n",
       "345       selu          16          0.10    2000       10    adamax        0   \n",
       "303       selu           4          0.05    2000       10       sgd        0   \n",
       "361       selu          32          0.05    2000       10    adamax        0   \n",
       "369       selu          32          0.15    2000       10    adamax        0   \n",
       "..         ...         ...           ...     ...      ...       ...      ...   \n",
       "260       relu          32          0.05    2000       10      adam        0   \n",
       "258       relu          16          0.25    2000       10   rmsprop        0   \n",
       "212       relu           4          0.20    2000       10      adam        0   \n",
       "250       relu          16          0.15    2000       10   rmsprop        0   \n",
       "230       relu           8          0.15    2000       10   rmsprop        0   \n",
       "\n",
       "        score  \n",
       "486 -0.195122  \n",
       "345 -0.196130  \n",
       "303 -0.196541  \n",
       "361 -0.198329  \n",
       "369 -0.198553  \n",
       "..        ...  \n",
       "260 -0.470904  \n",
       "258 -0.480028  \n",
       "212 -0.531107  \n",
       "250 -0.537941  \n",
       "230 -0.845884  \n",
       "\n",
       "[600 rows x 8 columns]"
      ]
     },
     "execution_count": 32,
     "metadata": {},
     "output_type": "execute_result"
    }
   ],
   "source": [
    "result.sort_values(by=\"score\", ascending=False)"
   ]
  },
  {
   "cell_type": "code",
   "execution_count": 33,
   "metadata": {},
   "outputs": [],
   "source": [
    "result.sort_values(by=\"score\", ascending=False).to_csv('gridsearch_percobaan4.csv',index=False)"
   ]
  },
  {
   "cell_type": "markdown",
   "metadata": {},
   "source": [
    "### Evaluasi Model LSTM-RNN"
   ]
  },
  {
   "cell_type": "code",
   "execution_count": 34,
   "metadata": {},
   "outputs": [],
   "source": [
    "# Set akhir waktu komputasi \n",
    "end = time.time()"
   ]
  },
  {
   "cell_type": "code",
   "execution_count": 35,
   "metadata": {},
   "outputs": [],
   "source": [
    "# Proses menghitung waktu komputasi\n",
    "hours, rem = divmod(end-start, 3600)\n",
    "minutes, seconds = divmod(rem, 60)"
   ]
  },
  {
   "cell_type": "code",
   "execution_count": 36,
   "metadata": {},
   "outputs": [
    {
     "name": "stdout",
     "output_type": "stream",
     "text": [
      "01:07:12.63\n"
     ]
    }
   ],
   "source": [
    "# Hasil waktu komputasi\n",
    "print(\"{:0>2}:{:0>2}:{:05.2f}\".format(int(hours),int(minutes),seconds))"
   ]
  },
  {
   "cell_type": "code",
   "execution_count": null,
   "metadata": {},
   "outputs": [],
   "source": []
  }
 ],
 "metadata": {
  "accelerator": "GPU",
  "colab": {
   "collapsed_sections": [],
   "name": "lstm-rnn-2.ipynb",
   "provenance": []
  },
  "kernelspec": {
   "display_name": "Python 3 (ipykernel)",
   "language": "python",
   "name": "python3"
  },
  "language_info": {
   "codemirror_mode": {
    "name": "ipython",
    "version": 3
   },
   "file_extension": ".py",
   "mimetype": "text/x-python",
   "name": "python",
   "nbconvert_exporter": "python",
   "pygments_lexer": "ipython3",
   "version": "3.9.13"
  }
 },
 "nbformat": 4,
 "nbformat_minor": 4
}
