{
 "cells": [
  {
   "cell_type": "markdown",
   "metadata": {},
   "source": [
    "## Univariate LSTM-RNN Sumatera Selatan Percobaan 1"
   ]
  },
  {
   "cell_type": "code",
   "execution_count": 1,
   "metadata": {},
   "outputs": [],
   "source": [
    "# pustaka untuk manipulasi data\n",
    "import pandas as pd\n",
    "from pandas import concat\n",
    "from pandas import DataFrame\n",
    "from pandas import read_csv\n",
    "from pandas import read_excel\n",
    "import numpy as np\n",
    "from numpy import concatenate\n",
    "from numpy import array\n",
    "\n",
    "# pustaka untuk waktu komputasi\n",
    "import time\n",
    "from datetime import datetime\n",
    "\n",
    "# Pustaka untuk visualisasi data\n",
    "import seaborn as sns\n",
    "from matplotlib import pyplot\n",
    "from matplotlib import pyplot as plt\n",
    "\n",
    "# Pustaka untuk visualisasi acf dan pacf\n",
    "import statsmodels.api as sm\n",
    "from statsmodels.graphics.tsaplots import plot_pacf\n",
    "from statsmodels.graphics.tsaplots import plot_acf\n",
    "        \n",
    "# Pustaka untuk membuat data latih dan data uji.\n",
    "from sklearn.preprocessing import MinMaxScaler\n",
    "from sklearn.preprocessing import LabelEncoder\n",
    "\n",
    "# Pustaka untuk membuat model prediksi LSTM-RNN\n",
    "import itertools\n",
    "import tensorflow as tf\n",
    "from keras.models import Sequential\n",
    "from keras.layers import RNN\n",
    "from keras.layers import LSTM\n",
    "from keras.layers import GRU\n",
    "from keras.layers import Dense\n",
    "from keras.layers import Dropout\n",
    "from keras.layers import TimeDistributed\n",
    "from keras.layers import Bidirectional\n",
    "from keras.optimizers import Adam, Adamax, RMSprop, SGD\n",
    "\n",
    "# Early stoping\n",
    "from keras.callbacks import EarlyStopping\n",
    "from keras.callbacks import ModelCheckpoint\n",
    "\n",
    "# Pustaka untuk  evaluasi model prediksi\n",
    "from math import sqrt\n",
    "from sklearn.metrics import mean_squared_error\n",
    "from sklearn.metrics import mean_absolute_error"
   ]
  },
  {
   "cell_type": "code",
   "execution_count": 2,
   "metadata": {},
   "outputs": [],
   "source": [
    "# Set waktu komputasi\n",
    "start = time.time()"
   ]
  },
  {
   "cell_type": "code",
   "execution_count": 3,
   "metadata": {},
   "outputs": [],
   "source": [
    "# fix random seed for reproducibility\n",
    "np.random.seed(1234)"
   ]
  },
  {
   "cell_type": "code",
   "execution_count": 4,
   "metadata": {},
   "outputs": [],
   "source": [
    "# membaca dataset\n",
    "dataset = read_excel(\"D:/Belajar-Python/dataset/dataset tesis/dataset.xlsx\")"
   ]
  },
  {
   "cell_type": "code",
   "execution_count": 5,
   "metadata": {},
   "outputs": [],
   "source": [
    "# # set index tanggal\n",
    "# dataset = dataset.set_index(\"tanggal\")"
   ]
  },
  {
   "cell_type": "code",
   "execution_count": 6,
   "metadata": {},
   "outputs": [
    {
     "name": "stdout",
     "output_type": "stream",
     "text": [
      "<class 'pandas.core.frame.DataFrame'>\n",
      "RangeIndex: 240 entries, 0 to 239\n",
      "Data columns (total 6 columns):\n",
      " #   Column          Non-Null Count  Dtype         \n",
      "---  ------          --------------  -----         \n",
      " 0   tanggal         240 non-null    datetime64[ns]\n",
      " 1   sst             240 non-null    float64       \n",
      " 2   soi             240 non-null    float64       \n",
      " 3   oni             240 non-null    float64       \n",
      " 4   curah_hujan     240 non-null    float64       \n",
      " 5   hotspot_sumsel  240 non-null    int64         \n",
      "dtypes: datetime64[ns](1), float64(4), int64(1)\n",
      "memory usage: 11.4 KB\n"
     ]
    }
   ],
   "source": [
    "# menampilkan metadata dataset\n",
    "dataset.info()"
   ]
  },
  {
   "cell_type": "code",
   "execution_count": 7,
   "metadata": {},
   "outputs": [
    {
     "data": {
      "text/html": [
       "<div>\n",
       "<style scoped>\n",
       "    .dataframe tbody tr th:only-of-type {\n",
       "        vertical-align: middle;\n",
       "    }\n",
       "\n",
       "    .dataframe tbody tr th {\n",
       "        vertical-align: top;\n",
       "    }\n",
       "\n",
       "    .dataframe thead th {\n",
       "        text-align: right;\n",
       "    }\n",
       "</style>\n",
       "<table border=\"1\" class=\"dataframe\">\n",
       "  <thead>\n",
       "    <tr style=\"text-align: right;\">\n",
       "      <th></th>\n",
       "      <th>tanggal</th>\n",
       "      <th>sst</th>\n",
       "      <th>soi</th>\n",
       "      <th>oni</th>\n",
       "      <th>curah_hujan</th>\n",
       "      <th>hotspot_sumsel</th>\n",
       "    </tr>\n",
       "  </thead>\n",
       "  <tbody>\n",
       "    <tr>\n",
       "      <th>0</th>\n",
       "      <td>2001-01-31</td>\n",
       "      <td>-0.76</td>\n",
       "      <td>1.0</td>\n",
       "      <td>-0.68</td>\n",
       "      <td>418.600006</td>\n",
       "      <td>3</td>\n",
       "    </tr>\n",
       "    <tr>\n",
       "      <th>1</th>\n",
       "      <td>2001-02-28</td>\n",
       "      <td>-0.56</td>\n",
       "      <td>1.7</td>\n",
       "      <td>-0.52</td>\n",
       "      <td>295.399994</td>\n",
       "      <td>5</td>\n",
       "    </tr>\n",
       "    <tr>\n",
       "      <th>2</th>\n",
       "      <td>2001-03-31</td>\n",
       "      <td>-0.37</td>\n",
       "      <td>0.9</td>\n",
       "      <td>-0.44</td>\n",
       "      <td>360.600006</td>\n",
       "      <td>10</td>\n",
       "    </tr>\n",
       "    <tr>\n",
       "      <th>3</th>\n",
       "      <td>2001-04-30</td>\n",
       "      <td>-0.56</td>\n",
       "      <td>0.2</td>\n",
       "      <td>-0.34</td>\n",
       "      <td>403.700012</td>\n",
       "      <td>20</td>\n",
       "    </tr>\n",
       "    <tr>\n",
       "      <th>4</th>\n",
       "      <td>2001-05-31</td>\n",
       "      <td>-0.46</td>\n",
       "      <td>-0.5</td>\n",
       "      <td>-0.25</td>\n",
       "      <td>116.900002</td>\n",
       "      <td>39</td>\n",
       "    </tr>\n",
       "    <tr>\n",
       "      <th>...</th>\n",
       "      <td>...</td>\n",
       "      <td>...</td>\n",
       "      <td>...</td>\n",
       "      <td>...</td>\n",
       "      <td>...</td>\n",
       "      <td>...</td>\n",
       "    </tr>\n",
       "    <tr>\n",
       "      <th>235</th>\n",
       "      <td>2020-08-31</td>\n",
       "      <td>-0.52</td>\n",
       "      <td>1.1</td>\n",
       "      <td>-0.57</td>\n",
       "      <td>82.700005</td>\n",
       "      <td>65</td>\n",
       "    </tr>\n",
       "    <tr>\n",
       "      <th>236</th>\n",
       "      <td>2020-09-30</td>\n",
       "      <td>-0.64</td>\n",
       "      <td>0.9</td>\n",
       "      <td>-0.89</td>\n",
       "      <td>211.800003</td>\n",
       "      <td>29</td>\n",
       "    </tr>\n",
       "    <tr>\n",
       "      <th>237</th>\n",
       "      <td>2020-10-31</td>\n",
       "      <td>-1.13</td>\n",
       "      <td>0.5</td>\n",
       "      <td>-1.17</td>\n",
       "      <td>437.300018</td>\n",
       "      <td>40</td>\n",
       "    </tr>\n",
       "    <tr>\n",
       "      <th>238</th>\n",
       "      <td>2020-11-30</td>\n",
       "      <td>-1.23</td>\n",
       "      <td>0.7</td>\n",
       "      <td>-1.27</td>\n",
       "      <td>237.400009</td>\n",
       "      <td>30</td>\n",
       "    </tr>\n",
       "    <tr>\n",
       "      <th>239</th>\n",
       "      <td>2020-12-31</td>\n",
       "      <td>-0.99</td>\n",
       "      <td>1.8</td>\n",
       "      <td>-1.19</td>\n",
       "      <td>405.800018</td>\n",
       "      <td>8</td>\n",
       "    </tr>\n",
       "  </tbody>\n",
       "</table>\n",
       "<p>240 rows × 6 columns</p>\n",
       "</div>"
      ],
      "text/plain": [
       "       tanggal   sst  soi   oni  curah_hujan  hotspot_sumsel\n",
       "0   2001-01-31 -0.76  1.0 -0.68   418.600006               3\n",
       "1   2001-02-28 -0.56  1.7 -0.52   295.399994               5\n",
       "2   2001-03-31 -0.37  0.9 -0.44   360.600006              10\n",
       "3   2001-04-30 -0.56  0.2 -0.34   403.700012              20\n",
       "4   2001-05-31 -0.46 -0.5 -0.25   116.900002              39\n",
       "..         ...   ...  ...   ...          ...             ...\n",
       "235 2020-08-31 -0.52  1.1 -0.57    82.700005              65\n",
       "236 2020-09-30 -0.64  0.9 -0.89   211.800003              29\n",
       "237 2020-10-31 -1.13  0.5 -1.17   437.300018              40\n",
       "238 2020-11-30 -1.23  0.7 -1.27   237.400009              30\n",
       "239 2020-12-31 -0.99  1.8 -1.19   405.800018               8\n",
       "\n",
       "[240 rows x 6 columns]"
      ]
     },
     "execution_count": 7,
     "metadata": {},
     "output_type": "execute_result"
    }
   ],
   "source": [
    "dataset"
   ]
  },
  {
   "cell_type": "markdown",
   "metadata": {},
   "source": [
    "### Studi Kasus Sumatera Selatan"
   ]
  },
  {
   "cell_type": "code",
   "execution_count": 8,
   "metadata": {},
   "outputs": [
    {
     "name": "stdout",
     "output_type": "stream",
     "text": [
      "<class 'pandas.core.frame.DataFrame'>\n",
      "RangeIndex: 240 entries, 0 to 239\n",
      "Data columns (total 1 columns):\n",
      " #   Column          Non-Null Count  Dtype\n",
      "---  ------          --------------  -----\n",
      " 0   hotspot_sumsel  240 non-null    int64\n",
      "dtypes: int64(1)\n",
      "memory usage: 2.0 KB\n"
     ]
    }
   ],
   "source": [
    "# memilih area studi\n",
    "df_sumsel = dataset[[\"hotspot_sumsel\"]]\n",
    "df_sumsel.info()"
   ]
  },
  {
   "cell_type": "code",
   "execution_count": 9,
   "metadata": {},
   "outputs": [
    {
     "name": "stdout",
     "output_type": "stream",
     "text": [
      "   hotspot_sumsel\n",
      "0               3\n",
      "1               5\n",
      "2              10\n",
      "3              20\n",
      "4              39\n"
     ]
    }
   ],
   "source": [
    "print(df_sumsel.head())"
   ]
  },
  {
   "cell_type": "code",
   "execution_count": 10,
   "metadata": {},
   "outputs": [],
   "source": [
    "# ensure all data is float\n",
    "df_sumsel = df_sumsel.values\n",
    "df_sumsel = df_sumsel.astype('float32')"
   ]
  },
  {
   "cell_type": "code",
   "execution_count": 11,
   "metadata": {},
   "outputs": [
    {
     "data": {
      "image/png": "[encoded data removed]",
      "text/plain": [
       "<Figure size 1000x500 with 1 Axes>"
      ]
     },
     "metadata": {},
     "output_type": "display_data"
    }
   ],
   "source": [
    "# generate urutan data sesuai panjang datanya\n",
    "x = pd.date_range(start=\"2001-01-01\", periods=len(df_sumsel), freq='MS')\n",
    "\n",
    "# membuat frame\n",
    "fig, ax = plt.subplots(figsize = (10,5))\n",
    "\n",
    "# membuat time series plot\n",
    "ax.plot(x, df_sumsel, color=\"tab:blue\", label=\"data aktual\", linewidth=2.5)\n",
    "\n",
    "# membuat label-label\n",
    "ax.set_title(\"Hotspot Sumsel Sensor MODIS 2018-2020\", fontsize=14)\n",
    "ax.set_xlabel(\"Tanggal\", fontsize=12)\n",
    "ax.set_ylabel(\"Jumlah Hostpot\", fontsize=12)\n",
    "ax.legend(loc='upper right')\n",
    "ax.grid(True)\n",
    "\n",
    "# menampilkan plot\n",
    "plt.show()"
   ]
  },
  {
   "cell_type": "code",
   "execution_count": 12,
   "metadata": {},
   "outputs": [],
   "source": [
    "# # code autocorrelation\n",
    "# # membuat frame\n",
    "# fig, ax= plt.subplots(nrows=1, ncols=2, facecolor=\"#F0F0F0\", figsize = (20,5))\n",
    "\n",
    "# # plot acf\n",
    "# plot_acf(df_sumsel, lags=24, ax=ax[0])\n",
    "# ax[0].grid(True)\n",
    "\n",
    "# # plot pacf\n",
    "# plot_pacf(df_sumsel,lags=24, ax=ax[1])\n",
    "# ax[1].grid(True)\n",
    "\n",
    "# # menampilkan plot acf dan pacf\n",
    "# plt.show()"
   ]
  },
  {
   "cell_type": "markdown",
   "metadata": {},
   "source": [
    "### Normalisasi Data"
   ]
  },
  {
   "cell_type": "code",
   "execution_count": 13,
   "metadata": {},
   "outputs": [],
   "source": [
    "# normalize features\n",
    "scaler = MinMaxScaler(feature_range=(-1, 1))\n",
    "df_sumsel = scaler.fit_transform(df_sumsel)"
   ]
  },
  {
   "cell_type": "code",
   "execution_count": 14,
   "metadata": {},
   "outputs": [
    {
     "data": {
      "text/plain": [
       "array([[-0.999723],\n",
       "       [-0.999445],\n",
       "       [-0.998751],\n",
       "       [-0.997364],\n",
       "       [-0.994728]], dtype=float32)"
      ]
     },
     "execution_count": 14,
     "metadata": {},
     "output_type": "execute_result"
    }
   ],
   "source": [
    "np.round(df_sumsel[:5],6)"
   ]
  },
  {
   "cell_type": "markdown",
   "metadata": {},
   "source": [
    "### Data Latih dan Data Uji"
   ]
  },
  {
   "cell_type": "code",
   "execution_count": 15,
   "metadata": {},
   "outputs": [],
   "source": [
    "# split into train and test sets\n",
    "train_size = int(len(df_sumsel) * 0.8)\n",
    "test_size = len(df_sumsel) - train_size\n",
    "train, test = df_sumsel[0:train_size,:], df_sumsel[train_size:len(df_sumsel),:]"
   ]
  },
  {
   "cell_type": "code",
   "execution_count": 16,
   "metadata": {},
   "outputs": [
    {
     "name": "stdout",
     "output_type": "stream",
     "text": [
      "(192, 1) (48, 1)\n"
     ]
    }
   ],
   "source": [
    "print(train.shape, test.shape)"
   ]
  },
  {
   "cell_type": "markdown",
   "metadata": {},
   "source": [
    "### Supervised Learning"
   ]
  },
  {
   "cell_type": "code",
   "execution_count": 17,
   "metadata": {},
   "outputs": [],
   "source": [
    "# convert an array of values into a dataset matrix\n",
    "def create_dataset(dataset, look_back=1):\n",
    "    dataX, dataY = [], []\n",
    "    for i in range(len(dataset)-look_back):\n",
    "        dataX.append(dataset[i:(i+look_back), 0])\n",
    "        dataY.append(dataset[i + look_back, 0])\n",
    "    return np.array(dataX), np.array(dataY)"
   ]
  },
  {
   "cell_type": "code",
   "execution_count": 18,
   "metadata": {},
   "outputs": [],
   "source": [
    "# reshape into X=t and Y=t+1\n",
    "look_back = 1\n",
    "trainX, trainY = create_dataset(train, look_back)\n",
    "testX, testY = create_dataset(test, look_back)"
   ]
  },
  {
   "cell_type": "markdown",
   "metadata": {},
   "source": [
    "- Check data train, for result supervised learning"
   ]
  },
  {
   "cell_type": "code",
   "execution_count": 19,
   "metadata": {},
   "outputs": [],
   "source": [
    "temp_trainX = pd.DataFrame(trainX)\n",
    "temp_trainY = pd.DataFrame(trainY)"
   ]
  },
  {
   "cell_type": "code",
   "execution_count": 20,
   "metadata": {},
   "outputs": [
    {
     "data": {
      "text/html": [
       "<div>\n",
       "<style scoped>\n",
       "    .dataframe tbody tr th:only-of-type {\n",
       "        vertical-align: middle;\n",
       "    }\n",
       "\n",
       "    .dataframe tbody tr th {\n",
       "        vertical-align: top;\n",
       "    }\n",
       "\n",
       "    .dataframe thead th {\n",
       "        text-align: right;\n",
       "    }\n",
       "</style>\n",
       "<table border=\"1\" class=\"dataframe\">\n",
       "  <thead>\n",
       "    <tr style=\"text-align: right;\">\n",
       "      <th></th>\n",
       "      <th>0</th>\n",
       "      <th>0</th>\n",
       "    </tr>\n",
       "  </thead>\n",
       "  <tbody>\n",
       "    <tr>\n",
       "      <th>0</th>\n",
       "      <td>-0.999723</td>\n",
       "      <td>-0.999445</td>\n",
       "    </tr>\n",
       "    <tr>\n",
       "      <th>1</th>\n",
       "      <td>-0.999445</td>\n",
       "      <td>-0.998751</td>\n",
       "    </tr>\n",
       "    <tr>\n",
       "      <th>2</th>\n",
       "      <td>-0.998751</td>\n",
       "      <td>-0.997364</td>\n",
       "    </tr>\n",
       "    <tr>\n",
       "      <th>3</th>\n",
       "      <td>-0.997364</td>\n",
       "      <td>-0.994728</td>\n",
       "    </tr>\n",
       "    <tr>\n",
       "      <th>4</th>\n",
       "      <td>-0.994728</td>\n",
       "      <td>-0.999029</td>\n",
       "    </tr>\n",
       "  </tbody>\n",
       "</table>\n",
       "</div>"
      ],
      "text/plain": [
       "          0         0\n",
       "0 -0.999723 -0.999445\n",
       "1 -0.999445 -0.998751\n",
       "2 -0.998751 -0.997364\n",
       "3 -0.997364 -0.994728\n",
       "4 -0.994728 -0.999029"
      ]
     },
     "execution_count": 20,
     "metadata": {},
     "output_type": "execute_result"
    }
   ],
   "source": [
    "hasil_train = pd.concat([temp_trainX, temp_trainY], axis=1)\n",
    "hasil_train.head()"
   ]
  },
  {
   "cell_type": "markdown",
   "metadata": {},
   "source": [
    "- Check data test, for result supervised learning"
   ]
  },
  {
   "cell_type": "code",
   "execution_count": 21,
   "metadata": {},
   "outputs": [],
   "source": [
    "temp_testX = pd.DataFrame(testX)\n",
    "temp_testY = pd.DataFrame(testY)"
   ]
  },
  {
   "cell_type": "code",
   "execution_count": 22,
   "metadata": {},
   "outputs": [
    {
     "data": {
      "text/html": [
       "<div>\n",
       "<style scoped>\n",
       "    .dataframe tbody tr th:only-of-type {\n",
       "        vertical-align: middle;\n",
       "    }\n",
       "\n",
       "    .dataframe tbody tr th {\n",
       "        vertical-align: top;\n",
       "    }\n",
       "\n",
       "    .dataframe thead th {\n",
       "        text-align: right;\n",
       "    }\n",
       "</style>\n",
       "<table border=\"1\" class=\"dataframe\">\n",
       "  <thead>\n",
       "    <tr style=\"text-align: right;\">\n",
       "      <th></th>\n",
       "      <th>0</th>\n",
       "      <th>0</th>\n",
       "    </tr>\n",
       "  </thead>\n",
       "  <tbody>\n",
       "    <tr>\n",
       "      <th>0</th>\n",
       "      <td>-0.998474</td>\n",
       "      <td>-0.999723</td>\n",
       "    </tr>\n",
       "    <tr>\n",
       "      <th>1</th>\n",
       "      <td>-0.999723</td>\n",
       "      <td>-0.997503</td>\n",
       "    </tr>\n",
       "    <tr>\n",
       "      <th>2</th>\n",
       "      <td>-0.997503</td>\n",
       "      <td>-0.997364</td>\n",
       "    </tr>\n",
       "    <tr>\n",
       "      <th>3</th>\n",
       "      <td>-0.997364</td>\n",
       "      <td>-0.994450</td>\n",
       "    </tr>\n",
       "    <tr>\n",
       "      <th>4</th>\n",
       "      <td>-0.994450</td>\n",
       "      <td>-0.991537</td>\n",
       "    </tr>\n",
       "  </tbody>\n",
       "</table>\n",
       "</div>"
      ],
      "text/plain": [
       "          0         0\n",
       "0 -0.998474 -0.999723\n",
       "1 -0.999723 -0.997503\n",
       "2 -0.997503 -0.997364\n",
       "3 -0.997364 -0.994450\n",
       "4 -0.994450 -0.991537"
      ]
     },
     "execution_count": 22,
     "metadata": {},
     "output_type": "execute_result"
    }
   ],
   "source": [
    "hasil_test = pd.concat([temp_testX, temp_testY], axis=1)\n",
    "hasil_test.head()"
   ]
  },
  {
   "cell_type": "markdown",
   "metadata": {},
   "source": [
    "- reshape input for samples, time steps, features"
   ]
  },
  {
   "cell_type": "code",
   "execution_count": 23,
   "metadata": {},
   "outputs": [],
   "source": [
    "# reshape input to be [samples, time steps, features]\n",
    "trainX = np.reshape(trainX, (trainX.shape[0], trainX.shape[1], 1))\n",
    "testX = np.reshape(testX, (testX.shape[0], testX.shape[1], 1))"
   ]
  },
  {
   "cell_type": "code",
   "execution_count": 24,
   "metadata": {},
   "outputs": [
    {
     "name": "stdout",
     "output_type": "stream",
     "text": [
      "(191, 1, 1) (191,)\n"
     ]
    }
   ],
   "source": [
    "print(trainX.shape, trainY.shape)"
   ]
  },
  {
   "cell_type": "code",
   "execution_count": 25,
   "metadata": {},
   "outputs": [
    {
     "name": "stdout",
     "output_type": "stream",
     "text": [
      "(47, 1, 1) (47,)\n"
     ]
    }
   ],
   "source": [
    "print(testX.shape, testY.shape)"
   ]
  },
  {
   "cell_type": "markdown",
   "metadata": {},
   "source": [
    "### Model LSTM-RNN"
   ]
  },
  {
   "cell_type": "code",
   "execution_count": 26,
   "metadata": {},
   "outputs": [],
   "source": [
    "# Design network\n",
    "model = Sequential()\n",
    "\n",
    "# First LSTM layer with Dropout regularisation\n",
    "model.add(\n",
    "    LSTM(\n",
    "        units=10,\n",
    "        activation='selu',\n",
    "        input_shape=(trainX.shape[1], 1)\n",
    "    )\n",
    ")\n",
    "model.add(Dropout(0.2))\n",
    "\n",
    "# The output layer\n",
    "model.add(Dense(1))\n",
    "\n",
    "# Compiling model the LSTM-RNN\n",
    "# lr=0.0075, decay=0.00001\n",
    "model.compile(\n",
    "    optimizer='sgd',\n",
    "    loss='mae',\n",
    "    metrics=[\n",
    "        tf.keras.metrics.MeanAbsoluteError(),\n",
    "        tf.keras.metrics.MeanSquaredError(),\n",
    "        tf.keras.metrics.RootMeanSquaredError()\n",
    "    ]\n",
    ")"
   ]
  },
  {
   "cell_type": "code",
   "execution_count": 27,
   "metadata": {},
   "outputs": [],
   "source": [
    "# fit network\n",
    "history = model.fit(trainX, trainY, epochs=2000, batch_size=8,\n",
    "                    validation_data=(testX, testY),\n",
    "                    verbose=0, shuffle=False)"
   ]
  },
  {
   "cell_type": "code",
   "execution_count": 28,
   "metadata": {},
   "outputs": [
    {
     "name": "stdout",
     "output_type": "stream",
     "text": [
      "Model: \"sequential\"\n",
      "_________________________________________________________________\n",
      " Layer (type)                Output Shape              Param #   \n",
      "=================================================================\n",
      " lstm (LSTM)                 (None, 10)                480       \n",
      "                                                                 \n",
      " dropout (Dropout)           (None, 10)                0         \n",
      "                                                                 \n",
      " dense (Dense)               (None, 1)                 11        \n",
      "                                                                 \n",
      "=================================================================\n",
      "Total params: 491\n",
      "Trainable params: 491\n",
      "Non-trainable params: 0\n",
      "_________________________________________________________________\n"
     ]
    }
   ],
   "source": [
    "model.summary()"
   ]
  },
  {
   "cell_type": "code",
   "execution_count": 29,
   "metadata": {},
   "outputs": [
    {
     "data": {
      "image/png": "[encoded data removed]",
      "text/plain": [
       "<Figure size 1000x500 with 1 Axes>"
      ]
     },
     "metadata": {},
     "output_type": "display_data"
    }
   ],
   "source": [
    "# membuat frame\n",
    "fig, ax = plt.subplots(figsize = (10,5))\n",
    "\n",
    "# membuat time series plot\n",
    "ax.plot(history.history['loss'], color=\"tab:blue\", label=\"train\", linewidth=1.5)\n",
    "ax.plot(history.history['val_loss'], color=\"tab:orange\", label=\"test\", linewidth=1.5)\n",
    "\n",
    "# membuat label-label\n",
    "ax.set_title(\"Grafik Loss Function\", fontsize=14)\n",
    "ax.legend(loc='upper right')\n",
    "ax.grid(True)\n",
    "\n",
    "# menampilkan plot\n",
    "plt.show()"
   ]
  },
  {
   "cell_type": "code",
   "execution_count": 30,
   "metadata": {},
   "outputs": [
    {
     "name": "stdout",
     "output_type": "stream",
     "text": [
      "[-0.99666935 -0.9971018  -0.9963332  -0.99628514 -0.9952773  -0.99412245\n",
      " -0.990335   -0.9853743  -0.9751682  -0.9941845  -0.9962371  -0.9959971\n",
      " -0.9959971  -0.9966213  -0.9968615  -0.99585307 -0.9956131  -0.99590105\n",
      " -0.9864415  -0.9830512  -0.9612444  -0.96680105 -0.9954212  -0.9959971\n",
      " -0.99676543 -0.99690956 -0.99638116 -0.9962371  -0.9933072  -0.99513334\n",
      " -0.98955464 -0.9318325  -0.6957254  -0.69863665 -0.84790194 -0.99513334\n",
      " -0.9959491  -0.9960931  -0.99430853 -0.9942465  -0.9959491  -0.9960931\n",
      " -0.99585307 -0.99393654 -0.99585307 -0.99532527 -0.9958051 ]\n"
     ]
    }
   ],
   "source": [
    "# 5. make predictions\n",
    "predictions = model.predict(testX, verbose=0)\n",
    "print(predictions[:, 0])"
   ]
  },
  {
   "cell_type": "markdown",
   "metadata": {},
   "source": [
    "### Evaluasi Model LSTM-RNN\n",
    "- https://www.datatechnotes.com/2019/02/regression-model-accuracy-mae-mse-rmse.html\n",
    "- https://lms.onnocenter.or.id/wiki/index.php/Orange:_Metric_Evaluation_Model#Mean_Squared_Error_.28MSE.29\n",
    "- https://scikit-learn.org/stable/modules/classes.html#module-sklearn.metrics"
   ]
  },
  {
   "cell_type": "code",
   "execution_count": 31,
   "metadata": {},
   "outputs": [
    {
     "name": "stdout",
     "output_type": "stream",
     "text": [
      "6/6 [==============================] - 0s 2ms/step - loss: 0.0831 - mean_absolute_error: 0.0831 - mean_squared_error: 0.0474 - root_mean_squared_error: 0.2178\n"
     ]
    },
    {
     "data": {
      "text/plain": [
       "[0.08307968080043793,\n",
       " 0.08307968080043793,\n",
       " 0.04744613543152809,\n",
       " 0.21782134473323822]"
      ]
     },
     "execution_count": 31,
     "metadata": {},
     "output_type": "execute_result"
    }
   ],
   "source": [
    "scores = model.evaluate(trainX, trainY)\n",
    "scores"
   ]
  },
  {
   "cell_type": "code",
   "execution_count": 32,
   "metadata": {},
   "outputs": [
    {
     "name": "stdout",
     "output_type": "stream",
     "text": [
      "2/2 [==============================] - 0s 4ms/step - loss: 0.0267 - mean_absolute_error: 0.0267 - mean_squared_error: 0.0069 - root_mean_squared_error: 0.0833\n"
     ]
    },
    {
     "data": {
      "text/plain": [
       "[0.02666185237467289,\n",
       " 0.02666185237467289,\n",
       " 0.006938300095498562,\n",
       " 0.08329645544290543]"
      ]
     },
     "execution_count": 32,
     "metadata": {},
     "output_type": "execute_result"
    }
   ],
   "source": [
    "scores = model.evaluate(testX, testY)\n",
    "scores"
   ]
  },
  {
   "cell_type": "markdown",
   "metadata": {},
   "source": [
    "- MAE"
   ]
  },
  {
   "cell_type": "code",
   "execution_count": 33,
   "metadata": {},
   "outputs": [
    {
     "name": "stdout",
     "output_type": "stream",
     "text": [
      "Test MAE : 0.0267\n"
     ]
    }
   ],
   "source": [
    "mae = mean_absolute_error(testY, predictions)\n",
    "print('Test MAE : %.4f' % mae)"
   ]
  },
  {
   "cell_type": "markdown",
   "metadata": {},
   "source": [
    "- MSE"
   ]
  },
  {
   "cell_type": "code",
   "execution_count": 34,
   "metadata": {},
   "outputs": [
    {
     "name": "stdout",
     "output_type": "stream",
     "text": [
      "Test MSE: 0.0069\n"
     ]
    }
   ],
   "source": [
    "mse = mean_squared_error(testY, predictions)\n",
    "print('Test MSE: %.4f' % mse)"
   ]
  },
  {
   "cell_type": "markdown",
   "metadata": {},
   "source": [
    "- RMSE"
   ]
  },
  {
   "cell_type": "code",
   "execution_count": 35,
   "metadata": {},
   "outputs": [
    {
     "name": "stdout",
     "output_type": "stream",
     "text": [
      "Test RMSE: 0.0833\n"
     ]
    }
   ],
   "source": [
    "# calculate RMSE\n",
    "rmse = sqrt(mse)\n",
    "print('Test RMSE: %.4f' % rmse)"
   ]
  },
  {
   "cell_type": "markdown",
   "metadata": {},
   "source": [
    "- Korelasi dan Signifikansi"
   ]
  },
  {
   "cell_type": "code",
   "execution_count": 36,
   "metadata": {},
   "outputs": [
    {
     "data": {
      "text/html": [
       "<div>\n",
       "<style scoped>\n",
       "    .dataframe tbody tr th:only-of-type {\n",
       "        vertical-align: middle;\n",
       "    }\n",
       "\n",
       "    .dataframe tbody tr th {\n",
       "        vertical-align: top;\n",
       "    }\n",
       "\n",
       "    .dataframe thead th {\n",
       "        text-align: right;\n",
       "    }\n",
       "</style>\n",
       "<table border=\"1\" class=\"dataframe\">\n",
       "  <thead>\n",
       "    <tr style=\"text-align: right;\">\n",
       "      <th></th>\n",
       "      <th>data_aktual</th>\n",
       "      <th>prediksi</th>\n",
       "    </tr>\n",
       "  </thead>\n",
       "  <tbody>\n",
       "    <tr>\n",
       "      <th>0</th>\n",
       "      <td>-0.999723</td>\n",
       "      <td>-0.996669</td>\n",
       "    </tr>\n",
       "    <tr>\n",
       "      <th>1</th>\n",
       "      <td>-0.997503</td>\n",
       "      <td>-0.997102</td>\n",
       "    </tr>\n",
       "    <tr>\n",
       "      <th>2</th>\n",
       "      <td>-0.997364</td>\n",
       "      <td>-0.996333</td>\n",
       "    </tr>\n",
       "    <tr>\n",
       "      <th>3</th>\n",
       "      <td>-0.994450</td>\n",
       "      <td>-0.996285</td>\n",
       "    </tr>\n",
       "    <tr>\n",
       "      <th>4</th>\n",
       "      <td>-0.991537</td>\n",
       "      <td>-0.995277</td>\n",
       "    </tr>\n",
       "  </tbody>\n",
       "</table>\n",
       "</div>"
      ],
      "text/plain": [
       "   data_aktual  prediksi\n",
       "0    -0.999723 -0.996669\n",
       "1    -0.997503 -0.997102\n",
       "2    -0.997364 -0.996333\n",
       "3    -0.994450 -0.996285\n",
       "4    -0.991537 -0.995277"
      ]
     },
     "execution_count": 36,
     "metadata": {},
     "output_type": "execute_result"
    }
   ],
   "source": [
    "hasil = np.stack((testY.reshape(-1), predictions.reshape(-1)), axis=1)\n",
    "hasil = pd.DataFrame(hasil, columns = ['data_aktual','prediksi'])\n",
    "hasil.head()"
   ]
  },
  {
   "cell_type": "code",
   "execution_count": 37,
   "metadata": {},
   "outputs": [
    {
     "name": "stdout",
     "output_type": "stream",
     "text": [
      "korelasi data akual dengan hasil prediksi 0.7058 dengan signifikansi 0.0000 \n"
     ]
    }
   ],
   "source": [
    "import scipy.stats as sc\n",
    "r, p = sc.pearsonr(hasil[\"data_aktual\"], hasil[\"prediksi\"])\n",
    "print(\"korelasi data akual dengan hasil prediksi\" +\" {:.4f} \".format(r)+ \"dengan signifikansi\" +\" {:.4f} \".format(p))"
   ]
  },
  {
   "cell_type": "markdown",
   "metadata": {},
   "source": [
    "- Waktu komputasi"
   ]
  },
  {
   "cell_type": "code",
   "execution_count": 38,
   "metadata": {},
   "outputs": [],
   "source": [
    "# Set akhir waktu komputasi \n",
    "end = time.time()"
   ]
  },
  {
   "cell_type": "code",
   "execution_count": 39,
   "metadata": {},
   "outputs": [],
   "source": [
    "# Proses menghitung waktu komputasi\n",
    "hours, rem = divmod(end-start, 3600)\n",
    "minutes, seconds = divmod(rem, 60)"
   ]
  },
  {
   "cell_type": "code",
   "execution_count": 40,
   "metadata": {},
   "outputs": [
    {
     "name": "stdout",
     "output_type": "stream",
     "text": [
      "00:02:25.15\n"
     ]
    }
   ],
   "source": [
    "# Hasil waktu komputasi\n",
    "print(\"{:0>2}:{:0>2}:{:05.2f}\".format(int(hours),int(minutes),seconds))"
   ]
  },
  {
   "cell_type": "markdown",
   "metadata": {},
   "source": [
    "### Visualisasi Data"
   ]
  },
  {
   "cell_type": "code",
   "execution_count": 41,
   "metadata": {},
   "outputs": [
    {
     "data": {
      "image/png": "[encoded data removed]",
      "text/plain": [
       "<Figure size 1000x500 with 1 Axes>"
      ]
     },
     "metadata": {},
     "output_type": "display_data"
    }
   ],
   "source": [
    "# generate urutan data sesuai panjang datanya\n",
    "x = pd.date_range(start=\"2017-01-01\", periods=len(testY), freq='MS')\n",
    "\n",
    "# membuat frame\n",
    "fig, ax = plt.subplots(figsize = (10,5))\n",
    "\n",
    "# membuat time series plot\n",
    "ax.plot(x, testY, color=\"tab:blue\", label=\"data aktual\", linewidth=2.5)\n",
    "ax.plot(x, predictions, color=\"tab:red\", label=\"hasil prediksi\", linewidth=2.5)\n",
    "\n",
    "# membuat label-label\n",
    "# ax.set_title(\"Hotspot Sumsel Sensor MODIS 2018-2020\", fontsize=14)\n",
    "ax.set_xlabel(\"Tanggal\", fontsize=12)\n",
    "ax.set_ylabel(\"Jumlah Hostpot\", fontsize=12)\n",
    "ax.legend(loc='upper right')\n",
    "ax.grid(True)\n",
    "\n",
    "# menampilkan plot\n",
    "plt.show()"
   ]
  },
  {
   "cell_type": "code",
   "execution_count": null,
   "metadata": {},
   "outputs": [],
   "source": []
  }
 ],
 "metadata": {
  "kernelspec": {
   "display_name": "Python 3 (ipykernel)",
   "language": "python",
   "name": "python3"
  },
  "language_info": {
   "codemirror_mode": {
    "name": "ipython",
    "version": 3
   },
   "file_extension": ".py",
   "mimetype": "text/x-python",
   "name": "python",
   "nbconvert_exporter": "python",
   "pygments_lexer": "ipython3",
   "version": "3.9.13"
  },
  "vscode": {
   "interpreter": {
    "hash": "37197ad202cea1caf8a636a74cec7c83b945e4f29ac1505900600f740c02611d"
   }
  }
 },
 "nbformat": 4,
 "nbformat_minor": 4
}
