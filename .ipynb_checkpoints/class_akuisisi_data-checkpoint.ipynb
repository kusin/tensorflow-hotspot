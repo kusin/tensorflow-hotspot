{
 "cells": [
  {
   "cell_type": "markdown",
   "id": "b3e6d58d",
   "metadata": {},
   "source": [
    "### Class Akusisi Data"
   ]
  },
  {
   "cell_type": "code",
   "execution_count": 1,
   "id": "f62f370e",
   "metadata": {},
   "outputs": [],
   "source": [
    "# pustaka manipulasi data array\n",
    "import numpy as np\n",
    "from numpy import concatenate\n",
    "\n",
    "# pustaka manipulasi data frame\n",
    "import pandas as pd\n",
    "from pandas import concat\n",
    "from pandas import DataFrame\n",
    "\n",
    "# pustaka tanggal\n",
    "from datetime import datetime"
   ]
  },
  {
   "cell_type": "code",
   "execution_count": 2,
   "id": "2845cfb5",
   "metadata": {},
   "outputs": [],
   "source": [
    "# transform numpy to DataFrame\n",
    "def parse_dataset(nm_dataset, nm_kolom):\n",
    "    hasil = pd.DataFrame(nm_dataset, columns=[nm_kolom])\n",
    "    return hasil"
   ]
  },
  {
   "cell_type": "code",
   "execution_count": 3,
   "id": "1cbabcdc",
   "metadata": {},
   "outputs": [],
   "source": [
    "# fungsi membaca csv + nama kolom\n",
    "def load_dataset (nm_dataset, nm_kolom):\n",
    "    hasil = pd.read_csv(nm_dataset, usecols=[nm_kolom], engine=\"python\")\n",
    "    return hasil"
   ]
  },
  {
   "cell_type": "code",
   "execution_count": 4,
   "id": "2ee4cd9e",
   "metadata": {},
   "outputs": [],
   "source": [
    "# fungsi membaca csv\n",
    "def load_dataset_csv(nm_dataset):\n",
    "    # versi lama\n",
    "    # hasil = pd.read_csv(\"D:/Belajar Python/dataset/dataset tesis/\"+nm_dataset, engine=\"python\")\n",
    "    \n",
    "    # versi baru\n",
    "    hasil = pd.read_csv(\"D:/dataset/\"+nm_dataset, engine=\"python\")\n",
    "    \n",
    "    return hasil"
   ]
  },
  {
   "cell_type": "code",
   "execution_count": 5,
   "id": "1f47c8bc",
   "metadata": {},
   "outputs": [],
   "source": [
    "# fungsi membaca xlsx\n",
    "def load_dataset_excel(nm_dataset, nm_sheet):\n",
    "    # versi lama\n",
    "    # hasil = pd.read_excel(\"D:/Belajar Python/dataset/dataset tesis/\"+nm_dataset, sheet_name=nm_sheet, engine=\"openpyxl\")\n",
    "    \n",
    "    # versi baru\n",
    "    hasil = pd.read_excel(\"D:/dataset/\"+nm_dataset, sheet_name=nm_sheet, engine=\"openpyxl\")\n",
    "    \n",
    "    return hasil"
   ]
  },
  {
   "cell_type": "code",
   "execution_count": 6,
   "id": "1cf6787f",
   "metadata": {},
   "outputs": [],
   "source": [
    "# fungsi untuk load data hotspot berdasarkan periode waktu tertentu\n",
    "def data_hotspot(nm_dataset):\n",
    "    # memanggil fungsi untuk membaca datanya\n",
    "    hasil = load_dataset_csv(nm_dataset)\n",
    "    \n",
    "    # melakukan konversi data menjadi format tanggal pada kolom acq_date\n",
    "    hasil[\"acq_date\"] = pd.to_datetime(hasil[\"acq_date\"], format=\"%Y-%m-%d\")\n",
    "    \n",
    "    # sorting berdasarkan tanggal\n",
    "    hasil = hasil.sort_values(by=[\"acq_date\"])\n",
    "    \n",
    "    # pengembalian nilai dataset\n",
    "    return hasil"
   ]
  },
  {
   "cell_type": "code",
   "execution_count": 7,
   "id": "b3d67cba",
   "metadata": {},
   "outputs": [],
   "source": [
    "# fungsi untuk load data iklim berdasarkan periode waktu tertentu\n",
    "def data_iklim(nm_dataset, nm_sheet):\n",
    "    # memanggil fungsi untuk membaca datanya\n",
    "    hasil = load_dataset_excel(nm_dataset, nm_sheet)\n",
    "    \n",
    "    # melakukan konversi data menjadi format tanggal pada kolom tanggal\n",
    "    hasil[\"Tanggal\"] = pd.to_datetime(hasil[\"Tanggal\"], format=\"%d-%m-%Y\")\n",
    "    \n",
    "    # sorting berdasarkan tanggal\n",
    "    hasil = hasil.sort_values(by=[\"Tanggal\"])\n",
    "    \n",
    "    # pengembalian nilai dataset\n",
    "    return hasil"
   ]
  },
  {
   "cell_type": "code",
   "execution_count": 8,
   "id": "3c887a4b",
   "metadata": {},
   "outputs": [],
   "source": [
    "# fungsi konversi tanggal\n",
    "def format_tanggal(df, format_bawaan):\n",
    "    # proses konversi tanggal\n",
    "    if format_bawaan == \"ymd\":\n",
    "        hasil = pd.to_datetime(df, format=\"%Y-%m-%d\")\n",
    "    elif format_bawaan == \"dmy\":\n",
    "        hasil = pd.to_datetime(df, format=\"%d-%m-%Y\")\n",
    "    else:\n",
    "        hasil = print(\"format tanggal salah\")\n",
    "    # mengembalikan nilai tanggal\n",
    "    return hasil"
   ]
  },
  {
   "cell_type": "code",
   "execution_count": null,
   "id": "4b233f5d",
   "metadata": {},
   "outputs": [],
   "source": []
  }
 ],
 "metadata": {
  "kernelspec": {
   "display_name": "Python 3 (ipykernel)",
   "language": "python",
   "name": "python3"
  },
  "language_info": {
   "codemirror_mode": {
    "name": "ipython",
    "version": 3
   },
   "file_extension": ".py",
   "mimetype": "text/x-python",
   "name": "python",
   "nbconvert_exporter": "python",
   "pygments_lexer": "ipython3",
   "version": "3.9.13"
  },
  "vscode": {
   "interpreter": {
    "hash": "37197ad202cea1caf8a636a74cec7c83b945e4f29ac1505900600f740c02611d"
   }
  }
 },
 "nbformat": 4,
 "nbformat_minor": 5
}
