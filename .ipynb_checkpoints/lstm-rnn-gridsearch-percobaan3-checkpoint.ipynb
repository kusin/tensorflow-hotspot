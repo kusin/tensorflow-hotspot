{
 "cells": [
  {
   "cell_type": "markdown",
   "metadata": {
    "id": "qmEp_gntlAX_"
   },
   "source": [
    "### Hyperparameter GridSearchCV LSTM-RNN Percobaan 3"
   ]
  },
  {
   "cell_type": "markdown",
   "metadata": {},
   "source": [
    "- Variabel Terikat : Titik Panas\n",
    "- Variabel Bebas : SST, SOI, ONI"
   ]
  },
  {
   "cell_type": "code",
   "execution_count": 1,
   "metadata": {
    "id": "aFdF9w2TlAYC"
   },
   "outputs": [],
   "source": [
    "# pustaka untuk manipulasi data\n",
    "import pandas as pd\n",
    "from pandas import concat\n",
    "from pandas import DataFrame\n",
    "from pandas import read_csv\n",
    "from pandas import read_excel\n",
    "import numpy as np\n",
    "from numpy import concatenate\n",
    "\n",
    "# pustaka untuk waktu komputasi\n",
    "import time\n",
    "from datetime import datetime\n",
    "\n",
    "# Pustaka untuk visualisasi data\n",
    "import seaborn as sns # Visualization\n",
    "from matplotlib import pyplot\n",
    "from matplotlib import pyplot as plt\n",
    "\n",
    "# Pustaka untuk membuat data latih dan data uji.\n",
    "from sklearn.preprocessing import MinMaxScaler\n",
    "from sklearn.preprocessing import LabelEncoder\n",
    "\n",
    "# Pustaka untuk membuat model prediksi LSTM-RNN\n",
    "import itertools\n",
    "import tensorflow as tf\n",
    "from keras.models import Sequential\n",
    "from keras.layers import Dense\n",
    "from keras.layers import Dropout\n",
    "from keras.layers import LSTM\n",
    "from keras.optimizers import Adam, Adamax, RMSprop, SGD\n",
    "\n",
    "# Early stoping\n",
    "from keras.callbacks import EarlyStopping\n",
    "from keras.callbacks import ModelCheckpoint\n",
    "\n",
    "# Pustaka untuk  evaluasi model prediksi\n",
    "from math import sqrt\n",
    "from sklearn.metrics import mean_squared_error"
   ]
  },
  {
   "cell_type": "code",
   "execution_count": 2,
   "metadata": {},
   "outputs": [],
   "source": [
    "# Set waktu komputasi\n",
    "start = time.time()"
   ]
  },
  {
   "cell_type": "code",
   "execution_count": 3,
   "metadata": {},
   "outputs": [],
   "source": [
    "# fix random seed for reproducibility\n",
    "np.random.seed(1234)"
   ]
  },
  {
   "cell_type": "code",
   "execution_count": 4,
   "metadata": {
    "id": "QO6BLIJxlAYC"
   },
   "outputs": [],
   "source": [
    "# membaca dataset\n",
    "dataset = pd.read_excel(\"D:/Belajar Python/dataset/dataset tesis/dataset.xlsx\")"
   ]
  },
  {
   "cell_type": "code",
   "execution_count": 5,
   "metadata": {
    "id": "_X0C84vZlAYD"
   },
   "outputs": [],
   "source": [
    "# set index tanggal\n",
    "dataset = dataset.set_index(\"tanggal\")"
   ]
  },
  {
   "cell_type": "code",
   "execution_count": 6,
   "metadata": {
    "colab": {
     "base_uri": "https://localhost:8080/"
    },
    "executionInfo": {
     "elapsed": 3,
     "status": "ok",
     "timestamp": 1626258920272,
     "user": {
      "displayName": "colab aji",
      "photoUrl": "",
      "userId": "15648518280582116117"
     },
     "user_tz": -420
    },
    "id": "ex6mK9NwlAYD",
    "outputId": "f3a673bb-ad4a-4809-96d5-3bb8c8829b94"
   },
   "outputs": [
    {
     "name": "stdout",
     "output_type": "stream",
     "text": [
      "<class 'pandas.core.frame.DataFrame'>\n",
      "DatetimeIndex: 240 entries, 2001-01-31 to 2020-12-31\n",
      "Data columns (total 5 columns):\n",
      " #   Column          Non-Null Count  Dtype  \n",
      "---  ------          --------------  -----  \n",
      " 0   sst             240 non-null    float64\n",
      " 1   soi             240 non-null    float64\n",
      " 2   oni             240 non-null    float64\n",
      " 3   curah_hujan     240 non-null    float64\n",
      " 4   hotspot_sumsel  240 non-null    int64  \n",
      "dtypes: float64(4), int64(1)\n",
      "memory usage: 11.2 KB\n"
     ]
    }
   ],
   "source": [
    "# set informasi dataset\n",
    "dataset.info()"
   ]
  },
  {
   "cell_type": "code",
   "execution_count": 7,
   "metadata": {
    "colab": {
     "base_uri": "https://localhost:8080/",
     "height": 450
    },
    "executionInfo": {
     "elapsed": 10,
     "status": "ok",
     "timestamp": 1626258922893,
     "user": {
      "displayName": "colab aji",
      "photoUrl": "",
      "userId": "15648518280582116117"
     },
     "user_tz": -420
    },
    "id": "-tCG5W3UlAYE",
    "outputId": "6ddd11f7-e325-4134-e0bf-fbf164eeef54"
   },
   "outputs": [
    {
     "name": "stdout",
     "output_type": "stream",
     "text": [
      "             sst  soi   oni  curah_hujan  hotspot_sumsel\n",
      "tanggal                                                 \n",
      "2001-01-31 -0.76  1.0 -0.68   418.600006               3\n",
      "2001-02-28 -0.56  1.7 -0.52   295.399994               5\n",
      "2001-03-31 -0.37  0.9 -0.44   360.600006              10\n",
      "2001-04-30 -0.56  0.2 -0.34   403.700012              20\n",
      "2001-05-31 -0.46 -0.5 -0.25   116.900002              39\n"
     ]
    }
   ],
   "source": [
    "# menampilkan dataset\n",
    "print(dataset.head())"
   ]
  },
  {
   "cell_type": "markdown",
   "metadata": {
    "id": "vHygYC21lAYF"
   },
   "source": [
    "### Studi kasus wilayah Sumatra Selatan"
   ]
  },
  {
   "cell_type": "code",
   "execution_count": 8,
   "metadata": {
    "id": "NLHR0cBblAYG"
   },
   "outputs": [
    {
     "name": "stdout",
     "output_type": "stream",
     "text": [
      "<class 'pandas.core.frame.DataFrame'>\n",
      "DatetimeIndex: 240 entries, 2001-01-31 to 2020-12-31\n",
      "Data columns (total 3 columns):\n",
      " #   Column          Non-Null Count  Dtype  \n",
      "---  ------          --------------  -----  \n",
      " 0   hotspot_sumsel  240 non-null    int64  \n",
      " 1   sst             240 non-null    float64\n",
      " 2   soi             240 non-null    float64\n",
      "dtypes: float64(2), int64(1)\n",
      "memory usage: 7.5 KB\n"
     ]
    }
   ],
   "source": [
    "# memilih area studi\n",
    "df_sumsel = dataset[[\"hotspot_sumsel\", \"sst\", \"soi\"]]\n",
    "df_sumsel.info()"
   ]
  },
  {
   "cell_type": "code",
   "execution_count": 9,
   "metadata": {
    "colab": {
     "base_uri": "https://localhost:8080/",
     "height": 450
    },
    "executionInfo": {
     "elapsed": 4,
     "status": "ok",
     "timestamp": 1626258927759,
     "user": {
      "displayName": "colab aji",
      "photoUrl": "",
      "userId": "15648518280582116117"
     },
     "user_tz": -420
    },
    "id": "NDmtn18olAYG",
    "outputId": "81155b7f-8f28-4380-c9d5-305d2769609c"
   },
   "outputs": [
    {
     "name": "stdout",
     "output_type": "stream",
     "text": [
      "            hotspot_sumsel   sst  soi\n",
      "tanggal                              \n",
      "2001-01-31               3 -0.76  1.0\n",
      "2001-02-28               5 -0.56  1.7\n",
      "2001-03-31              10 -0.37  0.9\n",
      "2001-04-30              20 -0.56  0.2\n",
      "2001-05-31              39 -0.46 -0.5\n"
     ]
    }
   ],
   "source": [
    "print(df_sumsel.head())"
   ]
  },
  {
   "cell_type": "code",
   "execution_count": 10,
   "metadata": {
    "id": "lkvpA74UlAYH"
   },
   "outputs": [],
   "source": [
    "# ensure all data is float\n",
    "values = df_sumsel.values\n",
    "values = values.astype('float32')"
   ]
  },
  {
   "cell_type": "markdown",
   "metadata": {
    "id": "ChnwwI0tlAYH"
   },
   "source": [
    "### Normalisasi Data"
   ]
  },
  {
   "cell_type": "code",
   "execution_count": 11,
   "metadata": {
    "id": "Fbrm4QrllAYH"
   },
   "outputs": [],
   "source": [
    "# membuat fungsi max-min scaler\n",
    "# menggunakan pustaka scikit-learn\n",
    "def normalisasi_max_min(df):\n",
    "    # memanggil fungsi max min scaler\n",
    "    hasil = preprocessing.MinMaxScaler(feature_range=(-1, 1))\n",
    "    \n",
    "    # proses max min scaler\n",
    "    hasil = hasil.fit_transform(df)\n",
    "    \n",
    "    # pengembalian nilai\n",
    "    return hasil"
   ]
  },
  {
   "cell_type": "code",
   "execution_count": 12,
   "metadata": {},
   "outputs": [],
   "source": [
    "# normalize features\n",
    "scaler = MinMaxScaler(feature_range=(-1, 1))\n",
    "scaled = scaler.fit_transform(values)"
   ]
  },
  {
   "cell_type": "code",
   "execution_count": 13,
   "metadata": {},
   "outputs": [
    {
     "data": {
      "text/plain": [
       "array([[-0.999723, -0.614849,  0.366667],\n",
       "       [-0.999445, -0.522042,  0.6     ],\n",
       "       [-0.998751, -0.433875,  0.333333],\n",
       "       [-0.997364, -0.522042,  0.1     ],\n",
       "       [-0.994728, -0.475638, -0.133333]], dtype=float32)"
      ]
     },
     "execution_count": 13,
     "metadata": {},
     "output_type": "execute_result"
    }
   ],
   "source": [
    "np.round(scaled[:5],6)"
   ]
  },
  {
   "cell_type": "markdown",
   "metadata": {
    "id": "QGGUCbtxlAYI"
   },
   "source": [
    "### Normalisasi dan Supervised learning"
   ]
  },
  {
   "cell_type": "code",
   "execution_count": 14,
   "metadata": {
    "id": "MS2tmB8llAYJ"
   },
   "outputs": [],
   "source": [
    "def series_to_supervised(data, n_in=1, n_out=1, dropnan=True):\n",
    "    n_vars = 1 if type(data) is list else data.shape[1]\n",
    "    df = pd.DataFrame(data)\n",
    "    cols, names = list(), list()\n",
    "    \n",
    "    # input sequence (t-n, ... t-1)\n",
    "    for i in range(n_in, 0, -1):\n",
    "        cols.append(df.shift(i))\n",
    "        names += [('var%d(t-%d)' % (j+1, i)) for j in range(n_vars)]\n",
    "    \n",
    "    # forecast sequence (t, t+1, ... t+n)\n",
    "    for i in range(0, n_out):\n",
    "        cols.append(df.shift(-i))\n",
    "        if i == 0:\n",
    "            names += [('var%d(t)' % (j+1)) for j in range(n_vars)]\n",
    "        else:\n",
    "            names += [('var%d(t+%d)' % (j+1, i)) for j in range(n_vars)]\n",
    "    \n",
    "    # put it all together\n",
    "    agg = pd.concat(cols, axis=1)\n",
    "    agg.columns = names\n",
    "    \n",
    "    # drop rows with NaN values\n",
    "    if dropnan:\n",
    "        agg.dropna(inplace=True)\n",
    "    \n",
    "    # return value\n",
    "    return agg"
   ]
  },
  {
   "cell_type": "code",
   "execution_count": 15,
   "metadata": {
    "id": "sO4ef4_dlAYJ"
   },
   "outputs": [],
   "source": [
    "# supervised learning\n",
    "reframed = series_to_supervised(scaled, 1, 1)"
   ]
  },
  {
   "cell_type": "code",
   "execution_count": 16,
   "metadata": {
    "id": "rwM0hrEJlAYJ"
   },
   "outputs": [],
   "source": [
    "# drop columns we don't want to predict\n",
    "reframed.drop(reframed.columns[[4,5]], axis=1, inplace=True)"
   ]
  },
  {
   "cell_type": "code",
   "execution_count": 17,
   "metadata": {
    "colab": {
     "base_uri": "https://localhost:8080/",
     "height": 419
    },
    "executionInfo": {
     "elapsed": 3,
     "status": "ok",
     "timestamp": 1626258939582,
     "user": {
      "displayName": "colab aji",
      "photoUrl": "",
      "userId": "15648518280582116117"
     },
     "user_tz": -420
    },
    "id": "e7cBI6cjlAYJ",
    "outputId": "d26c9baa-7d8f-40b8-a70f-3077ff3eae72"
   },
   "outputs": [],
   "source": [
    "values = reframed.values"
   ]
  },
  {
   "cell_type": "code",
   "execution_count": 18,
   "metadata": {},
   "outputs": [
    {
     "name": "stdout",
     "output_type": "stream",
     "text": [
      "   var1(t-1)  var2(t-1)  var3(t-1)   var1(t)\n",
      "1  -0.999723  -0.614849   0.366667 -0.999445\n",
      "2  -0.999445  -0.522042   0.600000 -0.998751\n",
      "3  -0.998751  -0.433875   0.333333 -0.997364\n",
      "4  -0.997364  -0.522042   0.100000 -0.994728\n",
      "5  -0.994728  -0.475638  -0.133333 -0.999029\n"
     ]
    }
   ],
   "source": [
    "print(reframed.head())"
   ]
  },
  {
   "cell_type": "markdown",
   "metadata": {
    "id": "uzdHWPJBlAYK"
   },
   "source": [
    "### Data latih dan Data uji"
   ]
  },
  {
   "cell_type": "code",
   "execution_count": 19,
   "metadata": {
    "id": "112zwkjllAYK"
   },
   "outputs": [],
   "source": [
    "# split into train and test sets\n",
    "train_size = int(len(values) * 0.8)\n",
    "test_size = len(values) - train_size\n",
    "train, test = values[0:train_size,:], values[train_size:len(values),:]"
   ]
  },
  {
   "cell_type": "code",
   "execution_count": 20,
   "metadata": {
    "id": "ZgWternzlAYK"
   },
   "outputs": [],
   "source": [
    "# split into input and outputs\n",
    "train_X, train_y = train[:, :-1], train[:, -1]\n",
    "test_X, test_y = test[:, :-1], test[:, -1]"
   ]
  },
  {
   "cell_type": "code",
   "execution_count": 21,
   "metadata": {
    "id": "CrpRb-ZGlAYK"
   },
   "outputs": [],
   "source": [
    "# reshape input to be 3D [samples, timesteps, features]\n",
    "train_X = train_X.reshape((train_X.shape[0], 1, train_X.shape[1]))\n",
    "test_X = test_X.reshape((test_X.shape[0], 1, test_X.shape[1]))"
   ]
  },
  {
   "cell_type": "code",
   "execution_count": 22,
   "metadata": {
    "colab": {
     "base_uri": "https://localhost:8080/"
    },
    "executionInfo": {
     "elapsed": 2,
     "status": "ok",
     "timestamp": 1626258949398,
     "user": {
      "displayName": "colab aji",
      "photoUrl": "",
      "userId": "15648518280582116117"
     },
     "user_tz": -420
    },
    "id": "cGk1fqY1lAYK",
    "outputId": "2e69741d-7616-4375-8f91-c4cdb2c34487"
   },
   "outputs": [
    {
     "name": "stdout",
     "output_type": "stream",
     "text": [
      "(191, 1, 3) (191,) (48, 1, 3) (48,)\n"
     ]
    }
   ],
   "source": [
    "print(train_X.shape, train_y.shape, test_X.shape, test_y.shape)"
   ]
  },
  {
   "cell_type": "markdown",
   "metadata": {},
   "source": [
    "### Hyperparameter GridSearchCV LTSM-RNN"
   ]
  },
  {
   "cell_type": "code",
   "execution_count": 23,
   "metadata": {},
   "outputs": [],
   "source": [
    "from keras.wrappers.scikit_learn import KerasClassifier\n",
    "from keras.wrappers.scikit_learn import KerasRegressor\n",
    "from sklearn.model_selection import GridSearchCV"
   ]
  },
  {
   "cell_type": "code",
   "execution_count": 24,
   "metadata": {},
   "outputs": [],
   "source": [
    "parameters = {'neurons' : [10],\n",
    "              'activation' : ['sigmoid', 'tanh', 'relu', 'selu', 'elu', 'softplus'],\n",
    "              'optimizer' : ['adam', 'adamax', 'rmsprop', 'sgd'],\n",
    "              'dropout_rate' : [0.05, 0.1, 0.15, 0.2, 0.25],\n",
    "              'epochs' : [2000],\n",
    "              'batch_size' : [4, 8, 16, 32, 64],\n",
    "              'verbose' : [0]}"
   ]
  },
  {
   "cell_type": "code",
   "execution_count": 25,
   "metadata": {},
   "outputs": [],
   "source": [
    "scoring = {'r2','neg_mean_absolute_error','neg_root_mean_squared_error'}"
   ]
  },
  {
   "cell_type": "code",
   "execution_count": 26,
   "metadata": {},
   "outputs": [
    {
     "name": "stdout",
     "output_type": "stream",
     "text": [
      "600 kombinasi hyperparameter\n"
     ]
    }
   ],
   "source": [
    "keys = parameters.keys()\n",
    "values = (parameters[key] for key in keys)\n",
    "combinations = [dict(zip(keys, combination)) for combination in itertools.product(*values)]\n",
    "print(len(combinations), str('kombinasi hyperparameter'))"
   ]
  },
  {
   "cell_type": "code",
   "execution_count": 27,
   "metadata": {},
   "outputs": [],
   "source": [
    "def build_classifier(neurons='', activation='', optimizer='', dropout_rate=''):\n",
    "    tf.keras.backend.clear_session()\n",
    "    \n",
    "    # design network\n",
    "    grid_model = Sequential()\n",
    "    grid_model.add(LSTM(units=neurons, activation=activation, input_shape=(train_X.shape[1], train_X.shape[2])))\n",
    "    grid_model.add(Dropout(dropout_rate))\n",
    "    grid_model.add(Dense(1))\n",
    "\n",
    "    # model compile\n",
    "    grid_model.compile(loss='mae', optimizer=optimizer)\n",
    "    \n",
    "    # return value\n",
    "    return grid_model"
   ]
  },
  {
   "cell_type": "code",
   "execution_count": 28,
   "metadata": {},
   "outputs": [],
   "source": [
    "grid_model = KerasRegressor(build_fn=build_classifier)"
   ]
  },
  {
   "cell_type": "code",
   "execution_count": 29,
   "metadata": {},
   "outputs": [],
   "source": [
    "grid_search = GridSearchCV(estimator=grid_model, param_grid=parameters, n_jobs=-1, cv=2, scoring='neg_mean_absolute_error')"
   ]
  },
  {
   "cell_type": "code",
   "execution_count": 30,
   "metadata": {},
   "outputs": [],
   "source": [
    "grid_result = grid_search.fit(train_X, train_y)"
   ]
  },
  {
   "cell_type": "code",
   "execution_count": 31,
   "metadata": {},
   "outputs": [
    {
     "name": "stdout",
     "output_type": "stream",
     "text": [
      "Best parameters: -0.080603 using {'activation': 'elu', 'batch_size': 16, 'dropout_rate': 0.15, 'epochs': 2000, 'neurons': 10, 'optimizer': 'rmsprop', 'verbose': 0}\n",
      "\n",
      "-0.089804 (0.016448) with: {'activation': 'sigmoid', 'batch_size': 4, 'dropout_rate': 0.05, 'epochs': 2000, 'neurons': 10, 'optimizer': 'adam', 'verbose': 0}\n",
      "-0.091290 (0.013653) with: {'activation': 'sigmoid', 'batch_size': 4, 'dropout_rate': 0.05, 'epochs': 2000, 'neurons': 10, 'optimizer': 'adamax', 'verbose': 0}\n",
      "-0.091464 (0.016896) with: {'activation': 'sigmoid', 'batch_size': 4, 'dropout_rate': 0.05, 'epochs': 2000, 'neurons': 10, 'optimizer': 'rmsprop', 'verbose': 0}\n",
      "-0.095433 (0.018202) with: {'activation': 'sigmoid', 'batch_size': 4, 'dropout_rate': 0.05, 'epochs': 2000, 'neurons': 10, 'optimizer': 'sgd', 'verbose': 0}\n",
      "-0.091956 (0.014216) with: {'activation': 'sigmoid', 'batch_size': 4, 'dropout_rate': 0.1, 'epochs': 2000, 'neurons': 10, 'optimizer': 'adam', 'verbose': 0}\n",
      "-0.090884 (0.015023) with: {'activation': 'sigmoid', 'batch_size': 4, 'dropout_rate': 0.1, 'epochs': 2000, 'neurons': 10, 'optimizer': 'adamax', 'verbose': 0}\n",
      "-0.093276 (0.014975) with: {'activation': 'sigmoid', 'batch_size': 4, 'dropout_rate': 0.1, 'epochs': 2000, 'neurons': 10, 'optimizer': 'rmsprop', 'verbose': 0}\n",
      "-0.096532 (0.017632) with: {'activation': 'sigmoid', 'batch_size': 4, 'dropout_rate': 0.1, 'epochs': 2000, 'neurons': 10, 'optimizer': 'sgd', 'verbose': 0}\n",
      "-0.092507 (0.015616) with: {'activation': 'sigmoid', 'batch_size': 4, 'dropout_rate': 0.15, 'epochs': 2000, 'neurons': 10, 'optimizer': 'adam', 'verbose': 0}\n",
      "-0.092237 (0.013375) with: {'activation': 'sigmoid', 'batch_size': 4, 'dropout_rate': 0.15, 'epochs': 2000, 'neurons': 10, 'optimizer': 'adamax', 'verbose': 0}\n",
      "-0.092097 (0.016178) with: {'activation': 'sigmoid', 'batch_size': 4, 'dropout_rate': 0.15, 'epochs': 2000, 'neurons': 10, 'optimizer': 'rmsprop', 'verbose': 0}\n",
      "-0.102018 (0.014292) with: {'activation': 'sigmoid', 'batch_size': 4, 'dropout_rate': 0.15, 'epochs': 2000, 'neurons': 10, 'optimizer': 'sgd', 'verbose': 0}\n",
      "-0.092547 (0.015394) with: {'activation': 'sigmoid', 'batch_size': 4, 'dropout_rate': 0.2, 'epochs': 2000, 'neurons': 10, 'optimizer': 'adam', 'verbose': 0}\n",
      "-0.092645 (0.015193) with: {'activation': 'sigmoid', 'batch_size': 4, 'dropout_rate': 0.2, 'epochs': 2000, 'neurons': 10, 'optimizer': 'adamax', 'verbose': 0}\n",
      "-0.091666 (0.013249) with: {'activation': 'sigmoid', 'batch_size': 4, 'dropout_rate': 0.2, 'epochs': 2000, 'neurons': 10, 'optimizer': 'rmsprop', 'verbose': 0}\n",
      "-0.102306 (0.013723) with: {'activation': 'sigmoid', 'batch_size': 4, 'dropout_rate': 0.2, 'epochs': 2000, 'neurons': 10, 'optimizer': 'sgd', 'verbose': 0}\n",
      "-0.092421 (0.013645) with: {'activation': 'sigmoid', 'batch_size': 4, 'dropout_rate': 0.25, 'epochs': 2000, 'neurons': 10, 'optimizer': 'adam', 'verbose': 0}\n",
      "-0.092750 (0.013731) with: {'activation': 'sigmoid', 'batch_size': 4, 'dropout_rate': 0.25, 'epochs': 2000, 'neurons': 10, 'optimizer': 'adamax', 'verbose': 0}\n",
      "-0.090939 (0.012912) with: {'activation': 'sigmoid', 'batch_size': 4, 'dropout_rate': 0.25, 'epochs': 2000, 'neurons': 10, 'optimizer': 'rmsprop', 'verbose': 0}\n",
      "-0.099713 (0.016358) with: {'activation': 'sigmoid', 'batch_size': 4, 'dropout_rate': 0.25, 'epochs': 2000, 'neurons': 10, 'optimizer': 'sgd', 'verbose': 0}\n",
      "-0.088289 (0.014469) with: {'activation': 'sigmoid', 'batch_size': 8, 'dropout_rate': 0.05, 'epochs': 2000, 'neurons': 10, 'optimizer': 'adam', 'verbose': 0}\n",
      "-0.093946 (0.013599) with: {'activation': 'sigmoid', 'batch_size': 8, 'dropout_rate': 0.05, 'epochs': 2000, 'neurons': 10, 'optimizer': 'adamax', 'verbose': 0}\n",
      "-0.089088 (0.013216) with: {'activation': 'sigmoid', 'batch_size': 8, 'dropout_rate': 0.05, 'epochs': 2000, 'neurons': 10, 'optimizer': 'rmsprop', 'verbose': 0}\n",
      "-0.096294 (0.018870) with: {'activation': 'sigmoid', 'batch_size': 8, 'dropout_rate': 0.05, 'epochs': 2000, 'neurons': 10, 'optimizer': 'sgd', 'verbose': 0}\n",
      "-0.090262 (0.013332) with: {'activation': 'sigmoid', 'batch_size': 8, 'dropout_rate': 0.1, 'epochs': 2000, 'neurons': 10, 'optimizer': 'adam', 'verbose': 0}\n",
      "-0.093018 (0.014764) with: {'activation': 'sigmoid', 'batch_size': 8, 'dropout_rate': 0.1, 'epochs': 2000, 'neurons': 10, 'optimizer': 'adamax', 'verbose': 0}\n",
      "-0.089437 (0.013527) with: {'activation': 'sigmoid', 'batch_size': 8, 'dropout_rate': 0.1, 'epochs': 2000, 'neurons': 10, 'optimizer': 'rmsprop', 'verbose': 0}\n",
      "-0.100448 (0.016736) with: {'activation': 'sigmoid', 'batch_size': 8, 'dropout_rate': 0.1, 'epochs': 2000, 'neurons': 10, 'optimizer': 'sgd', 'verbose': 0}\n",
      "-0.090371 (0.014239) with: {'activation': 'sigmoid', 'batch_size': 8, 'dropout_rate': 0.15, 'epochs': 2000, 'neurons': 10, 'optimizer': 'adam', 'verbose': 0}\n",
      "-0.093986 (0.015391) with: {'activation': 'sigmoid', 'batch_size': 8, 'dropout_rate': 0.15, 'epochs': 2000, 'neurons': 10, 'optimizer': 'adamax', 'verbose': 0}\n",
      "-0.091517 (0.012991) with: {'activation': 'sigmoid', 'batch_size': 8, 'dropout_rate': 0.15, 'epochs': 2000, 'neurons': 10, 'optimizer': 'rmsprop', 'verbose': 0}\n",
      "-0.100067 (0.016161) with: {'activation': 'sigmoid', 'batch_size': 8, 'dropout_rate': 0.15, 'epochs': 2000, 'neurons': 10, 'optimizer': 'sgd', 'verbose': 0}\n",
      "-0.091330 (0.012251) with: {'activation': 'sigmoid', 'batch_size': 8, 'dropout_rate': 0.2, 'epochs': 2000, 'neurons': 10, 'optimizer': 'adam', 'verbose': 0}\n",
      "-0.094538 (0.015447) with: {'activation': 'sigmoid', 'batch_size': 8, 'dropout_rate': 0.2, 'epochs': 2000, 'neurons': 10, 'optimizer': 'adamax', 'verbose': 0}\n",
      "-0.091784 (0.012163) with: {'activation': 'sigmoid', 'batch_size': 8, 'dropout_rate': 0.2, 'epochs': 2000, 'neurons': 10, 'optimizer': 'rmsprop', 'verbose': 0}\n",
      "-0.102508 (0.013713) with: {'activation': 'sigmoid', 'batch_size': 8, 'dropout_rate': 0.2, 'epochs': 2000, 'neurons': 10, 'optimizer': 'sgd', 'verbose': 0}\n",
      "-0.091102 (0.013718) with: {'activation': 'sigmoid', 'batch_size': 8, 'dropout_rate': 0.25, 'epochs': 2000, 'neurons': 10, 'optimizer': 'adam', 'verbose': 0}\n",
      "-0.093168 (0.014759) with: {'activation': 'sigmoid', 'batch_size': 8, 'dropout_rate': 0.25, 'epochs': 2000, 'neurons': 10, 'optimizer': 'adamax', 'verbose': 0}\n",
      "-0.092113 (0.014405) with: {'activation': 'sigmoid', 'batch_size': 8, 'dropout_rate': 0.25, 'epochs': 2000, 'neurons': 10, 'optimizer': 'rmsprop', 'verbose': 0}\n",
      "-0.100731 (0.015484) with: {'activation': 'sigmoid', 'batch_size': 8, 'dropout_rate': 0.25, 'epochs': 2000, 'neurons': 10, 'optimizer': 'sgd', 'verbose': 0}\n",
      "-0.092550 (0.013178) with: {'activation': 'sigmoid', 'batch_size': 16, 'dropout_rate': 0.05, 'epochs': 2000, 'neurons': 10, 'optimizer': 'adam', 'verbose': 0}\n",
      "-0.096943 (0.012876) with: {'activation': 'sigmoid', 'batch_size': 16, 'dropout_rate': 0.05, 'epochs': 2000, 'neurons': 10, 'optimizer': 'adamax', 'verbose': 0}\n",
      "-0.091582 (0.014399) with: {'activation': 'sigmoid', 'batch_size': 16, 'dropout_rate': 0.05, 'epochs': 2000, 'neurons': 10, 'optimizer': 'rmsprop', 'verbose': 0}\n",
      "-0.098186 (0.017036) with: {'activation': 'sigmoid', 'batch_size': 16, 'dropout_rate': 0.05, 'epochs': 2000, 'neurons': 10, 'optimizer': 'sgd', 'verbose': 0}\n",
      "-0.093975 (0.013276) with: {'activation': 'sigmoid', 'batch_size': 16, 'dropout_rate': 0.1, 'epochs': 2000, 'neurons': 10, 'optimizer': 'adam', 'verbose': 0}\n",
      "-0.095849 (0.014001) with: {'activation': 'sigmoid', 'batch_size': 16, 'dropout_rate': 0.1, 'epochs': 2000, 'neurons': 10, 'optimizer': 'adamax', 'verbose': 0}\n",
      "-0.092197 (0.014338) with: {'activation': 'sigmoid', 'batch_size': 16, 'dropout_rate': 0.1, 'epochs': 2000, 'neurons': 10, 'optimizer': 'rmsprop', 'verbose': 0}\n",
      "-0.100001 (0.015909) with: {'activation': 'sigmoid', 'batch_size': 16, 'dropout_rate': 0.1, 'epochs': 2000, 'neurons': 10, 'optimizer': 'sgd', 'verbose': 0}\n",
      "-0.094427 (0.014941) with: {'activation': 'sigmoid', 'batch_size': 16, 'dropout_rate': 0.15, 'epochs': 2000, 'neurons': 10, 'optimizer': 'adam', 'verbose': 0}\n",
      "-0.094491 (0.015090) with: {'activation': 'sigmoid', 'batch_size': 16, 'dropout_rate': 0.15, 'epochs': 2000, 'neurons': 10, 'optimizer': 'adamax', 'verbose': 0}\n",
      "-0.091909 (0.013286) with: {'activation': 'sigmoid', 'batch_size': 16, 'dropout_rate': 0.15, 'epochs': 2000, 'neurons': 10, 'optimizer': 'rmsprop', 'verbose': 0}\n",
      "-0.099873 (0.016206) with: {'activation': 'sigmoid', 'batch_size': 16, 'dropout_rate': 0.15, 'epochs': 2000, 'neurons': 10, 'optimizer': 'sgd', 'verbose': 0}\n",
      "-0.093471 (0.014600) with: {'activation': 'sigmoid', 'batch_size': 16, 'dropout_rate': 0.2, 'epochs': 2000, 'neurons': 10, 'optimizer': 'adam', 'verbose': 0}\n",
      "-0.095436 (0.015904) with: {'activation': 'sigmoid', 'batch_size': 16, 'dropout_rate': 0.2, 'epochs': 2000, 'neurons': 10, 'optimizer': 'adamax', 'verbose': 0}\n",
      "-0.092272 (0.015333) with: {'activation': 'sigmoid', 'batch_size': 16, 'dropout_rate': 0.2, 'epochs': 2000, 'neurons': 10, 'optimizer': 'rmsprop', 'verbose': 0}\n",
      "-0.100004 (0.016177) with: {'activation': 'sigmoid', 'batch_size': 16, 'dropout_rate': 0.2, 'epochs': 2000, 'neurons': 10, 'optimizer': 'sgd', 'verbose': 0}\n",
      "-0.094285 (0.015770) with: {'activation': 'sigmoid', 'batch_size': 16, 'dropout_rate': 0.25, 'epochs': 2000, 'neurons': 10, 'optimizer': 'adam', 'verbose': 0}\n",
      "-0.094594 (0.015416) with: {'activation': 'sigmoid', 'batch_size': 16, 'dropout_rate': 0.25, 'epochs': 2000, 'neurons': 10, 'optimizer': 'adamax', 'verbose': 0}\n",
      "-0.093634 (0.013477) with: {'activation': 'sigmoid', 'batch_size': 16, 'dropout_rate': 0.25, 'epochs': 2000, 'neurons': 10, 'optimizer': 'rmsprop', 'verbose': 0}\n",
      "-0.101207 (0.016909) with: {'activation': 'sigmoid', 'batch_size': 16, 'dropout_rate': 0.25, 'epochs': 2000, 'neurons': 10, 'optimizer': 'sgd', 'verbose': 0}\n",
      "-0.095504 (0.013492) with: {'activation': 'sigmoid', 'batch_size': 32, 'dropout_rate': 0.05, 'epochs': 2000, 'neurons': 10, 'optimizer': 'adam', 'verbose': 0}\n",
      "-0.099769 (0.012924) with: {'activation': 'sigmoid', 'batch_size': 32, 'dropout_rate': 0.05, 'epochs': 2000, 'neurons': 10, 'optimizer': 'adamax', 'verbose': 0}\n",
      "-0.095104 (0.013882) with: {'activation': 'sigmoid', 'batch_size': 32, 'dropout_rate': 0.05, 'epochs': 2000, 'neurons': 10, 'optimizer': 'rmsprop', 'verbose': 0}\n",
      "-0.098843 (0.014843) with: {'activation': 'sigmoid', 'batch_size': 32, 'dropout_rate': 0.05, 'epochs': 2000, 'neurons': 10, 'optimizer': 'sgd', 'verbose': 0}\n",
      "-0.094574 (0.014737) with: {'activation': 'sigmoid', 'batch_size': 32, 'dropout_rate': 0.1, 'epochs': 2000, 'neurons': 10, 'optimizer': 'adam', 'verbose': 0}\n",
      "-0.105839 (0.012594) with: {'activation': 'sigmoid', 'batch_size': 32, 'dropout_rate': 0.1, 'epochs': 2000, 'neurons': 10, 'optimizer': 'adamax', 'verbose': 0}\n",
      "-0.094092 (0.014811) with: {'activation': 'sigmoid', 'batch_size': 32, 'dropout_rate': 0.1, 'epochs': 2000, 'neurons': 10, 'optimizer': 'rmsprop', 'verbose': 0}\n",
      "-0.099959 (0.016452) with: {'activation': 'sigmoid', 'batch_size': 32, 'dropout_rate': 0.1, 'epochs': 2000, 'neurons': 10, 'optimizer': 'sgd', 'verbose': 0}\n",
      "-0.096986 (0.017027) with: {'activation': 'sigmoid', 'batch_size': 32, 'dropout_rate': 0.15, 'epochs': 2000, 'neurons': 10, 'optimizer': 'adam', 'verbose': 0}\n",
      "-0.099433 (0.013076) with: {'activation': 'sigmoid', 'batch_size': 32, 'dropout_rate': 0.15, 'epochs': 2000, 'neurons': 10, 'optimizer': 'adamax', 'verbose': 0}\n",
      "-0.096289 (0.017348) with: {'activation': 'sigmoid', 'batch_size': 32, 'dropout_rate': 0.15, 'epochs': 2000, 'neurons': 10, 'optimizer': 'rmsprop', 'verbose': 0}\n",
      "-0.099796 (0.016313) with: {'activation': 'sigmoid', 'batch_size': 32, 'dropout_rate': 0.15, 'epochs': 2000, 'neurons': 10, 'optimizer': 'sgd', 'verbose': 0}\n",
      "-0.096599 (0.016998) with: {'activation': 'sigmoid', 'batch_size': 32, 'dropout_rate': 0.2, 'epochs': 2000, 'neurons': 10, 'optimizer': 'adam', 'verbose': 0}\n",
      "-0.099458 (0.014870) with: {'activation': 'sigmoid', 'batch_size': 32, 'dropout_rate': 0.2, 'epochs': 2000, 'neurons': 10, 'optimizer': 'adamax', 'verbose': 0}\n",
      "-0.096629 (0.018560) with: {'activation': 'sigmoid', 'batch_size': 32, 'dropout_rate': 0.2, 'epochs': 2000, 'neurons': 10, 'optimizer': 'rmsprop', 'verbose': 0}\n",
      "-0.100646 (0.016333) with: {'activation': 'sigmoid', 'batch_size': 32, 'dropout_rate': 0.2, 'epochs': 2000, 'neurons': 10, 'optimizer': 'sgd', 'verbose': 0}\n",
      "-0.097705 (0.016573) with: {'activation': 'sigmoid', 'batch_size': 32, 'dropout_rate': 0.25, 'epochs': 2000, 'neurons': 10, 'optimizer': 'adam', 'verbose': 0}\n",
      "-0.099284 (0.016491) with: {'activation': 'sigmoid', 'batch_size': 32, 'dropout_rate': 0.25, 'epochs': 2000, 'neurons': 10, 'optimizer': 'adamax', 'verbose': 0}\n",
      "-0.095343 (0.012445) with: {'activation': 'sigmoid', 'batch_size': 32, 'dropout_rate': 0.25, 'epochs': 2000, 'neurons': 10, 'optimizer': 'rmsprop', 'verbose': 0}\n",
      "-0.100065 (0.016133) with: {'activation': 'sigmoid', 'batch_size': 32, 'dropout_rate': 0.25, 'epochs': 2000, 'neurons': 10, 'optimizer': 'sgd', 'verbose': 0}\n",
      "-0.097188 (0.012790) with: {'activation': 'sigmoid', 'batch_size': 64, 'dropout_rate': 0.05, 'epochs': 2000, 'neurons': 10, 'optimizer': 'adam', 'verbose': 0}\n",
      "-0.100903 (0.012066) with: {'activation': 'sigmoid', 'batch_size': 64, 'dropout_rate': 0.05, 'epochs': 2000, 'neurons': 10, 'optimizer': 'adamax', 'verbose': 0}\n",
      "-0.099325 (0.014205) with: {'activation': 'sigmoid', 'batch_size': 64, 'dropout_rate': 0.05, 'epochs': 2000, 'neurons': 10, 'optimizer': 'rmsprop', 'verbose': 0}\n",
      "-0.098879 (0.016305) with: {'activation': 'sigmoid', 'batch_size': 64, 'dropout_rate': 0.05, 'epochs': 2000, 'neurons': 10, 'optimizer': 'sgd', 'verbose': 0}\n",
      "-0.097226 (0.015263) with: {'activation': 'sigmoid', 'batch_size': 64, 'dropout_rate': 0.1, 'epochs': 2000, 'neurons': 10, 'optimizer': 'adam', 'verbose': 0}\n",
      "-0.109579 (0.009496) with: {'activation': 'sigmoid', 'batch_size': 64, 'dropout_rate': 0.1, 'epochs': 2000, 'neurons': 10, 'optimizer': 'adamax', 'verbose': 0}\n",
      "-0.096631 (0.013342) with: {'activation': 'sigmoid', 'batch_size': 64, 'dropout_rate': 0.1, 'epochs': 2000, 'neurons': 10, 'optimizer': 'rmsprop', 'verbose': 0}\n",
      "-0.100737 (0.015569) with: {'activation': 'sigmoid', 'batch_size': 64, 'dropout_rate': 0.1, 'epochs': 2000, 'neurons': 10, 'optimizer': 'sgd', 'verbose': 0}\n",
      "-0.099015 (0.016163) with: {'activation': 'sigmoid', 'batch_size': 64, 'dropout_rate': 0.15, 'epochs': 2000, 'neurons': 10, 'optimizer': 'adam', 'verbose': 0}\n",
      "-0.111661 (0.012268) with: {'activation': 'sigmoid', 'batch_size': 64, 'dropout_rate': 0.15, 'epochs': 2000, 'neurons': 10, 'optimizer': 'adamax', 'verbose': 0}\n",
      "-0.094310 (0.014182) with: {'activation': 'sigmoid', 'batch_size': 64, 'dropout_rate': 0.15, 'epochs': 2000, 'neurons': 10, 'optimizer': 'rmsprop', 'verbose': 0}\n",
      "-0.099833 (0.016537) with: {'activation': 'sigmoid', 'batch_size': 64, 'dropout_rate': 0.15, 'epochs': 2000, 'neurons': 10, 'optimizer': 'sgd', 'verbose': 0}\n",
      "-0.098655 (0.016951) with: {'activation': 'sigmoid', 'batch_size': 64, 'dropout_rate': 0.2, 'epochs': 2000, 'neurons': 10, 'optimizer': 'adam', 'verbose': 0}\n",
      "-0.103035 (0.015061) with: {'activation': 'sigmoid', 'batch_size': 64, 'dropout_rate': 0.2, 'epochs': 2000, 'neurons': 10, 'optimizer': 'adamax', 'verbose': 0}\n",
      "-0.093852 (0.014814) with: {'activation': 'sigmoid', 'batch_size': 64, 'dropout_rate': 0.2, 'epochs': 2000, 'neurons': 10, 'optimizer': 'rmsprop', 'verbose': 0}\n",
      "-0.100355 (0.016265) with: {'activation': 'sigmoid', 'batch_size': 64, 'dropout_rate': 0.2, 'epochs': 2000, 'neurons': 10, 'optimizer': 'sgd', 'verbose': 0}\n",
      "-0.099501 (0.015746) with: {'activation': 'sigmoid', 'batch_size': 64, 'dropout_rate': 0.25, 'epochs': 2000, 'neurons': 10, 'optimizer': 'adam', 'verbose': 0}\n",
      "-0.102840 (0.014067) with: {'activation': 'sigmoid', 'batch_size': 64, 'dropout_rate': 0.25, 'epochs': 2000, 'neurons': 10, 'optimizer': 'adamax', 'verbose': 0}\n",
      "-0.095361 (0.015624) with: {'activation': 'sigmoid', 'batch_size': 64, 'dropout_rate': 0.25, 'epochs': 2000, 'neurons': 10, 'optimizer': 'rmsprop', 'verbose': 0}\n",
      "-0.100177 (0.016341) with: {'activation': 'sigmoid', 'batch_size': 64, 'dropout_rate': 0.25, 'epochs': 2000, 'neurons': 10, 'optimizer': 'sgd', 'verbose': 0}\n",
      "-0.092815 (0.024668) with: {'activation': 'tanh', 'batch_size': 4, 'dropout_rate': 0.05, 'epochs': 2000, 'neurons': 10, 'optimizer': 'adam', 'verbose': 0}\n",
      "-0.084435 (0.013944) with: {'activation': 'tanh', 'batch_size': 4, 'dropout_rate': 0.05, 'epochs': 2000, 'neurons': 10, 'optimizer': 'adamax', 'verbose': 0}\n",
      "-0.082348 (0.013115) with: {'activation': 'tanh', 'batch_size': 4, 'dropout_rate': 0.05, 'epochs': 2000, 'neurons': 10, 'optimizer': 'rmsprop', 'verbose': 0}\n",
      "-0.087701 (0.019473) with: {'activation': 'tanh', 'batch_size': 4, 'dropout_rate': 0.05, 'epochs': 2000, 'neurons': 10, 'optimizer': 'sgd', 'verbose': 0}\n",
      "-0.106167 (0.035540) with: {'activation': 'tanh', 'batch_size': 4, 'dropout_rate': 0.1, 'epochs': 2000, 'neurons': 10, 'optimizer': 'adam', 'verbose': 0}\n",
      "-0.081841 (0.015755) with: {'activation': 'tanh', 'batch_size': 4, 'dropout_rate': 0.1, 'epochs': 2000, 'neurons': 10, 'optimizer': 'adamax', 'verbose': 0}\n",
      "-0.085512 (0.014887) with: {'activation': 'tanh', 'batch_size': 4, 'dropout_rate': 0.1, 'epochs': 2000, 'neurons': 10, 'optimizer': 'rmsprop', 'verbose': 0}\n",
      "-0.085249 (0.014458) with: {'activation': 'tanh', 'batch_size': 4, 'dropout_rate': 0.1, 'epochs': 2000, 'neurons': 10, 'optimizer': 'sgd', 'verbose': 0}\n",
      "-0.109491 (0.034071) with: {'activation': 'tanh', 'batch_size': 4, 'dropout_rate': 0.15, 'epochs': 2000, 'neurons': 10, 'optimizer': 'adam', 'verbose': 0}\n",
      "-0.082705 (0.015558) with: {'activation': 'tanh', 'batch_size': 4, 'dropout_rate': 0.15, 'epochs': 2000, 'neurons': 10, 'optimizer': 'adamax', 'verbose': 0}\n",
      "-0.094205 (0.025512) with: {'activation': 'tanh', 'batch_size': 4, 'dropout_rate': 0.15, 'epochs': 2000, 'neurons': 10, 'optimizer': 'rmsprop', 'verbose': 0}\n",
      "-0.087339 (0.012336) with: {'activation': 'tanh', 'batch_size': 4, 'dropout_rate': 0.15, 'epochs': 2000, 'neurons': 10, 'optimizer': 'sgd', 'verbose': 0}\n",
      "-0.103304 (0.032498) with: {'activation': 'tanh', 'batch_size': 4, 'dropout_rate': 0.2, 'epochs': 2000, 'neurons': 10, 'optimizer': 'adam', 'verbose': 0}\n",
      "-0.081752 (0.015477) with: {'activation': 'tanh', 'batch_size': 4, 'dropout_rate': 0.2, 'epochs': 2000, 'neurons': 10, 'optimizer': 'adamax', 'verbose': 0}\n",
      "-0.082026 (0.012290) with: {'activation': 'tanh', 'batch_size': 4, 'dropout_rate': 0.2, 'epochs': 2000, 'neurons': 10, 'optimizer': 'rmsprop', 'verbose': 0}\n",
      "-0.087550 (0.018850) with: {'activation': 'tanh', 'batch_size': 4, 'dropout_rate': 0.2, 'epochs': 2000, 'neurons': 10, 'optimizer': 'sgd', 'verbose': 0}\n",
      "-0.093186 (0.025862) with: {'activation': 'tanh', 'batch_size': 4, 'dropout_rate': 0.25, 'epochs': 2000, 'neurons': 10, 'optimizer': 'adam', 'verbose': 0}\n",
      "-0.082217 (0.015809) with: {'activation': 'tanh', 'batch_size': 4, 'dropout_rate': 0.25, 'epochs': 2000, 'neurons': 10, 'optimizer': 'adamax', 'verbose': 0}\n",
      "-0.085370 (0.011965) with: {'activation': 'tanh', 'batch_size': 4, 'dropout_rate': 0.25, 'epochs': 2000, 'neurons': 10, 'optimizer': 'rmsprop', 'verbose': 0}\n",
      "-0.086472 (0.014480) with: {'activation': 'tanh', 'batch_size': 4, 'dropout_rate': 0.25, 'epochs': 2000, 'neurons': 10, 'optimizer': 'sgd', 'verbose': 0}\n",
      "-0.082336 (0.015406) with: {'activation': 'tanh', 'batch_size': 8, 'dropout_rate': 0.05, 'epochs': 2000, 'neurons': 10, 'optimizer': 'adam', 'verbose': 0}\n",
      "-0.085767 (0.013576) with: {'activation': 'tanh', 'batch_size': 8, 'dropout_rate': 0.05, 'epochs': 2000, 'neurons': 10, 'optimizer': 'adamax', 'verbose': 0}\n",
      "-0.083108 (0.014001) with: {'activation': 'tanh', 'batch_size': 8, 'dropout_rate': 0.05, 'epochs': 2000, 'neurons': 10, 'optimizer': 'rmsprop', 'verbose': 0}\n",
      "-0.085379 (0.016935) with: {'activation': 'tanh', 'batch_size': 8, 'dropout_rate': 0.05, 'epochs': 2000, 'neurons': 10, 'optimizer': 'sgd', 'verbose': 0}\n",
      "-0.085671 (0.018301) with: {'activation': 'tanh', 'batch_size': 8, 'dropout_rate': 0.1, 'epochs': 2000, 'neurons': 10, 'optimizer': 'adam', 'verbose': 0}\n",
      "-0.084609 (0.014737) with: {'activation': 'tanh', 'batch_size': 8, 'dropout_rate': 0.1, 'epochs': 2000, 'neurons': 10, 'optimizer': 'adamax', 'verbose': 0}\n",
      "-0.082739 (0.014822) with: {'activation': 'tanh', 'batch_size': 8, 'dropout_rate': 0.1, 'epochs': 2000, 'neurons': 10, 'optimizer': 'rmsprop', 'verbose': 0}\n",
      "-0.085665 (0.014587) with: {'activation': 'tanh', 'batch_size': 8, 'dropout_rate': 0.1, 'epochs': 2000, 'neurons': 10, 'optimizer': 'sgd', 'verbose': 0}\n",
      "-0.082198 (0.014522) with: {'activation': 'tanh', 'batch_size': 8, 'dropout_rate': 0.15, 'epochs': 2000, 'neurons': 10, 'optimizer': 'adam', 'verbose': 0}\n",
      "-0.082861 (0.015037) with: {'activation': 'tanh', 'batch_size': 8, 'dropout_rate': 0.15, 'epochs': 2000, 'neurons': 10, 'optimizer': 'adamax', 'verbose': 0}\n",
      "-0.084848 (0.015039) with: {'activation': 'tanh', 'batch_size': 8, 'dropout_rate': 0.15, 'epochs': 2000, 'neurons': 10, 'optimizer': 'rmsprop', 'verbose': 0}\n",
      "-0.087974 (0.014650) with: {'activation': 'tanh', 'batch_size': 8, 'dropout_rate': 0.15, 'epochs': 2000, 'neurons': 10, 'optimizer': 'sgd', 'verbose': 0}\n",
      "-0.086628 (0.018338) with: {'activation': 'tanh', 'batch_size': 8, 'dropout_rate': 0.2, 'epochs': 2000, 'neurons': 10, 'optimizer': 'adam', 'verbose': 0}\n",
      "-0.082825 (0.015469) with: {'activation': 'tanh', 'batch_size': 8, 'dropout_rate': 0.2, 'epochs': 2000, 'neurons': 10, 'optimizer': 'adamax', 'verbose': 0}\n",
      "-0.082680 (0.014633) with: {'activation': 'tanh', 'batch_size': 8, 'dropout_rate': 0.2, 'epochs': 2000, 'neurons': 10, 'optimizer': 'rmsprop', 'verbose': 0}\n",
      "-0.085394 (0.016574) with: {'activation': 'tanh', 'batch_size': 8, 'dropout_rate': 0.2, 'epochs': 2000, 'neurons': 10, 'optimizer': 'sgd', 'verbose': 0}\n",
      "-0.085755 (0.017112) with: {'activation': 'tanh', 'batch_size': 8, 'dropout_rate': 0.25, 'epochs': 2000, 'neurons': 10, 'optimizer': 'adam', 'verbose': 0}\n",
      "-0.082745 (0.015310) with: {'activation': 'tanh', 'batch_size': 8, 'dropout_rate': 0.25, 'epochs': 2000, 'neurons': 10, 'optimizer': 'adamax', 'verbose': 0}\n",
      "-0.083166 (0.016978) with: {'activation': 'tanh', 'batch_size': 8, 'dropout_rate': 0.25, 'epochs': 2000, 'neurons': 10, 'optimizer': 'rmsprop', 'verbose': 0}\n",
      "-0.084544 (0.014899) with: {'activation': 'tanh', 'batch_size': 8, 'dropout_rate': 0.25, 'epochs': 2000, 'neurons': 10, 'optimizer': 'sgd', 'verbose': 0}\n",
      "-0.084001 (0.015516) with: {'activation': 'tanh', 'batch_size': 16, 'dropout_rate': 0.05, 'epochs': 2000, 'neurons': 10, 'optimizer': 'adam', 'verbose': 0}\n",
      "-0.088516 (0.012184) with: {'activation': 'tanh', 'batch_size': 16, 'dropout_rate': 0.05, 'epochs': 2000, 'neurons': 10, 'optimizer': 'adamax', 'verbose': 0}\n",
      "-0.083789 (0.015061) with: {'activation': 'tanh', 'batch_size': 16, 'dropout_rate': 0.05, 'epochs': 2000, 'neurons': 10, 'optimizer': 'rmsprop', 'verbose': 0}\n",
      "-0.088957 (0.015492) with: {'activation': 'tanh', 'batch_size': 16, 'dropout_rate': 0.05, 'epochs': 2000, 'neurons': 10, 'optimizer': 'sgd', 'verbose': 0}\n",
      "-0.082753 (0.014334) with: {'activation': 'tanh', 'batch_size': 16, 'dropout_rate': 0.1, 'epochs': 2000, 'neurons': 10, 'optimizer': 'adam', 'verbose': 0}\n",
      "-0.087704 (0.014184) with: {'activation': 'tanh', 'batch_size': 16, 'dropout_rate': 0.1, 'epochs': 2000, 'neurons': 10, 'optimizer': 'adamax', 'verbose': 0}\n",
      "-0.081752 (0.015831) with: {'activation': 'tanh', 'batch_size': 16, 'dropout_rate': 0.1, 'epochs': 2000, 'neurons': 10, 'optimizer': 'rmsprop', 'verbose': 0}\n",
      "-0.088257 (0.014138) with: {'activation': 'tanh', 'batch_size': 16, 'dropout_rate': 0.1, 'epochs': 2000, 'neurons': 10, 'optimizer': 'sgd', 'verbose': 0}\n",
      "-0.082336 (0.014061) with: {'activation': 'tanh', 'batch_size': 16, 'dropout_rate': 0.15, 'epochs': 2000, 'neurons': 10, 'optimizer': 'adam', 'verbose': 0}\n",
      "-0.085809 (0.014487) with: {'activation': 'tanh', 'batch_size': 16, 'dropout_rate': 0.15, 'epochs': 2000, 'neurons': 10, 'optimizer': 'adamax', 'verbose': 0}\n",
      "-0.082949 (0.015678) with: {'activation': 'tanh', 'batch_size': 16, 'dropout_rate': 0.15, 'epochs': 2000, 'neurons': 10, 'optimizer': 'rmsprop', 'verbose': 0}\n",
      "-0.088987 (0.014713) with: {'activation': 'tanh', 'batch_size': 16, 'dropout_rate': 0.15, 'epochs': 2000, 'neurons': 10, 'optimizer': 'sgd', 'verbose': 0}\n",
      "-0.081407 (0.015999) with: {'activation': 'tanh', 'batch_size': 16, 'dropout_rate': 0.2, 'epochs': 2000, 'neurons': 10, 'optimizer': 'adam', 'verbose': 0}\n",
      "-0.084333 (0.014847) with: {'activation': 'tanh', 'batch_size': 16, 'dropout_rate': 0.2, 'epochs': 2000, 'neurons': 10, 'optimizer': 'adamax', 'verbose': 0}\n",
      "-0.082281 (0.013477) with: {'activation': 'tanh', 'batch_size': 16, 'dropout_rate': 0.2, 'epochs': 2000, 'neurons': 10, 'optimizer': 'rmsprop', 'verbose': 0}\n",
      "-0.087683 (0.017361) with: {'activation': 'tanh', 'batch_size': 16, 'dropout_rate': 0.2, 'epochs': 2000, 'neurons': 10, 'optimizer': 'sgd', 'verbose': 0}\n",
      "-0.082072 (0.016196) with: {'activation': 'tanh', 'batch_size': 16, 'dropout_rate': 0.25, 'epochs': 2000, 'neurons': 10, 'optimizer': 'adam', 'verbose': 0}\n",
      "-0.084189 (0.014225) with: {'activation': 'tanh', 'batch_size': 16, 'dropout_rate': 0.25, 'epochs': 2000, 'neurons': 10, 'optimizer': 'adamax', 'verbose': 0}\n",
      "-0.083059 (0.014843) with: {'activation': 'tanh', 'batch_size': 16, 'dropout_rate': 0.25, 'epochs': 2000, 'neurons': 10, 'optimizer': 'rmsprop', 'verbose': 0}\n",
      "-0.089742 (0.016532) with: {'activation': 'tanh', 'batch_size': 16, 'dropout_rate': 0.25, 'epochs': 2000, 'neurons': 10, 'optimizer': 'sgd', 'verbose': 0}\n",
      "-0.086292 (0.013536) with: {'activation': 'tanh', 'batch_size': 32, 'dropout_rate': 0.05, 'epochs': 2000, 'neurons': 10, 'optimizer': 'adam', 'verbose': 0}\n",
      "-0.091232 (0.012281) with: {'activation': 'tanh', 'batch_size': 32, 'dropout_rate': 0.05, 'epochs': 2000, 'neurons': 10, 'optimizer': 'adamax', 'verbose': 0}\n",
      "-0.085149 (0.014079) with: {'activation': 'tanh', 'batch_size': 32, 'dropout_rate': 0.05, 'epochs': 2000, 'neurons': 10, 'optimizer': 'rmsprop', 'verbose': 0}\n",
      "-0.089660 (0.015363) with: {'activation': 'tanh', 'batch_size': 32, 'dropout_rate': 0.05, 'epochs': 2000, 'neurons': 10, 'optimizer': 'sgd', 'verbose': 0}\n",
      "-0.084459 (0.014765) with: {'activation': 'tanh', 'batch_size': 32, 'dropout_rate': 0.1, 'epochs': 2000, 'neurons': 10, 'optimizer': 'adam', 'verbose': 0}\n",
      "-0.090334 (0.011618) with: {'activation': 'tanh', 'batch_size': 32, 'dropout_rate': 0.1, 'epochs': 2000, 'neurons': 10, 'optimizer': 'adamax', 'verbose': 0}\n",
      "-0.084538 (0.016408) with: {'activation': 'tanh', 'batch_size': 32, 'dropout_rate': 0.1, 'epochs': 2000, 'neurons': 10, 'optimizer': 'rmsprop', 'verbose': 0}\n",
      "-0.090895 (0.015482) with: {'activation': 'tanh', 'batch_size': 32, 'dropout_rate': 0.1, 'epochs': 2000, 'neurons': 10, 'optimizer': 'sgd', 'verbose': 0}\n",
      "-0.083549 (0.014955) with: {'activation': 'tanh', 'batch_size': 32, 'dropout_rate': 0.15, 'epochs': 2000, 'neurons': 10, 'optimizer': 'adam', 'verbose': 0}\n",
      "-0.088955 (0.014300) with: {'activation': 'tanh', 'batch_size': 32, 'dropout_rate': 0.15, 'epochs': 2000, 'neurons': 10, 'optimizer': 'adamax', 'verbose': 0}\n",
      "-0.082357 (0.016016) with: {'activation': 'tanh', 'batch_size': 32, 'dropout_rate': 0.15, 'epochs': 2000, 'neurons': 10, 'optimizer': 'rmsprop', 'verbose': 0}\n",
      "-0.090472 (0.014721) with: {'activation': 'tanh', 'batch_size': 32, 'dropout_rate': 0.15, 'epochs': 2000, 'neurons': 10, 'optimizer': 'sgd', 'verbose': 0}\n",
      "-0.083294 (0.015288) with: {'activation': 'tanh', 'batch_size': 32, 'dropout_rate': 0.2, 'epochs': 2000, 'neurons': 10, 'optimizer': 'adam', 'verbose': 0}\n",
      "-0.089909 (0.012751) with: {'activation': 'tanh', 'batch_size': 32, 'dropout_rate': 0.2, 'epochs': 2000, 'neurons': 10, 'optimizer': 'adamax', 'verbose': 0}\n",
      "-0.082563 (0.015826) with: {'activation': 'tanh', 'batch_size': 32, 'dropout_rate': 0.2, 'epochs': 2000, 'neurons': 10, 'optimizer': 'rmsprop', 'verbose': 0}\n",
      "-0.090452 (0.013459) with: {'activation': 'tanh', 'batch_size': 32, 'dropout_rate': 0.2, 'epochs': 2000, 'neurons': 10, 'optimizer': 'sgd', 'verbose': 0}\n",
      "-0.083238 (0.015287) with: {'activation': 'tanh', 'batch_size': 32, 'dropout_rate': 0.25, 'epochs': 2000, 'neurons': 10, 'optimizer': 'adam', 'verbose': 0}\n",
      "-0.090894 (0.014642) with: {'activation': 'tanh', 'batch_size': 32, 'dropout_rate': 0.25, 'epochs': 2000, 'neurons': 10, 'optimizer': 'adamax', 'verbose': 0}\n",
      "-0.081674 (0.015841) with: {'activation': 'tanh', 'batch_size': 32, 'dropout_rate': 0.25, 'epochs': 2000, 'neurons': 10, 'optimizer': 'rmsprop', 'verbose': 0}\n",
      "-0.091718 (0.014605) with: {'activation': 'tanh', 'batch_size': 32, 'dropout_rate': 0.25, 'epochs': 2000, 'neurons': 10, 'optimizer': 'sgd', 'verbose': 0}\n",
      "-0.089970 (0.012689) with: {'activation': 'tanh', 'batch_size': 64, 'dropout_rate': 0.05, 'epochs': 2000, 'neurons': 10, 'optimizer': 'adam', 'verbose': 0}\n",
      "-0.092919 (0.013390) with: {'activation': 'tanh', 'batch_size': 64, 'dropout_rate': 0.05, 'epochs': 2000, 'neurons': 10, 'optimizer': 'adamax', 'verbose': 0}\n",
      "-0.089079 (0.014217) with: {'activation': 'tanh', 'batch_size': 64, 'dropout_rate': 0.05, 'epochs': 2000, 'neurons': 10, 'optimizer': 'rmsprop', 'verbose': 0}\n",
      "-0.092065 (0.014024) with: {'activation': 'tanh', 'batch_size': 64, 'dropout_rate': 0.05, 'epochs': 2000, 'neurons': 10, 'optimizer': 'sgd', 'verbose': 0}\n",
      "-0.088508 (0.013777) with: {'activation': 'tanh', 'batch_size': 64, 'dropout_rate': 0.1, 'epochs': 2000, 'neurons': 10, 'optimizer': 'adam', 'verbose': 0}\n",
      "-0.093339 (0.008596) with: {'activation': 'tanh', 'batch_size': 64, 'dropout_rate': 0.1, 'epochs': 2000, 'neurons': 10, 'optimizer': 'adamax', 'verbose': 0}\n",
      "-0.083966 (0.015564) with: {'activation': 'tanh', 'batch_size': 64, 'dropout_rate': 0.1, 'epochs': 2000, 'neurons': 10, 'optimizer': 'rmsprop', 'verbose': 0}\n",
      "-0.092444 (0.015146) with: {'activation': 'tanh', 'batch_size': 64, 'dropout_rate': 0.1, 'epochs': 2000, 'neurons': 10, 'optimizer': 'sgd', 'verbose': 0}\n",
      "-0.087328 (0.014446) with: {'activation': 'tanh', 'batch_size': 64, 'dropout_rate': 0.15, 'epochs': 2000, 'neurons': 10, 'optimizer': 'adam', 'verbose': 0}\n",
      "-0.092663 (0.012090) with: {'activation': 'tanh', 'batch_size': 64, 'dropout_rate': 0.15, 'epochs': 2000, 'neurons': 10, 'optimizer': 'adamax', 'verbose': 0}\n",
      "-0.084621 (0.016587) with: {'activation': 'tanh', 'batch_size': 64, 'dropout_rate': 0.15, 'epochs': 2000, 'neurons': 10, 'optimizer': 'rmsprop', 'verbose': 0}\n",
      "-0.093264 (0.016229) with: {'activation': 'tanh', 'batch_size': 64, 'dropout_rate': 0.15, 'epochs': 2000, 'neurons': 10, 'optimizer': 'sgd', 'verbose': 0}\n",
      "-0.086166 (0.015884) with: {'activation': 'tanh', 'batch_size': 64, 'dropout_rate': 0.2, 'epochs': 2000, 'neurons': 10, 'optimizer': 'adam', 'verbose': 0}\n",
      "-0.092066 (0.011500) with: {'activation': 'tanh', 'batch_size': 64, 'dropout_rate': 0.2, 'epochs': 2000, 'neurons': 10, 'optimizer': 'adamax', 'verbose': 0}\n",
      "-0.083647 (0.016203) with: {'activation': 'tanh', 'batch_size': 64, 'dropout_rate': 0.2, 'epochs': 2000, 'neurons': 10, 'optimizer': 'rmsprop', 'verbose': 0}\n",
      "-0.090802 (0.014109) with: {'activation': 'tanh', 'batch_size': 64, 'dropout_rate': 0.2, 'epochs': 2000, 'neurons': 10, 'optimizer': 'sgd', 'verbose': 0}\n",
      "-0.085985 (0.014461) with: {'activation': 'tanh', 'batch_size': 64, 'dropout_rate': 0.25, 'epochs': 2000, 'neurons': 10, 'optimizer': 'adam', 'verbose': 0}\n",
      "-0.092383 (0.012660) with: {'activation': 'tanh', 'batch_size': 64, 'dropout_rate': 0.25, 'epochs': 2000, 'neurons': 10, 'optimizer': 'adamax', 'verbose': 0}\n",
      "-0.082546 (0.014984) with: {'activation': 'tanh', 'batch_size': 64, 'dropout_rate': 0.25, 'epochs': 2000, 'neurons': 10, 'optimizer': 'rmsprop', 'verbose': 0}\n",
      "-0.093971 (0.015977) with: {'activation': 'tanh', 'batch_size': 64, 'dropout_rate': 0.25, 'epochs': 2000, 'neurons': 10, 'optimizer': 'sgd', 'verbose': 0}\n",
      "-0.115938 (0.018805) with: {'activation': 'relu', 'batch_size': 4, 'dropout_rate': 0.05, 'epochs': 2000, 'neurons': 10, 'optimizer': 'adam', 'verbose': 0}\n",
      "-0.088466 (0.019001) with: {'activation': 'relu', 'batch_size': 4, 'dropout_rate': 0.05, 'epochs': 2000, 'neurons': 10, 'optimizer': 'adamax', 'verbose': 0}\n",
      "-0.108780 (0.034677) with: {'activation': 'relu', 'batch_size': 4, 'dropout_rate': 0.05, 'epochs': 2000, 'neurons': 10, 'optimizer': 'rmsprop', 'verbose': 0}\n",
      "-0.086764 (0.017379) with: {'activation': 'relu', 'batch_size': 4, 'dropout_rate': 0.05, 'epochs': 2000, 'neurons': 10, 'optimizer': 'sgd', 'verbose': 0}\n",
      "-0.086360 (0.018189) with: {'activation': 'relu', 'batch_size': 4, 'dropout_rate': 0.1, 'epochs': 2000, 'neurons': 10, 'optimizer': 'adam', 'verbose': 0}\n",
      "-0.090208 (0.014161) with: {'activation': 'relu', 'batch_size': 4, 'dropout_rate': 0.1, 'epochs': 2000, 'neurons': 10, 'optimizer': 'adamax', 'verbose': 0}\n",
      "-0.269110 (0.197894) with: {'activation': 'relu', 'batch_size': 4, 'dropout_rate': 0.1, 'epochs': 2000, 'neurons': 10, 'optimizer': 'rmsprop', 'verbose': 0}\n",
      "-0.086653 (0.016702) with: {'activation': 'relu', 'batch_size': 4, 'dropout_rate': 0.1, 'epochs': 2000, 'neurons': 10, 'optimizer': 'sgd', 'verbose': 0}\n",
      "-0.201524 (0.134920) with: {'activation': 'relu', 'batch_size': 4, 'dropout_rate': 0.15, 'epochs': 2000, 'neurons': 10, 'optimizer': 'adam', 'verbose': 0}\n",
      "-0.088979 (0.019960) with: {'activation': 'relu', 'batch_size': 4, 'dropout_rate': 0.15, 'epochs': 2000, 'neurons': 10, 'optimizer': 'adamax', 'verbose': 0}\n",
      "-0.089230 (0.022477) with: {'activation': 'relu', 'batch_size': 4, 'dropout_rate': 0.15, 'epochs': 2000, 'neurons': 10, 'optimizer': 'rmsprop', 'verbose': 0}\n",
      "-0.085347 (0.015095) with: {'activation': 'relu', 'batch_size': 4, 'dropout_rate': 0.15, 'epochs': 2000, 'neurons': 10, 'optimizer': 'sgd', 'verbose': 0}\n",
      "-0.194522 (0.120224) with: {'activation': 'relu', 'batch_size': 4, 'dropout_rate': 0.2, 'epochs': 2000, 'neurons': 10, 'optimizer': 'adam', 'verbose': 0}\n",
      "-0.087595 (0.017271) with: {'activation': 'relu', 'batch_size': 4, 'dropout_rate': 0.2, 'epochs': 2000, 'neurons': 10, 'optimizer': 'adamax', 'verbose': 0}\n",
      "-0.084512 (0.017022) with: {'activation': 'relu', 'batch_size': 4, 'dropout_rate': 0.2, 'epochs': 2000, 'neurons': 10, 'optimizer': 'rmsprop', 'verbose': 0}\n",
      "-0.088808 (0.013305) with: {'activation': 'relu', 'batch_size': 4, 'dropout_rate': 0.2, 'epochs': 2000, 'neurons': 10, 'optimizer': 'sgd', 'verbose': 0}\n",
      "-0.132896 (0.059164) with: {'activation': 'relu', 'batch_size': 4, 'dropout_rate': 0.25, 'epochs': 2000, 'neurons': 10, 'optimizer': 'adam', 'verbose': 0}\n",
      "-0.089285 (0.020310) with: {'activation': 'relu', 'batch_size': 4, 'dropout_rate': 0.25, 'epochs': 2000, 'neurons': 10, 'optimizer': 'adamax', 'verbose': 0}\n",
      "-0.089391 (0.020455) with: {'activation': 'relu', 'batch_size': 4, 'dropout_rate': 0.25, 'epochs': 2000, 'neurons': 10, 'optimizer': 'rmsprop', 'verbose': 0}\n",
      "-0.088506 (0.013007) with: {'activation': 'relu', 'batch_size': 4, 'dropout_rate': 0.25, 'epochs': 2000, 'neurons': 10, 'optimizer': 'sgd', 'verbose': 0}\n",
      "-0.124073 (0.035491) with: {'activation': 'relu', 'batch_size': 8, 'dropout_rate': 0.05, 'epochs': 2000, 'neurons': 10, 'optimizer': 'adam', 'verbose': 0}\n",
      "-0.101857 (0.027276) with: {'activation': 'relu', 'batch_size': 8, 'dropout_rate': 0.05, 'epochs': 2000, 'neurons': 10, 'optimizer': 'adamax', 'verbose': 0}\n",
      "-0.102585 (0.021335) with: {'activation': 'relu', 'batch_size': 8, 'dropout_rate': 0.05, 'epochs': 2000, 'neurons': 10, 'optimizer': 'rmsprop', 'verbose': 0}\n",
      "-0.086709 (0.015296) with: {'activation': 'relu', 'batch_size': 8, 'dropout_rate': 0.05, 'epochs': 2000, 'neurons': 10, 'optimizer': 'sgd', 'verbose': 0}\n",
      "-0.099905 (0.026604) with: {'activation': 'relu', 'batch_size': 8, 'dropout_rate': 0.1, 'epochs': 2000, 'neurons': 10, 'optimizer': 'adam', 'verbose': 0}\n",
      "-0.122025 (0.051470) with: {'activation': 'relu', 'batch_size': 8, 'dropout_rate': 0.1, 'epochs': 2000, 'neurons': 10, 'optimizer': 'adamax', 'verbose': 0}\n",
      "-0.092490 (0.014280) with: {'activation': 'relu', 'batch_size': 8, 'dropout_rate': 0.1, 'epochs': 2000, 'neurons': 10, 'optimizer': 'rmsprop', 'verbose': 0}\n",
      "-0.088530 (0.011860) with: {'activation': 'relu', 'batch_size': 8, 'dropout_rate': 0.1, 'epochs': 2000, 'neurons': 10, 'optimizer': 'sgd', 'verbose': 0}\n",
      "-0.097059 (0.007862) with: {'activation': 'relu', 'batch_size': 8, 'dropout_rate': 0.15, 'epochs': 2000, 'neurons': 10, 'optimizer': 'adam', 'verbose': 0}\n",
      "-0.087133 (0.015557) with: {'activation': 'relu', 'batch_size': 8, 'dropout_rate': 0.15, 'epochs': 2000, 'neurons': 10, 'optimizer': 'adamax', 'verbose': 0}\n",
      "-0.089485 (0.022409) with: {'activation': 'relu', 'batch_size': 8, 'dropout_rate': 0.15, 'epochs': 2000, 'neurons': 10, 'optimizer': 'rmsprop', 'verbose': 0}\n",
      "-0.091796 (0.014879) with: {'activation': 'relu', 'batch_size': 8, 'dropout_rate': 0.15, 'epochs': 2000, 'neurons': 10, 'optimizer': 'sgd', 'verbose': 0}\n",
      "-0.097322 (0.023824) with: {'activation': 'relu', 'batch_size': 8, 'dropout_rate': 0.2, 'epochs': 2000, 'neurons': 10, 'optimizer': 'adam', 'verbose': 0}\n",
      "-0.085415 (0.016958) with: {'activation': 'relu', 'batch_size': 8, 'dropout_rate': 0.2, 'epochs': 2000, 'neurons': 10, 'optimizer': 'adamax', 'verbose': 0}\n",
      "-0.086763 (0.019043) with: {'activation': 'relu', 'batch_size': 8, 'dropout_rate': 0.2, 'epochs': 2000, 'neurons': 10, 'optimizer': 'rmsprop', 'verbose': 0}\n",
      "-0.090524 (0.011131) with: {'activation': 'relu', 'batch_size': 8, 'dropout_rate': 0.2, 'epochs': 2000, 'neurons': 10, 'optimizer': 'sgd', 'verbose': 0}\n",
      "-0.092049 (0.018271) with: {'activation': 'relu', 'batch_size': 8, 'dropout_rate': 0.25, 'epochs': 2000, 'neurons': 10, 'optimizer': 'adam', 'verbose': 0}\n",
      "-0.090454 (0.020687) with: {'activation': 'relu', 'batch_size': 8, 'dropout_rate': 0.25, 'epochs': 2000, 'neurons': 10, 'optimizer': 'adamax', 'verbose': 0}\n",
      "-0.089001 (0.021140) with: {'activation': 'relu', 'batch_size': 8, 'dropout_rate': 0.25, 'epochs': 2000, 'neurons': 10, 'optimizer': 'rmsprop', 'verbose': 0}\n",
      "-0.085928 (0.015852) with: {'activation': 'relu', 'batch_size': 8, 'dropout_rate': 0.25, 'epochs': 2000, 'neurons': 10, 'optimizer': 'sgd', 'verbose': 0}\n",
      "-0.236080 (0.159972) with: {'activation': 'relu', 'batch_size': 16, 'dropout_rate': 0.05, 'epochs': 2000, 'neurons': 10, 'optimizer': 'adam', 'verbose': 0}\n",
      "-0.088492 (0.012421) with: {'activation': 'relu', 'batch_size': 16, 'dropout_rate': 0.05, 'epochs': 2000, 'neurons': 10, 'optimizer': 'adamax', 'verbose': 0}\n",
      "-0.112412 (0.028965) with: {'activation': 'relu', 'batch_size': 16, 'dropout_rate': 0.05, 'epochs': 2000, 'neurons': 10, 'optimizer': 'rmsprop', 'verbose': 0}\n",
      "-0.089817 (0.015118) with: {'activation': 'relu', 'batch_size': 16, 'dropout_rate': 0.05, 'epochs': 2000, 'neurons': 10, 'optimizer': 'sgd', 'verbose': 0}\n",
      "-0.088320 (0.013432) with: {'activation': 'relu', 'batch_size': 16, 'dropout_rate': 0.1, 'epochs': 2000, 'neurons': 10, 'optimizer': 'adam', 'verbose': 0}\n",
      "-0.095463 (0.018009) with: {'activation': 'relu', 'batch_size': 16, 'dropout_rate': 0.1, 'epochs': 2000, 'neurons': 10, 'optimizer': 'adamax', 'verbose': 0}\n",
      "-0.161805 (0.086113) with: {'activation': 'relu', 'batch_size': 16, 'dropout_rate': 0.1, 'epochs': 2000, 'neurons': 10, 'optimizer': 'rmsprop', 'verbose': 0}\n",
      "-0.094711 (0.013332) with: {'activation': 'relu', 'batch_size': 16, 'dropout_rate': 0.1, 'epochs': 2000, 'neurons': 10, 'optimizer': 'sgd', 'verbose': 0}\n",
      "-0.096947 (0.015558) with: {'activation': 'relu', 'batch_size': 16, 'dropout_rate': 0.15, 'epochs': 2000, 'neurons': 10, 'optimizer': 'adam', 'verbose': 0}\n",
      "-0.094560 (0.022950) with: {'activation': 'relu', 'batch_size': 16, 'dropout_rate': 0.15, 'epochs': 2000, 'neurons': 10, 'optimizer': 'adamax', 'verbose': 0}\n",
      "-0.157678 (0.085783) with: {'activation': 'relu', 'batch_size': 16, 'dropout_rate': 0.15, 'epochs': 2000, 'neurons': 10, 'optimizer': 'rmsprop', 'verbose': 0}\n",
      "-0.093064 (0.011880) with: {'activation': 'relu', 'batch_size': 16, 'dropout_rate': 0.15, 'epochs': 2000, 'neurons': 10, 'optimizer': 'sgd', 'verbose': 0}\n",
      "-0.091684 (0.025493) with: {'activation': 'relu', 'batch_size': 16, 'dropout_rate': 0.2, 'epochs': 2000, 'neurons': 10, 'optimizer': 'adam', 'verbose': 0}\n",
      "-0.089554 (0.015143) with: {'activation': 'relu', 'batch_size': 16, 'dropout_rate': 0.2, 'epochs': 2000, 'neurons': 10, 'optimizer': 'adamax', 'verbose': 0}\n",
      "-0.176436 (0.106418) with: {'activation': 'relu', 'batch_size': 16, 'dropout_rate': 0.2, 'epochs': 2000, 'neurons': 10, 'optimizer': 'rmsprop', 'verbose': 0}\n",
      "-0.091589 (0.015008) with: {'activation': 'relu', 'batch_size': 16, 'dropout_rate': 0.2, 'epochs': 2000, 'neurons': 10, 'optimizer': 'sgd', 'verbose': 0}\n",
      "-0.093573 (0.025877) with: {'activation': 'relu', 'batch_size': 16, 'dropout_rate': 0.25, 'epochs': 2000, 'neurons': 10, 'optimizer': 'adam', 'verbose': 0}\n",
      "-0.095987 (0.018748) with: {'activation': 'relu', 'batch_size': 16, 'dropout_rate': 0.25, 'epochs': 2000, 'neurons': 10, 'optimizer': 'adamax', 'verbose': 0}\n",
      "-0.089220 (0.020004) with: {'activation': 'relu', 'batch_size': 16, 'dropout_rate': 0.25, 'epochs': 2000, 'neurons': 10, 'optimizer': 'rmsprop', 'verbose': 0}\n",
      "-0.092372 (0.012752) with: {'activation': 'relu', 'batch_size': 16, 'dropout_rate': 0.25, 'epochs': 2000, 'neurons': 10, 'optimizer': 'sgd', 'verbose': 0}\n",
      "-0.117383 (0.039648) with: {'activation': 'relu', 'batch_size': 32, 'dropout_rate': 0.05, 'epochs': 2000, 'neurons': 10, 'optimizer': 'adam', 'verbose': 0}\n",
      "-0.091626 (0.012043) with: {'activation': 'relu', 'batch_size': 32, 'dropout_rate': 0.05, 'epochs': 2000, 'neurons': 10, 'optimizer': 'adamax', 'verbose': 0}\n",
      "-0.107768 (0.025756) with: {'activation': 'relu', 'batch_size': 32, 'dropout_rate': 0.05, 'epochs': 2000, 'neurons': 10, 'optimizer': 'rmsprop', 'verbose': 0}\n",
      "-0.092488 (0.016569) with: {'activation': 'relu', 'batch_size': 32, 'dropout_rate': 0.05, 'epochs': 2000, 'neurons': 10, 'optimizer': 'sgd', 'verbose': 0}\n",
      "-0.201251 (0.125871) with: {'activation': 'relu', 'batch_size': 32, 'dropout_rate': 0.1, 'epochs': 2000, 'neurons': 10, 'optimizer': 'adam', 'verbose': 0}\n",
      "-0.100225 (0.020806) with: {'activation': 'relu', 'batch_size': 32, 'dropout_rate': 0.1, 'epochs': 2000, 'neurons': 10, 'optimizer': 'adamax', 'verbose': 0}\n",
      "-0.143047 (0.070884) with: {'activation': 'relu', 'batch_size': 32, 'dropout_rate': 0.1, 'epochs': 2000, 'neurons': 10, 'optimizer': 'rmsprop', 'verbose': 0}\n",
      "-0.092367 (0.014425) with: {'activation': 'relu', 'batch_size': 32, 'dropout_rate': 0.1, 'epochs': 2000, 'neurons': 10, 'optimizer': 'sgd', 'verbose': 0}\n",
      "-0.091741 (0.012009) with: {'activation': 'relu', 'batch_size': 32, 'dropout_rate': 0.15, 'epochs': 2000, 'neurons': 10, 'optimizer': 'adam', 'verbose': 0}\n",
      "-0.099181 (0.021361) with: {'activation': 'relu', 'batch_size': 32, 'dropout_rate': 0.15, 'epochs': 2000, 'neurons': 10, 'optimizer': 'adamax', 'verbose': 0}\n",
      "-0.093148 (0.015925) with: {'activation': 'relu', 'batch_size': 32, 'dropout_rate': 0.15, 'epochs': 2000, 'neurons': 10, 'optimizer': 'rmsprop', 'verbose': 0}\n",
      "-0.094958 (0.016980) with: {'activation': 'relu', 'batch_size': 32, 'dropout_rate': 0.15, 'epochs': 2000, 'neurons': 10, 'optimizer': 'sgd', 'verbose': 0}\n",
      "-0.145629 (0.068422) with: {'activation': 'relu', 'batch_size': 32, 'dropout_rate': 0.2, 'epochs': 2000, 'neurons': 10, 'optimizer': 'adam', 'verbose': 0}\n",
      "-0.091264 (0.015841) with: {'activation': 'relu', 'batch_size': 32, 'dropout_rate': 0.2, 'epochs': 2000, 'neurons': 10, 'optimizer': 'adamax', 'verbose': 0}\n",
      "-0.096166 (0.020134) with: {'activation': 'relu', 'batch_size': 32, 'dropout_rate': 0.2, 'epochs': 2000, 'neurons': 10, 'optimizer': 'rmsprop', 'verbose': 0}\n",
      "-0.095030 (0.016353) with: {'activation': 'relu', 'batch_size': 32, 'dropout_rate': 0.2, 'epochs': 2000, 'neurons': 10, 'optimizer': 'sgd', 'verbose': 0}\n",
      "-0.103665 (0.021284) with: {'activation': 'relu', 'batch_size': 32, 'dropout_rate': 0.25, 'epochs': 2000, 'neurons': 10, 'optimizer': 'adam', 'verbose': 0}\n",
      "-0.092989 (0.019263) with: {'activation': 'relu', 'batch_size': 32, 'dropout_rate': 0.25, 'epochs': 2000, 'neurons': 10, 'optimizer': 'adamax', 'verbose': 0}\n",
      "-0.089741 (0.021440) with: {'activation': 'relu', 'batch_size': 32, 'dropout_rate': 0.25, 'epochs': 2000, 'neurons': 10, 'optimizer': 'rmsprop', 'verbose': 0}\n",
      "-0.095756 (0.017726) with: {'activation': 'relu', 'batch_size': 32, 'dropout_rate': 0.25, 'epochs': 2000, 'neurons': 10, 'optimizer': 'sgd', 'verbose': 0}\n",
      "-0.093492 (0.008572) with: {'activation': 'relu', 'batch_size': 64, 'dropout_rate': 0.05, 'epochs': 2000, 'neurons': 10, 'optimizer': 'adam', 'verbose': 0}\n",
      "-0.112452 (0.032402) with: {'activation': 'relu', 'batch_size': 64, 'dropout_rate': 0.05, 'epochs': 2000, 'neurons': 10, 'optimizer': 'adamax', 'verbose': 0}\n",
      "-0.131445 (0.054043) with: {'activation': 'relu', 'batch_size': 64, 'dropout_rate': 0.05, 'epochs': 2000, 'neurons': 10, 'optimizer': 'rmsprop', 'verbose': 0}\n",
      "-0.092423 (0.013377) with: {'activation': 'relu', 'batch_size': 64, 'dropout_rate': 0.05, 'epochs': 2000, 'neurons': 10, 'optimizer': 'sgd', 'verbose': 0}\n",
      "-0.110383 (0.025935) with: {'activation': 'relu', 'batch_size': 64, 'dropout_rate': 0.1, 'epochs': 2000, 'neurons': 10, 'optimizer': 'adam', 'verbose': 0}\n",
      "-0.095676 (0.013628) with: {'activation': 'relu', 'batch_size': 64, 'dropout_rate': 0.1, 'epochs': 2000, 'neurons': 10, 'optimizer': 'adamax', 'verbose': 0}\n",
      "-0.096695 (0.021154) with: {'activation': 'relu', 'batch_size': 64, 'dropout_rate': 0.1, 'epochs': 2000, 'neurons': 10, 'optimizer': 'rmsprop', 'verbose': 0}\n",
      "-0.098060 (0.017430) with: {'activation': 'relu', 'batch_size': 64, 'dropout_rate': 0.1, 'epochs': 2000, 'neurons': 10, 'optimizer': 'sgd', 'verbose': 0}\n",
      "-0.120356 (0.049084) with: {'activation': 'relu', 'batch_size': 64, 'dropout_rate': 0.15, 'epochs': 2000, 'neurons': 10, 'optimizer': 'adam', 'verbose': 0}\n",
      "-0.093414 (0.011695) with: {'activation': 'relu', 'batch_size': 64, 'dropout_rate': 0.15, 'epochs': 2000, 'neurons': 10, 'optimizer': 'adamax', 'verbose': 0}\n",
      "-0.092643 (0.022002) with: {'activation': 'relu', 'batch_size': 64, 'dropout_rate': 0.15, 'epochs': 2000, 'neurons': 10, 'optimizer': 'rmsprop', 'verbose': 0}\n",
      "-0.096455 (0.015642) with: {'activation': 'relu', 'batch_size': 64, 'dropout_rate': 0.15, 'epochs': 2000, 'neurons': 10, 'optimizer': 'sgd', 'verbose': 0}\n",
      "-0.097028 (0.017050) with: {'activation': 'relu', 'batch_size': 64, 'dropout_rate': 0.2, 'epochs': 2000, 'neurons': 10, 'optimizer': 'adam', 'verbose': 0}\n",
      "-0.093843 (0.014848) with: {'activation': 'relu', 'batch_size': 64, 'dropout_rate': 0.2, 'epochs': 2000, 'neurons': 10, 'optimizer': 'adamax', 'verbose': 0}\n",
      "-0.090161 (0.020221) with: {'activation': 'relu', 'batch_size': 64, 'dropout_rate': 0.2, 'epochs': 2000, 'neurons': 10, 'optimizer': 'rmsprop', 'verbose': 0}\n",
      "-0.097513 (0.016017) with: {'activation': 'relu', 'batch_size': 64, 'dropout_rate': 0.2, 'epochs': 2000, 'neurons': 10, 'optimizer': 'sgd', 'verbose': 0}\n",
      "-0.100858 (0.029851) with: {'activation': 'relu', 'batch_size': 64, 'dropout_rate': 0.25, 'epochs': 2000, 'neurons': 10, 'optimizer': 'adam', 'verbose': 0}\n",
      "-0.095919 (0.014762) with: {'activation': 'relu', 'batch_size': 64, 'dropout_rate': 0.25, 'epochs': 2000, 'neurons': 10, 'optimizer': 'adamax', 'verbose': 0}\n",
      "-0.093442 (0.025370) with: {'activation': 'relu', 'batch_size': 64, 'dropout_rate': 0.25, 'epochs': 2000, 'neurons': 10, 'optimizer': 'rmsprop', 'verbose': 0}\n",
      "-0.097065 (0.015497) with: {'activation': 'relu', 'batch_size': 64, 'dropout_rate': 0.25, 'epochs': 2000, 'neurons': 10, 'optimizer': 'sgd', 'verbose': 0}\n",
      "-0.091331 (0.014390) with: {'activation': 'selu', 'batch_size': 4, 'dropout_rate': 0.05, 'epochs': 2000, 'neurons': 10, 'optimizer': 'adam', 'verbose': 0}\n",
      "-0.085474 (0.013565) with: {'activation': 'selu', 'batch_size': 4, 'dropout_rate': 0.05, 'epochs': 2000, 'neurons': 10, 'optimizer': 'adamax', 'verbose': 0}\n",
      "-0.085378 (0.013226) with: {'activation': 'selu', 'batch_size': 4, 'dropout_rate': 0.05, 'epochs': 2000, 'neurons': 10, 'optimizer': 'rmsprop', 'verbose': 0}\n",
      "-0.088398 (0.016194) with: {'activation': 'selu', 'batch_size': 4, 'dropout_rate': 0.05, 'epochs': 2000, 'neurons': 10, 'optimizer': 'sgd', 'verbose': 0}\n",
      "-0.086705 (0.012719) with: {'activation': 'selu', 'batch_size': 4, 'dropout_rate': 0.1, 'epochs': 2000, 'neurons': 10, 'optimizer': 'adam', 'verbose': 0}\n",
      "-0.082879 (0.015423) with: {'activation': 'selu', 'batch_size': 4, 'dropout_rate': 0.1, 'epochs': 2000, 'neurons': 10, 'optimizer': 'adamax', 'verbose': 0}\n",
      "-0.089749 (0.017970) with: {'activation': 'selu', 'batch_size': 4, 'dropout_rate': 0.1, 'epochs': 2000, 'neurons': 10, 'optimizer': 'rmsprop', 'verbose': 0}\n",
      "-0.086155 (0.018125) with: {'activation': 'selu', 'batch_size': 4, 'dropout_rate': 0.1, 'epochs': 2000, 'neurons': 10, 'optimizer': 'sgd', 'verbose': 0}\n",
      "-0.099176 (0.028838) with: {'activation': 'selu', 'batch_size': 4, 'dropout_rate': 0.15, 'epochs': 2000, 'neurons': 10, 'optimizer': 'adam', 'verbose': 0}\n",
      "-0.084568 (0.015415) with: {'activation': 'selu', 'batch_size': 4, 'dropout_rate': 0.15, 'epochs': 2000, 'neurons': 10, 'optimizer': 'adamax', 'verbose': 0}\n",
      "-0.120694 (0.046665) with: {'activation': 'selu', 'batch_size': 4, 'dropout_rate': 0.15, 'epochs': 2000, 'neurons': 10, 'optimizer': 'rmsprop', 'verbose': 0}\n",
      "-0.083619 (0.016869) with: {'activation': 'selu', 'batch_size': 4, 'dropout_rate': 0.15, 'epochs': 2000, 'neurons': 10, 'optimizer': 'sgd', 'verbose': 0}\n",
      "-0.113589 (0.042935) with: {'activation': 'selu', 'batch_size': 4, 'dropout_rate': 0.2, 'epochs': 2000, 'neurons': 10, 'optimizer': 'adam', 'verbose': 0}\n",
      "-0.082626 (0.015520) with: {'activation': 'selu', 'batch_size': 4, 'dropout_rate': 0.2, 'epochs': 2000, 'neurons': 10, 'optimizer': 'adamax', 'verbose': 0}\n",
      "-0.100890 (0.028954) with: {'activation': 'selu', 'batch_size': 4, 'dropout_rate': 0.2, 'epochs': 2000, 'neurons': 10, 'optimizer': 'rmsprop', 'verbose': 0}\n",
      "-0.085139 (0.017355) with: {'activation': 'selu', 'batch_size': 4, 'dropout_rate': 0.2, 'epochs': 2000, 'neurons': 10, 'optimizer': 'sgd', 'verbose': 0}\n",
      "-0.128505 (0.053229) with: {'activation': 'selu', 'batch_size': 4, 'dropout_rate': 0.25, 'epochs': 2000, 'neurons': 10, 'optimizer': 'adam', 'verbose': 0}\n",
      "-0.082659 (0.016068) with: {'activation': 'selu', 'batch_size': 4, 'dropout_rate': 0.25, 'epochs': 2000, 'neurons': 10, 'optimizer': 'adamax', 'verbose': 0}\n",
      "-0.084173 (0.014153) with: {'activation': 'selu', 'batch_size': 4, 'dropout_rate': 0.25, 'epochs': 2000, 'neurons': 10, 'optimizer': 'rmsprop', 'verbose': 0}\n",
      "-0.089172 (0.019880) with: {'activation': 'selu', 'batch_size': 4, 'dropout_rate': 0.25, 'epochs': 2000, 'neurons': 10, 'optimizer': 'sgd', 'verbose': 0}\n",
      "-0.081842 (0.015392) with: {'activation': 'selu', 'batch_size': 8, 'dropout_rate': 0.05, 'epochs': 2000, 'neurons': 10, 'optimizer': 'adam', 'verbose': 0}\n",
      "-0.086816 (0.015277) with: {'activation': 'selu', 'batch_size': 8, 'dropout_rate': 0.05, 'epochs': 2000, 'neurons': 10, 'optimizer': 'adamax', 'verbose': 0}\n",
      "-0.083905 (0.013988) with: {'activation': 'selu', 'batch_size': 8, 'dropout_rate': 0.05, 'epochs': 2000, 'neurons': 10, 'optimizer': 'rmsprop', 'verbose': 0}\n",
      "-0.085618 (0.016625) with: {'activation': 'selu', 'batch_size': 8, 'dropout_rate': 0.05, 'epochs': 2000, 'neurons': 10, 'optimizer': 'sgd', 'verbose': 0}\n",
      "-0.088035 (0.019405) with: {'activation': 'selu', 'batch_size': 8, 'dropout_rate': 0.1, 'epochs': 2000, 'neurons': 10, 'optimizer': 'adam', 'verbose': 0}\n",
      "-0.083737 (0.014406) with: {'activation': 'selu', 'batch_size': 8, 'dropout_rate': 0.1, 'epochs': 2000, 'neurons': 10, 'optimizer': 'adamax', 'verbose': 0}\n",
      "-0.083015 (0.012876) with: {'activation': 'selu', 'batch_size': 8, 'dropout_rate': 0.1, 'epochs': 2000, 'neurons': 10, 'optimizer': 'rmsprop', 'verbose': 0}\n",
      "-0.087223 (0.017192) with: {'activation': 'selu', 'batch_size': 8, 'dropout_rate': 0.1, 'epochs': 2000, 'neurons': 10, 'optimizer': 'sgd', 'verbose': 0}\n",
      "-0.082632 (0.013696) with: {'activation': 'selu', 'batch_size': 8, 'dropout_rate': 0.15, 'epochs': 2000, 'neurons': 10, 'optimizer': 'adam', 'verbose': 0}\n",
      "-0.083459 (0.014990) with: {'activation': 'selu', 'batch_size': 8, 'dropout_rate': 0.15, 'epochs': 2000, 'neurons': 10, 'optimizer': 'adamax', 'verbose': 0}\n",
      "-0.082985 (0.011970) with: {'activation': 'selu', 'batch_size': 8, 'dropout_rate': 0.15, 'epochs': 2000, 'neurons': 10, 'optimizer': 'rmsprop', 'verbose': 0}\n",
      "-0.089356 (0.017322) with: {'activation': 'selu', 'batch_size': 8, 'dropout_rate': 0.15, 'epochs': 2000, 'neurons': 10, 'optimizer': 'sgd', 'verbose': 0}\n",
      "-0.089570 (0.022318) with: {'activation': 'selu', 'batch_size': 8, 'dropout_rate': 0.2, 'epochs': 2000, 'neurons': 10, 'optimizer': 'adam', 'verbose': 0}\n",
      "-0.082802 (0.015656) with: {'activation': 'selu', 'batch_size': 8, 'dropout_rate': 0.2, 'epochs': 2000, 'neurons': 10, 'optimizer': 'adamax', 'verbose': 0}\n",
      "-0.087517 (0.021376) with: {'activation': 'selu', 'batch_size': 8, 'dropout_rate': 0.2, 'epochs': 2000, 'neurons': 10, 'optimizer': 'rmsprop', 'verbose': 0}\n",
      "-0.086113 (0.018299) with: {'activation': 'selu', 'batch_size': 8, 'dropout_rate': 0.2, 'epochs': 2000, 'neurons': 10, 'optimizer': 'sgd', 'verbose': 0}\n",
      "-0.089114 (0.020016) with: {'activation': 'selu', 'batch_size': 8, 'dropout_rate': 0.25, 'epochs': 2000, 'neurons': 10, 'optimizer': 'adam', 'verbose': 0}\n",
      "-0.082908 (0.016472) with: {'activation': 'selu', 'batch_size': 8, 'dropout_rate': 0.25, 'epochs': 2000, 'neurons': 10, 'optimizer': 'adamax', 'verbose': 0}\n",
      "-0.083649 (0.016135) with: {'activation': 'selu', 'batch_size': 8, 'dropout_rate': 0.25, 'epochs': 2000, 'neurons': 10, 'optimizer': 'rmsprop', 'verbose': 0}\n",
      "-0.086698 (0.018489) with: {'activation': 'selu', 'batch_size': 8, 'dropout_rate': 0.25, 'epochs': 2000, 'neurons': 10, 'optimizer': 'sgd', 'verbose': 0}\n",
      "-0.085034 (0.015968) with: {'activation': 'selu', 'batch_size': 16, 'dropout_rate': 0.05, 'epochs': 2000, 'neurons': 10, 'optimizer': 'adam', 'verbose': 0}\n",
      "-0.088589 (0.012757) with: {'activation': 'selu', 'batch_size': 16, 'dropout_rate': 0.05, 'epochs': 2000, 'neurons': 10, 'optimizer': 'adamax', 'verbose': 0}\n",
      "-0.084071 (0.014918) with: {'activation': 'selu', 'batch_size': 16, 'dropout_rate': 0.05, 'epochs': 2000, 'neurons': 10, 'optimizer': 'rmsprop', 'verbose': 0}\n",
      "-0.087125 (0.014345) with: {'activation': 'selu', 'batch_size': 16, 'dropout_rate': 0.05, 'epochs': 2000, 'neurons': 10, 'optimizer': 'sgd', 'verbose': 0}\n",
      "-0.082492 (0.015161) with: {'activation': 'selu', 'batch_size': 16, 'dropout_rate': 0.1, 'epochs': 2000, 'neurons': 10, 'optimizer': 'adam', 'verbose': 0}\n",
      "-0.086693 (0.013436) with: {'activation': 'selu', 'batch_size': 16, 'dropout_rate': 0.1, 'epochs': 2000, 'neurons': 10, 'optimizer': 'adamax', 'verbose': 0}\n",
      "-0.085089 (0.012692) with: {'activation': 'selu', 'batch_size': 16, 'dropout_rate': 0.1, 'epochs': 2000, 'neurons': 10, 'optimizer': 'rmsprop', 'verbose': 0}\n",
      "-0.085737 (0.013173) with: {'activation': 'selu', 'batch_size': 16, 'dropout_rate': 0.1, 'epochs': 2000, 'neurons': 10, 'optimizer': 'sgd', 'verbose': 0}\n",
      "-0.081409 (0.015186) with: {'activation': 'selu', 'batch_size': 16, 'dropout_rate': 0.15, 'epochs': 2000, 'neurons': 10, 'optimizer': 'adam', 'verbose': 0}\n",
      "-0.085549 (0.014729) with: {'activation': 'selu', 'batch_size': 16, 'dropout_rate': 0.15, 'epochs': 2000, 'neurons': 10, 'optimizer': 'adamax', 'verbose': 0}\n",
      "-0.084278 (0.013963) with: {'activation': 'selu', 'batch_size': 16, 'dropout_rate': 0.15, 'epochs': 2000, 'neurons': 10, 'optimizer': 'rmsprop', 'verbose': 0}\n",
      "-0.085556 (0.014701) with: {'activation': 'selu', 'batch_size': 16, 'dropout_rate': 0.15, 'epochs': 2000, 'neurons': 10, 'optimizer': 'sgd', 'verbose': 0}\n",
      "-0.082496 (0.014865) with: {'activation': 'selu', 'batch_size': 16, 'dropout_rate': 0.2, 'epochs': 2000, 'neurons': 10, 'optimizer': 'adam', 'verbose': 0}\n",
      "-0.083833 (0.014321) with: {'activation': 'selu', 'batch_size': 16, 'dropout_rate': 0.2, 'epochs': 2000, 'neurons': 10, 'optimizer': 'adamax', 'verbose': 0}\n",
      "-0.081681 (0.016070) with: {'activation': 'selu', 'batch_size': 16, 'dropout_rate': 0.2, 'epochs': 2000, 'neurons': 10, 'optimizer': 'rmsprop', 'verbose': 0}\n",
      "-0.087049 (0.016253) with: {'activation': 'selu', 'batch_size': 16, 'dropout_rate': 0.2, 'epochs': 2000, 'neurons': 10, 'optimizer': 'sgd', 'verbose': 0}\n",
      "-0.081601 (0.016186) with: {'activation': 'selu', 'batch_size': 16, 'dropout_rate': 0.25, 'epochs': 2000, 'neurons': 10, 'optimizer': 'adam', 'verbose': 0}\n",
      "-0.082693 (0.015428) with: {'activation': 'selu', 'batch_size': 16, 'dropout_rate': 0.25, 'epochs': 2000, 'neurons': 10, 'optimizer': 'adamax', 'verbose': 0}\n",
      "-0.082272 (0.015851) with: {'activation': 'selu', 'batch_size': 16, 'dropout_rate': 0.25, 'epochs': 2000, 'neurons': 10, 'optimizer': 'rmsprop', 'verbose': 0}\n",
      "-0.084923 (0.013822) with: {'activation': 'selu', 'batch_size': 16, 'dropout_rate': 0.25, 'epochs': 2000, 'neurons': 10, 'optimizer': 'sgd', 'verbose': 0}\n",
      "-0.087738 (0.013676) with: {'activation': 'selu', 'batch_size': 32, 'dropout_rate': 0.05, 'epochs': 2000, 'neurons': 10, 'optimizer': 'adam', 'verbose': 0}\n",
      "-0.090947 (0.013181) with: {'activation': 'selu', 'batch_size': 32, 'dropout_rate': 0.05, 'epochs': 2000, 'neurons': 10, 'optimizer': 'adamax', 'verbose': 0}\n",
      "-0.087280 (0.013667) with: {'activation': 'selu', 'batch_size': 32, 'dropout_rate': 0.05, 'epochs': 2000, 'neurons': 10, 'optimizer': 'rmsprop', 'verbose': 0}\n",
      "-0.089500 (0.014912) with: {'activation': 'selu', 'batch_size': 32, 'dropout_rate': 0.05, 'epochs': 2000, 'neurons': 10, 'optimizer': 'sgd', 'verbose': 0}\n",
      "-0.083921 (0.014413) with: {'activation': 'selu', 'batch_size': 32, 'dropout_rate': 0.1, 'epochs': 2000, 'neurons': 10, 'optimizer': 'adam', 'verbose': 0}\n",
      "-0.091417 (0.012013) with: {'activation': 'selu', 'batch_size': 32, 'dropout_rate': 0.1, 'epochs': 2000, 'neurons': 10, 'optimizer': 'adamax', 'verbose': 0}\n",
      "-0.082212 (0.015722) with: {'activation': 'selu', 'batch_size': 32, 'dropout_rate': 0.1, 'epochs': 2000, 'neurons': 10, 'optimizer': 'rmsprop', 'verbose': 0}\n",
      "-0.088928 (0.013918) with: {'activation': 'selu', 'batch_size': 32, 'dropout_rate': 0.1, 'epochs': 2000, 'neurons': 10, 'optimizer': 'sgd', 'verbose': 0}\n",
      "-0.083289 (0.014764) with: {'activation': 'selu', 'batch_size': 32, 'dropout_rate': 0.15, 'epochs': 2000, 'neurons': 10, 'optimizer': 'adam', 'verbose': 0}\n",
      "-0.090501 (0.012249) with: {'activation': 'selu', 'batch_size': 32, 'dropout_rate': 0.15, 'epochs': 2000, 'neurons': 10, 'optimizer': 'adamax', 'verbose': 0}\n",
      "-0.082374 (0.016532) with: {'activation': 'selu', 'batch_size': 32, 'dropout_rate': 0.15, 'epochs': 2000, 'neurons': 10, 'optimizer': 'rmsprop', 'verbose': 0}\n",
      "-0.087499 (0.017335) with: {'activation': 'selu', 'batch_size': 32, 'dropout_rate': 0.15, 'epochs': 2000, 'neurons': 10, 'optimizer': 'sgd', 'verbose': 0}\n",
      "-0.082544 (0.016233) with: {'activation': 'selu', 'batch_size': 32, 'dropout_rate': 0.2, 'epochs': 2000, 'neurons': 10, 'optimizer': 'adam', 'verbose': 0}\n",
      "-0.091170 (0.013232) with: {'activation': 'selu', 'batch_size': 32, 'dropout_rate': 0.2, 'epochs': 2000, 'neurons': 10, 'optimizer': 'adamax', 'verbose': 0}\n",
      "-0.081649 (0.015577) with: {'activation': 'selu', 'batch_size': 32, 'dropout_rate': 0.2, 'epochs': 2000, 'neurons': 10, 'optimizer': 'rmsprop', 'verbose': 0}\n",
      "-0.086897 (0.016446) with: {'activation': 'selu', 'batch_size': 32, 'dropout_rate': 0.2, 'epochs': 2000, 'neurons': 10, 'optimizer': 'sgd', 'verbose': 0}\n",
      "-0.083471 (0.016014) with: {'activation': 'selu', 'batch_size': 32, 'dropout_rate': 0.25, 'epochs': 2000, 'neurons': 10, 'optimizer': 'adam', 'verbose': 0}\n",
      "-0.089483 (0.013866) with: {'activation': 'selu', 'batch_size': 32, 'dropout_rate': 0.25, 'epochs': 2000, 'neurons': 10, 'optimizer': 'adamax', 'verbose': 0}\n",
      "-0.081737 (0.015681) with: {'activation': 'selu', 'batch_size': 32, 'dropout_rate': 0.25, 'epochs': 2000, 'neurons': 10, 'optimizer': 'rmsprop', 'verbose': 0}\n",
      "-0.088243 (0.016793) with: {'activation': 'selu', 'batch_size': 32, 'dropout_rate': 0.25, 'epochs': 2000, 'neurons': 10, 'optimizer': 'sgd', 'verbose': 0}\n",
      "-0.089703 (0.013813) with: {'activation': 'selu', 'batch_size': 64, 'dropout_rate': 0.05, 'epochs': 2000, 'neurons': 10, 'optimizer': 'adam', 'verbose': 0}\n",
      "-0.093724 (0.011467) with: {'activation': 'selu', 'batch_size': 64, 'dropout_rate': 0.05, 'epochs': 2000, 'neurons': 10, 'optimizer': 'adamax', 'verbose': 0}\n",
      "-0.086983 (0.016190) with: {'activation': 'selu', 'batch_size': 64, 'dropout_rate': 0.05, 'epochs': 2000, 'neurons': 10, 'optimizer': 'rmsprop', 'verbose': 0}\n",
      "-0.089428 (0.015914) with: {'activation': 'selu', 'batch_size': 64, 'dropout_rate': 0.05, 'epochs': 2000, 'neurons': 10, 'optimizer': 'sgd', 'verbose': 0}\n",
      "-0.087533 (0.014424) with: {'activation': 'selu', 'batch_size': 64, 'dropout_rate': 0.1, 'epochs': 2000, 'neurons': 10, 'optimizer': 'adam', 'verbose': 0}\n",
      "-0.095431 (0.010090) with: {'activation': 'selu', 'batch_size': 64, 'dropout_rate': 0.1, 'epochs': 2000, 'neurons': 10, 'optimizer': 'adamax', 'verbose': 0}\n",
      "-0.086627 (0.015380) with: {'activation': 'selu', 'batch_size': 64, 'dropout_rate': 0.1, 'epochs': 2000, 'neurons': 10, 'optimizer': 'rmsprop', 'verbose': 0}\n",
      "-0.089522 (0.013749) with: {'activation': 'selu', 'batch_size': 64, 'dropout_rate': 0.1, 'epochs': 2000, 'neurons': 10, 'optimizer': 'sgd', 'verbose': 0}\n",
      "-0.086104 (0.014346) with: {'activation': 'selu', 'batch_size': 64, 'dropout_rate': 0.15, 'epochs': 2000, 'neurons': 10, 'optimizer': 'adam', 'verbose': 0}\n",
      "-0.091801 (0.010894) with: {'activation': 'selu', 'batch_size': 64, 'dropout_rate': 0.15, 'epochs': 2000, 'neurons': 10, 'optimizer': 'adamax', 'verbose': 0}\n",
      "-0.083798 (0.015164) with: {'activation': 'selu', 'batch_size': 64, 'dropout_rate': 0.15, 'epochs': 2000, 'neurons': 10, 'optimizer': 'rmsprop', 'verbose': 0}\n",
      "-0.088482 (0.015965) with: {'activation': 'selu', 'batch_size': 64, 'dropout_rate': 0.15, 'epochs': 2000, 'neurons': 10, 'optimizer': 'sgd', 'verbose': 0}\n",
      "-0.086176 (0.013830) with: {'activation': 'selu', 'batch_size': 64, 'dropout_rate': 0.2, 'epochs': 2000, 'neurons': 10, 'optimizer': 'adam', 'verbose': 0}\n",
      "-0.091630 (0.009888) with: {'activation': 'selu', 'batch_size': 64, 'dropout_rate': 0.2, 'epochs': 2000, 'neurons': 10, 'optimizer': 'adamax', 'verbose': 0}\n",
      "-0.084990 (0.016892) with: {'activation': 'selu', 'batch_size': 64, 'dropout_rate': 0.2, 'epochs': 2000, 'neurons': 10, 'optimizer': 'rmsprop', 'verbose': 0}\n",
      "-0.088888 (0.015103) with: {'activation': 'selu', 'batch_size': 64, 'dropout_rate': 0.2, 'epochs': 2000, 'neurons': 10, 'optimizer': 'sgd', 'verbose': 0}\n",
      "-0.085484 (0.015062) with: {'activation': 'selu', 'batch_size': 64, 'dropout_rate': 0.25, 'epochs': 2000, 'neurons': 10, 'optimizer': 'adam', 'verbose': 0}\n",
      "-0.091962 (0.012724) with: {'activation': 'selu', 'batch_size': 64, 'dropout_rate': 0.25, 'epochs': 2000, 'neurons': 10, 'optimizer': 'adamax', 'verbose': 0}\n",
      "-0.082232 (0.015346) with: {'activation': 'selu', 'batch_size': 64, 'dropout_rate': 0.25, 'epochs': 2000, 'neurons': 10, 'optimizer': 'rmsprop', 'verbose': 0}\n",
      "-0.091261 (0.016579) with: {'activation': 'selu', 'batch_size': 64, 'dropout_rate': 0.25, 'epochs': 2000, 'neurons': 10, 'optimizer': 'sgd', 'verbose': 0}\n",
      "-0.084275 (0.011448) with: {'activation': 'elu', 'batch_size': 4, 'dropout_rate': 0.05, 'epochs': 2000, 'neurons': 10, 'optimizer': 'adam', 'verbose': 0}\n",
      "-0.084296 (0.014389) with: {'activation': 'elu', 'batch_size': 4, 'dropout_rate': 0.05, 'epochs': 2000, 'neurons': 10, 'optimizer': 'adamax', 'verbose': 0}\n",
      "-0.086692 (0.016742) with: {'activation': 'elu', 'batch_size': 4, 'dropout_rate': 0.05, 'epochs': 2000, 'neurons': 10, 'optimizer': 'rmsprop', 'verbose': 0}\n",
      "-0.085733 (0.015102) with: {'activation': 'elu', 'batch_size': 4, 'dropout_rate': 0.05, 'epochs': 2000, 'neurons': 10, 'optimizer': 'sgd', 'verbose': 0}\n",
      "-0.085601 (0.017652) with: {'activation': 'elu', 'batch_size': 4, 'dropout_rate': 0.1, 'epochs': 2000, 'neurons': 10, 'optimizer': 'adam', 'verbose': 0}\n",
      "-0.083400 (0.016082) with: {'activation': 'elu', 'batch_size': 4, 'dropout_rate': 0.1, 'epochs': 2000, 'neurons': 10, 'optimizer': 'adamax', 'verbose': 0}\n",
      "-0.087898 (0.018386) with: {'activation': 'elu', 'batch_size': 4, 'dropout_rate': 0.1, 'epochs': 2000, 'neurons': 10, 'optimizer': 'rmsprop', 'verbose': 0}\n",
      "-0.084941 (0.014250) with: {'activation': 'elu', 'batch_size': 4, 'dropout_rate': 0.1, 'epochs': 2000, 'neurons': 10, 'optimizer': 'sgd', 'verbose': 0}\n",
      "-0.089738 (0.019144) with: {'activation': 'elu', 'batch_size': 4, 'dropout_rate': 0.15, 'epochs': 2000, 'neurons': 10, 'optimizer': 'adam', 'verbose': 0}\n",
      "-0.081668 (0.015935) with: {'activation': 'elu', 'batch_size': 4, 'dropout_rate': 0.15, 'epochs': 2000, 'neurons': 10, 'optimizer': 'adamax', 'verbose': 0}\n",
      "-0.085290 (0.015990) with: {'activation': 'elu', 'batch_size': 4, 'dropout_rate': 0.15, 'epochs': 2000, 'neurons': 10, 'optimizer': 'rmsprop', 'verbose': 0}\n",
      "-0.085018 (0.015576) with: {'activation': 'elu', 'batch_size': 4, 'dropout_rate': 0.15, 'epochs': 2000, 'neurons': 10, 'optimizer': 'sgd', 'verbose': 0}\n",
      "-0.098709 (0.030178) with: {'activation': 'elu', 'batch_size': 4, 'dropout_rate': 0.2, 'epochs': 2000, 'neurons': 10, 'optimizer': 'adam', 'verbose': 0}\n",
      "-0.081557 (0.015968) with: {'activation': 'elu', 'batch_size': 4, 'dropout_rate': 0.2, 'epochs': 2000, 'neurons': 10, 'optimizer': 'adamax', 'verbose': 0}\n",
      "-0.087201 (0.018178) with: {'activation': 'elu', 'batch_size': 4, 'dropout_rate': 0.2, 'epochs': 2000, 'neurons': 10, 'optimizer': 'rmsprop', 'verbose': 0}\n",
      "-0.085708 (0.017414) with: {'activation': 'elu', 'batch_size': 4, 'dropout_rate': 0.2, 'epochs': 2000, 'neurons': 10, 'optimizer': 'sgd', 'verbose': 0}\n",
      "-0.096768 (0.027624) with: {'activation': 'elu', 'batch_size': 4, 'dropout_rate': 0.25, 'epochs': 2000, 'neurons': 10, 'optimizer': 'adam', 'verbose': 0}\n",
      "-0.082805 (0.016895) with: {'activation': 'elu', 'batch_size': 4, 'dropout_rate': 0.25, 'epochs': 2000, 'neurons': 10, 'optimizer': 'adamax', 'verbose': 0}\n",
      "-0.094892 (0.026201) with: {'activation': 'elu', 'batch_size': 4, 'dropout_rate': 0.25, 'epochs': 2000, 'neurons': 10, 'optimizer': 'rmsprop', 'verbose': 0}\n",
      "-0.084810 (0.017487) with: {'activation': 'elu', 'batch_size': 4, 'dropout_rate': 0.25, 'epochs': 2000, 'neurons': 10, 'optimizer': 'sgd', 'verbose': 0}\n",
      "-0.082875 (0.014772) with: {'activation': 'elu', 'batch_size': 8, 'dropout_rate': 0.05, 'epochs': 2000, 'neurons': 10, 'optimizer': 'adam', 'verbose': 0}\n",
      "-0.087142 (0.012330) with: {'activation': 'elu', 'batch_size': 8, 'dropout_rate': 0.05, 'epochs': 2000, 'neurons': 10, 'optimizer': 'adamax', 'verbose': 0}\n",
      "-0.082721 (0.014341) with: {'activation': 'elu', 'batch_size': 8, 'dropout_rate': 0.05, 'epochs': 2000, 'neurons': 10, 'optimizer': 'rmsprop', 'verbose': 0}\n",
      "-0.088253 (0.013224) with: {'activation': 'elu', 'batch_size': 8, 'dropout_rate': 0.05, 'epochs': 2000, 'neurons': 10, 'optimizer': 'sgd', 'verbose': 0}\n",
      "-0.086246 (0.018244) with: {'activation': 'elu', 'batch_size': 8, 'dropout_rate': 0.1, 'epochs': 2000, 'neurons': 10, 'optimizer': 'adam', 'verbose': 0}\n",
      "-0.083123 (0.014883) with: {'activation': 'elu', 'batch_size': 8, 'dropout_rate': 0.1, 'epochs': 2000, 'neurons': 10, 'optimizer': 'adamax', 'verbose': 0}\n",
      "-0.084004 (0.017261) with: {'activation': 'elu', 'batch_size': 8, 'dropout_rate': 0.1, 'epochs': 2000, 'neurons': 10, 'optimizer': 'rmsprop', 'verbose': 0}\n",
      "-0.086660 (0.017562) with: {'activation': 'elu', 'batch_size': 8, 'dropout_rate': 0.1, 'epochs': 2000, 'neurons': 10, 'optimizer': 'sgd', 'verbose': 0}\n",
      "-0.083459 (0.016706) with: {'activation': 'elu', 'batch_size': 8, 'dropout_rate': 0.15, 'epochs': 2000, 'neurons': 10, 'optimizer': 'adam', 'verbose': 0}\n",
      "-0.082693 (0.014777) with: {'activation': 'elu', 'batch_size': 8, 'dropout_rate': 0.15, 'epochs': 2000, 'neurons': 10, 'optimizer': 'adamax', 'verbose': 0}\n",
      "-0.083779 (0.015095) with: {'activation': 'elu', 'batch_size': 8, 'dropout_rate': 0.15, 'epochs': 2000, 'neurons': 10, 'optimizer': 'rmsprop', 'verbose': 0}\n",
      "-0.084831 (0.015312) with: {'activation': 'elu', 'batch_size': 8, 'dropout_rate': 0.15, 'epochs': 2000, 'neurons': 10, 'optimizer': 'sgd', 'verbose': 0}\n",
      "-0.087965 (0.020771) with: {'activation': 'elu', 'batch_size': 8, 'dropout_rate': 0.2, 'epochs': 2000, 'neurons': 10, 'optimizer': 'adam', 'verbose': 0}\n",
      "-0.082331 (0.015494) with: {'activation': 'elu', 'batch_size': 8, 'dropout_rate': 0.2, 'epochs': 2000, 'neurons': 10, 'optimizer': 'adamax', 'verbose': 0}\n",
      "-0.086307 (0.017247) with: {'activation': 'elu', 'batch_size': 8, 'dropout_rate': 0.2, 'epochs': 2000, 'neurons': 10, 'optimizer': 'rmsprop', 'verbose': 0}\n",
      "-0.085856 (0.014947) with: {'activation': 'elu', 'batch_size': 8, 'dropout_rate': 0.2, 'epochs': 2000, 'neurons': 10, 'optimizer': 'sgd', 'verbose': 0}\n",
      "-0.085290 (0.018693) with: {'activation': 'elu', 'batch_size': 8, 'dropout_rate': 0.25, 'epochs': 2000, 'neurons': 10, 'optimizer': 'adam', 'verbose': 0}\n",
      "-0.082444 (0.014722) with: {'activation': 'elu', 'batch_size': 8, 'dropout_rate': 0.25, 'epochs': 2000, 'neurons': 10, 'optimizer': 'adamax', 'verbose': 0}\n",
      "-0.082546 (0.015981) with: {'activation': 'elu', 'batch_size': 8, 'dropout_rate': 0.25, 'epochs': 2000, 'neurons': 10, 'optimizer': 'rmsprop', 'verbose': 0}\n",
      "-0.084923 (0.014070) with: {'activation': 'elu', 'batch_size': 8, 'dropout_rate': 0.25, 'epochs': 2000, 'neurons': 10, 'optimizer': 'sgd', 'verbose': 0}\n",
      "-0.084291 (0.014438) with: {'activation': 'elu', 'batch_size': 16, 'dropout_rate': 0.05, 'epochs': 2000, 'neurons': 10, 'optimizer': 'adam', 'verbose': 0}\n",
      "-0.088985 (0.013072) with: {'activation': 'elu', 'batch_size': 16, 'dropout_rate': 0.05, 'epochs': 2000, 'neurons': 10, 'optimizer': 'adamax', 'verbose': 0}\n",
      "-0.084050 (0.015121) with: {'activation': 'elu', 'batch_size': 16, 'dropout_rate': 0.05, 'epochs': 2000, 'neurons': 10, 'optimizer': 'rmsprop', 'verbose': 0}\n",
      "-0.088601 (0.015087) with: {'activation': 'elu', 'batch_size': 16, 'dropout_rate': 0.05, 'epochs': 2000, 'neurons': 10, 'optimizer': 'sgd', 'verbose': 0}\n",
      "-0.082046 (0.015865) with: {'activation': 'elu', 'batch_size': 16, 'dropout_rate': 0.1, 'epochs': 2000, 'neurons': 10, 'optimizer': 'adam', 'verbose': 0}\n",
      "-0.088360 (0.012366) with: {'activation': 'elu', 'batch_size': 16, 'dropout_rate': 0.1, 'epochs': 2000, 'neurons': 10, 'optimizer': 'adamax', 'verbose': 0}\n",
      "-0.082508 (0.016752) with: {'activation': 'elu', 'batch_size': 16, 'dropout_rate': 0.1, 'epochs': 2000, 'neurons': 10, 'optimizer': 'rmsprop', 'verbose': 0}\n",
      "-0.088530 (0.017190) with: {'activation': 'elu', 'batch_size': 16, 'dropout_rate': 0.1, 'epochs': 2000, 'neurons': 10, 'optimizer': 'sgd', 'verbose': 0}\n",
      "-0.081319 (0.015622) with: {'activation': 'elu', 'batch_size': 16, 'dropout_rate': 0.15, 'epochs': 2000, 'neurons': 10, 'optimizer': 'adam', 'verbose': 0}\n",
      "-0.086603 (0.015325) with: {'activation': 'elu', 'batch_size': 16, 'dropout_rate': 0.15, 'epochs': 2000, 'neurons': 10, 'optimizer': 'adamax', 'verbose': 0}\n",
      "-0.080603 (0.014835) with: {'activation': 'elu', 'batch_size': 16, 'dropout_rate': 0.15, 'epochs': 2000, 'neurons': 10, 'optimizer': 'rmsprop', 'verbose': 0}\n",
      "-0.089814 (0.014269) with: {'activation': 'elu', 'batch_size': 16, 'dropout_rate': 0.15, 'epochs': 2000, 'neurons': 10, 'optimizer': 'sgd', 'verbose': 0}\n",
      "-0.081608 (0.015973) with: {'activation': 'elu', 'batch_size': 16, 'dropout_rate': 0.2, 'epochs': 2000, 'neurons': 10, 'optimizer': 'adam', 'verbose': 0}\n",
      "-0.084095 (0.014996) with: {'activation': 'elu', 'batch_size': 16, 'dropout_rate': 0.2, 'epochs': 2000, 'neurons': 10, 'optimizer': 'adamax', 'verbose': 0}\n",
      "-0.082003 (0.016333) with: {'activation': 'elu', 'batch_size': 16, 'dropout_rate': 0.2, 'epochs': 2000, 'neurons': 10, 'optimizer': 'rmsprop', 'verbose': 0}\n",
      "-0.088617 (0.013303) with: {'activation': 'elu', 'batch_size': 16, 'dropout_rate': 0.2, 'epochs': 2000, 'neurons': 10, 'optimizer': 'sgd', 'verbose': 0}\n",
      "-0.081950 (0.015504) with: {'activation': 'elu', 'batch_size': 16, 'dropout_rate': 0.25, 'epochs': 2000, 'neurons': 10, 'optimizer': 'adam', 'verbose': 0}\n",
      "-0.083202 (0.015315) with: {'activation': 'elu', 'batch_size': 16, 'dropout_rate': 0.25, 'epochs': 2000, 'neurons': 10, 'optimizer': 'adamax', 'verbose': 0}\n",
      "-0.081590 (0.013992) with: {'activation': 'elu', 'batch_size': 16, 'dropout_rate': 0.25, 'epochs': 2000, 'neurons': 10, 'optimizer': 'rmsprop', 'verbose': 0}\n",
      "-0.088028 (0.015457) with: {'activation': 'elu', 'batch_size': 16, 'dropout_rate': 0.25, 'epochs': 2000, 'neurons': 10, 'optimizer': 'sgd', 'verbose': 0}\n",
      "-0.087476 (0.013672) with: {'activation': 'elu', 'batch_size': 32, 'dropout_rate': 0.05, 'epochs': 2000, 'neurons': 10, 'optimizer': 'adam', 'verbose': 0}\n",
      "-0.090944 (0.012334) with: {'activation': 'elu', 'batch_size': 32, 'dropout_rate': 0.05, 'epochs': 2000, 'neurons': 10, 'optimizer': 'adamax', 'verbose': 0}\n",
      "-0.087635 (0.013616) with: {'activation': 'elu', 'batch_size': 32, 'dropout_rate': 0.05, 'epochs': 2000, 'neurons': 10, 'optimizer': 'rmsprop', 'verbose': 0}\n",
      "-0.090051 (0.013157) with: {'activation': 'elu', 'batch_size': 32, 'dropout_rate': 0.05, 'epochs': 2000, 'neurons': 10, 'optimizer': 'sgd', 'verbose': 0}\n",
      "-0.085123 (0.014445) with: {'activation': 'elu', 'batch_size': 32, 'dropout_rate': 0.1, 'epochs': 2000, 'neurons': 10, 'optimizer': 'adam', 'verbose': 0}\n",
      "-0.090502 (0.012975) with: {'activation': 'elu', 'batch_size': 32, 'dropout_rate': 0.1, 'epochs': 2000, 'neurons': 10, 'optimizer': 'adamax', 'verbose': 0}\n",
      "-0.082315 (0.015294) with: {'activation': 'elu', 'batch_size': 32, 'dropout_rate': 0.1, 'epochs': 2000, 'neurons': 10, 'optimizer': 'rmsprop', 'verbose': 0}\n",
      "-0.090425 (0.015390) with: {'activation': 'elu', 'batch_size': 32, 'dropout_rate': 0.1, 'epochs': 2000, 'neurons': 10, 'optimizer': 'sgd', 'verbose': 0}\n",
      "-0.082945 (0.015339) with: {'activation': 'elu', 'batch_size': 32, 'dropout_rate': 0.15, 'epochs': 2000, 'neurons': 10, 'optimizer': 'adam', 'verbose': 0}\n",
      "-0.091476 (0.012330) with: {'activation': 'elu', 'batch_size': 32, 'dropout_rate': 0.15, 'epochs': 2000, 'neurons': 10, 'optimizer': 'adamax', 'verbose': 0}\n",
      "-0.082423 (0.016050) with: {'activation': 'elu', 'batch_size': 32, 'dropout_rate': 0.15, 'epochs': 2000, 'neurons': 10, 'optimizer': 'rmsprop', 'verbose': 0}\n",
      "-0.090972 (0.016059) with: {'activation': 'elu', 'batch_size': 32, 'dropout_rate': 0.15, 'epochs': 2000, 'neurons': 10, 'optimizer': 'sgd', 'verbose': 0}\n",
      "-0.083502 (0.016161) with: {'activation': 'elu', 'batch_size': 32, 'dropout_rate': 0.2, 'epochs': 2000, 'neurons': 10, 'optimizer': 'adam', 'verbose': 0}\n",
      "-0.090628 (0.014953) with: {'activation': 'elu', 'batch_size': 32, 'dropout_rate': 0.2, 'epochs': 2000, 'neurons': 10, 'optimizer': 'adamax', 'verbose': 0}\n",
      "-0.082065 (0.015078) with: {'activation': 'elu', 'batch_size': 32, 'dropout_rate': 0.2, 'epochs': 2000, 'neurons': 10, 'optimizer': 'rmsprop', 'verbose': 0}\n",
      "-0.091140 (0.014780) with: {'activation': 'elu', 'batch_size': 32, 'dropout_rate': 0.2, 'epochs': 2000, 'neurons': 10, 'optimizer': 'sgd', 'verbose': 0}\n",
      "-0.083302 (0.016036) with: {'activation': 'elu', 'batch_size': 32, 'dropout_rate': 0.25, 'epochs': 2000, 'neurons': 10, 'optimizer': 'adam', 'verbose': 0}\n",
      "-0.090642 (0.013934) with: {'activation': 'elu', 'batch_size': 32, 'dropout_rate': 0.25, 'epochs': 2000, 'neurons': 10, 'optimizer': 'adamax', 'verbose': 0}\n",
      "-0.081740 (0.015524) with: {'activation': 'elu', 'batch_size': 32, 'dropout_rate': 0.25, 'epochs': 2000, 'neurons': 10, 'optimizer': 'rmsprop', 'verbose': 0}\n",
      "-0.091262 (0.015002) with: {'activation': 'elu', 'batch_size': 32, 'dropout_rate': 0.25, 'epochs': 2000, 'neurons': 10, 'optimizer': 'sgd', 'verbose': 0}\n",
      "-0.089660 (0.013109) with: {'activation': 'elu', 'batch_size': 64, 'dropout_rate': 0.05, 'epochs': 2000, 'neurons': 10, 'optimizer': 'adam', 'verbose': 0}\n",
      "-0.092537 (0.012229) with: {'activation': 'elu', 'batch_size': 64, 'dropout_rate': 0.05, 'epochs': 2000, 'neurons': 10, 'optimizer': 'adamax', 'verbose': 0}\n",
      "-0.088520 (0.012012) with: {'activation': 'elu', 'batch_size': 64, 'dropout_rate': 0.05, 'epochs': 2000, 'neurons': 10, 'optimizer': 'rmsprop', 'verbose': 0}\n",
      "-0.091784 (0.015043) with: {'activation': 'elu', 'batch_size': 64, 'dropout_rate': 0.05, 'epochs': 2000, 'neurons': 10, 'optimizer': 'sgd', 'verbose': 0}\n",
      "-0.088040 (0.013310) with: {'activation': 'elu', 'batch_size': 64, 'dropout_rate': 0.1, 'epochs': 2000, 'neurons': 10, 'optimizer': 'adam', 'verbose': 0}\n",
      "-0.094115 (0.009970) with: {'activation': 'elu', 'batch_size': 64, 'dropout_rate': 0.1, 'epochs': 2000, 'neurons': 10, 'optimizer': 'adamax', 'verbose': 0}\n",
      "-0.084703 (0.014107) with: {'activation': 'elu', 'batch_size': 64, 'dropout_rate': 0.1, 'epochs': 2000, 'neurons': 10, 'optimizer': 'rmsprop', 'verbose': 0}\n",
      "-0.091846 (0.015133) with: {'activation': 'elu', 'batch_size': 64, 'dropout_rate': 0.1, 'epochs': 2000, 'neurons': 10, 'optimizer': 'sgd', 'verbose': 0}\n",
      "-0.088441 (0.014037) with: {'activation': 'elu', 'batch_size': 64, 'dropout_rate': 0.15, 'epochs': 2000, 'neurons': 10, 'optimizer': 'adam', 'verbose': 0}\n",
      "-0.094677 (0.012621) with: {'activation': 'elu', 'batch_size': 64, 'dropout_rate': 0.15, 'epochs': 2000, 'neurons': 10, 'optimizer': 'adamax', 'verbose': 0}\n",
      "-0.084870 (0.016053) with: {'activation': 'elu', 'batch_size': 64, 'dropout_rate': 0.15, 'epochs': 2000, 'neurons': 10, 'optimizer': 'rmsprop', 'verbose': 0}\n",
      "-0.090930 (0.015458) with: {'activation': 'elu', 'batch_size': 64, 'dropout_rate': 0.15, 'epochs': 2000, 'neurons': 10, 'optimizer': 'sgd', 'verbose': 0}\n",
      "-0.088010 (0.016355) with: {'activation': 'elu', 'batch_size': 64, 'dropout_rate': 0.2, 'epochs': 2000, 'neurons': 10, 'optimizer': 'adam', 'verbose': 0}\n",
      "-0.094432 (0.012950) with: {'activation': 'elu', 'batch_size': 64, 'dropout_rate': 0.2, 'epochs': 2000, 'neurons': 10, 'optimizer': 'adamax', 'verbose': 0}\n",
      "-0.084710 (0.014906) with: {'activation': 'elu', 'batch_size': 64, 'dropout_rate': 0.2, 'epochs': 2000, 'neurons': 10, 'optimizer': 'rmsprop', 'verbose': 0}\n",
      "-0.093703 (0.016187) with: {'activation': 'elu', 'batch_size': 64, 'dropout_rate': 0.2, 'epochs': 2000, 'neurons': 10, 'optimizer': 'sgd', 'verbose': 0}\n",
      "-0.086361 (0.015558) with: {'activation': 'elu', 'batch_size': 64, 'dropout_rate': 0.25, 'epochs': 2000, 'neurons': 10, 'optimizer': 'adam', 'verbose': 0}\n",
      "-0.092235 (0.013741) with: {'activation': 'elu', 'batch_size': 64, 'dropout_rate': 0.25, 'epochs': 2000, 'neurons': 10, 'optimizer': 'adamax', 'verbose': 0}\n",
      "-0.081854 (0.015007) with: {'activation': 'elu', 'batch_size': 64, 'dropout_rate': 0.25, 'epochs': 2000, 'neurons': 10, 'optimizer': 'rmsprop', 'verbose': 0}\n",
      "-0.091298 (0.014944) with: {'activation': 'elu', 'batch_size': 64, 'dropout_rate': 0.25, 'epochs': 2000, 'neurons': 10, 'optimizer': 'sgd', 'verbose': 0}\n",
      "-0.091079 (0.015025) with: {'activation': 'softplus', 'batch_size': 4, 'dropout_rate': 0.05, 'epochs': 2000, 'neurons': 10, 'optimizer': 'adam', 'verbose': 0}\n",
      "-0.092102 (0.013678) with: {'activation': 'softplus', 'batch_size': 4, 'dropout_rate': 0.05, 'epochs': 2000, 'neurons': 10, 'optimizer': 'adamax', 'verbose': 0}\n",
      "-0.089017 (0.014926) with: {'activation': 'softplus', 'batch_size': 4, 'dropout_rate': 0.05, 'epochs': 2000, 'neurons': 10, 'optimizer': 'rmsprop', 'verbose': 0}\n",
      "-0.106516 (0.023578) with: {'activation': 'softplus', 'batch_size': 4, 'dropout_rate': 0.05, 'epochs': 2000, 'neurons': 10, 'optimizer': 'sgd', 'verbose': 0}\n",
      "-0.092396 (0.016170) with: {'activation': 'softplus', 'batch_size': 4, 'dropout_rate': 0.1, 'epochs': 2000, 'neurons': 10, 'optimizer': 'adam', 'verbose': 0}\n",
      "-0.090757 (0.014621) with: {'activation': 'softplus', 'batch_size': 4, 'dropout_rate': 0.1, 'epochs': 2000, 'neurons': 10, 'optimizer': 'adamax', 'verbose': 0}\n",
      "-0.091111 (0.016311) with: {'activation': 'softplus', 'batch_size': 4, 'dropout_rate': 0.1, 'epochs': 2000, 'neurons': 10, 'optimizer': 'rmsprop', 'verbose': 0}\n",
      "-0.099373 (0.018837) with: {'activation': 'softplus', 'batch_size': 4, 'dropout_rate': 0.1, 'epochs': 2000, 'neurons': 10, 'optimizer': 'sgd', 'verbose': 0}\n",
      "-0.095315 (0.017962) with: {'activation': 'softplus', 'batch_size': 4, 'dropout_rate': 0.15, 'epochs': 2000, 'neurons': 10, 'optimizer': 'adam', 'verbose': 0}\n",
      "-0.091780 (0.014959) with: {'activation': 'softplus', 'batch_size': 4, 'dropout_rate': 0.15, 'epochs': 2000, 'neurons': 10, 'optimizer': 'adamax', 'verbose': 0}\n",
      "-0.090700 (0.015230) with: {'activation': 'softplus', 'batch_size': 4, 'dropout_rate': 0.15, 'epochs': 2000, 'neurons': 10, 'optimizer': 'rmsprop', 'verbose': 0}\n",
      "-0.103045 (0.018457) with: {'activation': 'softplus', 'batch_size': 4, 'dropout_rate': 0.15, 'epochs': 2000, 'neurons': 10, 'optimizer': 'sgd', 'verbose': 0}\n",
      "-0.093813 (0.016147) with: {'activation': 'softplus', 'batch_size': 4, 'dropout_rate': 0.2, 'epochs': 2000, 'neurons': 10, 'optimizer': 'adam', 'verbose': 0}\n",
      "-0.094157 (0.013489) with: {'activation': 'softplus', 'batch_size': 4, 'dropout_rate': 0.2, 'epochs': 2000, 'neurons': 10, 'optimizer': 'adamax', 'verbose': 0}\n",
      "-0.093014 (0.015478) with: {'activation': 'softplus', 'batch_size': 4, 'dropout_rate': 0.2, 'epochs': 2000, 'neurons': 10, 'optimizer': 'rmsprop', 'verbose': 0}\n",
      "-0.101533 (0.016964) with: {'activation': 'softplus', 'batch_size': 4, 'dropout_rate': 0.2, 'epochs': 2000, 'neurons': 10, 'optimizer': 'sgd', 'verbose': 0}\n",
      "-0.093402 (0.012715) with: {'activation': 'softplus', 'batch_size': 4, 'dropout_rate': 0.25, 'epochs': 2000, 'neurons': 10, 'optimizer': 'adam', 'verbose': 0}\n",
      "-0.092849 (0.015058) with: {'activation': 'softplus', 'batch_size': 4, 'dropout_rate': 0.25, 'epochs': 2000, 'neurons': 10, 'optimizer': 'adamax', 'verbose': 0}\n",
      "-0.092427 (0.013374) with: {'activation': 'softplus', 'batch_size': 4, 'dropout_rate': 0.25, 'epochs': 2000, 'neurons': 10, 'optimizer': 'rmsprop', 'verbose': 0}\n",
      "-0.099940 (0.015896) with: {'activation': 'softplus', 'batch_size': 4, 'dropout_rate': 0.25, 'epochs': 2000, 'neurons': 10, 'optimizer': 'sgd', 'verbose': 0}\n",
      "-0.088265 (0.014077) with: {'activation': 'softplus', 'batch_size': 8, 'dropout_rate': 0.05, 'epochs': 2000, 'neurons': 10, 'optimizer': 'adam', 'verbose': 0}\n",
      "-0.094124 (0.013450) with: {'activation': 'softplus', 'batch_size': 8, 'dropout_rate': 0.05, 'epochs': 2000, 'neurons': 10, 'optimizer': 'adamax', 'verbose': 0}\n",
      "-0.087063 (0.014495) with: {'activation': 'softplus', 'batch_size': 8, 'dropout_rate': 0.05, 'epochs': 2000, 'neurons': 10, 'optimizer': 'rmsprop', 'verbose': 0}\n",
      "-0.095694 (0.015642) with: {'activation': 'softplus', 'batch_size': 8, 'dropout_rate': 0.05, 'epochs': 2000, 'neurons': 10, 'optimizer': 'sgd', 'verbose': 0}\n",
      "-0.091751 (0.014053) with: {'activation': 'softplus', 'batch_size': 8, 'dropout_rate': 0.1, 'epochs': 2000, 'neurons': 10, 'optimizer': 'adam', 'verbose': 0}\n",
      "-0.094117 (0.016222) with: {'activation': 'softplus', 'batch_size': 8, 'dropout_rate': 0.1, 'epochs': 2000, 'neurons': 10, 'optimizer': 'adamax', 'verbose': 0}\n",
      "-0.088536 (0.014960) with: {'activation': 'softplus', 'batch_size': 8, 'dropout_rate': 0.1, 'epochs': 2000, 'neurons': 10, 'optimizer': 'rmsprop', 'verbose': 0}\n",
      "-0.107769 (0.016499) with: {'activation': 'softplus', 'batch_size': 8, 'dropout_rate': 0.1, 'epochs': 2000, 'neurons': 10, 'optimizer': 'sgd', 'verbose': 0}\n",
      "-0.090693 (0.013839) with: {'activation': 'softplus', 'batch_size': 8, 'dropout_rate': 0.15, 'epochs': 2000, 'neurons': 10, 'optimizer': 'adam', 'verbose': 0}\n",
      "-0.092568 (0.013930) with: {'activation': 'softplus', 'batch_size': 8, 'dropout_rate': 0.15, 'epochs': 2000, 'neurons': 10, 'optimizer': 'adamax', 'verbose': 0}\n",
      "-0.090017 (0.014141) with: {'activation': 'softplus', 'batch_size': 8, 'dropout_rate': 0.15, 'epochs': 2000, 'neurons': 10, 'optimizer': 'rmsprop', 'verbose': 0}\n",
      "-0.099999 (0.015989) with: {'activation': 'softplus', 'batch_size': 8, 'dropout_rate': 0.15, 'epochs': 2000, 'neurons': 10, 'optimizer': 'sgd', 'verbose': 0}\n",
      "-0.091196 (0.014391) with: {'activation': 'softplus', 'batch_size': 8, 'dropout_rate': 0.2, 'epochs': 2000, 'neurons': 10, 'optimizer': 'adam', 'verbose': 0}\n",
      "-0.093021 (0.014578) with: {'activation': 'softplus', 'batch_size': 8, 'dropout_rate': 0.2, 'epochs': 2000, 'neurons': 10, 'optimizer': 'adamax', 'verbose': 0}\n",
      "-0.093389 (0.014355) with: {'activation': 'softplus', 'batch_size': 8, 'dropout_rate': 0.2, 'epochs': 2000, 'neurons': 10, 'optimizer': 'rmsprop', 'verbose': 0}\n",
      "-0.104001 (0.016079) with: {'activation': 'softplus', 'batch_size': 8, 'dropout_rate': 0.2, 'epochs': 2000, 'neurons': 10, 'optimizer': 'sgd', 'verbose': 0}\n",
      "-0.092468 (0.013144) with: {'activation': 'softplus', 'batch_size': 8, 'dropout_rate': 0.25, 'epochs': 2000, 'neurons': 10, 'optimizer': 'adam', 'verbose': 0}\n",
      "-0.097084 (0.017979) with: {'activation': 'softplus', 'batch_size': 8, 'dropout_rate': 0.25, 'epochs': 2000, 'neurons': 10, 'optimizer': 'adamax', 'verbose': 0}\n",
      "-0.092141 (0.013307) with: {'activation': 'softplus', 'batch_size': 8, 'dropout_rate': 0.25, 'epochs': 2000, 'neurons': 10, 'optimizer': 'rmsprop', 'verbose': 0}\n",
      "-0.100628 (0.015514) with: {'activation': 'softplus', 'batch_size': 8, 'dropout_rate': 0.25, 'epochs': 2000, 'neurons': 10, 'optimizer': 'sgd', 'verbose': 0}\n",
      "-0.090646 (0.015326) with: {'activation': 'softplus', 'batch_size': 16, 'dropout_rate': 0.05, 'epochs': 2000, 'neurons': 10, 'optimizer': 'adam', 'verbose': 0}\n",
      "-0.096677 (0.013208) with: {'activation': 'softplus', 'batch_size': 16, 'dropout_rate': 0.05, 'epochs': 2000, 'neurons': 10, 'optimizer': 'adamax', 'verbose': 0}\n",
      "-0.090676 (0.012562) with: {'activation': 'softplus', 'batch_size': 16, 'dropout_rate': 0.05, 'epochs': 2000, 'neurons': 10, 'optimizer': 'rmsprop', 'verbose': 0}\n",
      "-0.101001 (0.014062) with: {'activation': 'softplus', 'batch_size': 16, 'dropout_rate': 0.05, 'epochs': 2000, 'neurons': 10, 'optimizer': 'sgd', 'verbose': 0}\n",
      "-0.091867 (0.014932) with: {'activation': 'softplus', 'batch_size': 16, 'dropout_rate': 0.1, 'epochs': 2000, 'neurons': 10, 'optimizer': 'adam', 'verbose': 0}\n",
      "-0.095180 (0.013879) with: {'activation': 'softplus', 'batch_size': 16, 'dropout_rate': 0.1, 'epochs': 2000, 'neurons': 10, 'optimizer': 'adamax', 'verbose': 0}\n",
      "-0.089850 (0.013085) with: {'activation': 'softplus', 'batch_size': 16, 'dropout_rate': 0.1, 'epochs': 2000, 'neurons': 10, 'optimizer': 'rmsprop', 'verbose': 0}\n",
      "-0.101056 (0.014670) with: {'activation': 'softplus', 'batch_size': 16, 'dropout_rate': 0.1, 'epochs': 2000, 'neurons': 10, 'optimizer': 'sgd', 'verbose': 0}\n",
      "-0.092566 (0.013454) with: {'activation': 'softplus', 'batch_size': 16, 'dropout_rate': 0.15, 'epochs': 2000, 'neurons': 10, 'optimizer': 'adam', 'verbose': 0}\n",
      "-0.096378 (0.017551) with: {'activation': 'softplus', 'batch_size': 16, 'dropout_rate': 0.15, 'epochs': 2000, 'neurons': 10, 'optimizer': 'adamax', 'verbose': 0}\n",
      "-0.089824 (0.014602) with: {'activation': 'softplus', 'batch_size': 16, 'dropout_rate': 0.15, 'epochs': 2000, 'neurons': 10, 'optimizer': 'rmsprop', 'verbose': 0}\n",
      "-0.100089 (0.016185) with: {'activation': 'softplus', 'batch_size': 16, 'dropout_rate': 0.15, 'epochs': 2000, 'neurons': 10, 'optimizer': 'sgd', 'verbose': 0}\n",
      "-0.093352 (0.014759) with: {'activation': 'softplus', 'batch_size': 16, 'dropout_rate': 0.2, 'epochs': 2000, 'neurons': 10, 'optimizer': 'adam', 'verbose': 0}\n",
      "-0.095513 (0.014438) with: {'activation': 'softplus', 'batch_size': 16, 'dropout_rate': 0.2, 'epochs': 2000, 'neurons': 10, 'optimizer': 'adamax', 'verbose': 0}\n",
      "-0.092724 (0.012163) with: {'activation': 'softplus', 'batch_size': 16, 'dropout_rate': 0.2, 'epochs': 2000, 'neurons': 10, 'optimizer': 'rmsprop', 'verbose': 0}\n",
      "-0.101041 (0.015554) with: {'activation': 'softplus', 'batch_size': 16, 'dropout_rate': 0.2, 'epochs': 2000, 'neurons': 10, 'optimizer': 'sgd', 'verbose': 0}\n",
      "-0.093614 (0.014351) with: {'activation': 'softplus', 'batch_size': 16, 'dropout_rate': 0.25, 'epochs': 2000, 'neurons': 10, 'optimizer': 'adam', 'verbose': 0}\n",
      "-0.097231 (0.017830) with: {'activation': 'softplus', 'batch_size': 16, 'dropout_rate': 0.25, 'epochs': 2000, 'neurons': 10, 'optimizer': 'adamax', 'verbose': 0}\n",
      "-0.094698 (0.015563) with: {'activation': 'softplus', 'batch_size': 16, 'dropout_rate': 0.25, 'epochs': 2000, 'neurons': 10, 'optimizer': 'rmsprop', 'verbose': 0}\n",
      "-0.100714 (0.015343) with: {'activation': 'softplus', 'batch_size': 16, 'dropout_rate': 0.25, 'epochs': 2000, 'neurons': 10, 'optimizer': 'sgd', 'verbose': 0}\n",
      "-0.094149 (0.013554) with: {'activation': 'softplus', 'batch_size': 32, 'dropout_rate': 0.05, 'epochs': 2000, 'neurons': 10, 'optimizer': 'adam', 'verbose': 0}\n",
      "-0.099459 (0.011469) with: {'activation': 'softplus', 'batch_size': 32, 'dropout_rate': 0.05, 'epochs': 2000, 'neurons': 10, 'optimizer': 'adamax', 'verbose': 0}\n",
      "-0.094757 (0.014694) with: {'activation': 'softplus', 'batch_size': 32, 'dropout_rate': 0.05, 'epochs': 2000, 'neurons': 10, 'optimizer': 'rmsprop', 'verbose': 0}\n",
      "-0.097219 (0.017516) with: {'activation': 'softplus', 'batch_size': 32, 'dropout_rate': 0.05, 'epochs': 2000, 'neurons': 10, 'optimizer': 'sgd', 'verbose': 0}\n",
      "-0.095651 (0.015937) with: {'activation': 'softplus', 'batch_size': 32, 'dropout_rate': 0.1, 'epochs': 2000, 'neurons': 10, 'optimizer': 'adam', 'verbose': 0}\n",
      "-0.106574 (0.012768) with: {'activation': 'softplus', 'batch_size': 32, 'dropout_rate': 0.1, 'epochs': 2000, 'neurons': 10, 'optimizer': 'adamax', 'verbose': 0}\n",
      "-0.094586 (0.015294) with: {'activation': 'softplus', 'batch_size': 32, 'dropout_rate': 0.1, 'epochs': 2000, 'neurons': 10, 'optimizer': 'rmsprop', 'verbose': 0}\n",
      "-0.100534 (0.017132) with: {'activation': 'softplus', 'batch_size': 32, 'dropout_rate': 0.1, 'epochs': 2000, 'neurons': 10, 'optimizer': 'sgd', 'verbose': 0}\n",
      "-0.096337 (0.016651) with: {'activation': 'softplus', 'batch_size': 32, 'dropout_rate': 0.15, 'epochs': 2000, 'neurons': 10, 'optimizer': 'adam', 'verbose': 0}\n",
      "-0.100188 (0.014612) with: {'activation': 'softplus', 'batch_size': 32, 'dropout_rate': 0.15, 'epochs': 2000, 'neurons': 10, 'optimizer': 'adamax', 'verbose': 0}\n",
      "-0.091262 (0.014304) with: {'activation': 'softplus', 'batch_size': 32, 'dropout_rate': 0.15, 'epochs': 2000, 'neurons': 10, 'optimizer': 'rmsprop', 'verbose': 0}\n",
      "-0.100406 (0.016111) with: {'activation': 'softplus', 'batch_size': 32, 'dropout_rate': 0.15, 'epochs': 2000, 'neurons': 10, 'optimizer': 'sgd', 'verbose': 0}\n",
      "-0.097878 (0.018077) with: {'activation': 'softplus', 'batch_size': 32, 'dropout_rate': 0.2, 'epochs': 2000, 'neurons': 10, 'optimizer': 'adam', 'verbose': 0}\n",
      "-0.098203 (0.015837) with: {'activation': 'softplus', 'batch_size': 32, 'dropout_rate': 0.2, 'epochs': 2000, 'neurons': 10, 'optimizer': 'adamax', 'verbose': 0}\n",
      "-0.093966 (0.013184) with: {'activation': 'softplus', 'batch_size': 32, 'dropout_rate': 0.2, 'epochs': 2000, 'neurons': 10, 'optimizer': 'rmsprop', 'verbose': 0}\n",
      "-0.099774 (0.016310) with: {'activation': 'softplus', 'batch_size': 32, 'dropout_rate': 0.2, 'epochs': 2000, 'neurons': 10, 'optimizer': 'sgd', 'verbose': 0}\n",
      "-0.096445 (0.016583) with: {'activation': 'softplus', 'batch_size': 32, 'dropout_rate': 0.25, 'epochs': 2000, 'neurons': 10, 'optimizer': 'adam', 'verbose': 0}\n",
      "-0.100050 (0.015540) with: {'activation': 'softplus', 'batch_size': 32, 'dropout_rate': 0.25, 'epochs': 2000, 'neurons': 10, 'optimizer': 'adamax', 'verbose': 0}\n",
      "-0.093262 (0.014652) with: {'activation': 'softplus', 'batch_size': 32, 'dropout_rate': 0.25, 'epochs': 2000, 'neurons': 10, 'optimizer': 'rmsprop', 'verbose': 0}\n",
      "-0.099959 (0.016572) with: {'activation': 'softplus', 'batch_size': 32, 'dropout_rate': 0.25, 'epochs': 2000, 'neurons': 10, 'optimizer': 'sgd', 'verbose': 0}\n",
      "-0.098655 (0.011934) with: {'activation': 'softplus', 'batch_size': 64, 'dropout_rate': 0.05, 'epochs': 2000, 'neurons': 10, 'optimizer': 'adam', 'verbose': 0}\n",
      "-0.101136 (0.010981) with: {'activation': 'softplus', 'batch_size': 64, 'dropout_rate': 0.05, 'epochs': 2000, 'neurons': 10, 'optimizer': 'adamax', 'verbose': 0}\n",
      "-0.096694 (0.014835) with: {'activation': 'softplus', 'batch_size': 64, 'dropout_rate': 0.05, 'epochs': 2000, 'neurons': 10, 'optimizer': 'rmsprop', 'verbose': 0}\n",
      "-0.099359 (0.012426) with: {'activation': 'softplus', 'batch_size': 64, 'dropout_rate': 0.05, 'epochs': 2000, 'neurons': 10, 'optimizer': 'sgd', 'verbose': 0}\n",
      "-0.096874 (0.012977) with: {'activation': 'softplus', 'batch_size': 64, 'dropout_rate': 0.1, 'epochs': 2000, 'neurons': 10, 'optimizer': 'adam', 'verbose': 0}\n",
      "-0.107871 (0.008288) with: {'activation': 'softplus', 'batch_size': 64, 'dropout_rate': 0.1, 'epochs': 2000, 'neurons': 10, 'optimizer': 'adamax', 'verbose': 0}\n",
      "-0.095980 (0.013964) with: {'activation': 'softplus', 'batch_size': 64, 'dropout_rate': 0.1, 'epochs': 2000, 'neurons': 10, 'optimizer': 'rmsprop', 'verbose': 0}\n",
      "-0.100610 (0.016179) with: {'activation': 'softplus', 'batch_size': 64, 'dropout_rate': 0.1, 'epochs': 2000, 'neurons': 10, 'optimizer': 'sgd', 'verbose': 0}\n",
      "-0.098372 (0.016736) with: {'activation': 'softplus', 'batch_size': 64, 'dropout_rate': 0.15, 'epochs': 2000, 'neurons': 10, 'optimizer': 'adam', 'verbose': 0}\n",
      "-0.112056 (0.008756) with: {'activation': 'softplus', 'batch_size': 64, 'dropout_rate': 0.15, 'epochs': 2000, 'neurons': 10, 'optimizer': 'adamax', 'verbose': 0}\n",
      "-0.094244 (0.013570) with: {'activation': 'softplus', 'batch_size': 64, 'dropout_rate': 0.15, 'epochs': 2000, 'neurons': 10, 'optimizer': 'rmsprop', 'verbose': 0}\n",
      "-0.100259 (0.016088) with: {'activation': 'softplus', 'batch_size': 64, 'dropout_rate': 0.15, 'epochs': 2000, 'neurons': 10, 'optimizer': 'sgd', 'verbose': 0}\n",
      "-0.099462 (0.016173) with: {'activation': 'softplus', 'batch_size': 64, 'dropout_rate': 0.2, 'epochs': 2000, 'neurons': 10, 'optimizer': 'adam', 'verbose': 0}\n",
      "-0.103764 (0.014511) with: {'activation': 'softplus', 'batch_size': 64, 'dropout_rate': 0.2, 'epochs': 2000, 'neurons': 10, 'optimizer': 'adamax', 'verbose': 0}\n",
      "-0.093472 (0.014311) with: {'activation': 'softplus', 'batch_size': 64, 'dropout_rate': 0.2, 'epochs': 2000, 'neurons': 10, 'optimizer': 'rmsprop', 'verbose': 0}\n",
      "-0.100235 (0.016454) with: {'activation': 'softplus', 'batch_size': 64, 'dropout_rate': 0.2, 'epochs': 2000, 'neurons': 10, 'optimizer': 'sgd', 'verbose': 0}\n",
      "-0.099798 (0.016710) with: {'activation': 'softplus', 'batch_size': 64, 'dropout_rate': 0.25, 'epochs': 2000, 'neurons': 10, 'optimizer': 'adam', 'verbose': 0}\n",
      "-0.105323 (0.013600) with: {'activation': 'softplus', 'batch_size': 64, 'dropout_rate': 0.25, 'epochs': 2000, 'neurons': 10, 'optimizer': 'adamax', 'verbose': 0}\n",
      "-0.097765 (0.017912) with: {'activation': 'softplus', 'batch_size': 64, 'dropout_rate': 0.25, 'epochs': 2000, 'neurons': 10, 'optimizer': 'rmsprop', 'verbose': 0}\n",
      "-0.104271 (0.020642) with: {'activation': 'softplus', 'batch_size': 64, 'dropout_rate': 0.25, 'epochs': 2000, 'neurons': 10, 'optimizer': 'sgd', 'verbose': 0}\n"
     ]
    }
   ],
   "source": [
    "# summarize results\n",
    "print(\"Best parameters: %f using %s\\n\" % (grid_search.best_score_, grid_search.best_params_))\n",
    "\n",
    "means = grid_search.cv_results_['mean_test_score']\n",
    "stds = grid_search.cv_results_['std_test_score']\n",
    "params = grid_search.cv_results_['params']\n",
    "for mean, stdev, param in zip(means, stds, params):\n",
    "    print(\"%f (%f) with: %r\" % (mean, stdev, param))"
   ]
  },
  {
   "cell_type": "code",
   "execution_count": 32,
   "metadata": {},
   "outputs": [],
   "source": [
    "result = pd.concat([pd.DataFrame(grid_search.cv_results_[\"params\"]),pd.DataFrame(grid_search.cv_results_[\"mean_test_score\"], columns=[\"score\"])],axis=1)"
   ]
  },
  {
   "cell_type": "code",
   "execution_count": 33,
   "metadata": {},
   "outputs": [
    {
     "data": {
      "text/html": [
       "<div>\n",
       "<style scoped>\n",
       "    .dataframe tbody tr th:only-of-type {\n",
       "        vertical-align: middle;\n",
       "    }\n",
       "\n",
       "    .dataframe tbody tr th {\n",
       "        vertical-align: top;\n",
       "    }\n",
       "\n",
       "    .dataframe thead th {\n",
       "        text-align: right;\n",
       "    }\n",
       "</style>\n",
       "<table border=\"1\" class=\"dataframe\">\n",
       "  <thead>\n",
       "    <tr style=\"text-align: right;\">\n",
       "      <th></th>\n",
       "      <th>activation</th>\n",
       "      <th>batch_size</th>\n",
       "      <th>dropout_rate</th>\n",
       "      <th>epochs</th>\n",
       "      <th>neurons</th>\n",
       "      <th>optimizer</th>\n",
       "      <th>verbose</th>\n",
       "      <th>score</th>\n",
       "    </tr>\n",
       "  </thead>\n",
       "  <tbody>\n",
       "    <tr>\n",
       "      <th>450</th>\n",
       "      <td>elu</td>\n",
       "      <td>16</td>\n",
       "      <td>0.15</td>\n",
       "      <td>2000</td>\n",
       "      <td>10</td>\n",
       "      <td>rmsprop</td>\n",
       "      <td>0</td>\n",
       "      <td>-0.080603</td>\n",
       "    </tr>\n",
       "    <tr>\n",
       "      <th>448</th>\n",
       "      <td>elu</td>\n",
       "      <td>16</td>\n",
       "      <td>0.15</td>\n",
       "      <td>2000</td>\n",
       "      <td>10</td>\n",
       "      <td>adam</td>\n",
       "      <td>0</td>\n",
       "      <td>-0.081319</td>\n",
       "    </tr>\n",
       "    <tr>\n",
       "      <th>152</th>\n",
       "      <td>tanh</td>\n",
       "      <td>16</td>\n",
       "      <td>0.20</td>\n",
       "      <td>2000</td>\n",
       "      <td>10</td>\n",
       "      <td>adam</td>\n",
       "      <td>0</td>\n",
       "      <td>-0.081407</td>\n",
       "    </tr>\n",
       "    <tr>\n",
       "      <th>348</th>\n",
       "      <td>selu</td>\n",
       "      <td>16</td>\n",
       "      <td>0.15</td>\n",
       "      <td>2000</td>\n",
       "      <td>10</td>\n",
       "      <td>adam</td>\n",
       "      <td>0</td>\n",
       "      <td>-0.081409</td>\n",
       "    </tr>\n",
       "    <tr>\n",
       "      <th>413</th>\n",
       "      <td>elu</td>\n",
       "      <td>4</td>\n",
       "      <td>0.20</td>\n",
       "      <td>2000</td>\n",
       "      <td>10</td>\n",
       "      <td>adamax</td>\n",
       "      <td>0</td>\n",
       "      <td>-0.081557</td>\n",
       "    </tr>\n",
       "    <tr>\n",
       "      <th>...</th>\n",
       "      <td>...</td>\n",
       "      <td>...</td>\n",
       "      <td>...</td>\n",
       "      <td>...</td>\n",
       "      <td>...</td>\n",
       "      <td>...</td>\n",
       "      <td>...</td>\n",
       "      <td>...</td>\n",
       "    </tr>\n",
       "    <tr>\n",
       "      <th>212</th>\n",
       "      <td>relu</td>\n",
       "      <td>4</td>\n",
       "      <td>0.20</td>\n",
       "      <td>2000</td>\n",
       "      <td>10</td>\n",
       "      <td>adam</td>\n",
       "      <td>0</td>\n",
       "      <td>-0.194522</td>\n",
       "    </tr>\n",
       "    <tr>\n",
       "      <th>264</th>\n",
       "      <td>relu</td>\n",
       "      <td>32</td>\n",
       "      <td>0.10</td>\n",
       "      <td>2000</td>\n",
       "      <td>10</td>\n",
       "      <td>adam</td>\n",
       "      <td>0</td>\n",
       "      <td>-0.201251</td>\n",
       "    </tr>\n",
       "    <tr>\n",
       "      <th>208</th>\n",
       "      <td>relu</td>\n",
       "      <td>4</td>\n",
       "      <td>0.15</td>\n",
       "      <td>2000</td>\n",
       "      <td>10</td>\n",
       "      <td>adam</td>\n",
       "      <td>0</td>\n",
       "      <td>-0.201524</td>\n",
       "    </tr>\n",
       "    <tr>\n",
       "      <th>240</th>\n",
       "      <td>relu</td>\n",
       "      <td>16</td>\n",
       "      <td>0.05</td>\n",
       "      <td>2000</td>\n",
       "      <td>10</td>\n",
       "      <td>adam</td>\n",
       "      <td>0</td>\n",
       "      <td>-0.236080</td>\n",
       "    </tr>\n",
       "    <tr>\n",
       "      <th>206</th>\n",
       "      <td>relu</td>\n",
       "      <td>4</td>\n",
       "      <td>0.10</td>\n",
       "      <td>2000</td>\n",
       "      <td>10</td>\n",
       "      <td>rmsprop</td>\n",
       "      <td>0</td>\n",
       "      <td>-0.269110</td>\n",
       "    </tr>\n",
       "  </tbody>\n",
       "</table>\n",
       "<p>600 rows × 8 columns</p>\n",
       "</div>"
      ],
      "text/plain": [
       "    activation  batch_size  dropout_rate  epochs  neurons optimizer  verbose  \\\n",
       "450        elu          16          0.15    2000       10   rmsprop        0   \n",
       "448        elu          16          0.15    2000       10      adam        0   \n",
       "152       tanh          16          0.20    2000       10      adam        0   \n",
       "348       selu          16          0.15    2000       10      adam        0   \n",
       "413        elu           4          0.20    2000       10    adamax        0   \n",
       "..         ...         ...           ...     ...      ...       ...      ...   \n",
       "212       relu           4          0.20    2000       10      adam        0   \n",
       "264       relu          32          0.10    2000       10      adam        0   \n",
       "208       relu           4          0.15    2000       10      adam        0   \n",
       "240       relu          16          0.05    2000       10      adam        0   \n",
       "206       relu           4          0.10    2000       10   rmsprop        0   \n",
       "\n",
       "        score  \n",
       "450 -0.080603  \n",
       "448 -0.081319  \n",
       "152 -0.081407  \n",
       "348 -0.081409  \n",
       "413 -0.081557  \n",
       "..        ...  \n",
       "212 -0.194522  \n",
       "264 -0.201251  \n",
       "208 -0.201524  \n",
       "240 -0.236080  \n",
       "206 -0.269110  \n",
       "\n",
       "[600 rows x 8 columns]"
      ]
     },
     "execution_count": 33,
     "metadata": {},
     "output_type": "execute_result"
    }
   ],
   "source": [
    "result.sort_values(by=\"score\", ascending=False)"
   ]
  },
  {
   "cell_type": "code",
   "execution_count": 34,
   "metadata": {},
   "outputs": [],
   "source": [
    "result.sort_values(by=\"score\", ascending=False).to_csv('gridsearch_percobaan3.csv',index=False)"
   ]
  },
  {
   "cell_type": "markdown",
   "metadata": {},
   "source": [
    "### Evaluasi Model LSTM-RNN"
   ]
  },
  {
   "cell_type": "code",
   "execution_count": 35,
   "metadata": {},
   "outputs": [],
   "source": [
    "# Set akhir waktu komputasi \n",
    "end = time.time()"
   ]
  },
  {
   "cell_type": "code",
   "execution_count": 36,
   "metadata": {},
   "outputs": [],
   "source": [
    "# Proses menghitung waktu komputasi\n",
    "hours, rem = divmod(end-start, 3600)\n",
    "minutes, seconds = divmod(rem, 60)"
   ]
  },
  {
   "cell_type": "code",
   "execution_count": 37,
   "metadata": {},
   "outputs": [
    {
     "name": "stdout",
     "output_type": "stream",
     "text": [
      "01:08:46.46\n"
     ]
    }
   ],
   "source": [
    "# Hasil waktu komputasi\n",
    "print(\"{:0>2}:{:0>2}:{:05.2f}\".format(int(hours),int(minutes),seconds))"
   ]
  },
  {
   "cell_type": "code",
   "execution_count": null,
   "metadata": {},
   "outputs": [],
   "source": []
  }
 ],
 "metadata": {
  "accelerator": "GPU",
  "colab": {
   "collapsed_sections": [],
   "name": "lstm-rnn-2.ipynb",
   "provenance": []
  },
  "kernelspec": {
   "display_name": "Python 3 (ipykernel)",
   "language": "python",
   "name": "python3"
  },
  "language_info": {
   "codemirror_mode": {
    "name": "ipython",
    "version": 3
   },
   "file_extension": ".py",
   "mimetype": "text/x-python",
   "name": "python",
   "nbconvert_exporter": "python",
   "pygments_lexer": "ipython3",
   "version": "3.9.16"
  }
 },
 "nbformat": 4,
 "nbformat_minor": 4
}
