{
 "cells": [
  {
   "cell_type": "markdown",
   "id": "6a3d4522-e20a-4a4c-a0ad-219f6c1768ef",
   "metadata": {},
   "source": [
    "## Univariate LSTM-RNN Sumatera Selatan Percobaan 1"
   ]
  },
  {
   "cell_type": "markdown",
   "id": "023fd763-a166-439d-8847-09f68f5b40e9",
   "metadata": {},
   "source": [
    "### 1. Deklarasi Pustaka"
   ]
  },
  {
   "cell_type": "code",
   "execution_count": 1,
   "id": "2482c1ca-ae1a-429c-b10f-2f3f7b71f4d9",
   "metadata": {},
   "outputs": [],
   "source": [
    "# pustaka untuk manipulasi data\n",
    "import pandas as pd\n",
    "from pandas import concat\n",
    "from pandas import DataFrame\n",
    "from pandas import read_csv\n",
    "from pandas import read_excel\n",
    "import numpy as np\n",
    "from numpy import concatenate\n",
    "from numpy import array\n",
    "\n",
    "# pustaka untuk waktu komputasi\n",
    "import time\n",
    "from datetime import datetime\n",
    "\n",
    "# Pustaka untuk visualisasi data\n",
    "import seaborn as sns\n",
    "from matplotlib import pyplot\n",
    "from matplotlib import pyplot as plt\n",
    "\n",
    "# Pustaka untuk visualisasi acf dan pacf\n",
    "import statsmodels.api as sm\n",
    "from statsmodels.graphics.tsaplots import plot_pacf\n",
    "from statsmodels.graphics.tsaplots import plot_acf\n",
    "        \n",
    "# Pustaka untuk membuat data latih dan data uji.\n",
    "from sklearn.preprocessing import MinMaxScaler\n",
    "from sklearn.preprocessing import LabelEncoder\n",
    "\n",
    "# Pustaka untuk membuat model prediksi LSTM-RNN\n",
    "import itertools\n",
    "import tensorflow as tf\n",
    "from keras.models import Sequential\n",
    "from keras.layers import RNN\n",
    "from keras.layers import LSTM\n",
    "from keras.layers import GRU\n",
    "from keras.layers import Dense\n",
    "from keras.layers import Dropout\n",
    "from keras.layers import TimeDistributed\n",
    "from keras.layers import Bidirectional\n",
    "from keras.optimizers import Adam, Adamax, RMSprop, SGD\n",
    "\n",
    "# Early stoping\n",
    "from keras.callbacks import EarlyStopping\n",
    "from keras.callbacks import ModelCheckpoint\n",
    "\n",
    "# Pustaka untuk  evaluasi model prediksi\n",
    "from math import sqrt\n",
    "from sklearn.metrics import mean_squared_error\n",
    "from sklearn.metrics import mean_absolute_error"
   ]
  },
  {
   "cell_type": "markdown",
   "id": "594fca14-45e5-4efa-aa9d-470ac664c2e0",
   "metadata": {},
   "source": [
    "### 2. Akuisisi Data"
   ]
  },
  {
   "cell_type": "code",
   "execution_count": 2,
   "id": "48ed3834-ea60-4c43-a0af-c3010ea0d06a",
   "metadata": {},
   "outputs": [],
   "source": [
    "# Set waktu komputasi\n",
    "start = time.time()"
   ]
  },
  {
   "cell_type": "code",
   "execution_count": 3,
   "id": "bef4dda6-0e4e-41b6-b367-ab4745adc6e8",
   "metadata": {},
   "outputs": [],
   "source": [
    "# fix random seed for reproducibility\n",
    "np.random.seed(1234)"
   ]
  },
  {
   "cell_type": "code",
   "execution_count": 4,
   "id": "2ba8885c-781f-4e63-83ec-9bddbfbbb9af",
   "metadata": {},
   "outputs": [],
   "source": [
    "# membaca dataset via csv file\n",
    "dataset = pd.read_csv(\"dataset/modis_sumsel_bulanan.csv\", parse_dates=['acq_date'], engine=\"python\")"
   ]
  },
  {
   "cell_type": "code",
   "execution_count": 5,
   "id": "9435954e-e4bd-417e-84be-062bdfb6abdd",
   "metadata": {},
   "outputs": [
    {
     "name": "stdout",
     "output_type": "stream",
     "text": [
      "<class 'pandas.core.frame.DataFrame'>\n",
      "RangeIndex: 240 entries, 0 to 239\n",
      "Data columns (total 2 columns):\n",
      " #   Column    Non-Null Count  Dtype         \n",
      "---  ------    --------------  -----         \n",
      " 0   acq_date  240 non-null    datetime64[ns]\n",
      " 1   hotspot   240 non-null    int64         \n",
      "dtypes: datetime64[ns](1), int64(1)\n",
      "memory usage: 3.9 KB\n"
     ]
    }
   ],
   "source": [
    "# menampilkan metadata dataset\n",
    "dataset.info()"
   ]
  },
  {
   "cell_type": "code",
   "execution_count": 6,
   "id": "477ed857-d111-434e-bd8b-8e82255cd3c8",
   "metadata": {},
   "outputs": [
    {
     "data": {
      "text/html": [
       "<div>\n",
       "<style scoped>\n",
       "    .dataframe tbody tr th:only-of-type {\n",
       "        vertical-align: middle;\n",
       "    }\n",
       "\n",
       "    .dataframe tbody tr th {\n",
       "        vertical-align: top;\n",
       "    }\n",
       "\n",
       "    .dataframe thead th {\n",
       "        text-align: right;\n",
       "    }\n",
       "</style>\n",
       "<table border=\"1\" class=\"dataframe\">\n",
       "  <thead>\n",
       "    <tr style=\"text-align: right;\">\n",
       "      <th></th>\n",
       "      <th>acq_date</th>\n",
       "      <th>hotspot</th>\n",
       "    </tr>\n",
       "  </thead>\n",
       "  <tbody>\n",
       "    <tr>\n",
       "      <th>0</th>\n",
       "      <td>2001-01-31</td>\n",
       "      <td>3</td>\n",
       "    </tr>\n",
       "    <tr>\n",
       "      <th>1</th>\n",
       "      <td>2001-02-28</td>\n",
       "      <td>5</td>\n",
       "    </tr>\n",
       "    <tr>\n",
       "      <th>2</th>\n",
       "      <td>2001-03-31</td>\n",
       "      <td>10</td>\n",
       "    </tr>\n",
       "    <tr>\n",
       "      <th>3</th>\n",
       "      <td>2001-04-30</td>\n",
       "      <td>20</td>\n",
       "    </tr>\n",
       "    <tr>\n",
       "      <th>4</th>\n",
       "      <td>2001-05-31</td>\n",
       "      <td>39</td>\n",
       "    </tr>\n",
       "    <tr>\n",
       "      <th>...</th>\n",
       "      <td>...</td>\n",
       "      <td>...</td>\n",
       "    </tr>\n",
       "    <tr>\n",
       "      <th>235</th>\n",
       "      <td>2020-08-31</td>\n",
       "      <td>65</td>\n",
       "    </tr>\n",
       "    <tr>\n",
       "      <th>236</th>\n",
       "      <td>2020-09-30</td>\n",
       "      <td>29</td>\n",
       "    </tr>\n",
       "    <tr>\n",
       "      <th>237</th>\n",
       "      <td>2020-10-31</td>\n",
       "      <td>40</td>\n",
       "    </tr>\n",
       "    <tr>\n",
       "      <th>238</th>\n",
       "      <td>2020-11-30</td>\n",
       "      <td>30</td>\n",
       "    </tr>\n",
       "    <tr>\n",
       "      <th>239</th>\n",
       "      <td>2020-12-31</td>\n",
       "      <td>8</td>\n",
       "    </tr>\n",
       "  </tbody>\n",
       "</table>\n",
       "<p>240 rows × 2 columns</p>\n",
       "</div>"
      ],
      "text/plain": [
       "      acq_date  hotspot\n",
       "0   2001-01-31        3\n",
       "1   2001-02-28        5\n",
       "2   2001-03-31       10\n",
       "3   2001-04-30       20\n",
       "4   2001-05-31       39\n",
       "..         ...      ...\n",
       "235 2020-08-31       65\n",
       "236 2020-09-30       29\n",
       "237 2020-10-31       40\n",
       "238 2020-11-30       30\n",
       "239 2020-12-31        8\n",
       "\n",
       "[240 rows x 2 columns]"
      ]
     },
     "execution_count": 6,
     "metadata": {},
     "output_type": "execute_result"
    }
   ],
   "source": [
    "# menampilkan dataset\n",
    "dataset"
   ]
  },
  {
   "cell_type": "markdown",
   "id": "8bf1d4dc-0dc9-4ef0-937e-2f4c72807f85",
   "metadata": {},
   "source": [
    "### 3. Eksplorasi Data Analisis"
   ]
  },
  {
   "cell_type": "code",
   "execution_count": 7,
   "id": "923103f0-c7c6-4d10-9ad2-973ea73b65af",
   "metadata": {},
   "outputs": [
    {
     "data": {
      "image/png": "[encoded data removed]",
      "text/plain": [
       "<Figure size 1000x500 with 1 Axes>"
      ]
     },
     "metadata": {},
     "output_type": "display_data"
    }
   ],
   "source": [
    "# membuat frame\n",
    "fig, ax = plt.subplots(figsize = (10,5))\n",
    "\n",
    "# membuat time series plot\n",
    "ax.plot(dataset[\"acq_date\"], dataset[\"hotspot\"], color=\"tab:blue\", label=\"hotspot sumsel 2001-2020\", linewidth=2.5)\n",
    "\n",
    "# membuat label-label\n",
    "ax.set_title(\"Hotspot Sumsel Sensor MODIS 2018-2020\", fontsize=14)\n",
    "ax.set_xlabel(\"Tanggal\", fontsize=12)\n",
    "ax.set_ylabel(\"Jumlah Hostpot\", fontsize=12)\n",
    "ax.legend(loc='best')\n",
    "ax.grid(True)\n",
    "\n",
    "# menampilkan plot\n",
    "plt.show()"
   ]
  },
  {
   "cell_type": "markdown",
   "id": "5f346d0c-3795-47ab-98e2-1fa1c45a8e09",
   "metadata": {},
   "source": [
    "### 4. Praproses Data"
   ]
  },
  {
   "cell_type": "markdown",
   "id": "65e20dde-6aac-4e20-ad4f-8811eed15e16",
   "metadata": {},
   "source": [
    "- Analisa ACF dan PACF"
   ]
  },
  {
   "cell_type": "code",
   "execution_count": null,
   "id": "e18d498a-1809-4766-b373-973193b82c87",
   "metadata": {},
   "outputs": [],
   "source": []
  },
  {
   "cell_type": "code",
   "execution_count": null,
   "id": "7bfe52d9-73d0-465f-9f5c-3ce610b7c807",
   "metadata": {},
   "outputs": [],
   "source": []
  },
  {
   "cell_type": "code",
   "execution_count": null,
   "id": "d92ec996-e7e9-48ba-808b-a01daf569e33",
   "metadata": {},
   "outputs": [],
   "source": []
  },
  {
   "cell_type": "markdown",
   "id": "a862d8b2-db17-42a6-a933-1d9663ce19c0",
   "metadata": {},
   "source": [
    "- selesi fitur"
   ]
  },
  {
   "cell_type": "code",
   "execution_count": 8,
   "id": "f58ed43b-ebcc-415a-b641-9998f9b0f450",
   "metadata": {},
   "outputs": [],
   "source": [
    "# memilh fitur hotspot\n",
    "df_sumsel = dataset.filter([\"hotspot\"])"
   ]
  },
  {
   "cell_type": "code",
   "execution_count": 9,
   "id": "9cf7e0cc-177e-4f76-8820-4aa4e856d2da",
   "metadata": {},
   "outputs": [],
   "source": [
    "# convert dataframe to series\n",
    "df_sumsel = df_sumsel.values\n",
    "df_sumsel = df_sumsel.astype('float64');"
   ]
  },
  {
   "cell_type": "code",
   "execution_count": 11,
   "id": "826235b7-3a2f-42de-8dd5-1d203a5a83c4",
   "metadata": {},
   "outputs": [
    {
     "data": {
      "text/plain": [
       "array([[ 3],\n",
       "       [ 5],\n",
       "       [10],\n",
       "       [20],\n",
       "       [39]], dtype=int64)"
      ]
     },
     "execution_count": 11,
     "metadata": {},
     "output_type": "execute_result"
    }
   ],
   "source": [
    "np.round(df_sumsel[:5],7)"
   ]
  },
  {
   "cell_type": "code",
   "execution_count": null,
   "id": "939d0f52-5417-4ea1-9d18-e840d20a402a",
   "metadata": {},
   "outputs": [],
   "source": []
  }
 ],
 "metadata": {
  "kernelspec": {
   "display_name": "Python 3 (ipykernel)",
   "language": "python",
   "name": "python3"
  },
  "language_info": {
   "codemirror_mode": {
    "name": "ipython",
    "version": 3
   },
   "file_extension": ".py",
   "mimetype": "text/x-python",
   "name": "python",
   "nbconvert_exporter": "python",
   "pygments_lexer": "ipython3",
   "version": "3.9.13"
  }
 },
 "nbformat": 4,
 "nbformat_minor": 5
}
