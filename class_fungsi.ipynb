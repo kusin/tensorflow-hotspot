{
 "cells": [
  {
   "cell_type": "markdown",
   "metadata": {},
   "source": [
    "### Deklarasi Pustaka"
   ]
  },
  {
   "cell_type": "code",
   "execution_count": 1,
   "metadata": {},
   "outputs": [],
   "source": [
    "# => pustaka manipulasi data\n",
    "import datetime\n",
    "import math\n",
    "import numpy as np\n",
    "import pandas as pd\n",
    "\n",
    "# => pustaka visualisasi data\n",
    "import seaborn as sns\n",
    "import matplotlib.pyplot as plt\n",
    "import matplotlib.dates as mdates\n",
    "from matplotlib.dates import DateFormatter\n",
    "\n",
    "# pustaka pra proses data\n",
    "from sklearn import preprocessing\n",
    "from sklearn.preprocessing import MinMaxScaler\n",
    "from mlxtend.preprocessing import minmax_scaling\n",
    "\n",
    "# => pusataka deep learning\n",
    "import tensorflow as tf\n",
    "from keras.models import Sequential\n",
    "from keras.layers import Dense, LSTM, Dropout\n",
    "\n",
    "# => pustaka evaluasi model\n",
    "from sklearn.metrics import mean_squared_error"
   ]
  },
  {
   "cell_type": "markdown",
   "metadata": {},
   "source": [
    "### fungsi parse dataset temp"
   ]
  },
  {
   "cell_type": "code",
   "execution_count": 2,
   "metadata": {},
   "outputs": [],
   "source": [
    "# transform dataset\n",
    "def parse_dataset(nm_dataset, nm_kolom):\n",
    "    hasil = pd.DataFrame(nm_dataset, columns=[nm_kolom])\n",
    "    return hasil"
   ]
  },
  {
   "cell_type": "markdown",
   "metadata": {},
   "source": [
    "### fungsi membaca data"
   ]
  },
  {
   "cell_type": "code",
   "execution_count": 3,
   "metadata": {},
   "outputs": [],
   "source": [
    "def load_dataset (nm_dataset, nm_kolom):\n",
    "    hasil = pd.read_csv(nm_dataset, usecols=[nm_kolom], engine=\"python\")\n",
    "    return hasil"
   ]
  },
  {
   "cell_type": "code",
   "execution_count": 4,
   "metadata": {},
   "outputs": [],
   "source": [
    "# fungsi membaca csv\n",
    "def load_dataset_csv(nm_dataset):\n",
    "    #hasil = pd.read_csv(\"D:/Belajar Python/dataset/dataset tesis/\"+nm_dataset, dtype='unicode')\n",
    "    hasil = pd.read_csv(\"D:/Belajar Python/tesis/dataset/\"+nm_dataset, engine=\"python\")\n",
    "    return hasil"
   ]
  },
  {
   "cell_type": "code",
   "execution_count": 5,
   "metadata": {},
   "outputs": [],
   "source": [
    "# fungsi membaca xlsx\n",
    "def load_dataset_excel(nm_dataset, nm_sheet):\n",
    "    hasil = pd.read_excel(\"D:/Belajar Python/tesis/dataset/\"+nm_dataset, sheet_name=nm_sheet, engine=\"openpyxl\")\n",
    "    return hasil"
   ]
  },
  {
   "cell_type": "code",
   "execution_count": 6,
   "metadata": {},
   "outputs": [],
   "source": [
    "# fungsi untuk load data hotspot berdasarkan periode waktu tertentu\n",
    "def data_hotspot(nm_dataset):\n",
    "    # memanggil fungsi untuk membaca datanya\n",
    "    hasil = load_dataset_csv(nm_dataset)\n",
    "    \n",
    "    # melakukan konversi data menjadi format tanggal pada kolom acq_date\n",
    "    hasil[\"acq_date\"] = pd.to_datetime(hasil[\"acq_date\"], format=\"%Y-%m-%d\")\n",
    "    \n",
    "    # pengembalian nilai dataset\n",
    "    return hasil"
   ]
  },
  {
   "cell_type": "code",
   "execution_count": 7,
   "metadata": {},
   "outputs": [],
   "source": [
    "# fungsi untuk load data iklim berdasarkan periode waktu tertentu\n",
    "def data_iklim(nm_dataset, nm_sheet):\n",
    "    # memanggil fungsi untuk membaca datanya\n",
    "    hasil = load_dataset_excel(nm_dataset, nm_sheet)\n",
    "    \n",
    "    # melakukan konversi data menjadi format tanggal pada kolom tanggal\n",
    "    hasil[\"Tanggal\"] = pd.to_datetime(hasil[\"Tanggal\"], format=\"%d-%m-%Y\")\n",
    "    \n",
    "    # pengembalian nilai dataset\n",
    "    return hasil"
   ]
  },
  {
   "cell_type": "code",
   "execution_count": 8,
   "metadata": {},
   "outputs": [],
   "source": [
    "# fungsi konversi tanggal\n",
    "def format_tanggal(df, format_bawaan):\n",
    "    # proses konversi tanggal\n",
    "    if format_bawaan == \"ymd\":\n",
    "        hasil = pd.to_datetime(df, format=\"%Y-%m-%d\")\n",
    "    elif format_bawaan == \"dmy\":\n",
    "        hasil = pd.to_datetime(df, format=\"%d-%m-%Y\")\n",
    "    else:\n",
    "        hasil = print(\"format tanggal salah\")\n",
    "    # mengembalikan nilai tanggal\n",
    "    return hasil"
   ]
  },
  {
   "cell_type": "markdown",
   "metadata": {},
   "source": [
    "### fungsi normalisasi data"
   ]
  },
  {
   "cell_type": "code",
   "execution_count": 9,
   "metadata": {},
   "outputs": [],
   "source": [
    "# membuat fungsi distribusi normal\n",
    "# menggunakan pustaka scikit-learn\n",
    "def normalisasi(df):\n",
    "    hasil = preprocessing.normalize(df)\n",
    "    return hasil"
   ]
  },
  {
   "cell_type": "code",
   "execution_count": 10,
   "metadata": {},
   "outputs": [],
   "source": [
    "# membuat fungsi z-score scaler\n",
    "# menggunakan pustaka scikit-learn\n",
    "# def normalisasi_z(df, nm_kolom): # belum selesai\n",
    "    # return hasil"
   ]
  },
  {
   "cell_type": "code",
   "execution_count": 11,
   "metadata": {},
   "outputs": [],
   "source": [
    "# membuat fungsi max-min scaler\n",
    "# menggunakan pustaka scikit-learn\n",
    "def normalisasi_max_min(df):\n",
    "    # memanggil fungsi max min scaler\n",
    "    hasil = preprocessing.MinMaxScaler(feature_range=(-1, 1))\n",
    "    \n",
    "    # proses max min scaler\n",
    "    hasil = hasil.fit_transform(df)\n",
    "    \n",
    "    # pengembalian nilai\n",
    "    return hasil"
   ]
  },
  {
   "cell_type": "code",
   "execution_count": 12,
   "metadata": {},
   "outputs": [],
   "source": [
    "# membuat fungsi max-min scaler\n",
    "# menggunakan pustaka mlxtend\n",
    "def scaling_max_min(df, nm_kolom):\n",
    "    hasil = minmax_scaling(df, columns=nm_kolom)\n",
    "    return hasil"
   ]
  },
  {
   "cell_type": "markdown",
   "metadata": {},
   "source": [
    "### fungsi anggregasi data"
   ]
  },
  {
   "cell_type": "code",
   "execution_count": 13,
   "metadata": {},
   "outputs": [],
   "source": [
    "## => Aggregasi data harian\n",
    "def hotspot_harian(df):\n",
    "    # Menghitung jumlah titik panas berdasarkan tanggal\n",
    "    hasil = df.groupby(['acq_date']).size().reset_index(name='hotspot')\n",
    "\n",
    "    # memalukan indexing berdasarkan tanggal\n",
    "    hasil = hasil.set_index(\"acq_date\")\n",
    "    \n",
    "    # return value data hotspot harian\n",
    "    return hasil"
   ]
  },
  {
   "cell_type": "code",
   "execution_count": 14,
   "metadata": {},
   "outputs": [],
   "source": [
    "## => Aggregasi data bulanan\n",
    "def hotspot_bulanan(df):\n",
    "    # Menghitung jumlah titik panas berdasarkan tanggal\n",
    "    hasil = df.groupby(['acq_date']).size().reset_index(name='hotspot')\n",
    "\n",
    "    # memalukan indexing berdasarkan tanggal\n",
    "    hasil = hasil.set_index(\"acq_date\")\n",
    "\n",
    "    # proses aggregasi ke data bulanan\n",
    "    hasil = hasil.resample('M').sum()\n",
    "\n",
    "    # return value data hotspot harian\n",
    "    return hasil"
   ]
  },
  {
   "cell_type": "code",
   "execution_count": 15,
   "metadata": {},
   "outputs": [],
   "source": [
    "## => Aggregasi data bulanan\n",
    "def hotspot_tahunan(df):\n",
    "    # Menghitung jumlah titik panas berdasarkan tanggal\n",
    "    hasil = df.groupby(['acq_date']).size().reset_index(name='hotspot')\n",
    "\n",
    "    # memalukan indexing berdasarkan tanggal\n",
    "    hasil = hasil.set_index(\"acq_date\")\n",
    "\n",
    "    # proses aggregasi ke data bulanan\n",
    "    hasil = hasil.resample('Y').sum()\n",
    "\n",
    "    # return value data hotspot harian\n",
    "    return hasil"
   ]
  },
  {
   "cell_type": "markdown",
   "metadata": {},
   "source": [
    "### fungsi visualisasi data"
   ]
  },
  {
   "cell_type": "code",
   "execution_count": 16,
   "metadata": {},
   "outputs": [],
   "source": [
    "# => Visualisasi Time Series\n",
    "def visual_time_series(nilai_x, nilai_y, nm_xlabel, nm_ylabel, nm_label, nm_title, custom_date):\n",
    "    # membuat frame\n",
    "    fig, ax = plt.subplots(figsize = (20,7))\n",
    "    \n",
    "    # membuat time series plot\n",
    "    ax.plot(nilai_x, nilai_y, color=\"tab:blue\", label=nm_label, linewidth=2.5)\n",
    "    \n",
    "    # membuat label-label\n",
    "    ax.set_title(nm_title, fontsize=14)\n",
    "    ax.set_xlabel(nm_xlabel, fontsize=12)\n",
    "    ax.set_ylabel(nm_ylabel, fontsize=12)\n",
    "    ax.legend(loc='upper left')\n",
    "    ax.grid(True)\n",
    "    \n",
    "    # Define the date format\n",
    "    if custom_date == \"True\":\n",
    "        date_form = DateFormatter(\"%b-%Y\")\n",
    "        ax.xaxis.set_major_formatter(date_form)\n",
    "        \n",
    "    # menampilkan plot\n",
    "    plt.show()"
   ]
  },
  {
   "cell_type": "code",
   "execution_count": 17,
   "metadata": {},
   "outputs": [],
   "source": [
    "# => Visualisasi Time Series\n",
    "def visual_time_series_v1(nilai_x1, nilai_x2, nilai_y1, nilai_y2, nm_xlabel, nm_ylabel, nm_label1, nm_label2, nm_title, custom_date):\n",
    "    # membuat frame\n",
    "    fig, ax = plt.subplots(figsize = (20,7))\n",
    "    \n",
    "    # membuat time series plot\n",
    "    ax.plot(nilai_x1, nilai_y1, color=\"tab:blue\", label=nm_label1, linewidth=2.5)\n",
    "    ax.plot(nilai_x2, nilai_y2, color=\"tab:red\", label=nm_label2, linewidth=2.5)\n",
    "    \n",
    "    # membuat label-label\n",
    "    ax.set_title(nm_title, fontsize=14)\n",
    "    ax.set_xlabel(nm_xlabel, fontsize=12)\n",
    "    ax.set_ylabel(nm_ylabel, fontsize=12)\n",
    "    ax.legend(loc='upper left')\n",
    "    ax.grid(True)\n",
    "    \n",
    "    # Define the date format\n",
    "    if custom_date == \"True\":\n",
    "        date_form = DateFormatter(\"%b-%Y\")\n",
    "        ax.xaxis.set_major_formatter(date_form)\n",
    "        \n",
    "    # menampilkan plot\n",
    "    plt.show()"
   ]
  },
  {
   "cell_type": "code",
   "execution_count": 18,
   "metadata": {},
   "outputs": [],
   "source": [
    "# => Visualisasi Time Series ENSO\n",
    "def visual_time_series_v2(nilai_x, nilai_y, nm_xlabel, nm_ylabel, nm_label, nm_title, custom_date):\n",
    "    # membuat frame\n",
    "    fig, ax = plt.subplots(figsize = (20,7))\n",
    "    \n",
    "    # membuat time series plot\n",
    "    ax.plot(nilai_x, nilai_y, color=\"tab:blue\", label=nm_label, linewidth=2.5)\n",
    "    ax.axhline(y = 0, color = \"red\", linestyle = '-')\n",
    "    \n",
    "    # membuat label-label\n",
    "    ax.set_title(nm_title, fontsize=14)\n",
    "    ax.set_xlabel(nm_xlabel, fontsize=12)\n",
    "    ax.set_ylabel(nm_ylabel, fontsize=12)\n",
    "    ax.legend(loc='upper left')\n",
    "    ax.grid(True)\n",
    "    \n",
    "    # Define the date format\n",
    "    if custom_date == \"True\":\n",
    "        date_form = DateFormatter(\"%b-%Y\")\n",
    "        ax.xaxis.set_major_formatter(date_form)\n",
    "    \n",
    "    # menampilkan plot\n",
    "    plt.show()"
   ]
  },
  {
   "cell_type": "code",
   "execution_count": 19,
   "metadata": {},
   "outputs": [],
   "source": [
    "# visualisasi netsed time serie\n",
    "def visual_time_series_v3(df, nm_color, nm_label, nm_xlabel, nm_ylabel, nm_title):\n",
    "    # membuat frame\n",
    "    fig, ax = plt.subplots(figsize = (20,7))\n",
    "    \n",
    "    # membuat time series plot\n",
    "    for x in range(len(df.columns.values)):\n",
    "        ax.plot(df.index.values, df.iloc[:, x:x+1], color=\"tab:\"+nm_color[x], label=nm_label[x], linewidth=2.5)\n",
    "    \n",
    "    # membuat label-label\n",
    "    ax.set_title(nm_title, fontsize=14)\n",
    "    ax.set_xlabel(nm_xlabel, fontsize=12)\n",
    "    ax.set_ylabel(nm_ylabel, fontsize=12)\n",
    "    ax.legend(loc='upper left')\n",
    "    ax.grid(True)\n",
    "    \n",
    "    # menampilkan plot\n",
    "    plt.show()"
   ]
  },
  {
   "cell_type": "code",
   "execution_count": 20,
   "metadata": {},
   "outputs": [],
   "source": [
    "# fungsi menampilkan viusalisasi heatmap correlation\n",
    "def visual_heatmap(df, nm_corr):\n",
    "    # membuat perhitungan korelasi terlebih dahulu\n",
    "    df_corr = df.corr(method=nm_corr)\n",
    "    \n",
    "    # membuat frame heatmap\n",
    "    fig,ax = plt.subplots(figsize=(10,5))\n",
    "    \n",
    "    # proses visual heatmap\n",
    "    # => pilihan warna lain untuk visual heatmap (coolwarm, Blues, RdYlGn_r, viridis, YlGnBu)\n",
    "    sns.heatmap(df_corr, cmap=\"viridis\", vmax=1, vmin=-1, annot=True, linewidths=1, fmt='.2f', ax=ax)\n",
    "    \n",
    "    # membuat title atau judul\n",
    "    plt.title(\"Heatmap Iklim, ENSO dan Hotspot\", fontsize=16)\n",
    "    \n",
    "    # Menampilkan hasil visualisasi\n",
    "    plt.show()"
   ]
  },
  {
   "cell_type": "code",
   "execution_count": 21,
   "metadata": {},
   "outputs": [],
   "source": [
    "# fungsi menampilkan viusalisasi scatter plot\n",
    "def visual_scatter(nilai_x, nilai_y, nm_color, nm_label, nm_xlabel, nm_ylabel, nm_title):\n",
    "    # membuat frame scatter plot\n",
    "    fig, ax = plt.subplots(figsize = (20,7))\n",
    "\n",
    "    # membuat scatter plot\n",
    "    ax.scatter(nilai_x, nilai_y, color=\"tab:\"+nm_color, label=nm_label, linewidth=5, alpha=0.5)\n",
    "\n",
    "    # membuat label-label\n",
    "    ax.set_title(nm_title, fontsize=14)\n",
    "    ax.set_xlabel(nm_xlabel, fontsize=12)\n",
    "    ax.set_ylabel(nm_ylabel, fontsize=12)\n",
    "    ax.legend(loc='upper left')\n",
    "    ax.grid(True)\n",
    "\n",
    "    # Menampilkan Hasil Visualisasi\n",
    "    plt.show()"
   ]
  },
  {
   "cell_type": "code",
   "execution_count": 22,
   "metadata": {},
   "outputs": [],
   "source": [
    "# fungsi menampilkan viusalisasi barplot\n",
    "def visual_barplot(nilai_x, nilai_y, nm_color, nm_title):\n",
    "    # Membuat frame barplot\n",
    "    fig, ax = plt.subplots(figsize=(20, 7))\n",
    "\n",
    "    # Membuat barplot jumlah positif\n",
    "    ax.bar(nilai_x, nilai_y, color=nm_color)\n",
    "\n",
    "    # membuat label-label\n",
    "    ax.set_title(nm_title, fontsize=16)\n",
    "    \n",
    "    # Menampilkan hasilnya\n",
    "    plt.xticks(rotation=90)\n",
    "    plt.yticks(rotation=0)\n",
    "    plt.grid(True)\n",
    "    plt.show()"
   ]
  },
  {
   "cell_type": "code",
   "execution_count": null,
   "metadata": {},
   "outputs": [],
   "source": []
  }
 ],
 "metadata": {
  "kernelspec": {
   "display_name": "Python 3",
   "language": "python",
   "name": "python3"
  },
  "language_info": {
   "codemirror_mode": {
    "name": "ipython",
    "version": 3
   },
   "file_extension": ".py",
   "mimetype": "text/x-python",
   "name": "python",
   "nbconvert_exporter": "python",
   "pygments_lexer": "ipython3",
   "version": "3.8.5"
  }
 },
 "nbformat": 4,
 "nbformat_minor": 4
}
