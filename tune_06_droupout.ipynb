{
 "cells": [
  {
   "cell_type": "markdown",
   "id": "52d55491-93e8-4964-aac8-b34beccb580e",
   "metadata": {},
   "source": [
    "## How to Grid Search Hyperparameters for Deep Learning Models in Python with Keras"
   ]
  },
  {
   "cell_type": "markdown",
   "id": "88f9e811-fdd1-4f95-a4fd-0aed38bb9b73",
   "metadata": {},
   "source": [
    "- https://machinelearningmastery.com/grid-search-hyperparameters-deep-learning-models-python-keras/"
   ]
  },
  {
   "cell_type": "code",
   "execution_count": 1,
   "id": "150b6179-558b-4565-b2c8-4fe704bdd9a5",
   "metadata": {},
   "outputs": [],
   "source": [
    "# Use scikit-learn to grid search the dropout rate\n",
    "import numpy as np\n",
    "import pandas as pd\n",
    "import tensorflow as tf\n",
    "from sklearn.model_selection import GridSearchCV\n",
    "from tensorflow.keras.models import Sequential\n",
    "from tensorflow.keras.layers import Dense\n",
    "from tensorflow.keras.layers import Dropout\n",
    "from tensorflow.keras.constraints import MaxNorm\n",
    "from scikeras.wrappers import KerasClassifier"
   ]
  },
  {
   "cell_type": "code",
   "execution_count": 2,
   "id": "5d6be9a0-6d22-4683-b4cd-128c67af6c2d",
   "metadata": {},
   "outputs": [],
   "source": [
    "# Function to create model, required for KerasClassifier\n",
    "def create_model(dropout_rate, weight_constraint):\n",
    "    # create model\n",
    "    model = Sequential()\n",
    "    model.add(Dense(12, input_shape=(8,), kernel_initializer='uniform', activation='linear', kernel_constraint=MaxNorm(weight_constraint)))\n",
    "    model.add(Dropout(dropout_rate))\n",
    "    model.add(Dense(1, kernel_initializer='uniform', activation='sigmoid'))\n",
    "    \n",
    "    # Compile model\n",
    "    model.compile(loss='binary_crossentropy', optimizer='adam', metrics=['accuracy'])\n",
    "    \n",
    "    # return values\n",
    "    return model"
   ]
  },
  {
   "cell_type": "code",
   "execution_count": 3,
   "id": "9fc09890-ae75-4d5b-98ad-24db93759f7b",
   "metadata": {},
   "outputs": [],
   "source": [
    "# fix random seed for reproducibility\n",
    "tf.random.set_seed(seed = 7)"
   ]
  },
  {
   "cell_type": "code",
   "execution_count": 4,
   "id": "7b6e61ec-a101-4029-b6d8-2da4acbe5219",
   "metadata": {},
   "outputs": [],
   "source": [
    "# load dataset\n",
    "dataset = np.loadtxt(\"dataset/diabetes.csv\", delimiter=\",\")"
   ]
  },
  {
   "cell_type": "code",
   "execution_count": 5,
   "id": "0d0d0a4f-c0b9-4e0e-80a8-47ac387505b1",
   "metadata": {},
   "outputs": [],
   "source": [
    "# split into input (X) and output (Y) variables\n",
    "X = dataset[:,0:8]\n",
    "Y = dataset[:,8]"
   ]
  },
  {
   "cell_type": "code",
   "execution_count": 6,
   "id": "42150686-9e3f-4900-8b3e-f1e2df34ce54",
   "metadata": {},
   "outputs": [
    {
     "data": {
      "text/html": [
       "<div>\n",
       "<style scoped>\n",
       "    .dataframe tbody tr th:only-of-type {\n",
       "        vertical-align: middle;\n",
       "    }\n",
       "\n",
       "    .dataframe tbody tr th {\n",
       "        vertical-align: top;\n",
       "    }\n",
       "\n",
       "    .dataframe thead th {\n",
       "        text-align: right;\n",
       "    }\n",
       "</style>\n",
       "<table border=\"1\" class=\"dataframe\">\n",
       "  <thead>\n",
       "    <tr style=\"text-align: right;\">\n",
       "      <th></th>\n",
       "      <th>x1</th>\n",
       "      <th>x2</th>\n",
       "      <th>x3</th>\n",
       "      <th>x4</th>\n",
       "      <th>x5</th>\n",
       "      <th>x6</th>\n",
       "      <th>x7</th>\n",
       "      <th>x8</th>\n",
       "      <th>Y</th>\n",
       "    </tr>\n",
       "  </thead>\n",
       "  <tbody>\n",
       "    <tr>\n",
       "      <th>0</th>\n",
       "      <td>6.0</td>\n",
       "      <td>148.0</td>\n",
       "      <td>72.0</td>\n",
       "      <td>35.0</td>\n",
       "      <td>0.0</td>\n",
       "      <td>33.6</td>\n",
       "      <td>0.627</td>\n",
       "      <td>50.0</td>\n",
       "      <td>1.0</td>\n",
       "    </tr>\n",
       "    <tr>\n",
       "      <th>1</th>\n",
       "      <td>1.0</td>\n",
       "      <td>85.0</td>\n",
       "      <td>66.0</td>\n",
       "      <td>29.0</td>\n",
       "      <td>0.0</td>\n",
       "      <td>26.6</td>\n",
       "      <td>0.351</td>\n",
       "      <td>31.0</td>\n",
       "      <td>0.0</td>\n",
       "    </tr>\n",
       "    <tr>\n",
       "      <th>2</th>\n",
       "      <td>8.0</td>\n",
       "      <td>183.0</td>\n",
       "      <td>64.0</td>\n",
       "      <td>0.0</td>\n",
       "      <td>0.0</td>\n",
       "      <td>23.3</td>\n",
       "      <td>0.672</td>\n",
       "      <td>32.0</td>\n",
       "      <td>1.0</td>\n",
       "    </tr>\n",
       "    <tr>\n",
       "      <th>3</th>\n",
       "      <td>1.0</td>\n",
       "      <td>89.0</td>\n",
       "      <td>66.0</td>\n",
       "      <td>23.0</td>\n",
       "      <td>94.0</td>\n",
       "      <td>28.1</td>\n",
       "      <td>0.167</td>\n",
       "      <td>21.0</td>\n",
       "      <td>0.0</td>\n",
       "    </tr>\n",
       "    <tr>\n",
       "      <th>4</th>\n",
       "      <td>0.0</td>\n",
       "      <td>137.0</td>\n",
       "      <td>40.0</td>\n",
       "      <td>35.0</td>\n",
       "      <td>168.0</td>\n",
       "      <td>43.1</td>\n",
       "      <td>2.288</td>\n",
       "      <td>33.0</td>\n",
       "      <td>1.0</td>\n",
       "    </tr>\n",
       "    <tr>\n",
       "      <th>...</th>\n",
       "      <td>...</td>\n",
       "      <td>...</td>\n",
       "      <td>...</td>\n",
       "      <td>...</td>\n",
       "      <td>...</td>\n",
       "      <td>...</td>\n",
       "      <td>...</td>\n",
       "      <td>...</td>\n",
       "      <td>...</td>\n",
       "    </tr>\n",
       "    <tr>\n",
       "      <th>763</th>\n",
       "      <td>10.0</td>\n",
       "      <td>101.0</td>\n",
       "      <td>76.0</td>\n",
       "      <td>48.0</td>\n",
       "      <td>180.0</td>\n",
       "      <td>32.9</td>\n",
       "      <td>0.171</td>\n",
       "      <td>63.0</td>\n",
       "      <td>0.0</td>\n",
       "    </tr>\n",
       "    <tr>\n",
       "      <th>764</th>\n",
       "      <td>2.0</td>\n",
       "      <td>122.0</td>\n",
       "      <td>70.0</td>\n",
       "      <td>27.0</td>\n",
       "      <td>0.0</td>\n",
       "      <td>36.8</td>\n",
       "      <td>0.340</td>\n",
       "      <td>27.0</td>\n",
       "      <td>0.0</td>\n",
       "    </tr>\n",
       "    <tr>\n",
       "      <th>765</th>\n",
       "      <td>5.0</td>\n",
       "      <td>121.0</td>\n",
       "      <td>72.0</td>\n",
       "      <td>23.0</td>\n",
       "      <td>112.0</td>\n",
       "      <td>26.2</td>\n",
       "      <td>0.245</td>\n",
       "      <td>30.0</td>\n",
       "      <td>0.0</td>\n",
       "    </tr>\n",
       "    <tr>\n",
       "      <th>766</th>\n",
       "      <td>1.0</td>\n",
       "      <td>126.0</td>\n",
       "      <td>60.0</td>\n",
       "      <td>0.0</td>\n",
       "      <td>0.0</td>\n",
       "      <td>30.1</td>\n",
       "      <td>0.349</td>\n",
       "      <td>47.0</td>\n",
       "      <td>1.0</td>\n",
       "    </tr>\n",
       "    <tr>\n",
       "      <th>767</th>\n",
       "      <td>1.0</td>\n",
       "      <td>93.0</td>\n",
       "      <td>70.0</td>\n",
       "      <td>31.0</td>\n",
       "      <td>0.0</td>\n",
       "      <td>30.4</td>\n",
       "      <td>0.315</td>\n",
       "      <td>23.0</td>\n",
       "      <td>0.0</td>\n",
       "    </tr>\n",
       "  </tbody>\n",
       "</table>\n",
       "<p>768 rows × 9 columns</p>\n",
       "</div>"
      ],
      "text/plain": [
       "       x1     x2    x3    x4     x5    x6     x7    x8    Y\n",
       "0     6.0  148.0  72.0  35.0    0.0  33.6  0.627  50.0  1.0\n",
       "1     1.0   85.0  66.0  29.0    0.0  26.6  0.351  31.0  0.0\n",
       "2     8.0  183.0  64.0   0.0    0.0  23.3  0.672  32.0  1.0\n",
       "3     1.0   89.0  66.0  23.0   94.0  28.1  0.167  21.0  0.0\n",
       "4     0.0  137.0  40.0  35.0  168.0  43.1  2.288  33.0  1.0\n",
       "..    ...    ...   ...   ...    ...   ...    ...   ...  ...\n",
       "763  10.0  101.0  76.0  48.0  180.0  32.9  0.171  63.0  0.0\n",
       "764   2.0  122.0  70.0  27.0    0.0  36.8  0.340  27.0  0.0\n",
       "765   5.0  121.0  72.0  23.0  112.0  26.2  0.245  30.0  0.0\n",
       "766   1.0  126.0  60.0   0.0    0.0  30.1  0.349  47.0  1.0\n",
       "767   1.0   93.0  70.0  31.0    0.0  30.4  0.315  23.0  0.0\n",
       "\n",
       "[768 rows x 9 columns]"
      ]
     },
     "execution_count": 6,
     "metadata": {},
     "output_type": "execute_result"
    }
   ],
   "source": [
    "# show to dataset\n",
    "pd.concat([\n",
    "    pd.DataFrame(X, columns=['x1', 'x2', 'x3', 'x4', 'x5', 'x6', 'x7', 'x8']),\n",
    "    pd.DataFrame(Y, columns=['Y'])\n",
    "], axis=1)"
   ]
  },
  {
   "cell_type": "code",
   "execution_count": 7,
   "id": "1da6d01d-bd75-49d4-9d12-25e6b44109f8",
   "metadata": {},
   "outputs": [],
   "source": [
    "# create model\n",
    "model = KerasClassifier(model=create_model, epochs=100, batch_size=10, verbose=0)"
   ]
  },
  {
   "cell_type": "code",
   "execution_count": 8,
   "id": "f48d3a46-2982-4e1d-9064-be3ab87b898b",
   "metadata": {},
   "outputs": [
    {
     "data": {
      "text/plain": [
       "KerasClassifier(\n",
       "\tmodel=<function create_model at 0x000001761EA943A0>\n",
       "\tbuild_fn=None\n",
       "\twarm_start=False\n",
       "\trandom_state=None\n",
       "\toptimizer=rmsprop\n",
       "\tloss=None\n",
       "\tmetrics=None\n",
       "\tbatch_size=10\n",
       "\tvalidation_batch_size=None\n",
       "\tverbose=0\n",
       "\tcallbacks=None\n",
       "\tvalidation_split=0.0\n",
       "\tshuffle=True\n",
       "\trun_eagerly=False\n",
       "\tepochs=100\n",
       "\tclass_weight=None\n",
       ")"
      ]
     },
     "execution_count": 8,
     "metadata": {},
     "output_type": "execute_result"
    }
   ],
   "source": [
    "model"
   ]
  },
  {
   "cell_type": "code",
   "execution_count": 9,
   "id": "346ae031-7dba-4be3-a3ca-b6edf086e397",
   "metadata": {},
   "outputs": [],
   "source": [
    "# define the grid search parameters\n",
    "weight_constraint = [1.0, 2.0, 3.0, 4.0, 5.0]\n",
    "dropout_rate = [0.0, 0.1, 0.2, 0.3, 0.4, 0.5, 0.6, 0.7, 0.8, 0.9]"
   ]
  },
  {
   "cell_type": "code",
   "execution_count": 10,
   "id": "350b97ed-2071-4303-838f-4d7f85434031",
   "metadata": {},
   "outputs": [],
   "source": [
    "param_grid = dict(model__dropout_rate=dropout_rate, model__weight_constraint=weight_constraint)"
   ]
  },
  {
   "cell_type": "code",
   "execution_count": 11,
   "id": "97578fbd-e4d1-4e66-954c-026094270c01",
   "metadata": {},
   "outputs": [
    {
     "data": {
      "text/plain": [
       "{'model__dropout_rate': [0.0, 0.1, 0.2, 0.3, 0.4, 0.5, 0.6, 0.7, 0.8, 0.9],\n",
       " 'model__weight_constraint': [1.0, 2.0, 3.0, 4.0, 5.0]}"
      ]
     },
     "execution_count": 11,
     "metadata": {},
     "output_type": "execute_result"
    }
   ],
   "source": [
    "param_grid"
   ]
  },
  {
   "cell_type": "code",
   "execution_count": 12,
   "id": "64f14f63-904c-4dec-824f-02979eba5419",
   "metadata": {},
   "outputs": [],
   "source": [
    "grid = GridSearchCV(estimator=model, param_grid=param_grid, n_jobs=-1, cv=3)"
   ]
  },
  {
   "cell_type": "code",
   "execution_count": 13,
   "id": "1f7af96d-7838-43ac-b784-f765de995997",
   "metadata": {},
   "outputs": [],
   "source": [
    "grid_result = grid.fit(X, Y)"
   ]
  },
  {
   "cell_type": "code",
   "execution_count": 14,
   "id": "708e485a-b0dd-4887-9676-24563c7d0e24",
   "metadata": {},
   "outputs": [
    {
     "name": "stdout",
     "output_type": "stream",
     "text": [
      "Best: 0.730469 using {'model__dropout_rate': 0.0, 'model__weight_constraint': 2.0}\n",
      "0.699219 (0.003189) with: {'model__dropout_rate': 0.0, 'model__weight_constraint': 1.0}\n",
      "0.730469 (0.011500) with: {'model__dropout_rate': 0.0, 'model__weight_constraint': 2.0}\n",
      "0.714844 (0.008438) with: {'model__dropout_rate': 0.0, 'model__weight_constraint': 3.0}\n",
      "0.717448 (0.006639) with: {'model__dropout_rate': 0.0, 'model__weight_constraint': 4.0}\n",
      "0.713542 (0.009744) with: {'model__dropout_rate': 0.0, 'model__weight_constraint': 5.0}\n",
      "0.712240 (0.010253) with: {'model__dropout_rate': 0.1, 'model__weight_constraint': 1.0}\n",
      "0.708333 (0.010253) with: {'model__dropout_rate': 0.1, 'model__weight_constraint': 2.0}\n",
      "0.701823 (0.004872) with: {'model__dropout_rate': 0.1, 'model__weight_constraint': 3.0}\n",
      "0.707031 (0.008438) with: {'model__dropout_rate': 0.1, 'model__weight_constraint': 4.0}\n",
      "0.722656 (0.013902) with: {'model__dropout_rate': 0.1, 'model__weight_constraint': 5.0}\n",
      "0.717448 (0.014731) with: {'model__dropout_rate': 0.2, 'model__weight_constraint': 1.0}\n",
      "0.717448 (0.004872) with: {'model__dropout_rate': 0.2, 'model__weight_constraint': 2.0}\n",
      "0.725260 (0.015073) with: {'model__dropout_rate': 0.2, 'model__weight_constraint': 3.0}\n",
      "0.700521 (0.004872) with: {'model__dropout_rate': 0.2, 'model__weight_constraint': 4.0}\n",
      "0.703125 (0.005524) with: {'model__dropout_rate': 0.2, 'model__weight_constraint': 5.0}\n",
      "0.701823 (0.012075) with: {'model__dropout_rate': 0.3, 'model__weight_constraint': 1.0}\n",
      "0.708333 (0.006639) with: {'model__dropout_rate': 0.3, 'model__weight_constraint': 2.0}\n",
      "0.707031 (0.008438) with: {'model__dropout_rate': 0.3, 'model__weight_constraint': 3.0}\n",
      "0.717448 (0.017566) with: {'model__dropout_rate': 0.3, 'model__weight_constraint': 4.0}\n",
      "0.708333 (0.018688) with: {'model__dropout_rate': 0.3, 'model__weight_constraint': 5.0}\n",
      "0.701823 (0.009744) with: {'model__dropout_rate': 0.4, 'model__weight_constraint': 1.0}\n",
      "0.709635 (0.013279) with: {'model__dropout_rate': 0.4, 'model__weight_constraint': 2.0}\n",
      "0.699219 (0.011049) with: {'model__dropout_rate': 0.4, 'model__weight_constraint': 3.0}\n",
      "0.688802 (0.001841) with: {'model__dropout_rate': 0.4, 'model__weight_constraint': 4.0}\n",
      "0.701823 (0.008027) with: {'model__dropout_rate': 0.4, 'model__weight_constraint': 5.0}\n",
      "0.708333 (0.014382) with: {'model__dropout_rate': 0.5, 'model__weight_constraint': 1.0}\n",
      "0.709635 (0.015733) with: {'model__dropout_rate': 0.5, 'model__weight_constraint': 2.0}\n",
      "0.696615 (0.006639) with: {'model__dropout_rate': 0.5, 'model__weight_constraint': 3.0}\n",
      "0.713542 (0.001841) with: {'model__dropout_rate': 0.5, 'model__weight_constraint': 4.0}\n",
      "0.713542 (0.006639) with: {'model__dropout_rate': 0.5, 'model__weight_constraint': 5.0}\n",
      "0.713542 (0.004872) with: {'model__dropout_rate': 0.6, 'model__weight_constraint': 1.0}\n",
      "0.700521 (0.006639) with: {'model__dropout_rate': 0.6, 'model__weight_constraint': 2.0}\n",
      "0.704427 (0.011201) with: {'model__dropout_rate': 0.6, 'model__weight_constraint': 3.0}\n",
      "0.708333 (0.009744) with: {'model__dropout_rate': 0.6, 'model__weight_constraint': 4.0}\n",
      "0.701823 (0.006639) with: {'model__dropout_rate': 0.6, 'model__weight_constraint': 5.0}\n",
      "0.694010 (0.004872) with: {'model__dropout_rate': 0.7, 'model__weight_constraint': 1.0}\n",
      "0.701823 (0.010253) with: {'model__dropout_rate': 0.7, 'model__weight_constraint': 2.0}\n",
      "0.684896 (0.008027) with: {'model__dropout_rate': 0.7, 'model__weight_constraint': 3.0}\n",
      "0.701823 (0.011201) with: {'model__dropout_rate': 0.7, 'model__weight_constraint': 4.0}\n",
      "0.705729 (0.016053) with: {'model__dropout_rate': 0.7, 'model__weight_constraint': 5.0}\n",
      "0.684896 (0.014382) with: {'model__dropout_rate': 0.8, 'model__weight_constraint': 1.0}\n",
      "0.683594 (0.006379) with: {'model__dropout_rate': 0.8, 'model__weight_constraint': 2.0}\n",
      "0.697917 (0.013279) with: {'model__dropout_rate': 0.8, 'model__weight_constraint': 3.0}\n",
      "0.696615 (0.012075) with: {'model__dropout_rate': 0.8, 'model__weight_constraint': 4.0}\n",
      "0.691406 (0.008438) with: {'model__dropout_rate': 0.8, 'model__weight_constraint': 5.0}\n",
      "0.667969 (0.008438) with: {'model__dropout_rate': 0.9, 'model__weight_constraint': 1.0}\n",
      "0.677083 (0.015073) with: {'model__dropout_rate': 0.9, 'model__weight_constraint': 2.0}\n",
      "0.673177 (0.009744) with: {'model__dropout_rate': 0.9, 'model__weight_constraint': 3.0}\n",
      "0.678385 (0.013279) with: {'model__dropout_rate': 0.9, 'model__weight_constraint': 4.0}\n",
      "0.665365 (0.023939) with: {'model__dropout_rate': 0.9, 'model__weight_constraint': 5.0}\n"
     ]
    }
   ],
   "source": [
    "# summarize results\n",
    "print(\"Best: %f using %s\" % (grid_result.best_score_, grid_result.best_params_))\n",
    "means = grid_result.cv_results_['mean_test_score']\n",
    "stds = grid_result.cv_results_['std_test_score']\n",
    "params = grid_result.cv_results_['params']\n",
    "for mean, stdev, param in zip(means, stds, params):\n",
    "    print(\"%f (%f) with: %r\" % (mean, stdev, param))"
   ]
  },
  {
   "cell_type": "code",
   "execution_count": null,
   "id": "db0aaa6a-6e51-4205-b3b0-baa3cbbd108d",
   "metadata": {},
   "outputs": [],
   "source": []
  }
 ],
 "metadata": {
  "kernelspec": {
   "display_name": "Python 3 (ipykernel)",
   "language": "python",
   "name": "python3"
  },
  "language_info": {
   "codemirror_mode": {
    "name": "ipython",
    "version": 3
   },
   "file_extension": ".py",
   "mimetype": "text/x-python",
   "name": "python",
   "nbconvert_exporter": "python",
   "pygments_lexer": "ipython3",
   "version": "3.9.13"
  }
 },
 "nbformat": 4,
 "nbformat_minor": 5
}
