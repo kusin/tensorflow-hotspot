{
 "cells": [
  {
   "attachments": {},
   "cell_type": "markdown",
   "id": "43759621",
   "metadata": {},
   "source": [
    "## Class Praproses Data"
   ]
  },
  {
   "cell_type": "code",
   "execution_count": 1,
   "id": "66ad9589",
   "metadata": {},
   "outputs": [],
   "source": [
    "# pustaka manipulasi data array\n",
    "import numpy as np\n",
    "from numpy import concatenate\n",
    "\n",
    "# pustaka manipulasi data frame\n",
    "import pandas as pd\n",
    "from pandas import concat\n",
    "from pandas import DataFrame\n",
    "\n",
    "# pustaka tanggal\n",
    "from datetime import datetime\n",
    "\n",
    "# pustaka normalisasi data\n",
    "from sklearn import preprocessing\n",
    "from sklearn.preprocessing import MinMaxScaler\n",
    "from mlxtend.preprocessing import minmax_scaling\n",
    "\n",
    "# pustaka data latih dan data uji\n",
    "from sklearn.model_selection import train_test_split"
   ]
  },
  {
   "attachments": {},
   "cell_type": "markdown",
   "id": "bcb8a970",
   "metadata": {},
   "source": [
    "- fungsi aggregasi data"
   ]
  },
  {
   "cell_type": "code",
   "execution_count": 2,
   "id": "a38a6c02",
   "metadata": {},
   "outputs": [],
   "source": [
    "## => Aggregasi data harian\n",
    "def hotspot_harian(df):\n",
    "    # Menghitung jumlah titik panas berdasarkan tanggal\n",
    "    hasil = df.groupby(['acq_date']).size().reset_index(name='hotspot')\n",
    "\n",
    "    # memalukan indexing berdasarkan tanggal\n",
    "    hasil = hasil.set_index(\"acq_date\")\n",
    "    \n",
    "    # return value data hotspot harian\n",
    "    return hasil"
   ]
  },
  {
   "cell_type": "code",
   "execution_count": 3,
   "id": "5813e782",
   "metadata": {},
   "outputs": [],
   "source": [
    "## => Aggregasi data bulanan\n",
    "def hotspot_bulanan(df):\n",
    "    # Menghitung jumlah titik panas berdasarkan tanggal\n",
    "    hasil = df.groupby(['acq_date']).size().reset_index(name='hotspot')\n",
    "\n",
    "    # memalukan indexing berdasarkan tanggal\n",
    "    hasil = hasil.set_index(\"acq_date\")\n",
    "\n",
    "    # proses aggregasi ke data bulanan\n",
    "    hasil = hasil.resample('M').sum()\n",
    "\n",
    "    # return value data hotspot harian\n",
    "    return hasil"
   ]
  },
  {
   "cell_type": "code",
   "execution_count": 4,
   "id": "00ea69aa",
   "metadata": {},
   "outputs": [],
   "source": [
    "## => Aggregasi data bulanan\n",
    "def hotspot_tahunan(df):\n",
    "    # Menghitung jumlah titik panas berdasarkan tanggal\n",
    "    hasil = df.groupby(['acq_date']).size().reset_index(name='hotspot')\n",
    "\n",
    "    # memalukan indexing berdasarkan tanggal\n",
    "    hasil = hasil.set_index(\"acq_date\")\n",
    "\n",
    "    # proses aggregasi ke data bulanan\n",
    "    hasil = hasil.resample('Y').sum()\n",
    "\n",
    "    # return value data hotspot harian\n",
    "    return hasil"
   ]
  },
  {
   "attachments": {},
   "cell_type": "markdown",
   "id": "ff981335",
   "metadata": {},
   "source": [
    "- fungsi normalisasi"
   ]
  },
  {
   "cell_type": "code",
   "execution_count": 5,
   "id": "4e1b7179",
   "metadata": {},
   "outputs": [],
   "source": [
    "# membuat fungsi distribusi normal\n",
    "# menggunakan pustaka scikit-learn\n",
    "def normalisasi(df):\n",
    "    hasil = preprocessing.normalize(df)\n",
    "    return hasil"
   ]
  },
  {
   "cell_type": "code",
   "execution_count": 6,
   "id": "8ba83307",
   "metadata": {},
   "outputs": [],
   "source": [
    "# membuat fungsi z-score scaler\n",
    "# menggunakan pustaka scikit-learn\n",
    "# def normalisasi_z(df, nm_kolom): # belum selesai\n",
    "    # return hasil"
   ]
  },
  {
   "cell_type": "code",
   "execution_count": 7,
   "id": "0196334d",
   "metadata": {},
   "outputs": [],
   "source": [
    "# membuat fungsi max-min scaler\n",
    "# menggunakan pustaka scikit-learn\n",
    "def normalisasi_max_min(df):\n",
    "    # memanggil fungsi max min scaler\n",
    "    hasil = preprocessing.MinMaxScaler(feature_range=(-1, 1))\n",
    "    \n",
    "    # proses max min scaler\n",
    "    hasil = hasil.fit_transform(df)\n",
    "    \n",
    "    # pengembalian nilai\n",
    "    return hasil"
   ]
  },
  {
   "cell_type": "code",
   "execution_count": 8,
   "id": "8759c2a6",
   "metadata": {},
   "outputs": [],
   "source": [
    "# membuat fungsi max-min scaler\n",
    "# menggunakan pustaka mlxtend\n",
    "def scaling_max_min(df, nm_kolom):\n",
    "    hasil = minmax_scaling(df, columns=nm_kolom)\n",
    "    return hasil"
   ]
  },
  {
   "attachments": {},
   "cell_type": "markdown",
   "id": "5f446c7a",
   "metadata": {},
   "source": [
    "- fungsi supervised learning"
   ]
  },
  {
   "cell_type": "code",
   "execution_count": 9,
   "id": "ca7e3b4e",
   "metadata": {},
   "outputs": [],
   "source": [
    "def series_to_supervised(data, n_in=1, n_out=1, dropnan=True):\n",
    "    n_vars = 1 if type(data) is list else data.shape[1]\n",
    "    df = DataFrame(data)\n",
    "    cols, names = list(), list()\n",
    "    \n",
    "    # input sequence (t-n, ... t-1)\n",
    "    for i in range(n_in, 0, -1):\n",
    "        cols.append(df.shift(i))\n",
    "        names += [('var%d(t-%d)' % (j+1, i)) for j in range(n_vars)]\n",
    "    \n",
    "    # forecast sequence (t, t+1, ... t+n)\n",
    "    for i in range(0, n_out):\n",
    "        cols.append(df.shift(-i))\n",
    "        if i == 0:\n",
    "            names += [('var%d(t)' % (j+1)) for j in range(n_vars)]\n",
    "        else:\n",
    "            names += [('var%d(t+%d)' % (j+1, i)) for j in range(n_vars)]\n",
    "    \n",
    "    # put it all together\n",
    "    agg = concat(cols, axis=1)\n",
    "    agg.columns = names\n",
    "    \n",
    "    # drop rows with NaN values\n",
    "    if dropnan:\n",
    "        agg.dropna(inplace=True)\n",
    "    \n",
    "    # return value\n",
    "    return agg"
   ]
  },
  {
   "cell_type": "code",
   "execution_count": null,
   "id": "7b0418bf",
   "metadata": {},
   "outputs": [],
   "source": []
  }
 ],
 "metadata": {
  "kernelspec": {
   "display_name": "Python 3 (ipykernel)",
   "language": "python",
   "name": "python3"
  },
  "language_info": {
   "codemirror_mode": {
    "name": "ipython",
    "version": 3
   },
   "file_extension": ".py",
   "mimetype": "text/x-python",
   "name": "python",
   "nbconvert_exporter": "python",
   "pygments_lexer": "ipython3",
   "version": "3.9.16"
  },
  "vscode": {
   "interpreter": {
    "hash": "37197ad202cea1caf8a636a74cec7c83b945e4f29ac1505900600f740c02611d"
   }
  }
 },
 "nbformat": 4,
 "nbformat_minor": 5
}
