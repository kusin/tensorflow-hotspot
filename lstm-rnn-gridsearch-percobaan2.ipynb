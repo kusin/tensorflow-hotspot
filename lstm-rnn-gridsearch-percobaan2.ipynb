{
 "cells": [
  {
   "cell_type": "markdown",
   "metadata": {
    "id": "qmEp_gntlAX_"
   },
   "source": [
    "### Hyperparameter GridSearchCV LSTM-RNN Percobaan 2"
   ]
  },
  {
   "cell_type": "markdown",
   "metadata": {},
   "source": [
    "- Variabel Terikat : Titik Panas\n",
    "- Variabel Bebas : Curah Hujan"
   ]
  },
  {
   "cell_type": "code",
   "execution_count": 1,
   "metadata": {
    "id": "aFdF9w2TlAYC"
   },
   "outputs": [],
   "source": [
    "# pustaka untuk manipulasi data\n",
    "import pandas as pd\n",
    "from pandas import concat\n",
    "from pandas import DataFrame\n",
    "from pandas import read_csv\n",
    "from pandas import read_excel\n",
    "import numpy as np\n",
    "from numpy import concatenate\n",
    "\n",
    "# pustaka untuk waktu komputasi\n",
    "import time\n",
    "from datetime import datetime\n",
    "\n",
    "# Pustaka untuk visualisasi data\n",
    "import seaborn as sns # Visualization\n",
    "from matplotlib import pyplot\n",
    "from matplotlib import pyplot as plt\n",
    "\n",
    "# Pustaka untuk membuat data latih dan data uji.\n",
    "from sklearn.preprocessing import MinMaxScaler\n",
    "from sklearn.preprocessing import LabelEncoder\n",
    "\n",
    "# Pustaka untuk membuat model prediksi LSTM-RNN\n",
    "import itertools\n",
    "import tensorflow as tf\n",
    "from keras.models import Sequential\n",
    "from keras.layers import Dense\n",
    "from keras.layers import Dropout\n",
    "from keras.layers import LSTM\n",
    "from keras.optimizers import Adam, Adamax, RMSprop, SGD\n",
    "\n",
    "# Early stoping\n",
    "from keras.callbacks import EarlyStopping\n",
    "from keras.callbacks import ModelCheckpoint\n",
    "\n",
    "# Pustaka untuk  evaluasi model prediksi\n",
    "from math import sqrt\n",
    "from sklearn.metrics import mean_squared_error"
   ]
  },
  {
   "cell_type": "code",
   "execution_count": 2,
   "metadata": {},
   "outputs": [],
   "source": [
    "# Set waktu komputasi\n",
    "start = time.time()"
   ]
  },
  {
   "cell_type": "code",
   "execution_count": 3,
   "metadata": {},
   "outputs": [],
   "source": [
    "# fix random seed for reproducibility\n",
    "np.random.seed(1234)"
   ]
  },
  {
   "cell_type": "code",
   "execution_count": 4,
   "metadata": {
    "id": "QO6BLIJxlAYC"
   },
   "outputs": [],
   "source": [
    "# membaca dataset\n",
    "dataset = pd.read_excel(\"D:/Belajar Python/dataset/dataset tesis/dataset.xlsx\")"
   ]
  },
  {
   "cell_type": "code",
   "execution_count": 5,
   "metadata": {
    "id": "_X0C84vZlAYD"
   },
   "outputs": [],
   "source": [
    "# set index tanggal\n",
    "dataset = dataset.set_index(\"tanggal\")"
   ]
  },
  {
   "cell_type": "code",
   "execution_count": 6,
   "metadata": {
    "colab": {
     "base_uri": "https://localhost:8080/"
    },
    "executionInfo": {
     "elapsed": 3,
     "status": "ok",
     "timestamp": 1626258920272,
     "user": {
      "displayName": "colab aji",
      "photoUrl": "",
      "userId": "15648518280582116117"
     },
     "user_tz": -420
    },
    "id": "ex6mK9NwlAYD",
    "outputId": "f3a673bb-ad4a-4809-96d5-3bb8c8829b94"
   },
   "outputs": [
    {
     "name": "stdout",
     "output_type": "stream",
     "text": [
      "<class 'pandas.core.frame.DataFrame'>\n",
      "DatetimeIndex: 240 entries, 2001-01-31 to 2020-12-31\n",
      "Data columns (total 5 columns):\n",
      " #   Column          Non-Null Count  Dtype  \n",
      "---  ------          --------------  -----  \n",
      " 0   sst             240 non-null    float64\n",
      " 1   soi             240 non-null    float64\n",
      " 2   oni             240 non-null    float64\n",
      " 3   curah_hujan     240 non-null    float64\n",
      " 4   hotspot_sumsel  240 non-null    int64  \n",
      "dtypes: float64(4), int64(1)\n",
      "memory usage: 11.2 KB\n"
     ]
    }
   ],
   "source": [
    "# set informasi dataset\n",
    "dataset.info()"
   ]
  },
  {
   "cell_type": "code",
   "execution_count": 7,
   "metadata": {
    "colab": {
     "base_uri": "https://localhost:8080/",
     "height": 450
    },
    "executionInfo": {
     "elapsed": 10,
     "status": "ok",
     "timestamp": 1626258922893,
     "user": {
      "displayName": "colab aji",
      "photoUrl": "",
      "userId": "15648518280582116117"
     },
     "user_tz": -420
    },
    "id": "-tCG5W3UlAYE",
    "outputId": "6ddd11f7-e325-4134-e0bf-fbf164eeef54"
   },
   "outputs": [
    {
     "name": "stdout",
     "output_type": "stream",
     "text": [
      "             sst  soi   oni  curah_hujan  hotspot_sumsel\n",
      "tanggal                                                 \n",
      "2001-01-31 -0.76  1.0 -0.68   418.600006               3\n",
      "2001-02-28 -0.56  1.7 -0.52   295.399994               5\n",
      "2001-03-31 -0.37  0.9 -0.44   360.600006              10\n",
      "2001-04-30 -0.56  0.2 -0.34   403.700012              20\n",
      "2001-05-31 -0.46 -0.5 -0.25   116.900002              39\n"
     ]
    }
   ],
   "source": [
    "# menampilkan dataset\n",
    "print(dataset.head())"
   ]
  },
  {
   "cell_type": "markdown",
   "metadata": {
    "id": "vHygYC21lAYF"
   },
   "source": [
    "### Studi kasus wilayah Sumatra Selatan"
   ]
  },
  {
   "cell_type": "code",
   "execution_count": 8,
   "metadata": {
    "id": "NLHR0cBblAYG"
   },
   "outputs": [
    {
     "name": "stdout",
     "output_type": "stream",
     "text": [
      "<class 'pandas.core.frame.DataFrame'>\n",
      "DatetimeIndex: 240 entries, 2001-01-31 to 2020-12-31\n",
      "Data columns (total 2 columns):\n",
      " #   Column          Non-Null Count  Dtype  \n",
      "---  ------          --------------  -----  \n",
      " 0   hotspot_sumsel  240 non-null    int64  \n",
      " 1   curah_hujan     240 non-null    float64\n",
      "dtypes: float64(1), int64(1)\n",
      "memory usage: 5.6 KB\n"
     ]
    }
   ],
   "source": [
    "# memilih area studi\n",
    "df_sumsel = dataset[[\"hotspot_sumsel\", \"curah_hujan\"]]\n",
    "df_sumsel.info()"
   ]
  },
  {
   "cell_type": "code",
   "execution_count": 9,
   "metadata": {
    "colab": {
     "base_uri": "https://localhost:8080/",
     "height": 450
    },
    "executionInfo": {
     "elapsed": 4,
     "status": "ok",
     "timestamp": 1626258927759,
     "user": {
      "displayName": "colab aji",
      "photoUrl": "",
      "userId": "15648518280582116117"
     },
     "user_tz": -420
    },
    "id": "NDmtn18olAYG",
    "outputId": "81155b7f-8f28-4380-c9d5-305d2769609c"
   },
   "outputs": [
    {
     "name": "stdout",
     "output_type": "stream",
     "text": [
      "            hotspot_sumsel  curah_hujan\n",
      "tanggal                                \n",
      "2001-01-31               3   418.600006\n",
      "2001-02-28               5   295.399994\n",
      "2001-03-31              10   360.600006\n",
      "2001-04-30              20   403.700012\n",
      "2001-05-31              39   116.900002\n"
     ]
    }
   ],
   "source": [
    "print(df_sumsel.head())"
   ]
  },
  {
   "cell_type": "code",
   "execution_count": 10,
   "metadata": {
    "id": "lkvpA74UlAYH"
   },
   "outputs": [],
   "source": [
    "# ensure all data is float\n",
    "values = df_sumsel.values\n",
    "values = values.astype('float32')"
   ]
  },
  {
   "cell_type": "markdown",
   "metadata": {
    "id": "ChnwwI0tlAYH"
   },
   "source": [
    "### Normalisasi Data"
   ]
  },
  {
   "cell_type": "code",
   "execution_count": 11,
   "metadata": {
    "id": "Fbrm4QrllAYH"
   },
   "outputs": [],
   "source": [
    "# membuat fungsi max-min scaler\n",
    "# menggunakan pustaka scikit-learn\n",
    "def normalisasi_max_min(df):\n",
    "    # memanggil fungsi max min scaler\n",
    "    hasil = preprocessing.MinMaxScaler(feature_range=(-1, 1))\n",
    "    \n",
    "    # proses max min scaler\n",
    "    hasil = hasil.fit_transform(df)\n",
    "    \n",
    "    # pengembalian nilai\n",
    "    return hasil"
   ]
  },
  {
   "cell_type": "code",
   "execution_count": 12,
   "metadata": {},
   "outputs": [],
   "source": [
    "# normalize features\n",
    "scaler = MinMaxScaler(feature_range=(-1, 1))\n",
    "scaled = scaler.fit_transform(values)"
   ]
  },
  {
   "cell_type": "code",
   "execution_count": 13,
   "metadata": {},
   "outputs": [
    {
     "data": {
      "text/plain": [
       "array([[-0.999723,  0.549573],\n",
       "       [-0.999445,  0.082464],\n",
       "       [-0.998751,  0.329668],\n",
       "       [-0.997364,  0.493081],\n",
       "       [-0.994728, -0.594313]], dtype=float32)"
      ]
     },
     "execution_count": 13,
     "metadata": {},
     "output_type": "execute_result"
    }
   ],
   "source": [
    "np.round(scaled[:5],6)"
   ]
  },
  {
   "cell_type": "markdown",
   "metadata": {
    "id": "QGGUCbtxlAYI"
   },
   "source": [
    "### Normalisasi dan Supervised learning"
   ]
  },
  {
   "cell_type": "code",
   "execution_count": 14,
   "metadata": {
    "id": "MS2tmB8llAYJ"
   },
   "outputs": [],
   "source": [
    "def series_to_supervised(data, n_in=1, n_out=1, dropnan=True):\n",
    "    n_vars = 1 if type(data) is list else data.shape[1]\n",
    "    df = pd.DataFrame(data)\n",
    "    cols, names = list(), list()\n",
    "    \n",
    "    # input sequence (t-n, ... t-1)\n",
    "    for i in range(n_in, 0, -1):\n",
    "        cols.append(df.shift(i))\n",
    "        names += [('var%d(t-%d)' % (j+1, i)) for j in range(n_vars)]\n",
    "    \n",
    "    # forecast sequence (t, t+1, ... t+n)\n",
    "    for i in range(0, n_out):\n",
    "        cols.append(df.shift(-i))\n",
    "        if i == 0:\n",
    "            names += [('var%d(t)' % (j+1)) for j in range(n_vars)]\n",
    "        else:\n",
    "            names += [('var%d(t+%d)' % (j+1, i)) for j in range(n_vars)]\n",
    "    \n",
    "    # put it all together\n",
    "    agg = pd.concat(cols, axis=1)\n",
    "    agg.columns = names\n",
    "    \n",
    "    # drop rows with NaN values\n",
    "    if dropnan:\n",
    "        agg.dropna(inplace=True)\n",
    "    \n",
    "    # return value\n",
    "    return agg"
   ]
  },
  {
   "cell_type": "code",
   "execution_count": 15,
   "metadata": {
    "id": "sO4ef4_dlAYJ"
   },
   "outputs": [],
   "source": [
    "# supervised learning\n",
    "reframed = series_to_supervised(scaled, 1, 1)"
   ]
  },
  {
   "cell_type": "code",
   "execution_count": 16,
   "metadata": {
    "id": "rwM0hrEJlAYJ"
   },
   "outputs": [],
   "source": [
    "# drop columns we don't want to predict\n",
    "reframed.drop(reframed.columns[[3]], axis=1, inplace=True)"
   ]
  },
  {
   "cell_type": "code",
   "execution_count": 17,
   "metadata": {
    "colab": {
     "base_uri": "https://localhost:8080/",
     "height": 419
    },
    "executionInfo": {
     "elapsed": 3,
     "status": "ok",
     "timestamp": 1626258939582,
     "user": {
      "displayName": "colab aji",
      "photoUrl": "",
      "userId": "15648518280582116117"
     },
     "user_tz": -420
    },
    "id": "e7cBI6cjlAYJ",
    "outputId": "d26c9baa-7d8f-40b8-a70f-3077ff3eae72"
   },
   "outputs": [],
   "source": [
    "values = reframed.values"
   ]
  },
  {
   "cell_type": "code",
   "execution_count": 18,
   "metadata": {},
   "outputs": [
    {
     "name": "stdout",
     "output_type": "stream",
     "text": [
      "   var1(t-1)  var2(t-1)   var1(t)\n",
      "1  -0.999723   0.549573 -0.999445\n",
      "2  -0.999445   0.082464 -0.998751\n",
      "3  -0.998751   0.329668 -0.997364\n",
      "4  -0.997364   0.493081 -0.994728\n",
      "5  -0.994728  -0.594313 -0.999029\n"
     ]
    }
   ],
   "source": [
    "print(reframed.head())"
   ]
  },
  {
   "cell_type": "markdown",
   "metadata": {
    "id": "uzdHWPJBlAYK"
   },
   "source": [
    "### Data latih dan Data uji"
   ]
  },
  {
   "cell_type": "code",
   "execution_count": 19,
   "metadata": {
    "id": "112zwkjllAYK"
   },
   "outputs": [],
   "source": [
    "# split into train and test sets\n",
    "train_size = int(len(values) * 0.8)\n",
    "test_size = len(values) - train_size\n",
    "train, test = values[0:train_size,:], values[train_size:len(values),:]"
   ]
  },
  {
   "cell_type": "code",
   "execution_count": 20,
   "metadata": {
    "id": "ZgWternzlAYK"
   },
   "outputs": [],
   "source": [
    "# split into input and outputs\n",
    "train_X, train_y = train[:, :-1], train[:, -1]\n",
    "test_X, test_y = test[:, :-1], test[:, -1]"
   ]
  },
  {
   "cell_type": "code",
   "execution_count": 21,
   "metadata": {
    "id": "CrpRb-ZGlAYK"
   },
   "outputs": [],
   "source": [
    "# reshape input to be 3D [samples, timesteps, features]\n",
    "train_X = train_X.reshape((train_X.shape[0], 1, train_X.shape[1]))\n",
    "test_X = test_X.reshape((test_X.shape[0], 1, test_X.shape[1]))"
   ]
  },
  {
   "cell_type": "code",
   "execution_count": 22,
   "metadata": {
    "colab": {
     "base_uri": "https://localhost:8080/"
    },
    "executionInfo": {
     "elapsed": 2,
     "status": "ok",
     "timestamp": 1626258949398,
     "user": {
      "displayName": "colab aji",
      "photoUrl": "",
      "userId": "15648518280582116117"
     },
     "user_tz": -420
    },
    "id": "cGk1fqY1lAYK",
    "outputId": "2e69741d-7616-4375-8f91-c4cdb2c34487"
   },
   "outputs": [
    {
     "name": "stdout",
     "output_type": "stream",
     "text": [
      "(191, 1, 2) (191,) (48, 1, 2) (48,)\n"
     ]
    }
   ],
   "source": [
    "print(train_X.shape, train_y.shape, test_X.shape, test_y.shape)"
   ]
  },
  {
   "cell_type": "markdown",
   "metadata": {},
   "source": [
    "### Hyperparameter GridSearchCV LTSM-RNN"
   ]
  },
  {
   "cell_type": "code",
   "execution_count": 23,
   "metadata": {},
   "outputs": [],
   "source": [
    "from keras.wrappers.scikit_learn import KerasClassifier\n",
    "from keras.wrappers.scikit_learn import KerasRegressor\n",
    "from sklearn.model_selection import GridSearchCV"
   ]
  },
  {
   "cell_type": "code",
   "execution_count": 24,
   "metadata": {},
   "outputs": [],
   "source": [
    "parameters = {'neurons' : [10],\n",
    "              'activation' : ['sigmoid', 'tanh', 'relu', 'selu', 'elu', 'softplus'],\n",
    "              'optimizer' : ['adam', 'adamax', 'rmsprop', 'sgd'],\n",
    "              'dropout_rate' : [0.05, 0.1, 0.15, 0.2, 0.25],\n",
    "              'epochs' : [2000],\n",
    "              'batch_size' : [4, 8, 16, 32, 64],\n",
    "              'verbose' : [0]}"
   ]
  },
  {
   "cell_type": "code",
   "execution_count": 25,
   "metadata": {},
   "outputs": [
    {
     "name": "stdout",
     "output_type": "stream",
     "text": [
      "600 kombinasi hyperparameter\n"
     ]
    }
   ],
   "source": [
    "keys = parameters.keys()\n",
    "values = (parameters[key] for key in keys)\n",
    "combinations = [dict(zip(keys, combination)) for combination in itertools.product(*values)]\n",
    "print(len(combinations), str('kombinasi hyperparameter'))"
   ]
  },
  {
   "cell_type": "code",
   "execution_count": 26,
   "metadata": {},
   "outputs": [],
   "source": [
    "def build_classifier(neurons='', activation='', optimizer='', dropout_rate=''):\n",
    "    tf.keras.backend.clear_session()\n",
    "    \n",
    "    # design network\n",
    "    grid_model = Sequential()\n",
    "    grid_model.add(LSTM(units=neurons, activation=activation, input_shape=(train_X.shape[1], train_X.shape[2])))\n",
    "    grid_model.add(Dropout(dropout_rate))\n",
    "    grid_model.add(Dense(1))\n",
    "\n",
    "    # model compile\n",
    "    grid_model.compile(loss='mae', optimizer=optimizer)\n",
    "    \n",
    "    # return value\n",
    "    return grid_model"
   ]
  },
  {
   "cell_type": "code",
   "execution_count": 27,
   "metadata": {},
   "outputs": [],
   "source": [
    "grid_model = KerasRegressor(build_fn=build_classifier)"
   ]
  },
  {
   "cell_type": "code",
   "execution_count": 28,
   "metadata": {},
   "outputs": [],
   "source": [
    "grid_search = GridSearchCV(estimator=grid_model, param_grid=parameters, n_jobs=-1, cv=2, scoring= 'neg_root_mean_squared_error')"
   ]
  },
  {
   "cell_type": "code",
   "execution_count": 29,
   "metadata": {},
   "outputs": [],
   "source": [
    "grid_result = grid_search.fit(train_X, train_y)"
   ]
  },
  {
   "cell_type": "code",
   "execution_count": 30,
   "metadata": {},
   "outputs": [
    {
     "name": "stdout",
     "output_type": "stream",
     "text": [
      "Best parameters: -0.197297 using {'activation': 'selu', 'batch_size': 8, 'dropout_rate': 0.25, 'epochs': 2000, 'neurons': 10, 'optimizer': 'adamax', 'verbose': 0}\n",
      "\n",
      "-0.207569 (0.052095) with: {'activation': 'sigmoid', 'batch_size': 4, 'dropout_rate': 0.05, 'epochs': 2000, 'neurons': 10, 'optimizer': 'adam', 'verbose': 0}\n",
      "-0.208077 (0.053968) with: {'activation': 'sigmoid', 'batch_size': 4, 'dropout_rate': 0.05, 'epochs': 2000, 'neurons': 10, 'optimizer': 'adamax', 'verbose': 0}\n",
      "-0.205460 (0.052661) with: {'activation': 'sigmoid', 'batch_size': 4, 'dropout_rate': 0.05, 'epochs': 2000, 'neurons': 10, 'optimizer': 'rmsprop', 'verbose': 0}\n",
      "-0.246391 (0.065619) with: {'activation': 'sigmoid', 'batch_size': 4, 'dropout_rate': 0.05, 'epochs': 2000, 'neurons': 10, 'optimizer': 'sgd', 'verbose': 0}\n",
      "-0.204129 (0.054189) with: {'activation': 'sigmoid', 'batch_size': 4, 'dropout_rate': 0.1, 'epochs': 2000, 'neurons': 10, 'optimizer': 'adam', 'verbose': 0}\n",
      "-0.208417 (0.053209) with: {'activation': 'sigmoid', 'batch_size': 4, 'dropout_rate': 0.1, 'epochs': 2000, 'neurons': 10, 'optimizer': 'adamax', 'verbose': 0}\n",
      "-0.204393 (0.054154) with: {'activation': 'sigmoid', 'batch_size': 4, 'dropout_rate': 0.1, 'epochs': 2000, 'neurons': 10, 'optimizer': 'rmsprop', 'verbose': 0}\n",
      "-0.255862 (0.069769) with: {'activation': 'sigmoid', 'batch_size': 4, 'dropout_rate': 0.1, 'epochs': 2000, 'neurons': 10, 'optimizer': 'sgd', 'verbose': 0}\n",
      "-0.205401 (0.053075) with: {'activation': 'sigmoid', 'batch_size': 4, 'dropout_rate': 0.15, 'epochs': 2000, 'neurons': 10, 'optimizer': 'adam', 'verbose': 0}\n",
      "-0.218788 (0.060806) with: {'activation': 'sigmoid', 'batch_size': 4, 'dropout_rate': 0.15, 'epochs': 2000, 'neurons': 10, 'optimizer': 'adamax', 'verbose': 0}\n",
      "-0.232740 (0.080612) with: {'activation': 'sigmoid', 'batch_size': 4, 'dropout_rate': 0.15, 'epochs': 2000, 'neurons': 10, 'optimizer': 'rmsprop', 'verbose': 0}\n",
      "-0.251418 (0.078245) with: {'activation': 'sigmoid', 'batch_size': 4, 'dropout_rate': 0.15, 'epochs': 2000, 'neurons': 10, 'optimizer': 'sgd', 'verbose': 0}\n",
      "-0.223727 (0.045894) with: {'activation': 'sigmoid', 'batch_size': 4, 'dropout_rate': 0.2, 'epochs': 2000, 'neurons': 10, 'optimizer': 'adam', 'verbose': 0}\n",
      "-0.218786 (0.061346) with: {'activation': 'sigmoid', 'batch_size': 4, 'dropout_rate': 0.2, 'epochs': 2000, 'neurons': 10, 'optimizer': 'adamax', 'verbose': 0}\n",
      "-0.233730 (0.084427) with: {'activation': 'sigmoid', 'batch_size': 4, 'dropout_rate': 0.2, 'epochs': 2000, 'neurons': 10, 'optimizer': 'rmsprop', 'verbose': 0}\n",
      "-0.256633 (0.069162) with: {'activation': 'sigmoid', 'batch_size': 4, 'dropout_rate': 0.2, 'epochs': 2000, 'neurons': 10, 'optimizer': 'sgd', 'verbose': 0}\n",
      "-0.250974 (0.070224) with: {'activation': 'sigmoid', 'batch_size': 4, 'dropout_rate': 0.25, 'epochs': 2000, 'neurons': 10, 'optimizer': 'adam', 'verbose': 0}\n",
      "-0.257827 (0.067291) with: {'activation': 'sigmoid', 'batch_size': 4, 'dropout_rate': 0.25, 'epochs': 2000, 'neurons': 10, 'optimizer': 'adamax', 'verbose': 0}\n",
      "-0.235542 (0.085025) with: {'activation': 'sigmoid', 'batch_size': 4, 'dropout_rate': 0.25, 'epochs': 2000, 'neurons': 10, 'optimizer': 'rmsprop', 'verbose': 0}\n",
      "-0.255556 (0.068229) with: {'activation': 'sigmoid', 'batch_size': 4, 'dropout_rate': 0.25, 'epochs': 2000, 'neurons': 10, 'optimizer': 'sgd', 'verbose': 0}\n",
      "-0.208020 (0.053120) with: {'activation': 'sigmoid', 'batch_size': 8, 'dropout_rate': 0.05, 'epochs': 2000, 'neurons': 10, 'optimizer': 'adam', 'verbose': 0}\n",
      "-0.223397 (0.067629) with: {'activation': 'sigmoid', 'batch_size': 8, 'dropout_rate': 0.05, 'epochs': 2000, 'neurons': 10, 'optimizer': 'adamax', 'verbose': 0}\n",
      "-0.205525 (0.053641) with: {'activation': 'sigmoid', 'batch_size': 8, 'dropout_rate': 0.05, 'epochs': 2000, 'neurons': 10, 'optimizer': 'rmsprop', 'verbose': 0}\n",
      "-0.258873 (0.065674) with: {'activation': 'sigmoid', 'batch_size': 8, 'dropout_rate': 0.05, 'epochs': 2000, 'neurons': 10, 'optimizer': 'sgd', 'verbose': 0}\n",
      "-0.208145 (0.056047) with: {'activation': 'sigmoid', 'batch_size': 8, 'dropout_rate': 0.1, 'epochs': 2000, 'neurons': 10, 'optimizer': 'adam', 'verbose': 0}\n",
      "-0.230984 (0.072123) with: {'activation': 'sigmoid', 'batch_size': 8, 'dropout_rate': 0.1, 'epochs': 2000, 'neurons': 10, 'optimizer': 'adamax', 'verbose': 0}\n",
      "-0.230685 (0.080776) with: {'activation': 'sigmoid', 'batch_size': 8, 'dropout_rate': 0.1, 'epochs': 2000, 'neurons': 10, 'optimizer': 'rmsprop', 'verbose': 0}\n",
      "-0.263918 (0.063563) with: {'activation': 'sigmoid', 'batch_size': 8, 'dropout_rate': 0.1, 'epochs': 2000, 'neurons': 10, 'optimizer': 'sgd', 'verbose': 0}\n",
      "-0.208829 (0.056698) with: {'activation': 'sigmoid', 'batch_size': 8, 'dropout_rate': 0.15, 'epochs': 2000, 'neurons': 10, 'optimizer': 'adam', 'verbose': 0}\n",
      "-0.223700 (0.056539) with: {'activation': 'sigmoid', 'batch_size': 8, 'dropout_rate': 0.15, 'epochs': 2000, 'neurons': 10, 'optimizer': 'adamax', 'verbose': 0}\n",
      "-0.233009 (0.083323) with: {'activation': 'sigmoid', 'batch_size': 8, 'dropout_rate': 0.15, 'epochs': 2000, 'neurons': 10, 'optimizer': 'rmsprop', 'verbose': 0}\n",
      "-0.266327 (0.064835) with: {'activation': 'sigmoid', 'batch_size': 8, 'dropout_rate': 0.15, 'epochs': 2000, 'neurons': 10, 'optimizer': 'sgd', 'verbose': 0}\n",
      "-0.207293 (0.057677) with: {'activation': 'sigmoid', 'batch_size': 8, 'dropout_rate': 0.2, 'epochs': 2000, 'neurons': 10, 'optimizer': 'adam', 'verbose': 0}\n",
      "-0.227982 (0.066945) with: {'activation': 'sigmoid', 'batch_size': 8, 'dropout_rate': 0.2, 'epochs': 2000, 'neurons': 10, 'optimizer': 'adamax', 'verbose': 0}\n",
      "-0.203740 (0.053623) with: {'activation': 'sigmoid', 'batch_size': 8, 'dropout_rate': 0.2, 'epochs': 2000, 'neurons': 10, 'optimizer': 'rmsprop', 'verbose': 0}\n",
      "-0.266227 (0.064186) with: {'activation': 'sigmoid', 'batch_size': 8, 'dropout_rate': 0.2, 'epochs': 2000, 'neurons': 10, 'optimizer': 'sgd', 'verbose': 0}\n",
      "-0.251832 (0.070845) with: {'activation': 'sigmoid', 'batch_size': 8, 'dropout_rate': 0.25, 'epochs': 2000, 'neurons': 10, 'optimizer': 'adam', 'verbose': 0}\n",
      "-0.244028 (0.083272) with: {'activation': 'sigmoid', 'batch_size': 8, 'dropout_rate': 0.25, 'epochs': 2000, 'neurons': 10, 'optimizer': 'adamax', 'verbose': 0}\n",
      "-0.236301 (0.086507) with: {'activation': 'sigmoid', 'batch_size': 8, 'dropout_rate': 0.25, 'epochs': 2000, 'neurons': 10, 'optimizer': 'rmsprop', 'verbose': 0}\n",
      "-0.271018 (0.064699) with: {'activation': 'sigmoid', 'batch_size': 8, 'dropout_rate': 0.25, 'epochs': 2000, 'neurons': 10, 'optimizer': 'sgd', 'verbose': 0}\n",
      "-0.224966 (0.071223) with: {'activation': 'sigmoid', 'batch_size': 16, 'dropout_rate': 0.05, 'epochs': 2000, 'neurons': 10, 'optimizer': 'adam', 'verbose': 0}\n",
      "-0.236189 (0.063076) with: {'activation': 'sigmoid', 'batch_size': 16, 'dropout_rate': 0.05, 'epochs': 2000, 'neurons': 10, 'optimizer': 'adamax', 'verbose': 0}\n",
      "-0.216420 (0.062348) with: {'activation': 'sigmoid', 'batch_size': 16, 'dropout_rate': 0.05, 'epochs': 2000, 'neurons': 10, 'optimizer': 'rmsprop', 'verbose': 0}\n",
      "-0.257719 (0.071125) with: {'activation': 'sigmoid', 'batch_size': 16, 'dropout_rate': 0.05, 'epochs': 2000, 'neurons': 10, 'optimizer': 'sgd', 'verbose': 0}\n",
      "-0.236097 (0.081987) with: {'activation': 'sigmoid', 'batch_size': 16, 'dropout_rate': 0.1, 'epochs': 2000, 'neurons': 10, 'optimizer': 'adam', 'verbose': 0}\n",
      "-0.238588 (0.065160) with: {'activation': 'sigmoid', 'batch_size': 16, 'dropout_rate': 0.1, 'epochs': 2000, 'neurons': 10, 'optimizer': 'adamax', 'verbose': 0}\n",
      "-0.205632 (0.053739) with: {'activation': 'sigmoid', 'batch_size': 16, 'dropout_rate': 0.1, 'epochs': 2000, 'neurons': 10, 'optimizer': 'rmsprop', 'verbose': 0}\n",
      "-0.263131 (0.066968) with: {'activation': 'sigmoid', 'batch_size': 16, 'dropout_rate': 0.1, 'epochs': 2000, 'neurons': 10, 'optimizer': 'sgd', 'verbose': 0}\n",
      "-0.237653 (0.083632) with: {'activation': 'sigmoid', 'batch_size': 16, 'dropout_rate': 0.15, 'epochs': 2000, 'neurons': 10, 'optimizer': 'adam', 'verbose': 0}\n",
      "-0.245093 (0.060409) with: {'activation': 'sigmoid', 'batch_size': 16, 'dropout_rate': 0.15, 'epochs': 2000, 'neurons': 10, 'optimizer': 'adamax', 'verbose': 0}\n",
      "-0.209151 (0.057608) with: {'activation': 'sigmoid', 'batch_size': 16, 'dropout_rate': 0.15, 'epochs': 2000, 'neurons': 10, 'optimizer': 'rmsprop', 'verbose': 0}\n",
      "-0.267057 (0.065432) with: {'activation': 'sigmoid', 'batch_size': 16, 'dropout_rate': 0.15, 'epochs': 2000, 'neurons': 10, 'optimizer': 'sgd', 'verbose': 0}\n",
      "-0.211874 (0.055223) with: {'activation': 'sigmoid', 'batch_size': 16, 'dropout_rate': 0.2, 'epochs': 2000, 'neurons': 10, 'optimizer': 'adam', 'verbose': 0}\n",
      "-0.253149 (0.058554) with: {'activation': 'sigmoid', 'batch_size': 16, 'dropout_rate': 0.2, 'epochs': 2000, 'neurons': 10, 'optimizer': 'adamax', 'verbose': 0}\n",
      "-0.208433 (0.056667) with: {'activation': 'sigmoid', 'batch_size': 16, 'dropout_rate': 0.2, 'epochs': 2000, 'neurons': 10, 'optimizer': 'rmsprop', 'verbose': 0}\n",
      "-0.268284 (0.064216) with: {'activation': 'sigmoid', 'batch_size': 16, 'dropout_rate': 0.2, 'epochs': 2000, 'neurons': 10, 'optimizer': 'sgd', 'verbose': 0}\n",
      "-0.239531 (0.086418) with: {'activation': 'sigmoid', 'batch_size': 16, 'dropout_rate': 0.25, 'epochs': 2000, 'neurons': 10, 'optimizer': 'adam', 'verbose': 0}\n",
      "-0.249576 (0.078425) with: {'activation': 'sigmoid', 'batch_size': 16, 'dropout_rate': 0.25, 'epochs': 2000, 'neurons': 10, 'optimizer': 'adamax', 'verbose': 0}\n",
      "-0.240046 (0.082956) with: {'activation': 'sigmoid', 'batch_size': 16, 'dropout_rate': 0.25, 'epochs': 2000, 'neurons': 10, 'optimizer': 'rmsprop', 'verbose': 0}\n",
      "-0.271596 (0.063136) with: {'activation': 'sigmoid', 'batch_size': 16, 'dropout_rate': 0.25, 'epochs': 2000, 'neurons': 10, 'optimizer': 'sgd', 'verbose': 0}\n",
      "-0.242744 (0.062840) with: {'activation': 'sigmoid', 'batch_size': 32, 'dropout_rate': 0.05, 'epochs': 2000, 'neurons': 10, 'optimizer': 'adam', 'verbose': 0}\n",
      "-0.240192 (0.059553) with: {'activation': 'sigmoid', 'batch_size': 32, 'dropout_rate': 0.05, 'epochs': 2000, 'neurons': 10, 'optimizer': 'adamax', 'verbose': 0}\n",
      "-0.227235 (0.060087) with: {'activation': 'sigmoid', 'batch_size': 32, 'dropout_rate': 0.05, 'epochs': 2000, 'neurons': 10, 'optimizer': 'rmsprop', 'verbose': 0}\n",
      "-0.252961 (0.064928) with: {'activation': 'sigmoid', 'batch_size': 32, 'dropout_rate': 0.05, 'epochs': 2000, 'neurons': 10, 'optimizer': 'sgd', 'verbose': 0}\n",
      "-0.244373 (0.079197) with: {'activation': 'sigmoid', 'batch_size': 32, 'dropout_rate': 0.1, 'epochs': 2000, 'neurons': 10, 'optimizer': 'adam', 'verbose': 0}\n",
      "-0.245972 (0.065939) with: {'activation': 'sigmoid', 'batch_size': 32, 'dropout_rate': 0.1, 'epochs': 2000, 'neurons': 10, 'optimizer': 'adamax', 'verbose': 0}\n",
      "-0.218810 (0.063620) with: {'activation': 'sigmoid', 'batch_size': 32, 'dropout_rate': 0.1, 'epochs': 2000, 'neurons': 10, 'optimizer': 'rmsprop', 'verbose': 0}\n",
      "-0.267179 (0.065790) with: {'activation': 'sigmoid', 'batch_size': 32, 'dropout_rate': 0.1, 'epochs': 2000, 'neurons': 10, 'optimizer': 'sgd', 'verbose': 0}\n",
      "-0.237982 (0.074092) with: {'activation': 'sigmoid', 'batch_size': 32, 'dropout_rate': 0.15, 'epochs': 2000, 'neurons': 10, 'optimizer': 'adam', 'verbose': 0}\n",
      "-0.251567 (0.061426) with: {'activation': 'sigmoid', 'batch_size': 32, 'dropout_rate': 0.15, 'epochs': 2000, 'neurons': 10, 'optimizer': 'adamax', 'verbose': 0}\n",
      "-0.239708 (0.084888) with: {'activation': 'sigmoid', 'batch_size': 32, 'dropout_rate': 0.15, 'epochs': 2000, 'neurons': 10, 'optimizer': 'rmsprop', 'verbose': 0}\n",
      "-0.269707 (0.064010) with: {'activation': 'sigmoid', 'batch_size': 32, 'dropout_rate': 0.15, 'epochs': 2000, 'neurons': 10, 'optimizer': 'sgd', 'verbose': 0}\n",
      "-0.254491 (0.059748) with: {'activation': 'sigmoid', 'batch_size': 32, 'dropout_rate': 0.2, 'epochs': 2000, 'neurons': 10, 'optimizer': 'adam', 'verbose': 0}\n",
      "-0.256965 (0.061955) with: {'activation': 'sigmoid', 'batch_size': 32, 'dropout_rate': 0.2, 'epochs': 2000, 'neurons': 10, 'optimizer': 'adamax', 'verbose': 0}\n",
      "-0.225017 (0.065795) with: {'activation': 'sigmoid', 'batch_size': 32, 'dropout_rate': 0.2, 'epochs': 2000, 'neurons': 10, 'optimizer': 'rmsprop', 'verbose': 0}\n",
      "-0.270293 (0.064357) with: {'activation': 'sigmoid', 'batch_size': 32, 'dropout_rate': 0.2, 'epochs': 2000, 'neurons': 10, 'optimizer': 'sgd', 'verbose': 0}\n",
      "-0.252323 (0.077069) with: {'activation': 'sigmoid', 'batch_size': 32, 'dropout_rate': 0.25, 'epochs': 2000, 'neurons': 10, 'optimizer': 'adam', 'verbose': 0}\n",
      "-0.253394 (0.066535) with: {'activation': 'sigmoid', 'batch_size': 32, 'dropout_rate': 0.25, 'epochs': 2000, 'neurons': 10, 'optimizer': 'adamax', 'verbose': 0}\n",
      "-0.243532 (0.082813) with: {'activation': 'sigmoid', 'batch_size': 32, 'dropout_rate': 0.25, 'epochs': 2000, 'neurons': 10, 'optimizer': 'rmsprop', 'verbose': 0}\n",
      "-0.271575 (0.064468) with: {'activation': 'sigmoid', 'batch_size': 32, 'dropout_rate': 0.25, 'epochs': 2000, 'neurons': 10, 'optimizer': 'sgd', 'verbose': 0}\n",
      "-0.237942 (0.058623) with: {'activation': 'sigmoid', 'batch_size': 64, 'dropout_rate': 0.05, 'epochs': 2000, 'neurons': 10, 'optimizer': 'adam', 'verbose': 0}\n",
      "-0.241788 (0.059197) with: {'activation': 'sigmoid', 'batch_size': 64, 'dropout_rate': 0.05, 'epochs': 2000, 'neurons': 10, 'optimizer': 'adamax', 'verbose': 0}\n",
      "-0.217271 (0.063209) with: {'activation': 'sigmoid', 'batch_size': 64, 'dropout_rate': 0.05, 'epochs': 2000, 'neurons': 10, 'optimizer': 'rmsprop', 'verbose': 0}\n",
      "-0.254730 (0.066178) with: {'activation': 'sigmoid', 'batch_size': 64, 'dropout_rate': 0.05, 'epochs': 2000, 'neurons': 10, 'optimizer': 'sgd', 'verbose': 0}\n",
      "-0.251812 (0.064460) with: {'activation': 'sigmoid', 'batch_size': 64, 'dropout_rate': 0.1, 'epochs': 2000, 'neurons': 10, 'optimizer': 'adam', 'verbose': 0}\n",
      "-0.242738 (0.062885) with: {'activation': 'sigmoid', 'batch_size': 64, 'dropout_rate': 0.1, 'epochs': 2000, 'neurons': 10, 'optimizer': 'adamax', 'verbose': 0}\n",
      "-0.240036 (0.056996) with: {'activation': 'sigmoid', 'batch_size': 64, 'dropout_rate': 0.1, 'epochs': 2000, 'neurons': 10, 'optimizer': 'rmsprop', 'verbose': 0}\n",
      "-0.266059 (0.065587) with: {'activation': 'sigmoid', 'batch_size': 64, 'dropout_rate': 0.1, 'epochs': 2000, 'neurons': 10, 'optimizer': 'sgd', 'verbose': 0}\n",
      "-0.256697 (0.069409) with: {'activation': 'sigmoid', 'batch_size': 64, 'dropout_rate': 0.15, 'epochs': 2000, 'neurons': 10, 'optimizer': 'adam', 'verbose': 0}\n",
      "-0.246529 (0.065388) with: {'activation': 'sigmoid', 'batch_size': 64, 'dropout_rate': 0.15, 'epochs': 2000, 'neurons': 10, 'optimizer': 'adamax', 'verbose': 0}\n",
      "-0.249082 (0.077536) with: {'activation': 'sigmoid', 'batch_size': 64, 'dropout_rate': 0.15, 'epochs': 2000, 'neurons': 10, 'optimizer': 'rmsprop', 'verbose': 0}\n",
      "-0.268832 (0.065990) with: {'activation': 'sigmoid', 'batch_size': 64, 'dropout_rate': 0.15, 'epochs': 2000, 'neurons': 10, 'optimizer': 'sgd', 'verbose': 0}\n",
      "-0.261689 (0.067537) with: {'activation': 'sigmoid', 'batch_size': 64, 'dropout_rate': 0.2, 'epochs': 2000, 'neurons': 10, 'optimizer': 'adam', 'verbose': 0}\n",
      "-0.250031 (0.067101) with: {'activation': 'sigmoid', 'batch_size': 64, 'dropout_rate': 0.2, 'epochs': 2000, 'neurons': 10, 'optimizer': 'adamax', 'verbose': 0}\n",
      "-0.260756 (0.066157) with: {'activation': 'sigmoid', 'batch_size': 64, 'dropout_rate': 0.2, 'epochs': 2000, 'neurons': 10, 'optimizer': 'rmsprop', 'verbose': 0}\n",
      "-0.271047 (0.063882) with: {'activation': 'sigmoid', 'batch_size': 64, 'dropout_rate': 0.2, 'epochs': 2000, 'neurons': 10, 'optimizer': 'sgd', 'verbose': 0}\n",
      "-0.262067 (0.066804) with: {'activation': 'sigmoid', 'batch_size': 64, 'dropout_rate': 0.25, 'epochs': 2000, 'neurons': 10, 'optimizer': 'adam', 'verbose': 0}\n",
      "-0.257052 (0.064502) with: {'activation': 'sigmoid', 'batch_size': 64, 'dropout_rate': 0.25, 'epochs': 2000, 'neurons': 10, 'optimizer': 'adamax', 'verbose': 0}\n",
      "-0.236357 (0.066807) with: {'activation': 'sigmoid', 'batch_size': 64, 'dropout_rate': 0.25, 'epochs': 2000, 'neurons': 10, 'optimizer': 'rmsprop', 'verbose': 0}\n",
      "-0.271135 (0.064365) with: {'activation': 'sigmoid', 'batch_size': 64, 'dropout_rate': 0.25, 'epochs': 2000, 'neurons': 10, 'optimizer': 'sgd', 'verbose': 0}\n",
      "-0.233484 (0.044832) with: {'activation': 'tanh', 'batch_size': 4, 'dropout_rate': 0.05, 'epochs': 2000, 'neurons': 10, 'optimizer': 'adam', 'verbose': 0}\n",
      "-0.200986 (0.045566) with: {'activation': 'tanh', 'batch_size': 4, 'dropout_rate': 0.05, 'epochs': 2000, 'neurons': 10, 'optimizer': 'adamax', 'verbose': 0}\n",
      "-0.215030 (0.036479) with: {'activation': 'tanh', 'batch_size': 4, 'dropout_rate': 0.05, 'epochs': 2000, 'neurons': 10, 'optimizer': 'rmsprop', 'verbose': 0}\n",
      "-0.205034 (0.052734) with: {'activation': 'tanh', 'batch_size': 4, 'dropout_rate': 0.05, 'epochs': 2000, 'neurons': 10, 'optimizer': 'sgd', 'verbose': 0}\n",
      "-0.219553 (0.034294) with: {'activation': 'tanh', 'batch_size': 4, 'dropout_rate': 0.1, 'epochs': 2000, 'neurons': 10, 'optimizer': 'adam', 'verbose': 0}\n",
      "-0.200339 (0.047260) with: {'activation': 'tanh', 'batch_size': 4, 'dropout_rate': 0.1, 'epochs': 2000, 'neurons': 10, 'optimizer': 'adamax', 'verbose': 0}\n",
      "-0.215316 (0.031356) with: {'activation': 'tanh', 'batch_size': 4, 'dropout_rate': 0.1, 'epochs': 2000, 'neurons': 10, 'optimizer': 'rmsprop', 'verbose': 0}\n",
      "-0.206417 (0.053623) with: {'activation': 'tanh', 'batch_size': 4, 'dropout_rate': 0.1, 'epochs': 2000, 'neurons': 10, 'optimizer': 'sgd', 'verbose': 0}\n",
      "-0.219277 (0.040330) with: {'activation': 'tanh', 'batch_size': 4, 'dropout_rate': 0.15, 'epochs': 2000, 'neurons': 10, 'optimizer': 'adam', 'verbose': 0}\n",
      "-0.201895 (0.047755) with: {'activation': 'tanh', 'batch_size': 4, 'dropout_rate': 0.15, 'epochs': 2000, 'neurons': 10, 'optimizer': 'adamax', 'verbose': 0}\n",
      "-0.212790 (0.030569) with: {'activation': 'tanh', 'batch_size': 4, 'dropout_rate': 0.15, 'epochs': 2000, 'neurons': 10, 'optimizer': 'rmsprop', 'verbose': 0}\n",
      "-0.204129 (0.055511) with: {'activation': 'tanh', 'batch_size': 4, 'dropout_rate': 0.15, 'epochs': 2000, 'neurons': 10, 'optimizer': 'sgd', 'verbose': 0}\n",
      "-0.221230 (0.037034) with: {'activation': 'tanh', 'batch_size': 4, 'dropout_rate': 0.2, 'epochs': 2000, 'neurons': 10, 'optimizer': 'adam', 'verbose': 0}\n",
      "-0.202972 (0.043898) with: {'activation': 'tanh', 'batch_size': 4, 'dropout_rate': 0.2, 'epochs': 2000, 'neurons': 10, 'optimizer': 'adamax', 'verbose': 0}\n",
      "-0.209853 (0.030031) with: {'activation': 'tanh', 'batch_size': 4, 'dropout_rate': 0.2, 'epochs': 2000, 'neurons': 10, 'optimizer': 'rmsprop', 'verbose': 0}\n",
      "-0.205318 (0.052421) with: {'activation': 'tanh', 'batch_size': 4, 'dropout_rate': 0.2, 'epochs': 2000, 'neurons': 10, 'optimizer': 'sgd', 'verbose': 0}\n",
      "-0.213765 (0.039374) with: {'activation': 'tanh', 'batch_size': 4, 'dropout_rate': 0.25, 'epochs': 2000, 'neurons': 10, 'optimizer': 'adam', 'verbose': 0}\n",
      "-0.200353 (0.049028) with: {'activation': 'tanh', 'batch_size': 4, 'dropout_rate': 0.25, 'epochs': 2000, 'neurons': 10, 'optimizer': 'adamax', 'verbose': 0}\n",
      "-0.210744 (0.034219) with: {'activation': 'tanh', 'batch_size': 4, 'dropout_rate': 0.25, 'epochs': 2000, 'neurons': 10, 'optimizer': 'rmsprop', 'verbose': 0}\n",
      "-0.202989 (0.052678) with: {'activation': 'tanh', 'batch_size': 4, 'dropout_rate': 0.25, 'epochs': 2000, 'neurons': 10, 'optimizer': 'sgd', 'verbose': 0}\n",
      "-0.210287 (0.034909) with: {'activation': 'tanh', 'batch_size': 8, 'dropout_rate': 0.05, 'epochs': 2000, 'neurons': 10, 'optimizer': 'adam', 'verbose': 0}\n",
      "-0.209000 (0.056728) with: {'activation': 'tanh', 'batch_size': 8, 'dropout_rate': 0.05, 'epochs': 2000, 'neurons': 10, 'optimizer': 'adamax', 'verbose': 0}\n",
      "-0.213183 (0.033307) with: {'activation': 'tanh', 'batch_size': 8, 'dropout_rate': 0.05, 'epochs': 2000, 'neurons': 10, 'optimizer': 'rmsprop', 'verbose': 0}\n",
      "-0.214973 (0.060323) with: {'activation': 'tanh', 'batch_size': 8, 'dropout_rate': 0.05, 'epochs': 2000, 'neurons': 10, 'optimizer': 'sgd', 'verbose': 0}\n",
      "-0.216118 (0.030144) with: {'activation': 'tanh', 'batch_size': 8, 'dropout_rate': 0.1, 'epochs': 2000, 'neurons': 10, 'optimizer': 'adam', 'verbose': 0}\n",
      "-0.202245 (0.048362) with: {'activation': 'tanh', 'batch_size': 8, 'dropout_rate': 0.1, 'epochs': 2000, 'neurons': 10, 'optimizer': 'adamax', 'verbose': 0}\n",
      "-0.215926 (0.033321) with: {'activation': 'tanh', 'batch_size': 8, 'dropout_rate': 0.1, 'epochs': 2000, 'neurons': 10, 'optimizer': 'rmsprop', 'verbose': 0}\n",
      "-0.214318 (0.058495) with: {'activation': 'tanh', 'batch_size': 8, 'dropout_rate': 0.1, 'epochs': 2000, 'neurons': 10, 'optimizer': 'sgd', 'verbose': 0}\n",
      "-0.215074 (0.036692) with: {'activation': 'tanh', 'batch_size': 8, 'dropout_rate': 0.15, 'epochs': 2000, 'neurons': 10, 'optimizer': 'adam', 'verbose': 0}\n",
      "-0.199715 (0.048834) with: {'activation': 'tanh', 'batch_size': 8, 'dropout_rate': 0.15, 'epochs': 2000, 'neurons': 10, 'optimizer': 'adamax', 'verbose': 0}\n",
      "-0.212863 (0.033830) with: {'activation': 'tanh', 'batch_size': 8, 'dropout_rate': 0.15, 'epochs': 2000, 'neurons': 10, 'optimizer': 'rmsprop', 'verbose': 0}\n",
      "-0.212304 (0.056624) with: {'activation': 'tanh', 'batch_size': 8, 'dropout_rate': 0.15, 'epochs': 2000, 'neurons': 10, 'optimizer': 'sgd', 'verbose': 0}\n",
      "-0.205497 (0.035527) with: {'activation': 'tanh', 'batch_size': 8, 'dropout_rate': 0.2, 'epochs': 2000, 'neurons': 10, 'optimizer': 'adam', 'verbose': 0}\n",
      "-0.199783 (0.048388) with: {'activation': 'tanh', 'batch_size': 8, 'dropout_rate': 0.2, 'epochs': 2000, 'neurons': 10, 'optimizer': 'adamax', 'verbose': 0}\n",
      "-0.208697 (0.032674) with: {'activation': 'tanh', 'batch_size': 8, 'dropout_rate': 0.2, 'epochs': 2000, 'neurons': 10, 'optimizer': 'rmsprop', 'verbose': 0}\n",
      "-0.211309 (0.056661) with: {'activation': 'tanh', 'batch_size': 8, 'dropout_rate': 0.2, 'epochs': 2000, 'neurons': 10, 'optimizer': 'sgd', 'verbose': 0}\n",
      "-0.209066 (0.034357) with: {'activation': 'tanh', 'batch_size': 8, 'dropout_rate': 0.25, 'epochs': 2000, 'neurons': 10, 'optimizer': 'adam', 'verbose': 0}\n",
      "-0.199011 (0.048461) with: {'activation': 'tanh', 'batch_size': 8, 'dropout_rate': 0.25, 'epochs': 2000, 'neurons': 10, 'optimizer': 'adamax', 'verbose': 0}\n",
      "-0.202829 (0.036135) with: {'activation': 'tanh', 'batch_size': 8, 'dropout_rate': 0.25, 'epochs': 2000, 'neurons': 10, 'optimizer': 'rmsprop', 'verbose': 0}\n",
      "-0.215913 (0.060055) with: {'activation': 'tanh', 'batch_size': 8, 'dropout_rate': 0.25, 'epochs': 2000, 'neurons': 10, 'optimizer': 'sgd', 'verbose': 0}\n",
      "-0.213171 (0.031302) with: {'activation': 'tanh', 'batch_size': 16, 'dropout_rate': 0.05, 'epochs': 2000, 'neurons': 10, 'optimizer': 'adam', 'verbose': 0}\n",
      "-0.208753 (0.055163) with: {'activation': 'tanh', 'batch_size': 16, 'dropout_rate': 0.05, 'epochs': 2000, 'neurons': 10, 'optimizer': 'adamax', 'verbose': 0}\n",
      "-0.203368 (0.041750) with: {'activation': 'tanh', 'batch_size': 16, 'dropout_rate': 0.05, 'epochs': 2000, 'neurons': 10, 'optimizer': 'rmsprop', 'verbose': 0}\n",
      "-0.222884 (0.063563) with: {'activation': 'tanh', 'batch_size': 16, 'dropout_rate': 0.05, 'epochs': 2000, 'neurons': 10, 'optimizer': 'sgd', 'verbose': 0}\n",
      "-0.208308 (0.037253) with: {'activation': 'tanh', 'batch_size': 16, 'dropout_rate': 0.1, 'epochs': 2000, 'neurons': 10, 'optimizer': 'adam', 'verbose': 0}\n",
      "-0.209807 (0.056073) with: {'activation': 'tanh', 'batch_size': 16, 'dropout_rate': 0.1, 'epochs': 2000, 'neurons': 10, 'optimizer': 'adamax', 'verbose': 0}\n",
      "-0.207966 (0.040101) with: {'activation': 'tanh', 'batch_size': 16, 'dropout_rate': 0.1, 'epochs': 2000, 'neurons': 10, 'optimizer': 'rmsprop', 'verbose': 0}\n",
      "-0.229418 (0.057250) with: {'activation': 'tanh', 'batch_size': 16, 'dropout_rate': 0.1, 'epochs': 2000, 'neurons': 10, 'optimizer': 'sgd', 'verbose': 0}\n",
      "-0.205817 (0.039104) with: {'activation': 'tanh', 'batch_size': 16, 'dropout_rate': 0.15, 'epochs': 2000, 'neurons': 10, 'optimizer': 'adam', 'verbose': 0}\n",
      "-0.211079 (0.056977) with: {'activation': 'tanh', 'batch_size': 16, 'dropout_rate': 0.15, 'epochs': 2000, 'neurons': 10, 'optimizer': 'adamax', 'verbose': 0}\n",
      "-0.208206 (0.037049) with: {'activation': 'tanh', 'batch_size': 16, 'dropout_rate': 0.15, 'epochs': 2000, 'neurons': 10, 'optimizer': 'rmsprop', 'verbose': 0}\n",
      "-0.231562 (0.060893) with: {'activation': 'tanh', 'batch_size': 16, 'dropout_rate': 0.15, 'epochs': 2000, 'neurons': 10, 'optimizer': 'sgd', 'verbose': 0}\n",
      "-0.207464 (0.036572) with: {'activation': 'tanh', 'batch_size': 16, 'dropout_rate': 0.2, 'epochs': 2000, 'neurons': 10, 'optimizer': 'adam', 'verbose': 0}\n",
      "-0.203556 (0.050937) with: {'activation': 'tanh', 'batch_size': 16, 'dropout_rate': 0.2, 'epochs': 2000, 'neurons': 10, 'optimizer': 'adamax', 'verbose': 0}\n",
      "-0.203307 (0.038572) with: {'activation': 'tanh', 'batch_size': 16, 'dropout_rate': 0.2, 'epochs': 2000, 'neurons': 10, 'optimizer': 'rmsprop', 'verbose': 0}\n",
      "-0.233502 (0.062847) with: {'activation': 'tanh', 'batch_size': 16, 'dropout_rate': 0.2, 'epochs': 2000, 'neurons': 10, 'optimizer': 'sgd', 'verbose': 0}\n",
      "-0.204533 (0.040604) with: {'activation': 'tanh', 'batch_size': 16, 'dropout_rate': 0.25, 'epochs': 2000, 'neurons': 10, 'optimizer': 'adam', 'verbose': 0}\n",
      "-0.205084 (0.053183) with: {'activation': 'tanh', 'batch_size': 16, 'dropout_rate': 0.25, 'epochs': 2000, 'neurons': 10, 'optimizer': 'adamax', 'verbose': 0}\n",
      "-0.202116 (0.039235) with: {'activation': 'tanh', 'batch_size': 16, 'dropout_rate': 0.25, 'epochs': 2000, 'neurons': 10, 'optimizer': 'rmsprop', 'verbose': 0}\n",
      "-0.232753 (0.059958) with: {'activation': 'tanh', 'batch_size': 16, 'dropout_rate': 0.25, 'epochs': 2000, 'neurons': 10, 'optimizer': 'sgd', 'verbose': 0}\n",
      "-0.202002 (0.050369) with: {'activation': 'tanh', 'batch_size': 32, 'dropout_rate': 0.05, 'epochs': 2000, 'neurons': 10, 'optimizer': 'adam', 'verbose': 0}\n",
      "-0.210516 (0.056660) with: {'activation': 'tanh', 'batch_size': 32, 'dropout_rate': 0.05, 'epochs': 2000, 'neurons': 10, 'optimizer': 'adamax', 'verbose': 0}\n",
      "-0.201354 (0.050265) with: {'activation': 'tanh', 'batch_size': 32, 'dropout_rate': 0.05, 'epochs': 2000, 'neurons': 10, 'optimizer': 'rmsprop', 'verbose': 0}\n",
      "-0.237807 (0.059676) with: {'activation': 'tanh', 'batch_size': 32, 'dropout_rate': 0.05, 'epochs': 2000, 'neurons': 10, 'optimizer': 'sgd', 'verbose': 0}\n",
      "-0.203570 (0.051790) with: {'activation': 'tanh', 'batch_size': 32, 'dropout_rate': 0.1, 'epochs': 2000, 'neurons': 10, 'optimizer': 'adam', 'verbose': 0}\n",
      "-0.209092 (0.054231) with: {'activation': 'tanh', 'batch_size': 32, 'dropout_rate': 0.1, 'epochs': 2000, 'neurons': 10, 'optimizer': 'adamax', 'verbose': 0}\n",
      "-0.199706 (0.046818) with: {'activation': 'tanh', 'batch_size': 32, 'dropout_rate': 0.1, 'epochs': 2000, 'neurons': 10, 'optimizer': 'rmsprop', 'verbose': 0}\n",
      "-0.240167 (0.067679) with: {'activation': 'tanh', 'batch_size': 32, 'dropout_rate': 0.1, 'epochs': 2000, 'neurons': 10, 'optimizer': 'sgd', 'verbose': 0}\n",
      "-0.202228 (0.048037) with: {'activation': 'tanh', 'batch_size': 32, 'dropout_rate': 0.15, 'epochs': 2000, 'neurons': 10, 'optimizer': 'adam', 'verbose': 0}\n",
      "-0.215090 (0.059566) with: {'activation': 'tanh', 'batch_size': 32, 'dropout_rate': 0.15, 'epochs': 2000, 'neurons': 10, 'optimizer': 'adamax', 'verbose': 0}\n",
      "-0.198999 (0.046539) with: {'activation': 'tanh', 'batch_size': 32, 'dropout_rate': 0.15, 'epochs': 2000, 'neurons': 10, 'optimizer': 'rmsprop', 'verbose': 0}\n",
      "-0.240065 (0.062355) with: {'activation': 'tanh', 'batch_size': 32, 'dropout_rate': 0.15, 'epochs': 2000, 'neurons': 10, 'optimizer': 'sgd', 'verbose': 0}\n",
      "-0.199762 (0.048682) with: {'activation': 'tanh', 'batch_size': 32, 'dropout_rate': 0.2, 'epochs': 2000, 'neurons': 10, 'optimizer': 'adam', 'verbose': 0}\n",
      "-0.218742 (0.062102) with: {'activation': 'tanh', 'batch_size': 32, 'dropout_rate': 0.2, 'epochs': 2000, 'neurons': 10, 'optimizer': 'adamax', 'verbose': 0}\n",
      "-0.202516 (0.043379) with: {'activation': 'tanh', 'batch_size': 32, 'dropout_rate': 0.2, 'epochs': 2000, 'neurons': 10, 'optimizer': 'rmsprop', 'verbose': 0}\n",
      "-0.239557 (0.065390) with: {'activation': 'tanh', 'batch_size': 32, 'dropout_rate': 0.2, 'epochs': 2000, 'neurons': 10, 'optimizer': 'sgd', 'verbose': 0}\n",
      "-0.201053 (0.049656) with: {'activation': 'tanh', 'batch_size': 32, 'dropout_rate': 0.25, 'epochs': 2000, 'neurons': 10, 'optimizer': 'adam', 'verbose': 0}\n",
      "-0.227159 (0.062831) with: {'activation': 'tanh', 'batch_size': 32, 'dropout_rate': 0.25, 'epochs': 2000, 'neurons': 10, 'optimizer': 'adamax', 'verbose': 0}\n",
      "-0.199262 (0.045173) with: {'activation': 'tanh', 'batch_size': 32, 'dropout_rate': 0.25, 'epochs': 2000, 'neurons': 10, 'optimizer': 'rmsprop', 'verbose': 0}\n",
      "-0.239404 (0.063641) with: {'activation': 'tanh', 'batch_size': 32, 'dropout_rate': 0.25, 'epochs': 2000, 'neurons': 10, 'optimizer': 'sgd', 'verbose': 0}\n",
      "-0.211975 (0.059025) with: {'activation': 'tanh', 'batch_size': 64, 'dropout_rate': 0.05, 'epochs': 2000, 'neurons': 10, 'optimizer': 'adam', 'verbose': 0}\n",
      "-0.209884 (0.057137) with: {'activation': 'tanh', 'batch_size': 64, 'dropout_rate': 0.05, 'epochs': 2000, 'neurons': 10, 'optimizer': 'adamax', 'verbose': 0}\n",
      "-0.205418 (0.052131) with: {'activation': 'tanh', 'batch_size': 64, 'dropout_rate': 0.05, 'epochs': 2000, 'neurons': 10, 'optimizer': 'rmsprop', 'verbose': 0}\n",
      "-0.239623 (0.062088) with: {'activation': 'tanh', 'batch_size': 64, 'dropout_rate': 0.05, 'epochs': 2000, 'neurons': 10, 'optimizer': 'sgd', 'verbose': 0}\n",
      "-0.212525 (0.059831) with: {'activation': 'tanh', 'batch_size': 64, 'dropout_rate': 0.1, 'epochs': 2000, 'neurons': 10, 'optimizer': 'adam', 'verbose': 0}\n",
      "-0.213124 (0.055289) with: {'activation': 'tanh', 'batch_size': 64, 'dropout_rate': 0.1, 'epochs': 2000, 'neurons': 10, 'optimizer': 'adamax', 'verbose': 0}\n",
      "-0.200314 (0.048428) with: {'activation': 'tanh', 'batch_size': 64, 'dropout_rate': 0.1, 'epochs': 2000, 'neurons': 10, 'optimizer': 'rmsprop', 'verbose': 0}\n",
      "-0.239995 (0.066592) with: {'activation': 'tanh', 'batch_size': 64, 'dropout_rate': 0.1, 'epochs': 2000, 'neurons': 10, 'optimizer': 'sgd', 'verbose': 0}\n",
      "-0.214432 (0.058660) with: {'activation': 'tanh', 'batch_size': 64, 'dropout_rate': 0.15, 'epochs': 2000, 'neurons': 10, 'optimizer': 'adam', 'verbose': 0}\n",
      "-0.222031 (0.064608) with: {'activation': 'tanh', 'batch_size': 64, 'dropout_rate': 0.15, 'epochs': 2000, 'neurons': 10, 'optimizer': 'adamax', 'verbose': 0}\n",
      "-0.200813 (0.049215) with: {'activation': 'tanh', 'batch_size': 64, 'dropout_rate': 0.15, 'epochs': 2000, 'neurons': 10, 'optimizer': 'rmsprop', 'verbose': 0}\n",
      "-0.243169 (0.061238) with: {'activation': 'tanh', 'batch_size': 64, 'dropout_rate': 0.15, 'epochs': 2000, 'neurons': 10, 'optimizer': 'sgd', 'verbose': 0}\n",
      "-0.217959 (0.064755) with: {'activation': 'tanh', 'batch_size': 64, 'dropout_rate': 0.2, 'epochs': 2000, 'neurons': 10, 'optimizer': 'adam', 'verbose': 0}\n",
      "-0.220432 (0.058500) with: {'activation': 'tanh', 'batch_size': 64, 'dropout_rate': 0.2, 'epochs': 2000, 'neurons': 10, 'optimizer': 'adamax', 'verbose': 0}\n",
      "-0.203613 (0.051854) with: {'activation': 'tanh', 'batch_size': 64, 'dropout_rate': 0.2, 'epochs': 2000, 'neurons': 10, 'optimizer': 'rmsprop', 'verbose': 0}\n",
      "-0.240657 (0.059579) with: {'activation': 'tanh', 'batch_size': 64, 'dropout_rate': 0.2, 'epochs': 2000, 'neurons': 10, 'optimizer': 'sgd', 'verbose': 0}\n",
      "-0.212529 (0.060038) with: {'activation': 'tanh', 'batch_size': 64, 'dropout_rate': 0.25, 'epochs': 2000, 'neurons': 10, 'optimizer': 'adam', 'verbose': 0}\n",
      "-0.224808 (0.059936) with: {'activation': 'tanh', 'batch_size': 64, 'dropout_rate': 0.25, 'epochs': 2000, 'neurons': 10, 'optimizer': 'adamax', 'verbose': 0}\n",
      "-0.199624 (0.049247) with: {'activation': 'tanh', 'batch_size': 64, 'dropout_rate': 0.25, 'epochs': 2000, 'neurons': 10, 'optimizer': 'rmsprop', 'verbose': 0}\n",
      "-0.248158 (0.065609) with: {'activation': 'tanh', 'batch_size': 64, 'dropout_rate': 0.25, 'epochs': 2000, 'neurons': 10, 'optimizer': 'sgd', 'verbose': 0}\n",
      "-0.226573 (0.058531) with: {'activation': 'relu', 'batch_size': 4, 'dropout_rate': 0.05, 'epochs': 2000, 'neurons': 10, 'optimizer': 'adam', 'verbose': 0}\n",
      "-0.210539 (0.051634) with: {'activation': 'relu', 'batch_size': 4, 'dropout_rate': 0.05, 'epochs': 2000, 'neurons': 10, 'optimizer': 'adamax', 'verbose': 0}\n",
      "-0.501700 (0.324495) with: {'activation': 'relu', 'batch_size': 4, 'dropout_rate': 0.05, 'epochs': 2000, 'neurons': 10, 'optimizer': 'rmsprop', 'verbose': 0}\n",
      "-0.211995 (0.035791) with: {'activation': 'relu', 'batch_size': 4, 'dropout_rate': 0.05, 'epochs': 2000, 'neurons': 10, 'optimizer': 'sgd', 'verbose': 0}\n",
      "-0.662419 (0.485216) with: {'activation': 'relu', 'batch_size': 4, 'dropout_rate': 0.1, 'epochs': 2000, 'neurons': 10, 'optimizer': 'adam', 'verbose': 0}\n",
      "-0.334173 (0.159895) with: {'activation': 'relu', 'batch_size': 4, 'dropout_rate': 0.1, 'epochs': 2000, 'neurons': 10, 'optimizer': 'adamax', 'verbose': 0}\n",
      "-0.456327 (0.284391) with: {'activation': 'relu', 'batch_size': 4, 'dropout_rate': 0.1, 'epochs': 2000, 'neurons': 10, 'optimizer': 'rmsprop', 'verbose': 0}\n",
      "-0.211739 (0.043803) with: {'activation': 'relu', 'batch_size': 4, 'dropout_rate': 0.1, 'epochs': 2000, 'neurons': 10, 'optimizer': 'sgd', 'verbose': 0}\n",
      "-0.235017 (0.053097) with: {'activation': 'relu', 'batch_size': 4, 'dropout_rate': 0.15, 'epochs': 2000, 'neurons': 10, 'optimizer': 'adam', 'verbose': 0}\n",
      "-0.378216 (0.198779) with: {'activation': 'relu', 'batch_size': 4, 'dropout_rate': 0.15, 'epochs': 2000, 'neurons': 10, 'optimizer': 'adamax', 'verbose': 0}\n",
      "-0.398116 (0.229116) with: {'activation': 'relu', 'batch_size': 4, 'dropout_rate': 0.15, 'epochs': 2000, 'neurons': 10, 'optimizer': 'rmsprop', 'verbose': 0}\n",
      "-0.211735 (0.039758) with: {'activation': 'relu', 'batch_size': 4, 'dropout_rate': 0.15, 'epochs': 2000, 'neurons': 10, 'optimizer': 'sgd', 'verbose': 0}\n",
      "-0.452402 (0.281598) with: {'activation': 'relu', 'batch_size': 4, 'dropout_rate': 0.2, 'epochs': 2000, 'neurons': 10, 'optimizer': 'adam', 'verbose': 0}\n",
      "-0.217091 (0.062060) with: {'activation': 'relu', 'batch_size': 4, 'dropout_rate': 0.2, 'epochs': 2000, 'neurons': 10, 'optimizer': 'adamax', 'verbose': 0}\n",
      "-0.323151 (0.163210) with: {'activation': 'relu', 'batch_size': 4, 'dropout_rate': 0.2, 'epochs': 2000, 'neurons': 10, 'optimizer': 'rmsprop', 'verbose': 0}\n",
      "-0.213061 (0.046414) with: {'activation': 'relu', 'batch_size': 4, 'dropout_rate': 0.2, 'epochs': 2000, 'neurons': 10, 'optimizer': 'sgd', 'verbose': 0}\n",
      "-0.378927 (0.207108) with: {'activation': 'relu', 'batch_size': 4, 'dropout_rate': 0.25, 'epochs': 2000, 'neurons': 10, 'optimizer': 'adam', 'verbose': 0}\n",
      "-0.219941 (0.059650) with: {'activation': 'relu', 'batch_size': 4, 'dropout_rate': 0.25, 'epochs': 2000, 'neurons': 10, 'optimizer': 'adamax', 'verbose': 0}\n",
      "-0.238418 (0.054204) with: {'activation': 'relu', 'batch_size': 4, 'dropout_rate': 0.25, 'epochs': 2000, 'neurons': 10, 'optimizer': 'rmsprop', 'verbose': 0}\n",
      "-0.211350 (0.047678) with: {'activation': 'relu', 'batch_size': 4, 'dropout_rate': 0.25, 'epochs': 2000, 'neurons': 10, 'optimizer': 'sgd', 'verbose': 0}\n",
      "-0.272195 (0.081200) with: {'activation': 'relu', 'batch_size': 8, 'dropout_rate': 0.05, 'epochs': 2000, 'neurons': 10, 'optimizer': 'adam', 'verbose': 0}\n",
      "-0.285403 (0.121596) with: {'activation': 'relu', 'batch_size': 8, 'dropout_rate': 0.05, 'epochs': 2000, 'neurons': 10, 'optimizer': 'adamax', 'verbose': 0}\n",
      "-0.406866 (0.233239) with: {'activation': 'relu', 'batch_size': 8, 'dropout_rate': 0.05, 'epochs': 2000, 'neurons': 10, 'optimizer': 'rmsprop', 'verbose': 0}\n",
      "-0.205535 (0.052774) with: {'activation': 'relu', 'batch_size': 8, 'dropout_rate': 0.05, 'epochs': 2000, 'neurons': 10, 'optimizer': 'sgd', 'verbose': 0}\n",
      "-0.228032 (0.056357) with: {'activation': 'relu', 'batch_size': 8, 'dropout_rate': 0.1, 'epochs': 2000, 'neurons': 10, 'optimizer': 'adam', 'verbose': 0}\n",
      "-0.269036 (0.096527) with: {'activation': 'relu', 'batch_size': 8, 'dropout_rate': 0.1, 'epochs': 2000, 'neurons': 10, 'optimizer': 'adamax', 'verbose': 0}\n",
      "-0.457167 (0.281615) with: {'activation': 'relu', 'batch_size': 8, 'dropout_rate': 0.1, 'epochs': 2000, 'neurons': 10, 'optimizer': 'rmsprop', 'verbose': 0}\n",
      "-0.206895 (0.045445) with: {'activation': 'relu', 'batch_size': 8, 'dropout_rate': 0.1, 'epochs': 2000, 'neurons': 10, 'optimizer': 'sgd', 'verbose': 0}\n",
      "-0.233869 (0.062004) with: {'activation': 'relu', 'batch_size': 8, 'dropout_rate': 0.15, 'epochs': 2000, 'neurons': 10, 'optimizer': 'adam', 'verbose': 0}\n",
      "-0.239821 (0.075136) with: {'activation': 'relu', 'batch_size': 8, 'dropout_rate': 0.15, 'epochs': 2000, 'neurons': 10, 'optimizer': 'adamax', 'verbose': 0}\n",
      "-0.231705 (0.055105) with: {'activation': 'relu', 'batch_size': 8, 'dropout_rate': 0.15, 'epochs': 2000, 'neurons': 10, 'optimizer': 'rmsprop', 'verbose': 0}\n",
      "-0.213392 (0.050779) with: {'activation': 'relu', 'batch_size': 8, 'dropout_rate': 0.15, 'epochs': 2000, 'neurons': 10, 'optimizer': 'sgd', 'verbose': 0}\n",
      "-0.407767 (0.248976) with: {'activation': 'relu', 'batch_size': 8, 'dropout_rate': 0.2, 'epochs': 2000, 'neurons': 10, 'optimizer': 'adam', 'verbose': 0}\n",
      "-0.237997 (0.080870) with: {'activation': 'relu', 'batch_size': 8, 'dropout_rate': 0.2, 'epochs': 2000, 'neurons': 10, 'optimizer': 'adamax', 'verbose': 0}\n",
      "-0.239940 (0.081880) with: {'activation': 'relu', 'batch_size': 8, 'dropout_rate': 0.2, 'epochs': 2000, 'neurons': 10, 'optimizer': 'rmsprop', 'verbose': 0}\n",
      "-0.204307 (0.050537) with: {'activation': 'relu', 'batch_size': 8, 'dropout_rate': 0.2, 'epochs': 2000, 'neurons': 10, 'optimizer': 'sgd', 'verbose': 0}\n",
      "-0.256623 (0.065398) with: {'activation': 'relu', 'batch_size': 8, 'dropout_rate': 0.25, 'epochs': 2000, 'neurons': 10, 'optimizer': 'adam', 'verbose': 0}\n",
      "-0.265825 (0.071510) with: {'activation': 'relu', 'batch_size': 8, 'dropout_rate': 0.25, 'epochs': 2000, 'neurons': 10, 'optimizer': 'adamax', 'verbose': 0}\n",
      "-0.229740 (0.066222) with: {'activation': 'relu', 'batch_size': 8, 'dropout_rate': 0.25, 'epochs': 2000, 'neurons': 10, 'optimizer': 'rmsprop', 'verbose': 0}\n",
      "-0.211777 (0.050586) with: {'activation': 'relu', 'batch_size': 8, 'dropout_rate': 0.25, 'epochs': 2000, 'neurons': 10, 'optimizer': 'sgd', 'verbose': 0}\n",
      "-0.229679 (0.048029) with: {'activation': 'relu', 'batch_size': 16, 'dropout_rate': 0.05, 'epochs': 2000, 'neurons': 10, 'optimizer': 'adam', 'verbose': 0}\n",
      "-0.269392 (0.111170) with: {'activation': 'relu', 'batch_size': 16, 'dropout_rate': 0.05, 'epochs': 2000, 'neurons': 10, 'optimizer': 'adamax', 'verbose': 0}\n",
      "-0.267048 (0.106230) with: {'activation': 'relu', 'batch_size': 16, 'dropout_rate': 0.05, 'epochs': 2000, 'neurons': 10, 'optimizer': 'rmsprop', 'verbose': 0}\n",
      "-0.224225 (0.069653) with: {'activation': 'relu', 'batch_size': 16, 'dropout_rate': 0.05, 'epochs': 2000, 'neurons': 10, 'optimizer': 'sgd', 'verbose': 0}\n",
      "-0.229207 (0.058948) with: {'activation': 'relu', 'batch_size': 16, 'dropout_rate': 0.1, 'epochs': 2000, 'neurons': 10, 'optimizer': 'adam', 'verbose': 0}\n",
      "-0.214132 (0.057224) with: {'activation': 'relu', 'batch_size': 16, 'dropout_rate': 0.1, 'epochs': 2000, 'neurons': 10, 'optimizer': 'adamax', 'verbose': 0}\n",
      "-0.416014 (0.249783) with: {'activation': 'relu', 'batch_size': 16, 'dropout_rate': 0.1, 'epochs': 2000, 'neurons': 10, 'optimizer': 'rmsprop', 'verbose': 0}\n",
      "-0.231172 (0.065168) with: {'activation': 'relu', 'batch_size': 16, 'dropout_rate': 0.1, 'epochs': 2000, 'neurons': 10, 'optimizer': 'sgd', 'verbose': 0}\n",
      "-0.263930 (0.097270) with: {'activation': 'relu', 'batch_size': 16, 'dropout_rate': 0.15, 'epochs': 2000, 'neurons': 10, 'optimizer': 'adam', 'verbose': 0}\n",
      "-0.227460 (0.053837) with: {'activation': 'relu', 'batch_size': 16, 'dropout_rate': 0.15, 'epochs': 2000, 'neurons': 10, 'optimizer': 'adamax', 'verbose': 0}\n",
      "-0.245971 (0.080375) with: {'activation': 'relu', 'batch_size': 16, 'dropout_rate': 0.15, 'epochs': 2000, 'neurons': 10, 'optimizer': 'rmsprop', 'verbose': 0}\n",
      "-0.232192 (0.079094) with: {'activation': 'relu', 'batch_size': 16, 'dropout_rate': 0.15, 'epochs': 2000, 'neurons': 10, 'optimizer': 'sgd', 'verbose': 0}\n",
      "-0.228881 (0.059850) with: {'activation': 'relu', 'batch_size': 16, 'dropout_rate': 0.2, 'epochs': 2000, 'neurons': 10, 'optimizer': 'adam', 'verbose': 0}\n",
      "-0.226683 (0.067446) with: {'activation': 'relu', 'batch_size': 16, 'dropout_rate': 0.2, 'epochs': 2000, 'neurons': 10, 'optimizer': 'adamax', 'verbose': 0}\n",
      "-0.356372 (0.186684) with: {'activation': 'relu', 'batch_size': 16, 'dropout_rate': 0.2, 'epochs': 2000, 'neurons': 10, 'optimizer': 'rmsprop', 'verbose': 0}\n",
      "-0.213200 (0.056612) with: {'activation': 'relu', 'batch_size': 16, 'dropout_rate': 0.2, 'epochs': 2000, 'neurons': 10, 'optimizer': 'sgd', 'verbose': 0}\n",
      "-0.226060 (0.064482) with: {'activation': 'relu', 'batch_size': 16, 'dropout_rate': 0.25, 'epochs': 2000, 'neurons': 10, 'optimizer': 'adam', 'verbose': 0}\n",
      "-0.227959 (0.037357) with: {'activation': 'relu', 'batch_size': 16, 'dropout_rate': 0.25, 'epochs': 2000, 'neurons': 10, 'optimizer': 'adamax', 'verbose': 0}\n",
      "-0.326774 (0.163192) with: {'activation': 'relu', 'batch_size': 16, 'dropout_rate': 0.25, 'epochs': 2000, 'neurons': 10, 'optimizer': 'rmsprop', 'verbose': 0}\n",
      "-0.223310 (0.067200) with: {'activation': 'relu', 'batch_size': 16, 'dropout_rate': 0.25, 'epochs': 2000, 'neurons': 10, 'optimizer': 'sgd', 'verbose': 0}\n",
      "-0.220214 (0.058920) with: {'activation': 'relu', 'batch_size': 32, 'dropout_rate': 0.05, 'epochs': 2000, 'neurons': 10, 'optimizer': 'adam', 'verbose': 0}\n",
      "-0.280845 (0.123043) with: {'activation': 'relu', 'batch_size': 32, 'dropout_rate': 0.05, 'epochs': 2000, 'neurons': 10, 'optimizer': 'adamax', 'verbose': 0}\n",
      "-0.224736 (0.050808) with: {'activation': 'relu', 'batch_size': 32, 'dropout_rate': 0.05, 'epochs': 2000, 'neurons': 10, 'optimizer': 'rmsprop', 'verbose': 0}\n",
      "-0.228395 (0.063095) with: {'activation': 'relu', 'batch_size': 32, 'dropout_rate': 0.05, 'epochs': 2000, 'neurons': 10, 'optimizer': 'sgd', 'verbose': 0}\n",
      "-0.236984 (0.067230) with: {'activation': 'relu', 'batch_size': 32, 'dropout_rate': 0.1, 'epochs': 2000, 'neurons': 10, 'optimizer': 'adam', 'verbose': 0}\n",
      "-0.215150 (0.047568) with: {'activation': 'relu', 'batch_size': 32, 'dropout_rate': 0.1, 'epochs': 2000, 'neurons': 10, 'optimizer': 'adamax', 'verbose': 0}\n",
      "-0.226255 (0.055786) with: {'activation': 'relu', 'batch_size': 32, 'dropout_rate': 0.1, 'epochs': 2000, 'neurons': 10, 'optimizer': 'rmsprop', 'verbose': 0}\n",
      "-0.242786 (0.072517) with: {'activation': 'relu', 'batch_size': 32, 'dropout_rate': 0.1, 'epochs': 2000, 'neurons': 10, 'optimizer': 'sgd', 'verbose': 0}\n",
      "-0.394371 (0.206639) with: {'activation': 'relu', 'batch_size': 32, 'dropout_rate': 0.15, 'epochs': 2000, 'neurons': 10, 'optimizer': 'adam', 'verbose': 0}\n",
      "-0.241143 (0.083083) with: {'activation': 'relu', 'batch_size': 32, 'dropout_rate': 0.15, 'epochs': 2000, 'neurons': 10, 'optimizer': 'adamax', 'verbose': 0}\n",
      "-0.320979 (0.143341) with: {'activation': 'relu', 'batch_size': 32, 'dropout_rate': 0.15, 'epochs': 2000, 'neurons': 10, 'optimizer': 'rmsprop', 'verbose': 0}\n",
      "-0.240448 (0.069252) with: {'activation': 'relu', 'batch_size': 32, 'dropout_rate': 0.15, 'epochs': 2000, 'neurons': 10, 'optimizer': 'sgd', 'verbose': 0}\n",
      "-0.236730 (0.048897) with: {'activation': 'relu', 'batch_size': 32, 'dropout_rate': 0.2, 'epochs': 2000, 'neurons': 10, 'optimizer': 'adam', 'verbose': 0}\n",
      "-0.242710 (0.063261) with: {'activation': 'relu', 'batch_size': 32, 'dropout_rate': 0.2, 'epochs': 2000, 'neurons': 10, 'optimizer': 'adamax', 'verbose': 0}\n",
      "-0.230921 (0.049079) with: {'activation': 'relu', 'batch_size': 32, 'dropout_rate': 0.2, 'epochs': 2000, 'neurons': 10, 'optimizer': 'rmsprop', 'verbose': 0}\n",
      "-0.238243 (0.076459) with: {'activation': 'relu', 'batch_size': 32, 'dropout_rate': 0.2, 'epochs': 2000, 'neurons': 10, 'optimizer': 'sgd', 'verbose': 0}\n",
      "-0.342640 (0.178628) with: {'activation': 'relu', 'batch_size': 32, 'dropout_rate': 0.25, 'epochs': 2000, 'neurons': 10, 'optimizer': 'adam', 'verbose': 0}\n",
      "-0.243424 (0.085207) with: {'activation': 'relu', 'batch_size': 32, 'dropout_rate': 0.25, 'epochs': 2000, 'neurons': 10, 'optimizer': 'adamax', 'verbose': 0}\n",
      "-0.241352 (0.078662) with: {'activation': 'relu', 'batch_size': 32, 'dropout_rate': 0.25, 'epochs': 2000, 'neurons': 10, 'optimizer': 'rmsprop', 'verbose': 0}\n",
      "-0.235454 (0.061327) with: {'activation': 'relu', 'batch_size': 32, 'dropout_rate': 0.25, 'epochs': 2000, 'neurons': 10, 'optimizer': 'sgd', 'verbose': 0}\n",
      "-0.394823 (0.232404) with: {'activation': 'relu', 'batch_size': 64, 'dropout_rate': 0.05, 'epochs': 2000, 'neurons': 10, 'optimizer': 'adam', 'verbose': 0}\n",
      "-0.217792 (0.060792) with: {'activation': 'relu', 'batch_size': 64, 'dropout_rate': 0.05, 'epochs': 2000, 'neurons': 10, 'optimizer': 'adamax', 'verbose': 0}\n",
      "-0.272283 (0.107887) with: {'activation': 'relu', 'batch_size': 64, 'dropout_rate': 0.05, 'epochs': 2000, 'neurons': 10, 'optimizer': 'rmsprop', 'verbose': 0}\n",
      "-0.242141 (0.072170) with: {'activation': 'relu', 'batch_size': 64, 'dropout_rate': 0.05, 'epochs': 2000, 'neurons': 10, 'optimizer': 'sgd', 'verbose': 0}\n",
      "-0.264660 (0.089474) with: {'activation': 'relu', 'batch_size': 64, 'dropout_rate': 0.1, 'epochs': 2000, 'neurons': 10, 'optimizer': 'adam', 'verbose': 0}\n",
      "-0.238367 (0.082948) with: {'activation': 'relu', 'batch_size': 64, 'dropout_rate': 0.1, 'epochs': 2000, 'neurons': 10, 'optimizer': 'adamax', 'verbose': 0}\n",
      "-0.382270 (0.208048) with: {'activation': 'relu', 'batch_size': 64, 'dropout_rate': 0.1, 'epochs': 2000, 'neurons': 10, 'optimizer': 'rmsprop', 'verbose': 0}\n",
      "-0.248481 (0.056797) with: {'activation': 'relu', 'batch_size': 64, 'dropout_rate': 0.1, 'epochs': 2000, 'neurons': 10, 'optimizer': 'sgd', 'verbose': 0}\n",
      "-0.231956 (0.058082) with: {'activation': 'relu', 'batch_size': 64, 'dropout_rate': 0.15, 'epochs': 2000, 'neurons': 10, 'optimizer': 'adam', 'verbose': 0}\n",
      "-0.221438 (0.060619) with: {'activation': 'relu', 'batch_size': 64, 'dropout_rate': 0.15, 'epochs': 2000, 'neurons': 10, 'optimizer': 'adamax', 'verbose': 0}\n",
      "-0.386642 (0.205349) with: {'activation': 'relu', 'batch_size': 64, 'dropout_rate': 0.15, 'epochs': 2000, 'neurons': 10, 'optimizer': 'rmsprop', 'verbose': 0}\n",
      "-0.252971 (0.067882) with: {'activation': 'relu', 'batch_size': 64, 'dropout_rate': 0.15, 'epochs': 2000, 'neurons': 10, 'optimizer': 'sgd', 'verbose': 0}\n",
      "-0.327746 (0.136597) with: {'activation': 'relu', 'batch_size': 64, 'dropout_rate': 0.2, 'epochs': 2000, 'neurons': 10, 'optimizer': 'adam', 'verbose': 0}\n",
      "-0.244536 (0.061013) with: {'activation': 'relu', 'batch_size': 64, 'dropout_rate': 0.2, 'epochs': 2000, 'neurons': 10, 'optimizer': 'adamax', 'verbose': 0}\n",
      "-0.252200 (0.085512) with: {'activation': 'relu', 'batch_size': 64, 'dropout_rate': 0.2, 'epochs': 2000, 'neurons': 10, 'optimizer': 'rmsprop', 'verbose': 0}\n",
      "-0.246771 (0.070264) with: {'activation': 'relu', 'batch_size': 64, 'dropout_rate': 0.2, 'epochs': 2000, 'neurons': 10, 'optimizer': 'sgd', 'verbose': 0}\n",
      "-0.223543 (0.059185) with: {'activation': 'relu', 'batch_size': 64, 'dropout_rate': 0.25, 'epochs': 2000, 'neurons': 10, 'optimizer': 'adam', 'verbose': 0}\n",
      "-0.252939 (0.076168) with: {'activation': 'relu', 'batch_size': 64, 'dropout_rate': 0.25, 'epochs': 2000, 'neurons': 10, 'optimizer': 'adamax', 'verbose': 0}\n",
      "-0.220127 (0.058330) with: {'activation': 'relu', 'batch_size': 64, 'dropout_rate': 0.25, 'epochs': 2000, 'neurons': 10, 'optimizer': 'rmsprop', 'verbose': 0}\n",
      "-0.244031 (0.073469) with: {'activation': 'relu', 'batch_size': 64, 'dropout_rate': 0.25, 'epochs': 2000, 'neurons': 10, 'optimizer': 'sgd', 'verbose': 0}\n",
      "-0.214837 (0.046212) with: {'activation': 'selu', 'batch_size': 4, 'dropout_rate': 0.05, 'epochs': 2000, 'neurons': 10, 'optimizer': 'adam', 'verbose': 0}\n",
      "-0.204285 (0.045840) with: {'activation': 'selu', 'batch_size': 4, 'dropout_rate': 0.05, 'epochs': 2000, 'neurons': 10, 'optimizer': 'adamax', 'verbose': 0}\n",
      "-0.219164 (0.035894) with: {'activation': 'selu', 'batch_size': 4, 'dropout_rate': 0.05, 'epochs': 2000, 'neurons': 10, 'optimizer': 'rmsprop', 'verbose': 0}\n",
      "-0.201768 (0.053472) with: {'activation': 'selu', 'batch_size': 4, 'dropout_rate': 0.05, 'epochs': 2000, 'neurons': 10, 'optimizer': 'sgd', 'verbose': 0}\n",
      "-0.250841 (0.082702) with: {'activation': 'selu', 'batch_size': 4, 'dropout_rate': 0.1, 'epochs': 2000, 'neurons': 10, 'optimizer': 'adam', 'verbose': 0}\n",
      "-0.202833 (0.044442) with: {'activation': 'selu', 'batch_size': 4, 'dropout_rate': 0.1, 'epochs': 2000, 'neurons': 10, 'optimizer': 'adamax', 'verbose': 0}\n",
      "-0.214222 (0.032193) with: {'activation': 'selu', 'batch_size': 4, 'dropout_rate': 0.1, 'epochs': 2000, 'neurons': 10, 'optimizer': 'rmsprop', 'verbose': 0}\n",
      "-0.200324 (0.051477) with: {'activation': 'selu', 'batch_size': 4, 'dropout_rate': 0.1, 'epochs': 2000, 'neurons': 10, 'optimizer': 'sgd', 'verbose': 0}\n",
      "-0.248111 (0.073529) with: {'activation': 'selu', 'batch_size': 4, 'dropout_rate': 0.15, 'epochs': 2000, 'neurons': 10, 'optimizer': 'adam', 'verbose': 0}\n",
      "-0.205476 (0.042606) with: {'activation': 'selu', 'batch_size': 4, 'dropout_rate': 0.15, 'epochs': 2000, 'neurons': 10, 'optimizer': 'adamax', 'verbose': 0}\n",
      "-0.221742 (0.035618) with: {'activation': 'selu', 'batch_size': 4, 'dropout_rate': 0.15, 'epochs': 2000, 'neurons': 10, 'optimizer': 'rmsprop', 'verbose': 0}\n",
      "-0.203910 (0.053904) with: {'activation': 'selu', 'batch_size': 4, 'dropout_rate': 0.15, 'epochs': 2000, 'neurons': 10, 'optimizer': 'sgd', 'verbose': 0}\n",
      "-0.233753 (0.065766) with: {'activation': 'selu', 'batch_size': 4, 'dropout_rate': 0.2, 'epochs': 2000, 'neurons': 10, 'optimizer': 'adam', 'verbose': 0}\n",
      "-0.200694 (0.045523) with: {'activation': 'selu', 'batch_size': 4, 'dropout_rate': 0.2, 'epochs': 2000, 'neurons': 10, 'optimizer': 'adamax', 'verbose': 0}\n",
      "-0.209098 (0.035797) with: {'activation': 'selu', 'batch_size': 4, 'dropout_rate': 0.2, 'epochs': 2000, 'neurons': 10, 'optimizer': 'rmsprop', 'verbose': 0}\n",
      "-0.201597 (0.053677) with: {'activation': 'selu', 'batch_size': 4, 'dropout_rate': 0.2, 'epochs': 2000, 'neurons': 10, 'optimizer': 'sgd', 'verbose': 0}\n",
      "-0.205898 (0.035743) with: {'activation': 'selu', 'batch_size': 4, 'dropout_rate': 0.25, 'epochs': 2000, 'neurons': 10, 'optimizer': 'adam', 'verbose': 0}\n",
      "-0.201148 (0.046591) with: {'activation': 'selu', 'batch_size': 4, 'dropout_rate': 0.25, 'epochs': 2000, 'neurons': 10, 'optimizer': 'adamax', 'verbose': 0}\n",
      "-0.205029 (0.033817) with: {'activation': 'selu', 'batch_size': 4, 'dropout_rate': 0.25, 'epochs': 2000, 'neurons': 10, 'optimizer': 'rmsprop', 'verbose': 0}\n",
      "-0.202406 (0.056020) with: {'activation': 'selu', 'batch_size': 4, 'dropout_rate': 0.25, 'epochs': 2000, 'neurons': 10, 'optimizer': 'sgd', 'verbose': 0}\n",
      "-0.217440 (0.032975) with: {'activation': 'selu', 'batch_size': 8, 'dropout_rate': 0.05, 'epochs': 2000, 'neurons': 10, 'optimizer': 'adam', 'verbose': 0}\n",
      "-0.204306 (0.050822) with: {'activation': 'selu', 'batch_size': 8, 'dropout_rate': 0.05, 'epochs': 2000, 'neurons': 10, 'optimizer': 'adamax', 'verbose': 0}\n",
      "-0.217095 (0.028736) with: {'activation': 'selu', 'batch_size': 8, 'dropout_rate': 0.05, 'epochs': 2000, 'neurons': 10, 'optimizer': 'rmsprop', 'verbose': 0}\n",
      "-0.206015 (0.050069) with: {'activation': 'selu', 'batch_size': 8, 'dropout_rate': 0.05, 'epochs': 2000, 'neurons': 10, 'optimizer': 'sgd', 'verbose': 0}\n",
      "-0.232250 (0.055170) with: {'activation': 'selu', 'batch_size': 8, 'dropout_rate': 0.1, 'epochs': 2000, 'neurons': 10, 'optimizer': 'adam', 'verbose': 0}\n",
      "-0.200779 (0.048564) with: {'activation': 'selu', 'batch_size': 8, 'dropout_rate': 0.1, 'epochs': 2000, 'neurons': 10, 'optimizer': 'adamax', 'verbose': 0}\n",
      "-0.211284 (0.037113) with: {'activation': 'selu', 'batch_size': 8, 'dropout_rate': 0.1, 'epochs': 2000, 'neurons': 10, 'optimizer': 'rmsprop', 'verbose': 0}\n",
      "-0.204265 (0.051816) with: {'activation': 'selu', 'batch_size': 8, 'dropout_rate': 0.1, 'epochs': 2000, 'neurons': 10, 'optimizer': 'sgd', 'verbose': 0}\n",
      "-0.213032 (0.036751) with: {'activation': 'selu', 'batch_size': 8, 'dropout_rate': 0.15, 'epochs': 2000, 'neurons': 10, 'optimizer': 'adam', 'verbose': 0}\n",
      "-0.200668 (0.047723) with: {'activation': 'selu', 'batch_size': 8, 'dropout_rate': 0.15, 'epochs': 2000, 'neurons': 10, 'optimizer': 'adamax', 'verbose': 0}\n",
      "-0.214809 (0.036813) with: {'activation': 'selu', 'batch_size': 8, 'dropout_rate': 0.15, 'epochs': 2000, 'neurons': 10, 'optimizer': 'rmsprop', 'verbose': 0}\n",
      "-0.208510 (0.054871) with: {'activation': 'selu', 'batch_size': 8, 'dropout_rate': 0.15, 'epochs': 2000, 'neurons': 10, 'optimizer': 'sgd', 'verbose': 0}\n",
      "-0.223909 (0.049137) with: {'activation': 'selu', 'batch_size': 8, 'dropout_rate': 0.2, 'epochs': 2000, 'neurons': 10, 'optimizer': 'adam', 'verbose': 0}\n",
      "-0.204621 (0.044294) with: {'activation': 'selu', 'batch_size': 8, 'dropout_rate': 0.2, 'epochs': 2000, 'neurons': 10, 'optimizer': 'adamax', 'verbose': 0}\n",
      "-0.210446 (0.036434) with: {'activation': 'selu', 'batch_size': 8, 'dropout_rate': 0.2, 'epochs': 2000, 'neurons': 10, 'optimizer': 'rmsprop', 'verbose': 0}\n",
      "-0.204109 (0.055325) with: {'activation': 'selu', 'batch_size': 8, 'dropout_rate': 0.2, 'epochs': 2000, 'neurons': 10, 'optimizer': 'sgd', 'verbose': 0}\n",
      "-0.209839 (0.037085) with: {'activation': 'selu', 'batch_size': 8, 'dropout_rate': 0.25, 'epochs': 2000, 'neurons': 10, 'optimizer': 'adam', 'verbose': 0}\n",
      "-0.197297 (0.050173) with: {'activation': 'selu', 'batch_size': 8, 'dropout_rate': 0.25, 'epochs': 2000, 'neurons': 10, 'optimizer': 'adamax', 'verbose': 0}\n",
      "-0.210160 (0.035333) with: {'activation': 'selu', 'batch_size': 8, 'dropout_rate': 0.25, 'epochs': 2000, 'neurons': 10, 'optimizer': 'rmsprop', 'verbose': 0}\n",
      "-0.206953 (0.055033) with: {'activation': 'selu', 'batch_size': 8, 'dropout_rate': 0.25, 'epochs': 2000, 'neurons': 10, 'optimizer': 'sgd', 'verbose': 0}\n",
      "-0.217975 (0.034629) with: {'activation': 'selu', 'batch_size': 16, 'dropout_rate': 0.05, 'epochs': 2000, 'neurons': 10, 'optimizer': 'adam', 'verbose': 0}\n",
      "-0.208193 (0.053870) with: {'activation': 'selu', 'batch_size': 16, 'dropout_rate': 0.05, 'epochs': 2000, 'neurons': 10, 'optimizer': 'adamax', 'verbose': 0}\n",
      "-0.213535 (0.038098) with: {'activation': 'selu', 'batch_size': 16, 'dropout_rate': 0.05, 'epochs': 2000, 'neurons': 10, 'optimizer': 'rmsprop', 'verbose': 0}\n",
      "-0.212939 (0.054670) with: {'activation': 'selu', 'batch_size': 16, 'dropout_rate': 0.05, 'epochs': 2000, 'neurons': 10, 'optimizer': 'sgd', 'verbose': 0}\n",
      "-0.211483 (0.030324) with: {'activation': 'selu', 'batch_size': 16, 'dropout_rate': 0.1, 'epochs': 2000, 'neurons': 10, 'optimizer': 'adam', 'verbose': 0}\n",
      "-0.219525 (0.064355) with: {'activation': 'selu', 'batch_size': 16, 'dropout_rate': 0.1, 'epochs': 2000, 'neurons': 10, 'optimizer': 'adamax', 'verbose': 0}\n",
      "-0.215668 (0.034757) with: {'activation': 'selu', 'batch_size': 16, 'dropout_rate': 0.1, 'epochs': 2000, 'neurons': 10, 'optimizer': 'rmsprop', 'verbose': 0}\n",
      "-0.217409 (0.063249) with: {'activation': 'selu', 'batch_size': 16, 'dropout_rate': 0.1, 'epochs': 2000, 'neurons': 10, 'optimizer': 'sgd', 'verbose': 0}\n",
      "-0.211078 (0.036470) with: {'activation': 'selu', 'batch_size': 16, 'dropout_rate': 0.15, 'epochs': 2000, 'neurons': 10, 'optimizer': 'adam', 'verbose': 0}\n",
      "-0.209903 (0.058887) with: {'activation': 'selu', 'batch_size': 16, 'dropout_rate': 0.15, 'epochs': 2000, 'neurons': 10, 'optimizer': 'adamax', 'verbose': 0}\n",
      "-0.202323 (0.038917) with: {'activation': 'selu', 'batch_size': 16, 'dropout_rate': 0.15, 'epochs': 2000, 'neurons': 10, 'optimizer': 'rmsprop', 'verbose': 0}\n",
      "-0.210751 (0.052389) with: {'activation': 'selu', 'batch_size': 16, 'dropout_rate': 0.15, 'epochs': 2000, 'neurons': 10, 'optimizer': 'sgd', 'verbose': 0}\n",
      "-0.205023 (0.042672) with: {'activation': 'selu', 'batch_size': 16, 'dropout_rate': 0.2, 'epochs': 2000, 'neurons': 10, 'optimizer': 'adam', 'verbose': 0}\n",
      "-0.206910 (0.052905) with: {'activation': 'selu', 'batch_size': 16, 'dropout_rate': 0.2, 'epochs': 2000, 'neurons': 10, 'optimizer': 'adamax', 'verbose': 0}\n",
      "-0.204886 (0.042484) with: {'activation': 'selu', 'batch_size': 16, 'dropout_rate': 0.2, 'epochs': 2000, 'neurons': 10, 'optimizer': 'rmsprop', 'verbose': 0}\n",
      "-0.208663 (0.050677) with: {'activation': 'selu', 'batch_size': 16, 'dropout_rate': 0.2, 'epochs': 2000, 'neurons': 10, 'optimizer': 'sgd', 'verbose': 0}\n",
      "-0.203827 (0.042476) with: {'activation': 'selu', 'batch_size': 16, 'dropout_rate': 0.25, 'epochs': 2000, 'neurons': 10, 'optimizer': 'adam', 'verbose': 0}\n",
      "-0.203410 (0.053905) with: {'activation': 'selu', 'batch_size': 16, 'dropout_rate': 0.25, 'epochs': 2000, 'neurons': 10, 'optimizer': 'adamax', 'verbose': 0}\n",
      "-0.206418 (0.038645) with: {'activation': 'selu', 'batch_size': 16, 'dropout_rate': 0.25, 'epochs': 2000, 'neurons': 10, 'optimizer': 'rmsprop', 'verbose': 0}\n",
      "-0.210229 (0.053399) with: {'activation': 'selu', 'batch_size': 16, 'dropout_rate': 0.25, 'epochs': 2000, 'neurons': 10, 'optimizer': 'sgd', 'verbose': 0}\n",
      "-0.201423 (0.051141) with: {'activation': 'selu', 'batch_size': 32, 'dropout_rate': 0.05, 'epochs': 2000, 'neurons': 10, 'optimizer': 'adam', 'verbose': 0}\n",
      "-0.203475 (0.050208) with: {'activation': 'selu', 'batch_size': 32, 'dropout_rate': 0.05, 'epochs': 2000, 'neurons': 10, 'optimizer': 'adamax', 'verbose': 0}\n",
      "-0.205502 (0.046155) with: {'activation': 'selu', 'batch_size': 32, 'dropout_rate': 0.05, 'epochs': 2000, 'neurons': 10, 'optimizer': 'rmsprop', 'verbose': 0}\n",
      "-0.218265 (0.060211) with: {'activation': 'selu', 'batch_size': 32, 'dropout_rate': 0.05, 'epochs': 2000, 'neurons': 10, 'optimizer': 'sgd', 'verbose': 0}\n",
      "-0.202700 (0.047528) with: {'activation': 'selu', 'batch_size': 32, 'dropout_rate': 0.1, 'epochs': 2000, 'neurons': 10, 'optimizer': 'adam', 'verbose': 0}\n",
      "-0.216334 (0.061769) with: {'activation': 'selu', 'batch_size': 32, 'dropout_rate': 0.1, 'epochs': 2000, 'neurons': 10, 'optimizer': 'adamax', 'verbose': 0}\n",
      "-0.214948 (0.036903) with: {'activation': 'selu', 'batch_size': 32, 'dropout_rate': 0.1, 'epochs': 2000, 'neurons': 10, 'optimizer': 'rmsprop', 'verbose': 0}\n",
      "-0.221967 (0.058968) with: {'activation': 'selu', 'batch_size': 32, 'dropout_rate': 0.1, 'epochs': 2000, 'neurons': 10, 'optimizer': 'sgd', 'verbose': 0}\n",
      "-0.212712 (0.037220) with: {'activation': 'selu', 'batch_size': 32, 'dropout_rate': 0.15, 'epochs': 2000, 'neurons': 10, 'optimizer': 'adam', 'verbose': 0}\n",
      "-0.214321 (0.058975) with: {'activation': 'selu', 'batch_size': 32, 'dropout_rate': 0.15, 'epochs': 2000, 'neurons': 10, 'optimizer': 'adamax', 'verbose': 0}\n",
      "-0.202971 (0.045107) with: {'activation': 'selu', 'batch_size': 32, 'dropout_rate': 0.15, 'epochs': 2000, 'neurons': 10, 'optimizer': 'rmsprop', 'verbose': 0}\n",
      "-0.217101 (0.056279) with: {'activation': 'selu', 'batch_size': 32, 'dropout_rate': 0.15, 'epochs': 2000, 'neurons': 10, 'optimizer': 'sgd', 'verbose': 0}\n",
      "-0.201653 (0.051391) with: {'activation': 'selu', 'batch_size': 32, 'dropout_rate': 0.2, 'epochs': 2000, 'neurons': 10, 'optimizer': 'adam', 'verbose': 0}\n",
      "-0.217773 (0.062759) with: {'activation': 'selu', 'batch_size': 32, 'dropout_rate': 0.2, 'epochs': 2000, 'neurons': 10, 'optimizer': 'adamax', 'verbose': 0}\n",
      "-0.204809 (0.043294) with: {'activation': 'selu', 'batch_size': 32, 'dropout_rate': 0.2, 'epochs': 2000, 'neurons': 10, 'optimizer': 'rmsprop', 'verbose': 0}\n",
      "-0.221864 (0.057853) with: {'activation': 'selu', 'batch_size': 32, 'dropout_rate': 0.2, 'epochs': 2000, 'neurons': 10, 'optimizer': 'sgd', 'verbose': 0}\n",
      "-0.201199 (0.052094) with: {'activation': 'selu', 'batch_size': 32, 'dropout_rate': 0.25, 'epochs': 2000, 'neurons': 10, 'optimizer': 'adam', 'verbose': 0}\n",
      "-0.226804 (0.068053) with: {'activation': 'selu', 'batch_size': 32, 'dropout_rate': 0.25, 'epochs': 2000, 'neurons': 10, 'optimizer': 'adamax', 'verbose': 0}\n",
      "-0.202694 (0.041690) with: {'activation': 'selu', 'batch_size': 32, 'dropout_rate': 0.25, 'epochs': 2000, 'neurons': 10, 'optimizer': 'rmsprop', 'verbose': 0}\n",
      "-0.217805 (0.053224) with: {'activation': 'selu', 'batch_size': 32, 'dropout_rate': 0.25, 'epochs': 2000, 'neurons': 10, 'optimizer': 'sgd', 'verbose': 0}\n",
      "-0.203901 (0.050060) with: {'activation': 'selu', 'batch_size': 64, 'dropout_rate': 0.05, 'epochs': 2000, 'neurons': 10, 'optimizer': 'adam', 'verbose': 0}\n",
      "-0.204573 (0.052285) with: {'activation': 'selu', 'batch_size': 64, 'dropout_rate': 0.05, 'epochs': 2000, 'neurons': 10, 'optimizer': 'adamax', 'verbose': 0}\n",
      "-0.198210 (0.045397) with: {'activation': 'selu', 'batch_size': 64, 'dropout_rate': 0.05, 'epochs': 2000, 'neurons': 10, 'optimizer': 'rmsprop', 'verbose': 0}\n",
      "-0.212599 (0.049712) with: {'activation': 'selu', 'batch_size': 64, 'dropout_rate': 0.05, 'epochs': 2000, 'neurons': 10, 'optimizer': 'sgd', 'verbose': 0}\n",
      "-0.206938 (0.045448) with: {'activation': 'selu', 'batch_size': 64, 'dropout_rate': 0.1, 'epochs': 2000, 'neurons': 10, 'optimizer': 'adam', 'verbose': 0}\n",
      "-0.203798 (0.050092) with: {'activation': 'selu', 'batch_size': 64, 'dropout_rate': 0.1, 'epochs': 2000, 'neurons': 10, 'optimizer': 'adamax', 'verbose': 0}\n",
      "-0.215257 (0.062225) with: {'activation': 'selu', 'batch_size': 64, 'dropout_rate': 0.1, 'epochs': 2000, 'neurons': 10, 'optimizer': 'rmsprop', 'verbose': 0}\n",
      "-0.225205 (0.062064) with: {'activation': 'selu', 'batch_size': 64, 'dropout_rate': 0.1, 'epochs': 2000, 'neurons': 10, 'optimizer': 'sgd', 'verbose': 0}\n",
      "-0.215666 (0.064711) with: {'activation': 'selu', 'batch_size': 64, 'dropout_rate': 0.15, 'epochs': 2000, 'neurons': 10, 'optimizer': 'adam', 'verbose': 0}\n",
      "-0.208746 (0.050520) with: {'activation': 'selu', 'batch_size': 64, 'dropout_rate': 0.15, 'epochs': 2000, 'neurons': 10, 'optimizer': 'adamax', 'verbose': 0}\n",
      "-0.203942 (0.050011) with: {'activation': 'selu', 'batch_size': 64, 'dropout_rate': 0.15, 'epochs': 2000, 'neurons': 10, 'optimizer': 'rmsprop', 'verbose': 0}\n",
      "-0.230008 (0.058490) with: {'activation': 'selu', 'batch_size': 64, 'dropout_rate': 0.15, 'epochs': 2000, 'neurons': 10, 'optimizer': 'sgd', 'verbose': 0}\n",
      "-0.206084 (0.046060) with: {'activation': 'selu', 'batch_size': 64, 'dropout_rate': 0.2, 'epochs': 2000, 'neurons': 10, 'optimizer': 'adam', 'verbose': 0}\n",
      "-0.205659 (0.051283) with: {'activation': 'selu', 'batch_size': 64, 'dropout_rate': 0.2, 'epochs': 2000, 'neurons': 10, 'optimizer': 'adamax', 'verbose': 0}\n",
      "-0.201664 (0.048933) with: {'activation': 'selu', 'batch_size': 64, 'dropout_rate': 0.2, 'epochs': 2000, 'neurons': 10, 'optimizer': 'rmsprop', 'verbose': 0}\n",
      "-0.233182 (0.064706) with: {'activation': 'selu', 'batch_size': 64, 'dropout_rate': 0.2, 'epochs': 2000, 'neurons': 10, 'optimizer': 'sgd', 'verbose': 0}\n",
      "-0.204193 (0.052491) with: {'activation': 'selu', 'batch_size': 64, 'dropout_rate': 0.25, 'epochs': 2000, 'neurons': 10, 'optimizer': 'adam', 'verbose': 0}\n",
      "-0.220597 (0.059957) with: {'activation': 'selu', 'batch_size': 64, 'dropout_rate': 0.25, 'epochs': 2000, 'neurons': 10, 'optimizer': 'adamax', 'verbose': 0}\n",
      "-0.201981 (0.054587) with: {'activation': 'selu', 'batch_size': 64, 'dropout_rate': 0.25, 'epochs': 2000, 'neurons': 10, 'optimizer': 'rmsprop', 'verbose': 0}\n",
      "-0.228641 (0.062939) with: {'activation': 'selu', 'batch_size': 64, 'dropout_rate': 0.25, 'epochs': 2000, 'neurons': 10, 'optimizer': 'sgd', 'verbose': 0}\n",
      "-0.218440 (0.035717) with: {'activation': 'elu', 'batch_size': 4, 'dropout_rate': 0.05, 'epochs': 2000, 'neurons': 10, 'optimizer': 'adam', 'verbose': 0}\n",
      "-0.207171 (0.035121) with: {'activation': 'elu', 'batch_size': 4, 'dropout_rate': 0.05, 'epochs': 2000, 'neurons': 10, 'optimizer': 'adamax', 'verbose': 0}\n",
      "-0.211665 (0.032015) with: {'activation': 'elu', 'batch_size': 4, 'dropout_rate': 0.05, 'epochs': 2000, 'neurons': 10, 'optimizer': 'rmsprop', 'verbose': 0}\n",
      "-0.206158 (0.054690) with: {'activation': 'elu', 'batch_size': 4, 'dropout_rate': 0.05, 'epochs': 2000, 'neurons': 10, 'optimizer': 'sgd', 'verbose': 0}\n",
      "-0.266208 (0.090921) with: {'activation': 'elu', 'batch_size': 4, 'dropout_rate': 0.1, 'epochs': 2000, 'neurons': 10, 'optimizer': 'adam', 'verbose': 0}\n",
      "-0.204361 (0.041186) with: {'activation': 'elu', 'batch_size': 4, 'dropout_rate': 0.1, 'epochs': 2000, 'neurons': 10, 'optimizer': 'adamax', 'verbose': 0}\n",
      "-0.206874 (0.034143) with: {'activation': 'elu', 'batch_size': 4, 'dropout_rate': 0.1, 'epochs': 2000, 'neurons': 10, 'optimizer': 'rmsprop', 'verbose': 0}\n",
      "-0.202186 (0.051753) with: {'activation': 'elu', 'batch_size': 4, 'dropout_rate': 0.1, 'epochs': 2000, 'neurons': 10, 'optimizer': 'sgd', 'verbose': 0}\n",
      "-0.219389 (0.045211) with: {'activation': 'elu', 'batch_size': 4, 'dropout_rate': 0.15, 'epochs': 2000, 'neurons': 10, 'optimizer': 'adam', 'verbose': 0}\n",
      "-0.204759 (0.042057) with: {'activation': 'elu', 'batch_size': 4, 'dropout_rate': 0.15, 'epochs': 2000, 'neurons': 10, 'optimizer': 'adamax', 'verbose': 0}\n",
      "-0.210646 (0.034855) with: {'activation': 'elu', 'batch_size': 4, 'dropout_rate': 0.15, 'epochs': 2000, 'neurons': 10, 'optimizer': 'rmsprop', 'verbose': 0}\n",
      "-0.206174 (0.055273) with: {'activation': 'elu', 'batch_size': 4, 'dropout_rate': 0.15, 'epochs': 2000, 'neurons': 10, 'optimizer': 'sgd', 'verbose': 0}\n",
      "-0.221235 (0.045017) with: {'activation': 'elu', 'batch_size': 4, 'dropout_rate': 0.2, 'epochs': 2000, 'neurons': 10, 'optimizer': 'adam', 'verbose': 0}\n",
      "-0.203734 (0.042453) with: {'activation': 'elu', 'batch_size': 4, 'dropout_rate': 0.2, 'epochs': 2000, 'neurons': 10, 'optimizer': 'adamax', 'verbose': 0}\n",
      "-0.204985 (0.035304) with: {'activation': 'elu', 'batch_size': 4, 'dropout_rate': 0.2, 'epochs': 2000, 'neurons': 10, 'optimizer': 'rmsprop', 'verbose': 0}\n",
      "-0.202155 (0.052422) with: {'activation': 'elu', 'batch_size': 4, 'dropout_rate': 0.2, 'epochs': 2000, 'neurons': 10, 'optimizer': 'sgd', 'verbose': 0}\n",
      "-0.213541 (0.043274) with: {'activation': 'elu', 'batch_size': 4, 'dropout_rate': 0.25, 'epochs': 2000, 'neurons': 10, 'optimizer': 'adam', 'verbose': 0}\n",
      "-0.199694 (0.045503) with: {'activation': 'elu', 'batch_size': 4, 'dropout_rate': 0.25, 'epochs': 2000, 'neurons': 10, 'optimizer': 'adamax', 'verbose': 0}\n",
      "-0.209517 (0.032178) with: {'activation': 'elu', 'batch_size': 4, 'dropout_rate': 0.25, 'epochs': 2000, 'neurons': 10, 'optimizer': 'rmsprop', 'verbose': 0}\n",
      "-0.204297 (0.051405) with: {'activation': 'elu', 'batch_size': 4, 'dropout_rate': 0.25, 'epochs': 2000, 'neurons': 10, 'optimizer': 'sgd', 'verbose': 0}\n",
      "-0.211198 (0.031288) with: {'activation': 'elu', 'batch_size': 8, 'dropout_rate': 0.05, 'epochs': 2000, 'neurons': 10, 'optimizer': 'adam', 'verbose': 0}\n",
      "-0.204901 (0.050926) with: {'activation': 'elu', 'batch_size': 8, 'dropout_rate': 0.05, 'epochs': 2000, 'neurons': 10, 'optimizer': 'adamax', 'verbose': 0}\n",
      "-0.207279 (0.033130) with: {'activation': 'elu', 'batch_size': 8, 'dropout_rate': 0.05, 'epochs': 2000, 'neurons': 10, 'optimizer': 'rmsprop', 'verbose': 0}\n",
      "-0.215583 (0.057175) with: {'activation': 'elu', 'batch_size': 8, 'dropout_rate': 0.05, 'epochs': 2000, 'neurons': 10, 'optimizer': 'sgd', 'verbose': 0}\n",
      "-0.212513 (0.038473) with: {'activation': 'elu', 'batch_size': 8, 'dropout_rate': 0.1, 'epochs': 2000, 'neurons': 10, 'optimizer': 'adam', 'verbose': 0}\n",
      "-0.201302 (0.048467) with: {'activation': 'elu', 'batch_size': 8, 'dropout_rate': 0.1, 'epochs': 2000, 'neurons': 10, 'optimizer': 'adamax', 'verbose': 0}\n",
      "-0.212661 (0.033555) with: {'activation': 'elu', 'batch_size': 8, 'dropout_rate': 0.1, 'epochs': 2000, 'neurons': 10, 'optimizer': 'rmsprop', 'verbose': 0}\n",
      "-0.213715 (0.058945) with: {'activation': 'elu', 'batch_size': 8, 'dropout_rate': 0.1, 'epochs': 2000, 'neurons': 10, 'optimizer': 'sgd', 'verbose': 0}\n",
      "-0.207108 (0.038302) with: {'activation': 'elu', 'batch_size': 8, 'dropout_rate': 0.15, 'epochs': 2000, 'neurons': 10, 'optimizer': 'adam', 'verbose': 0}\n",
      "-0.199327 (0.047303) with: {'activation': 'elu', 'batch_size': 8, 'dropout_rate': 0.15, 'epochs': 2000, 'neurons': 10, 'optimizer': 'adamax', 'verbose': 0}\n",
      "-0.203119 (0.032829) with: {'activation': 'elu', 'batch_size': 8, 'dropout_rate': 0.15, 'epochs': 2000, 'neurons': 10, 'optimizer': 'rmsprop', 'verbose': 0}\n",
      "-0.211334 (0.055540) with: {'activation': 'elu', 'batch_size': 8, 'dropout_rate': 0.15, 'epochs': 2000, 'neurons': 10, 'optimizer': 'sgd', 'verbose': 0}\n",
      "-0.206275 (0.037709) with: {'activation': 'elu', 'batch_size': 8, 'dropout_rate': 0.2, 'epochs': 2000, 'neurons': 10, 'optimizer': 'adam', 'verbose': 0}\n",
      "-0.200249 (0.047391) with: {'activation': 'elu', 'batch_size': 8, 'dropout_rate': 0.2, 'epochs': 2000, 'neurons': 10, 'optimizer': 'adamax', 'verbose': 0}\n",
      "-0.202299 (0.039061) with: {'activation': 'elu', 'batch_size': 8, 'dropout_rate': 0.2, 'epochs': 2000, 'neurons': 10, 'optimizer': 'rmsprop', 'verbose': 0}\n",
      "-0.208896 (0.052970) with: {'activation': 'elu', 'batch_size': 8, 'dropout_rate': 0.2, 'epochs': 2000, 'neurons': 10, 'optimizer': 'sgd', 'verbose': 0}\n",
      "-0.205369 (0.038079) with: {'activation': 'elu', 'batch_size': 8, 'dropout_rate': 0.25, 'epochs': 2000, 'neurons': 10, 'optimizer': 'adam', 'verbose': 0}\n",
      "-0.200170 (0.049072) with: {'activation': 'elu', 'batch_size': 8, 'dropout_rate': 0.25, 'epochs': 2000, 'neurons': 10, 'optimizer': 'adamax', 'verbose': 0}\n",
      "-0.206098 (0.034123) with: {'activation': 'elu', 'batch_size': 8, 'dropout_rate': 0.25, 'epochs': 2000, 'neurons': 10, 'optimizer': 'rmsprop', 'verbose': 0}\n",
      "-0.214699 (0.058113) with: {'activation': 'elu', 'batch_size': 8, 'dropout_rate': 0.25, 'epochs': 2000, 'neurons': 10, 'optimizer': 'sgd', 'verbose': 0}\n",
      "-0.213383 (0.029485) with: {'activation': 'elu', 'batch_size': 16, 'dropout_rate': 0.05, 'epochs': 2000, 'neurons': 10, 'optimizer': 'adam', 'verbose': 0}\n",
      "-0.208922 (0.056306) with: {'activation': 'elu', 'batch_size': 16, 'dropout_rate': 0.05, 'epochs': 2000, 'neurons': 10, 'optimizer': 'adamax', 'verbose': 0}\n",
      "-0.213874 (0.030455) with: {'activation': 'elu', 'batch_size': 16, 'dropout_rate': 0.05, 'epochs': 2000, 'neurons': 10, 'optimizer': 'rmsprop', 'verbose': 0}\n",
      "-0.220175 (0.063601) with: {'activation': 'elu', 'batch_size': 16, 'dropout_rate': 0.05, 'epochs': 2000, 'neurons': 10, 'optimizer': 'sgd', 'verbose': 0}\n",
      "-0.210360 (0.034784) with: {'activation': 'elu', 'batch_size': 16, 'dropout_rate': 0.1, 'epochs': 2000, 'neurons': 10, 'optimizer': 'adam', 'verbose': 0}\n",
      "-0.213141 (0.058315) with: {'activation': 'elu', 'batch_size': 16, 'dropout_rate': 0.1, 'epochs': 2000, 'neurons': 10, 'optimizer': 'adamax', 'verbose': 0}\n",
      "-0.210592 (0.035133) with: {'activation': 'elu', 'batch_size': 16, 'dropout_rate': 0.1, 'epochs': 2000, 'neurons': 10, 'optimizer': 'rmsprop', 'verbose': 0}\n",
      "-0.227729 (0.067822) with: {'activation': 'elu', 'batch_size': 16, 'dropout_rate': 0.1, 'epochs': 2000, 'neurons': 10, 'optimizer': 'sgd', 'verbose': 0}\n",
      "-0.206321 (0.035862) with: {'activation': 'elu', 'batch_size': 16, 'dropout_rate': 0.15, 'epochs': 2000, 'neurons': 10, 'optimizer': 'adam', 'verbose': 0}\n",
      "-0.209455 (0.056164) with: {'activation': 'elu', 'batch_size': 16, 'dropout_rate': 0.15, 'epochs': 2000, 'neurons': 10, 'optimizer': 'adamax', 'verbose': 0}\n",
      "-0.204327 (0.034745) with: {'activation': 'elu', 'batch_size': 16, 'dropout_rate': 0.15, 'epochs': 2000, 'neurons': 10, 'optimizer': 'rmsprop', 'verbose': 0}\n",
      "-0.226407 (0.066770) with: {'activation': 'elu', 'batch_size': 16, 'dropout_rate': 0.15, 'epochs': 2000, 'neurons': 10, 'optimizer': 'sgd', 'verbose': 0}\n",
      "-0.204424 (0.040192) with: {'activation': 'elu', 'batch_size': 16, 'dropout_rate': 0.2, 'epochs': 2000, 'neurons': 10, 'optimizer': 'adam', 'verbose': 0}\n",
      "-0.214188 (0.059024) with: {'activation': 'elu', 'batch_size': 16, 'dropout_rate': 0.2, 'epochs': 2000, 'neurons': 10, 'optimizer': 'adamax', 'verbose': 0}\n",
      "-0.204549 (0.040744) with: {'activation': 'elu', 'batch_size': 16, 'dropout_rate': 0.2, 'epochs': 2000, 'neurons': 10, 'optimizer': 'rmsprop', 'verbose': 0}\n",
      "-0.231188 (0.062750) with: {'activation': 'elu', 'batch_size': 16, 'dropout_rate': 0.2, 'epochs': 2000, 'neurons': 10, 'optimizer': 'sgd', 'verbose': 0}\n",
      "-0.203384 (0.042267) with: {'activation': 'elu', 'batch_size': 16, 'dropout_rate': 0.25, 'epochs': 2000, 'neurons': 10, 'optimizer': 'adam', 'verbose': 0}\n",
      "-0.206098 (0.053208) with: {'activation': 'elu', 'batch_size': 16, 'dropout_rate': 0.25, 'epochs': 2000, 'neurons': 10, 'optimizer': 'adamax', 'verbose': 0}\n",
      "-0.202419 (0.040246) with: {'activation': 'elu', 'batch_size': 16, 'dropout_rate': 0.25, 'epochs': 2000, 'neurons': 10, 'optimizer': 'rmsprop', 'verbose': 0}\n",
      "-0.226972 (0.062805) with: {'activation': 'elu', 'batch_size': 16, 'dropout_rate': 0.25, 'epochs': 2000, 'neurons': 10, 'optimizer': 'sgd', 'verbose': 0}\n",
      "-0.199220 (0.047322) with: {'activation': 'elu', 'batch_size': 32, 'dropout_rate': 0.05, 'epochs': 2000, 'neurons': 10, 'optimizer': 'adam', 'verbose': 0}\n",
      "-0.209654 (0.056077) with: {'activation': 'elu', 'batch_size': 32, 'dropout_rate': 0.05, 'epochs': 2000, 'neurons': 10, 'optimizer': 'adamax', 'verbose': 0}\n",
      "-0.201845 (0.045538) with: {'activation': 'elu', 'batch_size': 32, 'dropout_rate': 0.05, 'epochs': 2000, 'neurons': 10, 'optimizer': 'rmsprop', 'verbose': 0}\n",
      "-0.229410 (0.070608) with: {'activation': 'elu', 'batch_size': 32, 'dropout_rate': 0.05, 'epochs': 2000, 'neurons': 10, 'optimizer': 'sgd', 'verbose': 0}\n",
      "-0.212635 (0.042955) with: {'activation': 'elu', 'batch_size': 32, 'dropout_rate': 0.1, 'epochs': 2000, 'neurons': 10, 'optimizer': 'adam', 'verbose': 0}\n",
      "-0.211643 (0.056463) with: {'activation': 'elu', 'batch_size': 32, 'dropout_rate': 0.1, 'epochs': 2000, 'neurons': 10, 'optimizer': 'adamax', 'verbose': 0}\n",
      "-0.207026 (0.039851) with: {'activation': 'elu', 'batch_size': 32, 'dropout_rate': 0.1, 'epochs': 2000, 'neurons': 10, 'optimizer': 'rmsprop', 'verbose': 0}\n",
      "-0.234408 (0.067843) with: {'activation': 'elu', 'batch_size': 32, 'dropout_rate': 0.1, 'epochs': 2000, 'neurons': 10, 'optimizer': 'sgd', 'verbose': 0}\n",
      "-0.203926 (0.042701) with: {'activation': 'elu', 'batch_size': 32, 'dropout_rate': 0.15, 'epochs': 2000, 'neurons': 10, 'optimizer': 'adam', 'verbose': 0}\n",
      "-0.214627 (0.060010) with: {'activation': 'elu', 'batch_size': 32, 'dropout_rate': 0.15, 'epochs': 2000, 'neurons': 10, 'optimizer': 'adamax', 'verbose': 0}\n",
      "-0.200020 (0.045583) with: {'activation': 'elu', 'batch_size': 32, 'dropout_rate': 0.15, 'epochs': 2000, 'neurons': 10, 'optimizer': 'rmsprop', 'verbose': 0}\n",
      "-0.234728 (0.062755) with: {'activation': 'elu', 'batch_size': 32, 'dropout_rate': 0.15, 'epochs': 2000, 'neurons': 10, 'optimizer': 'sgd', 'verbose': 0}\n",
      "-0.205947 (0.043174) with: {'activation': 'elu', 'batch_size': 32, 'dropout_rate': 0.2, 'epochs': 2000, 'neurons': 10, 'optimizer': 'adam', 'verbose': 0}\n",
      "-0.218166 (0.061467) with: {'activation': 'elu', 'batch_size': 32, 'dropout_rate': 0.2, 'epochs': 2000, 'neurons': 10, 'optimizer': 'adamax', 'verbose': 0}\n",
      "-0.201960 (0.046857) with: {'activation': 'elu', 'batch_size': 32, 'dropout_rate': 0.2, 'epochs': 2000, 'neurons': 10, 'optimizer': 'rmsprop', 'verbose': 0}\n",
      "-0.242881 (0.064507) with: {'activation': 'elu', 'batch_size': 32, 'dropout_rate': 0.2, 'epochs': 2000, 'neurons': 10, 'optimizer': 'sgd', 'verbose': 0}\n",
      "-0.205129 (0.044235) with: {'activation': 'elu', 'batch_size': 32, 'dropout_rate': 0.25, 'epochs': 2000, 'neurons': 10, 'optimizer': 'adam', 'verbose': 0}\n",
      "-0.222648 (0.060103) with: {'activation': 'elu', 'batch_size': 32, 'dropout_rate': 0.25, 'epochs': 2000, 'neurons': 10, 'optimizer': 'adamax', 'verbose': 0}\n",
      "-0.200575 (0.045299) with: {'activation': 'elu', 'batch_size': 32, 'dropout_rate': 0.25, 'epochs': 2000, 'neurons': 10, 'optimizer': 'rmsprop', 'verbose': 0}\n",
      "-0.238094 (0.061332) with: {'activation': 'elu', 'batch_size': 32, 'dropout_rate': 0.25, 'epochs': 2000, 'neurons': 10, 'optimizer': 'sgd', 'verbose': 0}\n",
      "-0.206558 (0.054109) with: {'activation': 'elu', 'batch_size': 64, 'dropout_rate': 0.05, 'epochs': 2000, 'neurons': 10, 'optimizer': 'adam', 'verbose': 0}\n",
      "-0.209727 (0.055459) with: {'activation': 'elu', 'batch_size': 64, 'dropout_rate': 0.05, 'epochs': 2000, 'neurons': 10, 'optimizer': 'adamax', 'verbose': 0}\n",
      "-0.207082 (0.052759) with: {'activation': 'elu', 'batch_size': 64, 'dropout_rate': 0.05, 'epochs': 2000, 'neurons': 10, 'optimizer': 'rmsprop', 'verbose': 0}\n",
      "-0.238652 (0.066778) with: {'activation': 'elu', 'batch_size': 64, 'dropout_rate': 0.05, 'epochs': 2000, 'neurons': 10, 'optimizer': 'sgd', 'verbose': 0}\n",
      "-0.208820 (0.054125) with: {'activation': 'elu', 'batch_size': 64, 'dropout_rate': 0.1, 'epochs': 2000, 'neurons': 10, 'optimizer': 'adam', 'verbose': 0}\n",
      "-0.212812 (0.057236) with: {'activation': 'elu', 'batch_size': 64, 'dropout_rate': 0.1, 'epochs': 2000, 'neurons': 10, 'optimizer': 'adamax', 'verbose': 0}\n",
      "-0.202386 (0.049255) with: {'activation': 'elu', 'batch_size': 64, 'dropout_rate': 0.1, 'epochs': 2000, 'neurons': 10, 'optimizer': 'rmsprop', 'verbose': 0}\n",
      "-0.245990 (0.066469) with: {'activation': 'elu', 'batch_size': 64, 'dropout_rate': 0.1, 'epochs': 2000, 'neurons': 10, 'optimizer': 'sgd', 'verbose': 0}\n",
      "-0.213387 (0.060159) with: {'activation': 'elu', 'batch_size': 64, 'dropout_rate': 0.15, 'epochs': 2000, 'neurons': 10, 'optimizer': 'adam', 'verbose': 0}\n",
      "-0.219186 (0.065467) with: {'activation': 'elu', 'batch_size': 64, 'dropout_rate': 0.15, 'epochs': 2000, 'neurons': 10, 'optimizer': 'adamax', 'verbose': 0}\n",
      "-0.201613 (0.046816) with: {'activation': 'elu', 'batch_size': 64, 'dropout_rate': 0.15, 'epochs': 2000, 'neurons': 10, 'optimizer': 'rmsprop', 'verbose': 0}\n",
      "-0.240527 (0.067006) with: {'activation': 'elu', 'batch_size': 64, 'dropout_rate': 0.15, 'epochs': 2000, 'neurons': 10, 'optimizer': 'sgd', 'verbose': 0}\n",
      "-0.218332 (0.064454) with: {'activation': 'elu', 'batch_size': 64, 'dropout_rate': 0.2, 'epochs': 2000, 'neurons': 10, 'optimizer': 'adam', 'verbose': 0}\n",
      "-0.211886 (0.053710) with: {'activation': 'elu', 'batch_size': 64, 'dropout_rate': 0.2, 'epochs': 2000, 'neurons': 10, 'optimizer': 'adamax', 'verbose': 0}\n",
      "-0.200689 (0.047882) with: {'activation': 'elu', 'batch_size': 64, 'dropout_rate': 0.2, 'epochs': 2000, 'neurons': 10, 'optimizer': 'rmsprop', 'verbose': 0}\n",
      "-0.240831 (0.057259) with: {'activation': 'elu', 'batch_size': 64, 'dropout_rate': 0.2, 'epochs': 2000, 'neurons': 10, 'optimizer': 'sgd', 'verbose': 0}\n",
      "-0.212524 (0.057907) with: {'activation': 'elu', 'batch_size': 64, 'dropout_rate': 0.25, 'epochs': 2000, 'neurons': 10, 'optimizer': 'adam', 'verbose': 0}\n",
      "-0.224659 (0.065667) with: {'activation': 'elu', 'batch_size': 64, 'dropout_rate': 0.25, 'epochs': 2000, 'neurons': 10, 'optimizer': 'adamax', 'verbose': 0}\n",
      "-0.200567 (0.048581) with: {'activation': 'elu', 'batch_size': 64, 'dropout_rate': 0.25, 'epochs': 2000, 'neurons': 10, 'optimizer': 'rmsprop', 'verbose': 0}\n",
      "-0.238014 (0.060850) with: {'activation': 'elu', 'batch_size': 64, 'dropout_rate': 0.25, 'epochs': 2000, 'neurons': 10, 'optimizer': 'sgd', 'verbose': 0}\n",
      "-0.226973 (0.031800) with: {'activation': 'softplus', 'batch_size': 4, 'dropout_rate': 0.05, 'epochs': 2000, 'neurons': 10, 'optimizer': 'adam', 'verbose': 0}\n",
      "-0.208004 (0.054029) with: {'activation': 'softplus', 'batch_size': 4, 'dropout_rate': 0.05, 'epochs': 2000, 'neurons': 10, 'optimizer': 'adamax', 'verbose': 0}\n",
      "-0.218201 (0.032226) with: {'activation': 'softplus', 'batch_size': 4, 'dropout_rate': 0.05, 'epochs': 2000, 'neurons': 10, 'optimizer': 'rmsprop', 'verbose': 0}\n",
      "-0.234453 (0.073257) with: {'activation': 'softplus', 'batch_size': 4, 'dropout_rate': 0.05, 'epochs': 2000, 'neurons': 10, 'optimizer': 'sgd', 'verbose': 0}\n",
      "-0.246045 (0.061495) with: {'activation': 'softplus', 'batch_size': 4, 'dropout_rate': 0.1, 'epochs': 2000, 'neurons': 10, 'optimizer': 'adam', 'verbose': 0}\n",
      "-0.207772 (0.051519) with: {'activation': 'softplus', 'batch_size': 4, 'dropout_rate': 0.1, 'epochs': 2000, 'neurons': 10, 'optimizer': 'adamax', 'verbose': 0}\n",
      "-0.246180 (0.063425) with: {'activation': 'softplus', 'batch_size': 4, 'dropout_rate': 0.1, 'epochs': 2000, 'neurons': 10, 'optimizer': 'rmsprop', 'verbose': 0}\n",
      "-0.231310 (0.074465) with: {'activation': 'softplus', 'batch_size': 4, 'dropout_rate': 0.1, 'epochs': 2000, 'neurons': 10, 'optimizer': 'sgd', 'verbose': 0}\n",
      "-0.243954 (0.067801) with: {'activation': 'softplus', 'batch_size': 4, 'dropout_rate': 0.15, 'epochs': 2000, 'neurons': 10, 'optimizer': 'adam', 'verbose': 0}\n",
      "-0.210301 (0.052073) with: {'activation': 'softplus', 'batch_size': 4, 'dropout_rate': 0.15, 'epochs': 2000, 'neurons': 10, 'optimizer': 'adamax', 'verbose': 0}\n",
      "-0.215216 (0.037910) with: {'activation': 'softplus', 'batch_size': 4, 'dropout_rate': 0.15, 'epochs': 2000, 'neurons': 10, 'optimizer': 'rmsprop', 'verbose': 0}\n",
      "-0.258330 (0.068808) with: {'activation': 'softplus', 'batch_size': 4, 'dropout_rate': 0.15, 'epochs': 2000, 'neurons': 10, 'optimizer': 'sgd', 'verbose': 0}\n",
      "-0.218587 (0.041822) with: {'activation': 'softplus', 'batch_size': 4, 'dropout_rate': 0.2, 'epochs': 2000, 'neurons': 10, 'optimizer': 'adam', 'verbose': 0}\n",
      "-0.240077 (0.080844) with: {'activation': 'softplus', 'batch_size': 4, 'dropout_rate': 0.2, 'epochs': 2000, 'neurons': 10, 'optimizer': 'adamax', 'verbose': 0}\n",
      "-0.212602 (0.041789) with: {'activation': 'softplus', 'batch_size': 4, 'dropout_rate': 0.2, 'epochs': 2000, 'neurons': 10, 'optimizer': 'rmsprop', 'verbose': 0}\n",
      "-0.262069 (0.077357) with: {'activation': 'softplus', 'batch_size': 4, 'dropout_rate': 0.2, 'epochs': 2000, 'neurons': 10, 'optimizer': 'sgd', 'verbose': 0}\n",
      "-0.250248 (0.070954) with: {'activation': 'softplus', 'batch_size': 4, 'dropout_rate': 0.25, 'epochs': 2000, 'neurons': 10, 'optimizer': 'adam', 'verbose': 0}\n",
      "-0.210162 (0.053440) with: {'activation': 'softplus', 'batch_size': 4, 'dropout_rate': 0.25, 'epochs': 2000, 'neurons': 10, 'optimizer': 'adamax', 'verbose': 0}\n",
      "-0.210642 (0.043433) with: {'activation': 'softplus', 'batch_size': 4, 'dropout_rate': 0.25, 'epochs': 2000, 'neurons': 10, 'optimizer': 'rmsprop', 'verbose': 0}\n",
      "-0.268261 (0.059674) with: {'activation': 'softplus', 'batch_size': 4, 'dropout_rate': 0.25, 'epochs': 2000, 'neurons': 10, 'optimizer': 'sgd', 'verbose': 0}\n",
      "-0.214339 (0.043963) with: {'activation': 'softplus', 'batch_size': 8, 'dropout_rate': 0.05, 'epochs': 2000, 'neurons': 10, 'optimizer': 'adam', 'verbose': 0}\n",
      "-0.210148 (0.056567) with: {'activation': 'softplus', 'batch_size': 8, 'dropout_rate': 0.05, 'epochs': 2000, 'neurons': 10, 'optimizer': 'adamax', 'verbose': 0}\n",
      "-0.213614 (0.035418) with: {'activation': 'softplus', 'batch_size': 8, 'dropout_rate': 0.05, 'epochs': 2000, 'neurons': 10, 'optimizer': 'rmsprop', 'verbose': 0}\n",
      "-0.258162 (0.064600) with: {'activation': 'softplus', 'batch_size': 8, 'dropout_rate': 0.05, 'epochs': 2000, 'neurons': 10, 'optimizer': 'sgd', 'verbose': 0}\n",
      "-0.220051 (0.040377) with: {'activation': 'softplus', 'batch_size': 8, 'dropout_rate': 0.1, 'epochs': 2000, 'neurons': 10, 'optimizer': 'adam', 'verbose': 0}\n",
      "-0.206753 (0.050363) with: {'activation': 'softplus', 'batch_size': 8, 'dropout_rate': 0.1, 'epochs': 2000, 'neurons': 10, 'optimizer': 'adamax', 'verbose': 0}\n",
      "-0.213610 (0.038416) with: {'activation': 'softplus', 'batch_size': 8, 'dropout_rate': 0.1, 'epochs': 2000, 'neurons': 10, 'optimizer': 'rmsprop', 'verbose': 0}\n",
      "-0.255302 (0.071599) with: {'activation': 'softplus', 'batch_size': 8, 'dropout_rate': 0.1, 'epochs': 2000, 'neurons': 10, 'optimizer': 'sgd', 'verbose': 0}\n",
      "-0.244484 (0.069588) with: {'activation': 'softplus', 'batch_size': 8, 'dropout_rate': 0.15, 'epochs': 2000, 'neurons': 10, 'optimizer': 'adam', 'verbose': 0}\n",
      "-0.210589 (0.052442) with: {'activation': 'softplus', 'batch_size': 8, 'dropout_rate': 0.15, 'epochs': 2000, 'neurons': 10, 'optimizer': 'adamax', 'verbose': 0}\n",
      "-0.215064 (0.041439) with: {'activation': 'softplus', 'batch_size': 8, 'dropout_rate': 0.15, 'epochs': 2000, 'neurons': 10, 'optimizer': 'rmsprop', 'verbose': 0}\n",
      "-0.262055 (0.071352) with: {'activation': 'softplus', 'batch_size': 8, 'dropout_rate': 0.15, 'epochs': 2000, 'neurons': 10, 'optimizer': 'sgd', 'verbose': 0}\n",
      "-0.245034 (0.074341) with: {'activation': 'softplus', 'batch_size': 8, 'dropout_rate': 0.2, 'epochs': 2000, 'neurons': 10, 'optimizer': 'adam', 'verbose': 0}\n",
      "-0.242179 (0.083747) with: {'activation': 'softplus', 'batch_size': 8, 'dropout_rate': 0.2, 'epochs': 2000, 'neurons': 10, 'optimizer': 'adamax', 'verbose': 0}\n",
      "-0.241532 (0.077895) with: {'activation': 'softplus', 'batch_size': 8, 'dropout_rate': 0.2, 'epochs': 2000, 'neurons': 10, 'optimizer': 'rmsprop', 'verbose': 0}\n",
      "-0.263730 (0.064725) with: {'activation': 'softplus', 'batch_size': 8, 'dropout_rate': 0.2, 'epochs': 2000, 'neurons': 10, 'optimizer': 'sgd', 'verbose': 0}\n",
      "-0.245302 (0.077415) with: {'activation': 'softplus', 'batch_size': 8, 'dropout_rate': 0.25, 'epochs': 2000, 'neurons': 10, 'optimizer': 'adam', 'verbose': 0}\n",
      "-0.232356 (0.039290) with: {'activation': 'softplus', 'batch_size': 8, 'dropout_rate': 0.25, 'epochs': 2000, 'neurons': 10, 'optimizer': 'adamax', 'verbose': 0}\n",
      "-0.213906 (0.048569) with: {'activation': 'softplus', 'batch_size': 8, 'dropout_rate': 0.25, 'epochs': 2000, 'neurons': 10, 'optimizer': 'rmsprop', 'verbose': 0}\n",
      "-0.271991 (0.067238) with: {'activation': 'softplus', 'batch_size': 8, 'dropout_rate': 0.25, 'epochs': 2000, 'neurons': 10, 'optimizer': 'sgd', 'verbose': 0}\n",
      "-0.211481 (0.042502) with: {'activation': 'softplus', 'batch_size': 16, 'dropout_rate': 0.05, 'epochs': 2000, 'neurons': 10, 'optimizer': 'adam', 'verbose': 0}\n",
      "-0.222784 (0.058346) with: {'activation': 'softplus', 'batch_size': 16, 'dropout_rate': 0.05, 'epochs': 2000, 'neurons': 10, 'optimizer': 'adamax', 'verbose': 0}\n",
      "-0.205201 (0.039721) with: {'activation': 'softplus', 'batch_size': 16, 'dropout_rate': 0.05, 'epochs': 2000, 'neurons': 10, 'optimizer': 'rmsprop', 'verbose': 0}\n",
      "-0.256744 (0.067709) with: {'activation': 'softplus', 'batch_size': 16, 'dropout_rate': 0.05, 'epochs': 2000, 'neurons': 10, 'optimizer': 'sgd', 'verbose': 0}\n",
      "-0.212827 (0.036481) with: {'activation': 'softplus', 'batch_size': 16, 'dropout_rate': 0.1, 'epochs': 2000, 'neurons': 10, 'optimizer': 'adam', 'verbose': 0}\n",
      "-0.238872 (0.064108) with: {'activation': 'softplus', 'batch_size': 16, 'dropout_rate': 0.1, 'epochs': 2000, 'neurons': 10, 'optimizer': 'adamax', 'verbose': 0}\n",
      "-0.238842 (0.074271) with: {'activation': 'softplus', 'batch_size': 16, 'dropout_rate': 0.1, 'epochs': 2000, 'neurons': 10, 'optimizer': 'rmsprop', 'verbose': 0}\n",
      "-0.266372 (0.065723) with: {'activation': 'softplus', 'batch_size': 16, 'dropout_rate': 0.1, 'epochs': 2000, 'neurons': 10, 'optimizer': 'sgd', 'verbose': 0}\n",
      "-0.244068 (0.077991) with: {'activation': 'softplus', 'batch_size': 16, 'dropout_rate': 0.15, 'epochs': 2000, 'neurons': 10, 'optimizer': 'adam', 'verbose': 0}\n",
      "-0.231431 (0.070248) with: {'activation': 'softplus', 'batch_size': 16, 'dropout_rate': 0.15, 'epochs': 2000, 'neurons': 10, 'optimizer': 'adamax', 'verbose': 0}\n",
      "-0.211886 (0.045841) with: {'activation': 'softplus', 'batch_size': 16, 'dropout_rate': 0.15, 'epochs': 2000, 'neurons': 10, 'optimizer': 'rmsprop', 'verbose': 0}\n",
      "-0.267595 (0.063420) with: {'activation': 'softplus', 'batch_size': 16, 'dropout_rate': 0.15, 'epochs': 2000, 'neurons': 10, 'optimizer': 'sgd', 'verbose': 0}\n",
      "-0.243599 (0.081339) with: {'activation': 'softplus', 'batch_size': 16, 'dropout_rate': 0.2, 'epochs': 2000, 'neurons': 10, 'optimizer': 'adam', 'verbose': 0}\n",
      "-0.244039 (0.084062) with: {'activation': 'softplus', 'batch_size': 16, 'dropout_rate': 0.2, 'epochs': 2000, 'neurons': 10, 'optimizer': 'adamax', 'verbose': 0}\n",
      "-0.241792 (0.079233) with: {'activation': 'softplus', 'batch_size': 16, 'dropout_rate': 0.2, 'epochs': 2000, 'neurons': 10, 'optimizer': 'rmsprop', 'verbose': 0}\n",
      "-0.269225 (0.063469) with: {'activation': 'softplus', 'batch_size': 16, 'dropout_rate': 0.2, 'epochs': 2000, 'neurons': 10, 'optimizer': 'sgd', 'verbose': 0}\n",
      "-0.244188 (0.082389) with: {'activation': 'softplus', 'batch_size': 16, 'dropout_rate': 0.25, 'epochs': 2000, 'neurons': 10, 'optimizer': 'adam', 'verbose': 0}\n",
      "-0.233571 (0.070182) with: {'activation': 'softplus', 'batch_size': 16, 'dropout_rate': 0.25, 'epochs': 2000, 'neurons': 10, 'optimizer': 'adamax', 'verbose': 0}\n",
      "-0.241061 (0.081011) with: {'activation': 'softplus', 'batch_size': 16, 'dropout_rate': 0.25, 'epochs': 2000, 'neurons': 10, 'optimizer': 'rmsprop', 'verbose': 0}\n",
      "-0.269083 (0.062610) with: {'activation': 'softplus', 'batch_size': 16, 'dropout_rate': 0.25, 'epochs': 2000, 'neurons': 10, 'optimizer': 'sgd', 'verbose': 0}\n",
      "-0.231076 (0.076091) with: {'activation': 'softplus', 'batch_size': 32, 'dropout_rate': 0.05, 'epochs': 2000, 'neurons': 10, 'optimizer': 'adam', 'verbose': 0}\n",
      "-0.233556 (0.063779) with: {'activation': 'softplus', 'batch_size': 32, 'dropout_rate': 0.05, 'epochs': 2000, 'neurons': 10, 'optimizer': 'adamax', 'verbose': 0}\n",
      "-0.211558 (0.056445) with: {'activation': 'softplus', 'batch_size': 32, 'dropout_rate': 0.05, 'epochs': 2000, 'neurons': 10, 'optimizer': 'rmsprop', 'verbose': 0}\n",
      "-0.258218 (0.066571) with: {'activation': 'softplus', 'batch_size': 32, 'dropout_rate': 0.05, 'epochs': 2000, 'neurons': 10, 'optimizer': 'sgd', 'verbose': 0}\n",
      "-0.230616 (0.068979) with: {'activation': 'softplus', 'batch_size': 32, 'dropout_rate': 0.1, 'epochs': 2000, 'neurons': 10, 'optimizer': 'adam', 'verbose': 0}\n",
      "-0.241875 (0.062974) with: {'activation': 'softplus', 'batch_size': 32, 'dropout_rate': 0.1, 'epochs': 2000, 'neurons': 10, 'optimizer': 'adamax', 'verbose': 0}\n",
      "-0.206562 (0.045556) with: {'activation': 'softplus', 'batch_size': 32, 'dropout_rate': 0.1, 'epochs': 2000, 'neurons': 10, 'optimizer': 'rmsprop', 'verbose': 0}\n",
      "-0.266106 (0.062940) with: {'activation': 'softplus', 'batch_size': 32, 'dropout_rate': 0.1, 'epochs': 2000, 'neurons': 10, 'optimizer': 'sgd', 'verbose': 0}\n",
      "-0.242892 (0.086281) with: {'activation': 'softplus', 'batch_size': 32, 'dropout_rate': 0.15, 'epochs': 2000, 'neurons': 10, 'optimizer': 'adam', 'verbose': 0}\n",
      "-0.243258 (0.064109) with: {'activation': 'softplus', 'batch_size': 32, 'dropout_rate': 0.15, 'epochs': 2000, 'neurons': 10, 'optimizer': 'adamax', 'verbose': 0}\n",
      "-0.204984 (0.046515) with: {'activation': 'softplus', 'batch_size': 32, 'dropout_rate': 0.15, 'epochs': 2000, 'neurons': 10, 'optimizer': 'rmsprop', 'verbose': 0}\n",
      "-0.267020 (0.062746) with: {'activation': 'softplus', 'batch_size': 32, 'dropout_rate': 0.15, 'epochs': 2000, 'neurons': 10, 'optimizer': 'sgd', 'verbose': 0}\n",
      "-0.259418 (0.063234) with: {'activation': 'softplus', 'batch_size': 32, 'dropout_rate': 0.2, 'epochs': 2000, 'neurons': 10, 'optimizer': 'adam', 'verbose': 0}\n",
      "-0.252830 (0.070665) with: {'activation': 'softplus', 'batch_size': 32, 'dropout_rate': 0.2, 'epochs': 2000, 'neurons': 10, 'optimizer': 'adamax', 'verbose': 0}\n",
      "-0.209673 (0.050237) with: {'activation': 'softplus', 'batch_size': 32, 'dropout_rate': 0.2, 'epochs': 2000, 'neurons': 10, 'optimizer': 'rmsprop', 'verbose': 0}\n",
      "-0.269161 (0.063784) with: {'activation': 'softplus', 'batch_size': 32, 'dropout_rate': 0.2, 'epochs': 2000, 'neurons': 10, 'optimizer': 'sgd', 'verbose': 0}\n",
      "-0.241261 (0.081693) with: {'activation': 'softplus', 'batch_size': 32, 'dropout_rate': 0.25, 'epochs': 2000, 'neurons': 10, 'optimizer': 'adam', 'verbose': 0}\n",
      "-0.263390 (0.065952) with: {'activation': 'softplus', 'batch_size': 32, 'dropout_rate': 0.25, 'epochs': 2000, 'neurons': 10, 'optimizer': 'adamax', 'verbose': 0}\n",
      "-0.242944 (0.083652) with: {'activation': 'softplus', 'batch_size': 32, 'dropout_rate': 0.25, 'epochs': 2000, 'neurons': 10, 'optimizer': 'rmsprop', 'verbose': 0}\n",
      "-0.268242 (0.065141) with: {'activation': 'softplus', 'batch_size': 32, 'dropout_rate': 0.25, 'epochs': 2000, 'neurons': 10, 'optimizer': 'sgd', 'verbose': 0}\n",
      "-0.239916 (0.063911) with: {'activation': 'softplus', 'batch_size': 64, 'dropout_rate': 0.05, 'epochs': 2000, 'neurons': 10, 'optimizer': 'adam', 'verbose': 0}\n",
      "-0.233060 (0.066539) with: {'activation': 'softplus', 'batch_size': 64, 'dropout_rate': 0.05, 'epochs': 2000, 'neurons': 10, 'optimizer': 'adamax', 'verbose': 0}\n",
      "-0.213059 (0.060283) with: {'activation': 'softplus', 'batch_size': 64, 'dropout_rate': 0.05, 'epochs': 2000, 'neurons': 10, 'optimizer': 'rmsprop', 'verbose': 0}\n",
      "-0.254841 (0.065164) with: {'activation': 'softplus', 'batch_size': 64, 'dropout_rate': 0.05, 'epochs': 2000, 'neurons': 10, 'optimizer': 'sgd', 'verbose': 0}\n",
      "-0.251900 (0.067967) with: {'activation': 'softplus', 'batch_size': 64, 'dropout_rate': 0.1, 'epochs': 2000, 'neurons': 10, 'optimizer': 'adam', 'verbose': 0}\n",
      "-0.238703 (0.062348) with: {'activation': 'softplus', 'batch_size': 64, 'dropout_rate': 0.1, 'epochs': 2000, 'neurons': 10, 'optimizer': 'adamax', 'verbose': 0}\n",
      "-0.223414 (0.067922) with: {'activation': 'softplus', 'batch_size': 64, 'dropout_rate': 0.1, 'epochs': 2000, 'neurons': 10, 'optimizer': 'rmsprop', 'verbose': 0}\n",
      "-0.265198 (0.066537) with: {'activation': 'softplus', 'batch_size': 64, 'dropout_rate': 0.1, 'epochs': 2000, 'neurons': 10, 'optimizer': 'sgd', 'verbose': 0}\n",
      "-0.256815 (0.071764) with: {'activation': 'softplus', 'batch_size': 64, 'dropout_rate': 0.15, 'epochs': 2000, 'neurons': 10, 'optimizer': 'adam', 'verbose': 0}\n",
      "-0.250553 (0.068482) with: {'activation': 'softplus', 'batch_size': 64, 'dropout_rate': 0.15, 'epochs': 2000, 'neurons': 10, 'optimizer': 'adamax', 'verbose': 0}\n",
      "-0.220824 (0.062214) with: {'activation': 'softplus', 'batch_size': 64, 'dropout_rate': 0.15, 'epochs': 2000, 'neurons': 10, 'optimizer': 'rmsprop', 'verbose': 0}\n",
      "-0.268157 (0.061970) with: {'activation': 'softplus', 'batch_size': 64, 'dropout_rate': 0.15, 'epochs': 2000, 'neurons': 10, 'optimizer': 'sgd', 'verbose': 0}\n",
      "-0.264057 (0.064998) with: {'activation': 'softplus', 'batch_size': 64, 'dropout_rate': 0.2, 'epochs': 2000, 'neurons': 10, 'optimizer': 'adam', 'verbose': 0}\n",
      "-0.247606 (0.067853) with: {'activation': 'softplus', 'batch_size': 64, 'dropout_rate': 0.2, 'epochs': 2000, 'neurons': 10, 'optimizer': 'adamax', 'verbose': 0}\n",
      "-0.221833 (0.062468) with: {'activation': 'softplus', 'batch_size': 64, 'dropout_rate': 0.2, 'epochs': 2000, 'neurons': 10, 'optimizer': 'rmsprop', 'verbose': 0}\n",
      "-0.270729 (0.065506) with: {'activation': 'softplus', 'batch_size': 64, 'dropout_rate': 0.2, 'epochs': 2000, 'neurons': 10, 'optimizer': 'sgd', 'verbose': 0}\n",
      "-0.264724 (0.065721) with: {'activation': 'softplus', 'batch_size': 64, 'dropout_rate': 0.25, 'epochs': 2000, 'neurons': 10, 'optimizer': 'adam', 'verbose': 0}\n",
      "-0.256274 (0.072487) with: {'activation': 'softplus', 'batch_size': 64, 'dropout_rate': 0.25, 'epochs': 2000, 'neurons': 10, 'optimizer': 'adamax', 'verbose': 0}\n",
      "-0.243817 (0.084021) with: {'activation': 'softplus', 'batch_size': 64, 'dropout_rate': 0.25, 'epochs': 2000, 'neurons': 10, 'optimizer': 'rmsprop', 'verbose': 0}\n",
      "-0.271979 (0.062798) with: {'activation': 'softplus', 'batch_size': 64, 'dropout_rate': 0.25, 'epochs': 2000, 'neurons': 10, 'optimizer': 'sgd', 'verbose': 0}\n"
     ]
    }
   ],
   "source": [
    "# summarize results\n",
    "print(\"Best parameters: %f using %s\\n\" % (grid_search.best_score_, grid_search.best_params_))\n",
    "\n",
    "means = grid_search.cv_results_['mean_test_score']\n",
    "stds = grid_search.cv_results_['std_test_score']\n",
    "params = grid_search.cv_results_['params']\n",
    "for mean, stdev, param in zip(means, stds, params):\n",
    "    print(\"%f (%f) with: %r\" % (mean, stdev, param))"
   ]
  },
  {
   "cell_type": "code",
   "execution_count": 31,
   "metadata": {},
   "outputs": [],
   "source": [
    "result = pd.concat([pd.DataFrame(grid_search.cv_results_[\"params\"]),pd.DataFrame(grid_search.cv_results_[\"mean_test_score\"], columns=[\"score\"])],axis=1)"
   ]
  },
  {
   "cell_type": "code",
   "execution_count": 32,
   "metadata": {},
   "outputs": [
    {
     "data": {
      "text/html": [
       "<div>\n",
       "<style scoped>\n",
       "    .dataframe tbody tr th:only-of-type {\n",
       "        vertical-align: middle;\n",
       "    }\n",
       "\n",
       "    .dataframe tbody tr th {\n",
       "        vertical-align: top;\n",
       "    }\n",
       "\n",
       "    .dataframe thead th {\n",
       "        text-align: right;\n",
       "    }\n",
       "</style>\n",
       "<table border=\"1\" class=\"dataframe\">\n",
       "  <thead>\n",
       "    <tr style=\"text-align: right;\">\n",
       "      <th></th>\n",
       "      <th>activation</th>\n",
       "      <th>batch_size</th>\n",
       "      <th>dropout_rate</th>\n",
       "      <th>epochs</th>\n",
       "      <th>neurons</th>\n",
       "      <th>optimizer</th>\n",
       "      <th>verbose</th>\n",
       "      <th>score</th>\n",
       "    </tr>\n",
       "  </thead>\n",
       "  <tbody>\n",
       "    <tr>\n",
       "      <th>337</th>\n",
       "      <td>selu</td>\n",
       "      <td>8</td>\n",
       "      <td>0.25</td>\n",
       "      <td>2000</td>\n",
       "      <td>10</td>\n",
       "      <td>adamax</td>\n",
       "      <td>0</td>\n",
       "      <td>-0.197297</td>\n",
       "    </tr>\n",
       "    <tr>\n",
       "      <th>382</th>\n",
       "      <td>selu</td>\n",
       "      <td>64</td>\n",
       "      <td>0.05</td>\n",
       "      <td>2000</td>\n",
       "      <td>10</td>\n",
       "      <td>rmsprop</td>\n",
       "      <td>0</td>\n",
       "      <td>-0.198210</td>\n",
       "    </tr>\n",
       "    <tr>\n",
       "      <th>170</th>\n",
       "      <td>tanh</td>\n",
       "      <td>32</td>\n",
       "      <td>0.15</td>\n",
       "      <td>2000</td>\n",
       "      <td>10</td>\n",
       "      <td>rmsprop</td>\n",
       "      <td>0</td>\n",
       "      <td>-0.198999</td>\n",
       "    </tr>\n",
       "    <tr>\n",
       "      <th>137</th>\n",
       "      <td>tanh</td>\n",
       "      <td>8</td>\n",
       "      <td>0.25</td>\n",
       "      <td>2000</td>\n",
       "      <td>10</td>\n",
       "      <td>adamax</td>\n",
       "      <td>0</td>\n",
       "      <td>-0.199011</td>\n",
       "    </tr>\n",
       "    <tr>\n",
       "      <th>460</th>\n",
       "      <td>elu</td>\n",
       "      <td>32</td>\n",
       "      <td>0.05</td>\n",
       "      <td>2000</td>\n",
       "      <td>10</td>\n",
       "      <td>adam</td>\n",
       "      <td>0</td>\n",
       "      <td>-0.199220</td>\n",
       "    </tr>\n",
       "    <tr>\n",
       "      <th>...</th>\n",
       "      <td>...</td>\n",
       "      <td>...</td>\n",
       "      <td>...</td>\n",
       "      <td>...</td>\n",
       "      <td>...</td>\n",
       "      <td>...</td>\n",
       "      <td>...</td>\n",
       "      <td>...</td>\n",
       "    </tr>\n",
       "    <tr>\n",
       "      <th>212</th>\n",
       "      <td>relu</td>\n",
       "      <td>4</td>\n",
       "      <td>0.20</td>\n",
       "      <td>2000</td>\n",
       "      <td>10</td>\n",
       "      <td>adam</td>\n",
       "      <td>0</td>\n",
       "      <td>-0.452402</td>\n",
       "    </tr>\n",
       "    <tr>\n",
       "      <th>206</th>\n",
       "      <td>relu</td>\n",
       "      <td>4</td>\n",
       "      <td>0.10</td>\n",
       "      <td>2000</td>\n",
       "      <td>10</td>\n",
       "      <td>rmsprop</td>\n",
       "      <td>0</td>\n",
       "      <td>-0.456327</td>\n",
       "    </tr>\n",
       "    <tr>\n",
       "      <th>226</th>\n",
       "      <td>relu</td>\n",
       "      <td>8</td>\n",
       "      <td>0.10</td>\n",
       "      <td>2000</td>\n",
       "      <td>10</td>\n",
       "      <td>rmsprop</td>\n",
       "      <td>0</td>\n",
       "      <td>-0.457167</td>\n",
       "    </tr>\n",
       "    <tr>\n",
       "      <th>202</th>\n",
       "      <td>relu</td>\n",
       "      <td>4</td>\n",
       "      <td>0.05</td>\n",
       "      <td>2000</td>\n",
       "      <td>10</td>\n",
       "      <td>rmsprop</td>\n",
       "      <td>0</td>\n",
       "      <td>-0.501700</td>\n",
       "    </tr>\n",
       "    <tr>\n",
       "      <th>204</th>\n",
       "      <td>relu</td>\n",
       "      <td>4</td>\n",
       "      <td>0.10</td>\n",
       "      <td>2000</td>\n",
       "      <td>10</td>\n",
       "      <td>adam</td>\n",
       "      <td>0</td>\n",
       "      <td>-0.662419</td>\n",
       "    </tr>\n",
       "  </tbody>\n",
       "</table>\n",
       "<p>600 rows × 8 columns</p>\n",
       "</div>"
      ],
      "text/plain": [
       "    activation  batch_size  dropout_rate  epochs  neurons optimizer  verbose  \\\n",
       "337       selu           8          0.25    2000       10    adamax        0   \n",
       "382       selu          64          0.05    2000       10   rmsprop        0   \n",
       "170       tanh          32          0.15    2000       10   rmsprop        0   \n",
       "137       tanh           8          0.25    2000       10    adamax        0   \n",
       "460        elu          32          0.05    2000       10      adam        0   \n",
       "..         ...         ...           ...     ...      ...       ...      ...   \n",
       "212       relu           4          0.20    2000       10      adam        0   \n",
       "206       relu           4          0.10    2000       10   rmsprop        0   \n",
       "226       relu           8          0.10    2000       10   rmsprop        0   \n",
       "202       relu           4          0.05    2000       10   rmsprop        0   \n",
       "204       relu           4          0.10    2000       10      adam        0   \n",
       "\n",
       "        score  \n",
       "337 -0.197297  \n",
       "382 -0.198210  \n",
       "170 -0.198999  \n",
       "137 -0.199011  \n",
       "460 -0.199220  \n",
       "..        ...  \n",
       "212 -0.452402  \n",
       "206 -0.456327  \n",
       "226 -0.457167  \n",
       "202 -0.501700  \n",
       "204 -0.662419  \n",
       "\n",
       "[600 rows x 8 columns]"
      ]
     },
     "execution_count": 32,
     "metadata": {},
     "output_type": "execute_result"
    }
   ],
   "source": [
    "result.sort_values(by=\"score\", ascending=False)"
   ]
  },
  {
   "cell_type": "code",
   "execution_count": 33,
   "metadata": {},
   "outputs": [],
   "source": [
    "result.sort_values(by=\"score\", ascending=False).to_csv('gridsearch_percobaan2.csv',index=False)"
   ]
  },
  {
   "cell_type": "markdown",
   "metadata": {},
   "source": [
    "### Evaluasi Model LSTM-RNN"
   ]
  },
  {
   "cell_type": "code",
   "execution_count": 34,
   "metadata": {},
   "outputs": [],
   "source": [
    "# Set akhir waktu komputasi \n",
    "end = time.time()"
   ]
  },
  {
   "cell_type": "code",
   "execution_count": 35,
   "metadata": {},
   "outputs": [],
   "source": [
    "# Proses menghitung waktu komputasi\n",
    "hours, rem = divmod(end-start, 3600)\n",
    "minutes, seconds = divmod(rem, 60)"
   ]
  },
  {
   "cell_type": "code",
   "execution_count": 36,
   "metadata": {},
   "outputs": [
    {
     "name": "stdout",
     "output_type": "stream",
     "text": [
      "01:06:23.23\n"
     ]
    }
   ],
   "source": [
    "# Hasil waktu komputasi\n",
    "print(\"{:0>2}:{:0>2}:{:05.2f}\".format(int(hours),int(minutes),seconds))"
   ]
  },
  {
   "cell_type": "code",
   "execution_count": null,
   "metadata": {},
   "outputs": [],
   "source": []
  }
 ],
 "metadata": {
  "accelerator": "GPU",
  "colab": {
   "collapsed_sections": [],
   "name": "lstm-rnn-2.ipynb",
   "provenance": []
  },
  "kernelspec": {
   "display_name": "Python 3 (ipykernel)",
   "language": "python",
   "name": "python3"
  },
  "language_info": {
   "codemirror_mode": {
    "name": "ipython",
    "version": 3
   },
   "file_extension": ".py",
   "mimetype": "text/x-python",
   "name": "python",
   "nbconvert_exporter": "python",
   "pygments_lexer": "ipython3",
   "version": "3.9.16"
  }
 },
 "nbformat": 4,
 "nbformat_minor": 4
}
