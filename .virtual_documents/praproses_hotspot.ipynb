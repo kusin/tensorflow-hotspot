


# => load file lain
from ipynb.fs.full.class_akuisisi_data import *
from ipynb.fs.full.class_praproses_data import *
from ipynb.fs.full.class_visualisasi_data import *





# => proses membaca dataset
# 2001 - 2020
df_hotspot_modis = data_hotspot("modis_indonesia_2020_2020.csv")


df_hotspot_modis.info()


df_hotspot_modis








df_hotspot_modis_indo_harian = hotspot_harian(df_hotspot_modis)
df_hotspot_modis_indo_harian.info()


# reset index
df_hotspot_modis_indo_harian = df_hotspot_modis_indo_harian.reset_index()


df_hotspot_modis_indo_harian


# Menampilkan plot time serie
visual_time_series(df_hotspot_modis_indo_harian["acq_date"],
                   df_hotspot_modis_indo_harian["hotspot"],
                   "Tanggal", "Frekuensi", "Data hotspot harian", "Hotspot Indonesia tahun 2001 - 2020", "True")





df_hotspot_modis_indo_bulanan = hotspot_bulanan(df_hotspot_modis)
df_hotspot_modis_indo_bulanan.info()


# reset index
df_hotspot_modis_indo_bulanan = df_hotspot_modis_indo_bulanan.reset_index()


df_hotspot_modis_indo_bulanan


# Menampilkan plot time serie
visual_time_series(df_hotspot_modis_indo_bulanan["acq_date"],
                   df_hotspot_modis_indo_bulanan["hotspot"],
                   "Tanggal", "Frekuensi", "Data hotspot bulanan", "Hotspot Indonesia tahun 2001 - 2020", "True")





import pandas as pd;


# versi lama
# df_hotspot_modis_sumsel = data_hotspot("modis_sumsel_v1.csv")
# df_hotspot_modis_sumsel.info()

# versi baru
# load dataset csv
df_hotspot_modis_sumsel = pd.read_csv("dataset/modis_sumsel_harian.csv", engine="python")

# melakukan konversi data menjadi format tanggal pada kolom acq_date
df_hotspot_modis_sumsel["acq_date"] = pd.to_datetime(df_hotspot_modis_sumsel["acq_date"], format="%Y-%m-%d")

# seorting berdasarkan tanggal
df_hotspot_modis_sumsel = df_hotspot_modis_sumsel.sort_values(by=["acq_date"])


df_hotspot_modis_sumsel





# load dataset
df_hotspot_modis_sumsel_harian = hotspot_harian(df_hotspot_modis_sumsel)
df_hotspot_modis_sumsel_harian.info()


# reset index
df_hotspot_modis_sumsel_harian = df_hotspot_modis_sumsel_harian.reset_index()


df_hotspot_modis_sumsel_harian


df_hotspot_modis_sumsel_harian.describe()


# Menampilkan plot time serie
visual_time_series(df_hotspot_modis_sumsel_harian["acq_date"],
                   df_hotspot_modis_sumsel_harian["hotspot"],
                   "", "", "Hotspot Sumsel", "", "True")





# load dataset
df_hotspot_modis_sumsel_bulanan = hotspot_bulanan(df_hotspot_modis_sumsel)
df_hotspot_modis_sumsel_bulanan.info()


# reset index
df_hotspot_modis_sumsel_bulanan = df_hotspot_modis_sumsel_bulanan.reset_index()


df_hotspot_modis_sumsel_bulanan


df_hotspot_modis_sumsel_bulanan.describe()


# Menampilkan plot time serie
visual_time_series(df_hotspot_modis_sumsel_bulanan["acq_date"],
                   df_hotspot_modis_sumsel_bulanan["hotspot"],
                   "Tanggal", "Frekuensi", "Data hotspot bulanan", "Hotspot Provinsi Sumatra Selatan tahun 2001 - 2020", "True")





df = df_hotspot_modis_sumsel_bulanan.to_csv("dataset/modis_sumsel_bulanan.csv", index=False)


pd.read_csv("dataset/modis_sumsel_bulanan.csv")





# from jcopml.time_series.decomposition import additive_decomposition
# from jcopml.time_series.decomposition import multiplicative_decomposition
# from jcopml.time_series.decomposition import stl_decomposition


# dekomposisi_riau = data_hotspot("modis_riau_bulanan.csv")
# dekomposisi_riau = dekomposisi_riau.set_index("acq_date")
# dekomposisi_riau = dekomposisi_riau.hotspot


# hasil = additive_decomposition(dekomposisi_riau, plot=True)


# hasil = multiplicative_decomposition(dekomposisi_riau, plot=True)


# hasil = stl_decomposition(dekomposisi_riau, plot=True)





# dekomposisi_sumsel = data_hotspot("modis_sumsel_bulanan_v2.csv")
# dekomposisi_sumsel = dekomposisi_sumsel.set_index("acq_date")
# dekomposisi_sumsel = dekomposisi_sumsel.hotspot


# hasil = additive_decomposition(dekomposisi_sumsel, plot=True)


# hasil = multiplicative_decomposition(dekomposisi_sumsel, plot=True)


# hasil = stl_decomposition(dekomposisi_sumsel, plot=True)



