{
 "cells": [
  {
   "cell_type": "markdown",
   "metadata": {},
   "source": [
    "# Analisa Statistik - uji stasioneritas"
   ]
  },
  {
   "cell_type": "code",
   "execution_count": 1,
   "metadata": {},
   "outputs": [],
   "source": [
    "# pustaka untuk manipulasi data\n",
    "import pandas as pd\n",
    "from pandas import concat\n",
    "from pandas import DataFrame\n",
    "from pandas import read_csv\n",
    "from pandas import read_excel\n",
    "import numpy as np\n",
    "from numpy import concatenate\n",
    "\n",
    "# pustaka untuk waktu komputasi\n",
    "import time\n",
    "from datetime import datetime\n",
    "\n",
    "# Pustaka untuk visualisasi data\n",
    "import seaborn as sns\n",
    "from matplotlib import pyplot\n",
    "from matplotlib import pyplot as plt\n",
    "\n",
    "# Pustaka untuk visualisasi acf dan pacf\n",
    "import statsmodels.api as sm\n",
    "from statsmodels.graphics.tsaplots import plot_pacf\n",
    "from statsmodels.graphics.tsaplots import plot_acf\n",
    "\n",
    "# pustaka normalisasi data / membuat data latih dan data uji.\n",
    "from sklearn import preprocessing\n",
    "from sklearn.preprocessing import MinMaxScaler\n",
    "from sklearn.preprocessing import LabelEncoder\n",
    "from mlxtend.preprocessing import minmax_scaling\n",
    "\n",
    "# pustaka uji stasioneritas statsmodel\n",
    "import statsmodels.api as sm\n",
    "from statsmodels.tsa.stattools import adfuller\n",
    "from statsmodels.tsa.stattools import kpss\n",
    "\n",
    "# pustaka uji stasioneritas arch\n",
    "from arch.unitroot import *\n",
    "from arch.unitroot import ADF\n",
    "from arch.unitroot import PhillipsPerron\n",
    "from arch.unitroot import KPSS"
   ]
  },
  {
   "cell_type": "markdown",
   "metadata": {},
   "source": [
    "### 1. Akuisisi Data"
   ]
  },
  {
   "cell_type": "code",
   "execution_count": 2,
   "metadata": {},
   "outputs": [],
   "source": [
    "# Set waktu komputasi\n",
    "start = time.time()"
   ]
  },
  {
   "cell_type": "code",
   "execution_count": 3,
   "metadata": {},
   "outputs": [],
   "source": [
    "# fix random seed for reproducibility\n",
    "np.random.seed(1234)"
   ]
  },
  {
   "cell_type": "code",
   "execution_count": 4,
   "metadata": {},
   "outputs": [],
   "source": [
    "# membaca dataset menggunakan indexing\n",
    "dataset = read_excel(\"D:/Belajar Python/dataset/dataset tesis/dataset.xlsx\", index_col='tanggal', parse_dates=['tanggal'])"
   ]
  },
  {
   "cell_type": "code",
   "execution_count": 5,
   "metadata": {},
   "outputs": [],
   "source": [
    "# # set index tanggal\n",
    "# dataset = dataset.set_index(\"tanggal\")"
   ]
  },
  {
   "cell_type": "code",
   "execution_count": 6,
   "metadata": {},
   "outputs": [
    {
     "name": "stdout",
     "output_type": "stream",
     "text": [
      "<class 'pandas.core.frame.DataFrame'>\n",
      "DatetimeIndex: 240 entries, 2001-01-31 to 2020-12-31\n",
      "Data columns (total 5 columns):\n",
      " #   Column          Non-Null Count  Dtype  \n",
      "---  ------          --------------  -----  \n",
      " 0   sst             240 non-null    float64\n",
      " 1   soi             240 non-null    float64\n",
      " 2   oni             240 non-null    float64\n",
      " 3   curah_hujan     240 non-null    float64\n",
      " 4   hotspot_sumsel  240 non-null    int64  \n",
      "dtypes: float64(4), int64(1)\n",
      "memory usage: 11.2 KB\n"
     ]
    }
   ],
   "source": [
    "dataset.info()"
   ]
  },
  {
   "cell_type": "code",
   "execution_count": 7,
   "metadata": {},
   "outputs": [
    {
     "name": "stdout",
     "output_type": "stream",
     "text": [
      "             sst  soi   oni  curah_hujan  hotspot_sumsel\n",
      "tanggal                                                 \n",
      "2001-01-31 -0.76  1.0 -0.68   418.600006               3\n",
      "2001-02-28 -0.56  1.7 -0.52   295.399994               5\n",
      "2001-03-31 -0.37  0.9 -0.44   360.600006              10\n",
      "2001-04-30 -0.56  0.2 -0.34   403.700012              20\n",
      "2001-05-31 -0.46 -0.5 -0.25   116.900002              39\n",
      "...          ...  ...   ...          ...             ...\n",
      "2020-08-31 -0.52  1.1 -0.57    82.700005              65\n",
      "2020-09-30 -0.64  0.9 -0.89   211.800003              29\n",
      "2020-10-31 -1.13  0.5 -1.17   437.300018              40\n",
      "2020-11-30 -1.23  0.7 -1.27   237.400009              30\n",
      "2020-12-31 -0.99  1.8 -1.19   405.800018               8\n",
      "\n",
      "[240 rows x 5 columns]\n"
     ]
    }
   ],
   "source": [
    "print(dataset)"
   ]
  },
  {
   "cell_type": "markdown",
   "metadata": {},
   "source": [
    "- Studi Kasus Sumatera Selatan"
   ]
  },
  {
   "cell_type": "code",
   "execution_count": 8,
   "metadata": {},
   "outputs": [
    {
     "name": "stdout",
     "output_type": "stream",
     "text": [
      "<class 'pandas.core.frame.DataFrame'>\n",
      "DatetimeIndex: 240 entries, 2001-01-31 to 2020-12-31\n",
      "Data columns (total 1 columns):\n",
      " #   Column          Non-Null Count  Dtype\n",
      "---  ------          --------------  -----\n",
      " 0   hotspot_sumsel  240 non-null    int64\n",
      "dtypes: int64(1)\n",
      "memory usage: 3.8 KB\n"
     ]
    }
   ],
   "source": [
    "# memilih area studi\n",
    "df_sumsel = dataset[[\"hotspot_sumsel\"]].copy()\n",
    "df_sumsel.info()"
   ]
  },
  {
   "cell_type": "code",
   "execution_count": 9,
   "metadata": {},
   "outputs": [
    {
     "name": "stdout",
     "output_type": "stream",
     "text": [
      "            hotspot_sumsel\n",
      "tanggal                   \n",
      "2001-01-31               3\n",
      "2001-02-28               5\n",
      "2001-03-31              10\n",
      "2001-04-30              20\n",
      "2001-05-31              39\n",
      "...                    ...\n",
      "2020-08-31              65\n",
      "2020-09-30              29\n",
      "2020-10-31              40\n",
      "2020-11-30              30\n",
      "2020-12-31               8\n",
      "\n",
      "[240 rows x 1 columns]\n"
     ]
    }
   ],
   "source": [
    "print(df_sumsel)"
   ]
  },
  {
   "cell_type": "code",
   "execution_count": 34,
   "metadata": {},
   "outputs": [
    {
     "data": {
      "image/png": "[encoded data removed]",
      "text/plain": [
       "<Figure size 1080x288 with 2 Axes>"
      ]
     },
     "metadata": {},
     "output_type": "display_data"
    }
   ],
   "source": [
    "# code autocorrelation\n",
    "# membuat frame\n",
    "fig, ax= plt.subplots(nrows=1, ncols=2, facecolor=\"#F0F0F0\", figsize = (15,4))\n",
    "plot_acf(df_sumsel, lags=36, ax=ax[0])\n",
    "plot_pacf(df_sumsel,lags=36, ax=ax[1])\n",
    "ax[0].grid(True)\n",
    "ax[1].grid(True)\n",
    "plt.show()"
   ]
  },
  {
   "cell_type": "markdown",
   "metadata": {},
   "source": [
    "### 2. Normalisasi Data (Max-Min)"
   ]
  },
  {
   "cell_type": "code",
   "execution_count": 11,
   "metadata": {},
   "outputs": [],
   "source": [
    "# memanggil fungsi max min scaler\n",
    "scaler = preprocessing.MinMaxScaler(feature_range=(-1, 1))"
   ]
  },
  {
   "cell_type": "code",
   "execution_count": 12,
   "metadata": {},
   "outputs": [],
   "source": [
    "# proses max min scaler\n",
    "df_norm = scaler.fit_transform(df_sumsel)"
   ]
  },
  {
   "cell_type": "code",
   "execution_count": 13,
   "metadata": {},
   "outputs": [
    {
     "data": {
      "text/plain": [
       "array([[-0.999723],\n",
       "       [-0.999445],\n",
       "       [-0.998751],\n",
       "       [-0.997364],\n",
       "       [-0.994728]])"
      ]
     },
     "execution_count": 13,
     "metadata": {},
     "output_type": "execute_result"
    }
   ],
   "source": [
    "np.round(df_norm[:5],6)"
   ]
  },
  {
   "cell_type": "code",
   "execution_count": 14,
   "metadata": {},
   "outputs": [
    {
     "data": {
      "image/png": "[encoded data removed]",
      "text/plain": [
       "<Figure size 1440x360 with 2 Axes>"
      ]
     },
     "metadata": {
      "needs_background": "light"
     },
     "output_type": "display_data"
    }
   ],
   "source": [
    "# generate urutan data sesuai panjang datanya\n",
    "x = pd.date_range(start=\"2001-01-01\", periods=len(df_sumsel), freq='MS')\n",
    "\n",
    "# membuat frame\n",
    "fig, (ax1, ax2) = plt.subplots(nrows=1, ncols=2, figsize = (20,5))\n",
    "\n",
    "# Plot dataset non normalize min-max\n",
    "# -------------------------------------------------------------------------------\n",
    "# membuat time series plot\n",
    "ax1.plot(x, df_sumsel, color=\"tab:blue\", label=\"data orginal\", linewidth=2.5)\n",
    "\n",
    "# membuat label-label\n",
    "ax1.set_title(\"Hotspot Sumsel Sensor MODIS 2001-2020\", fontsize=14)\n",
    "ax1.set_xlabel(\"Tanggal\", fontsize=12)\n",
    "ax1.set_ylabel(\"Jumlah Hostpot\", fontsize=12)\n",
    "ax1.legend(loc='upper left')\n",
    "ax1.grid(True)\n",
    "\n",
    "\n",
    "# Plot dataset with normalize min-max\n",
    "# -------------------------------------------------------------------------------\n",
    "# membuat time series plot\n",
    "ax2.plot(x, df_norm, color=\"tab:blue\", label=\"dataset with Normalize Min-Max\", linewidth=2.5)\n",
    "\n",
    "# membuat label-label\n",
    "ax2.set_title(\"Hotspot Sumsel Sensor MODIS 2001-2020\", fontsize=14)\n",
    "ax2.set_xlabel(\"Tanggal\", fontsize=12)\n",
    "ax2.set_ylabel(\"Jumlah Hostpot\", fontsize=12)\n",
    "ax2.legend(loc='upper left')\n",
    "ax2.grid(True)\n",
    "\n",
    "# menampilkan plot\n",
    "plt.show()"
   ]
  },
  {
   "cell_type": "markdown",
   "metadata": {},
   "source": [
    "### Uji-Stasioneritas (ADF test, KPSS test, PP test) pada nilai tengah"
   ]
  },
  {
   "cell_type": "markdown",
   "metadata": {},
   "source": [
    "**ADF Test with statsmodel**\n",
    "- https://machinelearningmastery.com/time-series-data-stationary-python/\n",
    "- https://docs.w3cub.com/statsmodels/generated/statsmodels.tsa.stattools.adfuller\n",
    "- https://www.statsmodels.org/dev/generated/statsmodels.tsa.stattools.adfuller.html"
   ]
  },
  {
   "cell_type": "code",
   "execution_count": 15,
   "metadata": {},
   "outputs": [
    {
     "name": "stdout",
     "output_type": "stream",
     "text": [
      "----------------------------------\n",
      "ADF Statistic: -3.953299095578477\n",
      "p-value: 0.0016757925313053907\n",
      "n-lags: 15\n",
      "n-obs: 224\n",
      "----------------------------------\n",
      "Critial Values:\n",
      "   1%, -3.459884913337196\n",
      "   5%, -2.8745310704320794\n",
      "   10%, -2.573693840082908\n"
     ]
    }
   ],
   "source": [
    "# Formula ADF Test\n",
    "# result = adfuller(df_sumsel, maxlag=24, autolag='AIC')\n",
    "result = adfuller(df_sumsel, autolag=None)\n",
    "\n",
    "# print result ADF Tes \n",
    "print(\"----------------------------------\")\n",
    "print(f'ADF Statistic: {result[0]}')\n",
    "print(f'p-value: {result[1]}')\n",
    "print(f'n-lags: {result[2]}')\n",
    "print(f'n-obs: {result[3]}')\n",
    "\n",
    "print(\"----------------------------------\")\n",
    "print('Critial Values:')\n",
    "for key, value in result[4].items():\n",
    "    print(f'   {key}, {value}')"
   ]
  },
  {
   "cell_type": "code",
   "execution_count": 16,
   "metadata": {},
   "outputs": [
    {
     "name": "stdout",
     "output_type": "stream",
     "text": [
      "Strong evidence against the null hypothesis (Ho), Reject the null hypothesis, Data has no unit root and is stationary\n"
     ]
    }
   ],
   "source": [
    "if result[1] <= 0.05:\n",
    "    print('Strong evidence against the null hypothesis (Ho), Reject the null hypothesis, Data has no unit root and is stationary')\n",
    "else:\n",
    "    print('Weak evidence against the null hypothesis (Ho), time series has a unit root, indicating it is non stationary. ')"
   ]
  },
  {
   "cell_type": "markdown",
   "metadata": {},
   "source": [
    "**ADF Test with ARCH toolbox**\n",
    "- https://arch.readthedocs.io/en/latest/unitroot/generated/arch.unitroot.ADF.html"
   ]
  },
  {
   "cell_type": "markdown",
   "metadata": {},
   "source": [
    "Hipotesis 0 (H0): data terdapat akar unit. Artinya data bersifat non-stasioner\\\n",
    "Hipotesis 1 (H1): data terdapat tidak akar unit. Artinya data bersifat stasioner"
   ]
  },
  {
   "cell_type": "markdown",
   "metadata": {},
   "source": [
    "Jika p-value > 0.05 => Terima H0\\\n",
    "Jika p-value <= 0.05 => Terima H1 "
   ]
  },
  {
   "cell_type": "code",
   "execution_count": 17,
   "metadata": {},
   "outputs": [
    {
     "name": "stdout",
     "output_type": "stream",
     "text": [
      "   Augmented Dickey-Fuller Results   \n",
      "=====================================\n",
      "Test Statistic                 -3.953\n",
      "P-value                         0.002\n",
      "Lags                               15\n",
      "-------------------------------------\n",
      "\n",
      "Trend: Constant\n",
      "Critical Values: -3.46 (1%), -2.87 (5%), -2.57 (10%)\n",
      "Null Hypothesis: The process contains a unit root.\n",
      "Alternative Hypothesis: The process is weakly stationary.\n"
     ]
    }
   ],
   "source": [
    "adf = ADF(df_sumsel, lags=15)\n",
    "print(adf.summary().as_text())"
   ]
  },
  {
   "cell_type": "code",
   "execution_count": 18,
   "metadata": {},
   "outputs": [],
   "source": [
    "# # check linier regression with OLS\n",
    "# reg_res = adf.regression\n",
    "# print(reg_res.summary().as_text())"
   ]
  },
  {
   "cell_type": "markdown",
   "metadata": {},
   "source": [
    "**PP Test with ARCH toolbook**\n",
    "- https://arch.readthedocs.io/en/latest/unitroot/generated/arch.unitroot.PhillipsPerron.html"
   ]
  },
  {
   "cell_type": "markdown",
   "metadata": {},
   "source": [
    "Hipotesis 0 (H0): data terdapat akar unit. Artinya data bersifat non-stasioner\\\n",
    "Hipotesis 1 (H1): data terdapat tidak akar unit. Artinya data bersifat stasioner"
   ]
  },
  {
   "cell_type": "markdown",
   "metadata": {},
   "source": [
    "Jika p-value > 0.05 => Terima H0\\\n",
    "Jika p-value <= 0.05 => Terima H1 "
   ]
  },
  {
   "cell_type": "code",
   "execution_count": 19,
   "metadata": {},
   "outputs": [
    {
     "name": "stdout",
     "output_type": "stream",
     "text": [
      "     Phillips-Perron Test (Z-tau)    \n",
      "=====================================\n",
      "Test Statistic                 -6.489\n",
      "P-value                         0.000\n",
      "Lags                               15\n",
      "-------------------------------------\n",
      "\n",
      "Trend: Constant\n",
      "Critical Values: -3.46 (1%), -2.87 (5%), -2.57 (10%)\n",
      "Null Hypothesis: The process contains a unit root.\n",
      "Alternative Hypothesis: The process is weakly stationary.\n"
     ]
    }
   ],
   "source": [
    "pp = PhillipsPerron(df_sumsel, lags=15)\n",
    "print(pp.summary().as_text())"
   ]
  },
  {
   "cell_type": "code",
   "execution_count": 20,
   "metadata": {},
   "outputs": [],
   "source": [
    "# # check linier regression with OLS\n",
    "# reg_res = pp.regression\n",
    "# print(reg_res.summary().as_text())"
   ]
  },
  {
   "cell_type": "markdown",
   "metadata": {},
   "source": [
    "**KPSS Test with ARCH toolbook**\n",
    "- https://arch.readthedocs.io/en/latest/unitroot/generated/arch.unitroot.KPSS.html"
   ]
  },
  {
   "cell_type": "markdown",
   "metadata": {},
   "source": [
    "Hipotesis 0 (H0): data bersifat stasioner\\\n",
    "Hipotesis 1 (H1): data bersifat non-stasioner"
   ]
  },
  {
   "cell_type": "code",
   "execution_count": 21,
   "metadata": {},
   "outputs": [
    {
     "name": "stdout",
     "output_type": "stream",
     "text": [
      "    KPSS Stationarity Test Results   \n",
      "=====================================\n",
      "Test Statistic                  0.062\n",
      "P-value                         0.799\n",
      "Lags                               15\n",
      "-------------------------------------\n",
      "\n",
      "Trend: Constant\n",
      "Critical Values: 0.74 (1%), 0.46 (5%), 0.35 (10%)\n",
      "Null Hypothesis: The process is weakly stationary.\n",
      "Alternative Hypothesis: The process contains a unit root.\n"
     ]
    }
   ],
   "source": [
    "kpss = KPSS(df_sumsel, lags=15)\n",
    "print(kpss.summary().as_text())"
   ]
  },
  {
   "cell_type": "markdown",
   "metadata": {},
   "source": [
    "### Uji-Stasioneritas (Barlett dan Levene) pada nilai ragam"
   ]
  },
  {
   "cell_type": "markdown",
   "metadata": {},
   "source": [
    "- https://docs.scipy.org/doc/scipy/reference/generated/scipy.stats.bartlett.html\n",
    "- https://docs.scipy.org/doc/scipy/reference/generated/scipy.stats.levene.html"
   ]
  },
  {
   "cell_type": "code",
   "execution_count": 22,
   "metadata": {},
   "outputs": [],
   "source": [
    "from scipy.stats import bartlett\n",
    "from scipy.stats import levene"
   ]
  },
  {
   "cell_type": "code",
   "execution_count": null,
   "metadata": {},
   "outputs": [],
   "source": []
  },
  {
   "cell_type": "code",
   "execution_count": null,
   "metadata": {},
   "outputs": [],
   "source": []
  },
  {
   "cell_type": "code",
   "execution_count": null,
   "metadata": {},
   "outputs": [],
   "source": []
  }
 ],
 "metadata": {
  "kernelspec": {
   "display_name": "Python 3 (ipykernel)",
   "language": "python",
   "name": "python3"
  },
  "language_info": {
   "codemirror_mode": {
    "name": "ipython",
    "version": 3
   },
   "file_extension": ".py",
   "mimetype": "text/x-python",
   "name": "python",
   "nbconvert_exporter": "python",
   "pygments_lexer": "ipython3",
   "version": "3.9.13"
  },
  "vscode": {
   "interpreter": {
    "hash": "37197ad202cea1caf8a636a74cec7c83b945e4f29ac1505900600f740c02611d"
   }
  }
 },
 "nbformat": 4,
 "nbformat_minor": 4
}
