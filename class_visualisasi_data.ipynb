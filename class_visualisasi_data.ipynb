{
 "cells": [
  {
   "attachments": {},
   "cell_type": "markdown",
   "id": "02877b1c",
   "metadata": {},
   "source": [
    "## Class Visualisasi Data"
   ]
  },
  {
   "cell_type": "code",
   "execution_count": 1,
   "id": "e4bf4ef6",
   "metadata": {},
   "outputs": [],
   "source": [
    "# Pustaka untuk visualisasi data\n",
    "import seaborn as sns\n",
    "import matplotlib.pyplot as plt\n",
    "import matplotlib.dates as mdates\n",
    "from matplotlib.dates import DateFormatter"
   ]
  },
  {
   "cell_type": "code",
   "execution_count": 2,
   "id": "a793e173",
   "metadata": {},
   "outputs": [],
   "source": [
    "# => Visualisasi Time Series\n",
    "def visual_time_series(nilai_x, nilai_y, nm_xlabel, nm_ylabel, nm_label, nm_title, custom_date):\n",
    "    # membuat frame\n",
    "    fig, ax = plt.subplots(figsize = (10,5))\n",
    "    \n",
    "    # membuat time series plot\n",
    "    ax.plot(nilai_x, nilai_y, color=\"tab:blue\", label=nm_label, linewidth=2.5)\n",
    "    \n",
    "    # membuat label-label\n",
    "    ax.set_title(nm_title, fontsize=14)\n",
    "    ax.set_xlabel(nm_xlabel, fontsize=12)\n",
    "    ax.set_ylabel(nm_ylabel, fontsize=12)\n",
    "    ax.legend(loc='best')\n",
    "    ax.grid(True)\n",
    "    \n",
    "    # Define the date format\n",
    "    if custom_date == \"True\":\n",
    "        date_form = DateFormatter(\"%b-%Y\")\n",
    "        ax.xaxis.set_major_formatter(date_form)\n",
    "        \n",
    "    # menampilkan plot\n",
    "    plt.show()"
   ]
  },
  {
   "cell_type": "code",
   "execution_count": 3,
   "id": "db34139a",
   "metadata": {},
   "outputs": [],
   "source": [
    "# => Visualisasi Time Series\n",
    "def visual_time_series_v1(nilai_x1, nilai_x2, nilai_y1, nilai_y2, nm_xlabel, nm_ylabel, nm_label1, nm_label2, nm_title, custom_date):\n",
    "    # membuat frame\n",
    "    fig, ax = plt.subplots(figsize = (10,5))\n",
    "    \n",
    "    # membuat time series plot\n",
    "    ax.plot(nilai_x1, nilai_y1, color=\"tab:blue\", label=nm_label1, linewidth=2.5)\n",
    "    ax.plot(nilai_x2, nilai_y2, color=\"tab:red\", label=nm_label2, linewidth=2.5)\n",
    "    \n",
    "    # membuat label-label\n",
    "    ax.set_title(nm_title, fontsize=14)\n",
    "    ax.set_xlabel(nm_xlabel, fontsize=12)\n",
    "    ax.set_ylabel(nm_ylabel, fontsize=12)\n",
    "    ax.legend(loc='upper left')\n",
    "    ax.grid(True)\n",
    "    \n",
    "    # Define the date format\n",
    "    if custom_date == \"True\":\n",
    "        date_form = DateFormatter(\"%b-%Y\")\n",
    "        ax.xaxis.set_major_formatter(date_form)\n",
    "        \n",
    "    # menampilkan plot\n",
    "    plt.show()"
   ]
  },
  {
   "cell_type": "code",
   "execution_count": 4,
   "id": "bd8ebff0",
   "metadata": {},
   "outputs": [],
   "source": [
    "# => Visualisasi Time Series ENSO\n",
    "def visual_time_series_v2(nilai_x, nilai_y, nm_xlabel, nm_ylabel, nm_label, nm_title, custom_date):\n",
    "    # membuat frame\n",
    "    fig, ax = plt.subplots(figsize = (10,5))\n",
    "    \n",
    "    # membuat time series plot\n",
    "    ax.plot(nilai_x, nilai_y, color=\"tab:blue\", label=nm_label, linewidth=2.5)\n",
    "    ax.axhline(y = 0, color = \"red\", linestyle = '-')\n",
    "    \n",
    "    # membuat label-label\n",
    "    ax.set_title(nm_title, fontsize=14)\n",
    "    ax.set_xlabel(nm_xlabel, fontsize=12)\n",
    "    ax.set_ylabel(nm_ylabel, fontsize=12)\n",
    "    ax.legend(loc='upper left')\n",
    "    ax.grid(True)\n",
    "    \n",
    "    # Define the date format\n",
    "    if custom_date == \"True\":\n",
    "        date_form = DateFormatter(\"%b-%Y\")\n",
    "        ax.xaxis.set_major_formatter(date_form)\n",
    "    \n",
    "    # menampilkan plot\n",
    "    plt.show()"
   ]
  },
  {
   "cell_type": "code",
   "execution_count": 5,
   "id": "3aa478b4",
   "metadata": {},
   "outputs": [],
   "source": [
    "# visualisasi netsed time serie\n",
    "def visual_time_series_v3(df, nm_color, nm_label, nm_xlabel, nm_ylabel, nm_title):\n",
    "    # membuat frame\n",
    "    fig, ax = plt.subplots(figsize = (10,5))\n",
    "    \n",
    "    # membuat time series plot\n",
    "    for x in range(len(df.columns.values)):\n",
    "        ax.plot(df.index.values, df.iloc[:, x:x+1], color=\"tab:\"+nm_color[x], label=nm_label[x], linewidth=2.5)\n",
    "    \n",
    "    # membuat label-label\n",
    "    ax.set_title(nm_title, fontsize=14)\n",
    "    ax.set_xlabel(nm_xlabel, fontsize=12)\n",
    "    ax.set_ylabel(nm_ylabel, fontsize=12)\n",
    "    ax.legend(loc='upper left')\n",
    "    ax.grid(True)\n",
    "    \n",
    "    # menampilkan plot\n",
    "    plt.show()"
   ]
  },
  {
   "cell_type": "code",
   "execution_count": 6,
   "id": "e0af1916",
   "metadata": {},
   "outputs": [],
   "source": [
    "# fungsi menampilkan viusalisasi heatmap correlation\n",
    "def visual_heatmap(df, nm_corr):\n",
    "    # membuat perhitungan korelasi terlebih dahulu\n",
    "    df_corr = df.corr(method=nm_corr)\n",
    "    \n",
    "    # membuat frame heatmap\n",
    "    fig,ax = plt.subplots(figsize=(10,5))\n",
    "    \n",
    "    # proses visual heatmap\n",
    "    # => pilihan warna lain untuk visual heatmap (coolwarm, Blues, RdYlGn_r, viridis, YlGnBu)\n",
    "    sns.heatmap(df_corr, cmap=\"viridis\", vmax=1, vmin=-1, annot=True, linewidths=1, fmt='.2f', ax=ax)\n",
    "    \n",
    "    # membuat title atau judul\n",
    "    plt.title(\"Heatmap Enso, Curah Hujan, Titik Panas\", fontsize=14)\n",
    "    \n",
    "    # Menampilkan hasil visualisasi\n",
    "    plt.show()"
   ]
  },
  {
   "cell_type": "code",
   "execution_count": 7,
   "id": "2c48ba00",
   "metadata": {},
   "outputs": [],
   "source": [
    "# fungsi menampilkan viusalisasi scatter plot\n",
    "def visual_scatter(nilai_x, nilai_y, nm_color, nm_label, nm_xlabel, nm_ylabel, nm_title):\n",
    "    # membuat frame scatter plot\n",
    "    fig, ax = plt.subplots(figsize = (20,7))\n",
    "\n",
    "    # membuat scatter plot\n",
    "    ax.scatter(nilai_x, nilai_y, color=\"tab:\"+nm_color, label=nm_label, linewidth=5, alpha=0.5)\n",
    "\n",
    "    # membuat label-label\n",
    "    ax.set_title(nm_title, fontsize=14)\n",
    "    ax.set_xlabel(nm_xlabel, fontsize=12)\n",
    "    ax.set_ylabel(nm_ylabel, fontsize=12)\n",
    "    ax.legend(loc='upper left')\n",
    "    ax.grid(True)\n",
    "\n",
    "    # Menampilkan Hasil Visualisasi\n",
    "    plt.show()"
   ]
  },
  {
   "cell_type": "code",
   "execution_count": 8,
   "id": "6e6c1bc5",
   "metadata": {},
   "outputs": [],
   "source": [
    "# fungsi menampilkan viusalisasi barplot\n",
    "def visual_barplot(nilai_x, nilai_y, nm_color, nm_title):\n",
    "    # Membuat frame barplot\n",
    "    fig, ax = plt.subplots(figsize=(20, 7))\n",
    "\n",
    "    # Membuat barplot jumlah positif\n",
    "    ax.bar(nilai_x, nilai_y, color=nm_color)\n",
    "\n",
    "    # membuat label-label\n",
    "    ax.set_title(nm_title, fontsize=16)\n",
    "    \n",
    "    # Menampilkan hasilnya\n",
    "    plt.xticks(rotation=90)\n",
    "    plt.yticks(rotation=0)\n",
    "    plt.grid(True)\n",
    "    plt.show()"
   ]
  },
  {
   "cell_type": "code",
   "execution_count": null,
   "id": "78827383",
   "metadata": {},
   "outputs": [],
   "source": []
  }
 ],
 "metadata": {
  "kernelspec": {
   "display_name": "Python 3 (ipykernel)",
   "language": "python",
   "name": "python3"
  },
  "language_info": {
   "codemirror_mode": {
    "name": "ipython",
    "version": 3
   },
   "file_extension": ".py",
   "mimetype": "text/x-python",
   "name": "python",
   "nbconvert_exporter": "python",
   "pygments_lexer": "ipython3",
   "version": "3.9.16"
  }
 },
 "nbformat": 4,
 "nbformat_minor": 5
}
