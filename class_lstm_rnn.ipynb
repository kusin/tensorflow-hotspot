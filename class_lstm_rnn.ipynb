{
 "cells": [
  {
   "cell_type": "markdown",
   "metadata": {},
   "source": [
    "## class model lstm rnn"
   ]
  },
  {
   "cell_type": "code",
   "execution_count": 1,
   "metadata": {},
   "outputs": [],
   "source": [
    "# Pustaka untuk membuat model prediksi LSTM-RNN\n",
    "#import tensorflow as tf\n",
    "from keras.models import Sequential\n",
    "from keras.layers import LSTM, Dense, Dropout\n",
    "from keras.optimizers import Adam, Adamax, RMSprop, SGD\n",
    "\n",
    "# Pustaka untuk evaluasi model prediksi\n",
    "from math import sqrt\n",
    "from sklearn.metrics import mean_squared_error\n",
    "\n",
    "# Pustaka untuk visualisasi data\n",
    "import seaborn as sns\n",
    "import matplotlib.pyplot as plt"
   ]
  },
  {
   "cell_type": "code",
   "execution_count": 2,
   "metadata": {},
   "outputs": [],
   "source": [
    "# Optimizers dan Aktivasi\n",
    "def model_loss1(train_X, train_y, test_X, test_y, act_func, act_opt):\n",
    "    \n",
    "    # design network\n",
    "    model = Sequential()\n",
    "    model.add(LSTM(50, activation=act_func, input_shape=(train_X.shape[1], train_X.shape[2])))\n",
    "    model.add(Dense(1))\n",
    "    \n",
    "    # model compile\n",
    "    model.compile(loss='mae', optimizer=act_opt)\n",
    "    \n",
    "    # fit network\n",
    "    history = model.fit(train_X, train_y,\n",
    "                        batch_size=64,\n",
    "                        epochs=500,\n",
    "                        verbose=0,\n",
    "                        validation_data=(test_X, test_y),\n",
    "                        shuffle=False)\n",
    "    \n",
    "    # plot learning curves\n",
    "    plt.plot(history.history['loss'], label='train')\n",
    "    plt.plot(history.history['val_loss'], label='test')\n",
    "    plt.title('Aktivasi= ' + str(act_func) + \" | \" + 'Optimizer= ' + str(act_opt))\n",
    "    plt.legend(loc='upper right')\n",
    "    plt.grid(True)"
   ]
  },
  {
   "cell_type": "code",
   "execution_count": 3,
   "metadata": {},
   "outputs": [],
   "source": [
    "# eksperimen learning rate\n",
    "def model_loss2(train_X, train_y, test_X, test_y, act_func, act_opt, act_lr):\n",
    "    \n",
    "    # design network\n",
    "    model = Sequential()\n",
    "    model.add(LSTM(50, activation=act_func, input_shape=(train_X.shape[1], train_X.shape[2])))\n",
    "    model.add(Dense(1))\n",
    "    \n",
    "    # model compile\n",
    "    # use optimizers adam\n",
    "    if act_opt == \"adam\":\n",
    "        model.compile(loss='mae', optimizer=Adam(lr=act_lr))\n",
    "    \n",
    "    # use optimizers adamax\n",
    "    if act_opt == \"adamax\":\n",
    "        model.compile(loss='mae', optimizer=Adamax(lr=act_lr))\n",
    "        \n",
    "    # use optimizers rmsprop\n",
    "    if act_opt == \"rmsprop\":\n",
    "        model.compile(loss='mae', optimizer=RMSprop(lr=act_lr))\n",
    "        \n",
    "    # use optimizers sgd\n",
    "    if act_opt == \"sgd\":\n",
    "        model.compile(loss='mae', optimizer=SGD(lr=act_lr))\n",
    "        \n",
    "    # fit network\n",
    "    history = model.fit(train_X, train_y,\n",
    "                        batch_size=64,\n",
    "                        epochs=1000,\n",
    "                        verbose=0,\n",
    "                        validation_data=(test_X, test_y),\n",
    "                        shuffle=False)\n",
    "    \n",
    "    # plot learning curves\n",
    "    plt.plot(history.history['loss'], label='train')\n",
    "    plt.plot(history.history['val_loss'], label='test')\n",
    "    plt.title(str(act_func) + \" & \" + str(act_opt) + \" | \" + 'lr=' + str(act_lr))\n",
    "    plt.legend(loc='upper right')\n",
    "    plt.grid(True)"
   ]
  },
  {
   "cell_type": "code",
   "execution_count": null,
   "metadata": {},
   "outputs": [],
   "source": []
  },
  {
   "cell_type": "code",
   "execution_count": null,
   "metadata": {},
   "outputs": [],
   "source": []
  }
 ],
 "metadata": {
  "kernelspec": {
   "display_name": "Python 3",
   "language": "python",
   "name": "python3"
  },
  "language_info": {
   "codemirror_mode": {
    "name": "ipython",
    "version": 3
   },
   "file_extension": ".py",
   "mimetype": "text/x-python",
   "name": "python",
   "nbconvert_exporter": "python",
   "pygments_lexer": "ipython3",
   "version": "3.8.5"
  }
 },
 "nbformat": 4,
 "nbformat_minor": 5
}
