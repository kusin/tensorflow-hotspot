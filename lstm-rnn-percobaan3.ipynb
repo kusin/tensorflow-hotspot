{
 "cells": [
  {
   "cell_type": "markdown",
   "metadata": {},
   "source": [
    "### LSTM-RNN Sumatera Selatan Percobaan 3\n",
    "- Titik Panas diperngaruhi oleh ENSO"
   ]
  },
  {
   "cell_type": "code",
   "execution_count": 1,
   "metadata": {},
   "outputs": [],
   "source": [
    "# library manipulation dataset\n",
    "import pandas as pd\n",
    "from pandas import concat\n",
    "from pandas import DataFrame\n",
    "from pandas import read_csv\n",
    "from pandas import read_excel\n",
    "\n",
    "# library manipulation array\n",
    "import numpy as np\n",
    "from numpy import concatenate\n",
    "from numpy import array\n",
    "\n",
    "# library configuration date and time\n",
    "import time\n",
    "from datetime import datetime\n",
    "\n",
    "# library data visualization\n",
    "import seaborn as sns\n",
    "import matplotlib.dates as mdates\n",
    "from matplotlib import pyplot\n",
    "from matplotlib import pyplot as plt\n",
    "\n",
    "# library analysis acf and pacf\n",
    "import statsmodels.api as sm\n",
    "from statsmodels.graphics.tsaplots import plot_pacf\n",
    "from statsmodels.graphics.tsaplots import plot_acf\n",
    "\n",
    "# library normalize data with max-min algorithm\n",
    "from sklearn.preprocessing import MinMaxScaler\n",
    "from sklearn.preprocessing import LabelEncoder\n",
    "from sklearn.pipeline import Pipeline\n",
    "\n",
    "# library algorithm lstm-rnn with keras\n",
    "import tensorflow as tf\n",
    "from tensorflow.keras import models\n",
    "from keras.models import Sequential\n",
    "from keras.layers import RNN\n",
    "from keras.layers import LSTM\n",
    "from keras.layers import GRU\n",
    "from keras.layers import Dense\n",
    "from keras.layers import Dropout\n",
    "from keras.layers import TimeDistributed\n",
    "from keras.layers import Bidirectional\n",
    "from keras.optimizers import Adam, Adamax, RMSprop, SGD\n",
    "from keras.layers import LeakyReLU\n",
    "\n",
    "# Early stoping\n",
    "from keras.callbacks import EarlyStopping\n",
    "from keras.callbacks import ModelCheckpoint\n",
    "\n",
    "# library evaluation model\n",
    "from math import sqrt\n",
    "from sklearn.metrics import make_scorer\n",
    "from sklearn.metrics import mean_squared_error\n",
    "from sklearn.metrics import mean_absolute_error"
   ]
  },
  {
   "cell_type": "code",
   "execution_count": 2,
   "metadata": {},
   "outputs": [],
   "source": [
    "# Set waktu komputasi\n",
    "start = time.time()"
   ]
  },
  {
   "cell_type": "code",
   "execution_count": 3,
   "metadata": {},
   "outputs": [],
   "source": [
    "# fix random seed for reproducibility\n",
    "np.random.seed(1234)"
   ]
  },
  {
   "cell_type": "code",
   "execution_count": 4,
   "metadata": {},
   "outputs": [],
   "source": [
    "# membaca dataset\n",
    "dataset = read_excel(\"dataset/dataset.xlsx\")"
   ]
  },
  {
   "cell_type": "code",
   "execution_count": 5,
   "metadata": {},
   "outputs": [],
   "source": [
    "# set index tanggal\n",
    "dataset = dataset.set_index(\"tanggal\")"
   ]
  },
  {
   "cell_type": "code",
   "execution_count": 6,
   "metadata": {},
   "outputs": [
    {
     "name": "stdout",
     "output_type": "stream",
     "text": [
      "<class 'pandas.core.frame.DataFrame'>\n",
      "DatetimeIndex: 240 entries, 2001-01-31 to 2020-12-31\n",
      "Data columns (total 5 columns):\n",
      " #   Column          Non-Null Count  Dtype  \n",
      "---  ------          --------------  -----  \n",
      " 0   sst             240 non-null    float64\n",
      " 1   soi             240 non-null    float64\n",
      " 2   oni             240 non-null    float64\n",
      " 3   curah_hujan     240 non-null    float64\n",
      " 4   hotspot_sumsel  240 non-null    int64  \n",
      "dtypes: float64(4), int64(1)\n",
      "memory usage: 11.2 KB\n"
     ]
    }
   ],
   "source": [
    "dataset.info()"
   ]
  },
  {
   "cell_type": "code",
   "execution_count": 7,
   "metadata": {},
   "outputs": [
    {
     "name": "stdout",
     "output_type": "stream",
     "text": [
      "             sst  soi   oni  curah_hujan  hotspot_sumsel\n",
      "tanggal                                                 \n",
      "2001-01-31 -0.76  1.0 -0.68   418.600006               3\n",
      "2001-02-28 -0.56  1.7 -0.52   295.399994               5\n",
      "2001-03-31 -0.37  0.9 -0.44   360.600006              10\n",
      "2001-04-30 -0.56  0.2 -0.34   403.700012              20\n",
      "2001-05-31 -0.46 -0.5 -0.25   116.900002              39\n"
     ]
    }
   ],
   "source": [
    "print(dataset.head())"
   ]
  },
  {
   "cell_type": "markdown",
   "metadata": {},
   "source": [
    "### Studi Kasus Sumatera Selatan"
   ]
  },
  {
   "cell_type": "code",
   "execution_count": 8,
   "metadata": {},
   "outputs": [
    {
     "name": "stdout",
     "output_type": "stream",
     "text": [
      "<class 'pandas.core.frame.DataFrame'>\n",
      "DatetimeIndex: 240 entries, 2001-01-31 to 2020-12-31\n",
      "Data columns (total 3 columns):\n",
      " #   Column          Non-Null Count  Dtype  \n",
      "---  ------          --------------  -----  \n",
      " 0   hotspot_sumsel  240 non-null    int64  \n",
      " 1   sst             240 non-null    float64\n",
      " 2   soi             240 non-null    float64\n",
      "dtypes: float64(2), int64(1)\n",
      "memory usage: 7.5 KB\n"
     ]
    }
   ],
   "source": [
    "# memilih area studi\n",
    "df_sumsel = dataset[[\"hotspot_sumsel\", \"sst\", \"soi\"]]\n",
    "df_sumsel.info()"
   ]
  },
  {
   "cell_type": "code",
   "execution_count": 9,
   "metadata": {},
   "outputs": [
    {
     "name": "stdout",
     "output_type": "stream",
     "text": [
      "            hotspot_sumsel   sst  soi\n",
      "tanggal                              \n",
      "2001-01-31               3 -0.76  1.0\n",
      "2001-02-28               5 -0.56  1.7\n",
      "2001-03-31              10 -0.37  0.9\n",
      "2001-04-30              20 -0.56  0.2\n",
      "2001-05-31              39 -0.46 -0.5\n"
     ]
    }
   ],
   "source": [
    "print(df_sumsel.head())"
   ]
  },
  {
   "cell_type": "code",
   "execution_count": 10,
   "metadata": {},
   "outputs": [],
   "source": [
    "# ensure all data is float\n",
    "values = df_sumsel.values\n",
    "values = values.astype('float64')"
   ]
  },
  {
   "cell_type": "markdown",
   "metadata": {},
   "source": [
    "### Normalisasi Data"
   ]
  },
  {
   "cell_type": "code",
   "execution_count": 11,
   "metadata": {},
   "outputs": [],
   "source": [
    "# normalize features\n",
    "scaler = MinMaxScaler(feature_range=(-1, 1))\n",
    "scaled = scaler.fit_transform(values)"
   ]
  },
  {
   "cell_type": "code",
   "execution_count": 12,
   "metadata": {},
   "outputs": [
    {
     "data": {
      "text/plain": [
       "array([[-0.999723, -0.614849,  0.366667],\n",
       "       [-0.999445, -0.522042,  0.6     ],\n",
       "       [-0.998751, -0.433875,  0.333333],\n",
       "       [-0.997364, -0.522042,  0.1     ],\n",
       "       [-0.994728, -0.475638, -0.133333]])"
      ]
     },
     "execution_count": 12,
     "metadata": {},
     "output_type": "execute_result"
    }
   ],
   "source": [
    "np.round(scaled[:5],6)"
   ]
  },
  {
   "cell_type": "markdown",
   "metadata": {},
   "source": [
    "### Supervised Learning"
   ]
  },
  {
   "cell_type": "code",
   "execution_count": 13,
   "metadata": {},
   "outputs": [],
   "source": [
    "# convert series to supervised learning\n",
    "def series_to_supervised(data, n_in=1, n_out=1, dropnan=True):\n",
    "    n_vars = 1 if type(data) is list else data.shape[1]\n",
    "    df = DataFrame(data)\n",
    "    cols, names = list(), list()\n",
    "    \n",
    "    # input sequence (t-n, ... t-1)\n",
    "    for i in range(n_in, 0, -1):\n",
    "        cols.append(df.shift(i))\n",
    "        names += [('var%d(t-%d)' % (j+1, i)) for j in range(n_vars)]\n",
    "    \n",
    "    # forecast sequence (t, t+1, ... t+n)\n",
    "    for i in range(0, n_out):\n",
    "        cols.append(df.shift(-i))\n",
    "        if i == 0:\n",
    "            names += [('var%d(t)' % (j+1)) for j in range(n_vars)]\n",
    "        else:\n",
    "            names += [('var%d(t+%d)' % (j+1, i)) for j in range(n_vars)]\n",
    "    \n",
    "    # put it all together\n",
    "    agg = concat(cols, axis=1)\n",
    "    agg.columns = names\n",
    "    \n",
    "    # drop rows with NaN values\n",
    "    if dropnan:\n",
    "        agg.dropna(inplace=True)\n",
    "    \n",
    "    # return value\n",
    "    return agg"
   ]
  },
  {
   "cell_type": "code",
   "execution_count": 14,
   "metadata": {},
   "outputs": [],
   "source": [
    "# supervised learning\n",
    "reframed = series_to_supervised(scaled, 1, 1)"
   ]
  },
  {
   "cell_type": "code",
   "execution_count": 15,
   "metadata": {},
   "outputs": [
    {
     "data": {
      "text/html": [
       "<div>\n",
       "<style scoped>\n",
       "    .dataframe tbody tr th:only-of-type {\n",
       "        vertical-align: middle;\n",
       "    }\n",
       "\n",
       "    .dataframe tbody tr th {\n",
       "        vertical-align: top;\n",
       "    }\n",
       "\n",
       "    .dataframe thead th {\n",
       "        text-align: right;\n",
       "    }\n",
       "</style>\n",
       "<table border=\"1\" class=\"dataframe\">\n",
       "  <thead>\n",
       "    <tr style=\"text-align: right;\">\n",
       "      <th></th>\n",
       "      <th>var1(t-1)</th>\n",
       "      <th>var2(t-1)</th>\n",
       "      <th>var3(t-1)</th>\n",
       "      <th>var1(t)</th>\n",
       "      <th>var2(t)</th>\n",
       "      <th>var3(t)</th>\n",
       "    </tr>\n",
       "  </thead>\n",
       "  <tbody>\n",
       "    <tr>\n",
       "      <th>1</th>\n",
       "      <td>-0.999723</td>\n",
       "      <td>-0.614849</td>\n",
       "      <td>0.366667</td>\n",
       "      <td>-0.999445</td>\n",
       "      <td>-0.522042</td>\n",
       "      <td>0.600000</td>\n",
       "    </tr>\n",
       "    <tr>\n",
       "      <th>2</th>\n",
       "      <td>-0.999445</td>\n",
       "      <td>-0.522042</td>\n",
       "      <td>0.600000</td>\n",
       "      <td>-0.998751</td>\n",
       "      <td>-0.433875</td>\n",
       "      <td>0.333333</td>\n",
       "    </tr>\n",
       "    <tr>\n",
       "      <th>3</th>\n",
       "      <td>-0.998751</td>\n",
       "      <td>-0.433875</td>\n",
       "      <td>0.333333</td>\n",
       "      <td>-0.997364</td>\n",
       "      <td>-0.522042</td>\n",
       "      <td>0.100000</td>\n",
       "    </tr>\n",
       "    <tr>\n",
       "      <th>4</th>\n",
       "      <td>-0.997364</td>\n",
       "      <td>-0.522042</td>\n",
       "      <td>0.100000</td>\n",
       "      <td>-0.994728</td>\n",
       "      <td>-0.475638</td>\n",
       "      <td>-0.133333</td>\n",
       "    </tr>\n",
       "    <tr>\n",
       "      <th>5</th>\n",
       "      <td>-0.994728</td>\n",
       "      <td>-0.475638</td>\n",
       "      <td>-0.133333</td>\n",
       "      <td>-0.999029</td>\n",
       "      <td>-0.336427</td>\n",
       "      <td>0.133333</td>\n",
       "    </tr>\n",
       "  </tbody>\n",
       "</table>\n",
       "</div>"
      ],
      "text/plain": [
       "   var1(t-1)  var2(t-1)  var3(t-1)   var1(t)   var2(t)   var3(t)\n",
       "1  -0.999723  -0.614849   0.366667 -0.999445 -0.522042  0.600000\n",
       "2  -0.999445  -0.522042   0.600000 -0.998751 -0.433875  0.333333\n",
       "3  -0.998751  -0.433875   0.333333 -0.997364 -0.522042  0.100000\n",
       "4  -0.997364  -0.522042   0.100000 -0.994728 -0.475638 -0.133333\n",
       "5  -0.994728  -0.475638  -0.133333 -0.999029 -0.336427  0.133333"
      ]
     },
     "execution_count": 15,
     "metadata": {},
     "output_type": "execute_result"
    }
   ],
   "source": [
    "reframed.head()"
   ]
  },
  {
   "cell_type": "code",
   "execution_count": 16,
   "metadata": {},
   "outputs": [],
   "source": [
    "# drop columns we don't want to predict\n",
    "reframed.drop(reframed.columns[[4,5]], axis=1, inplace=True)"
   ]
  },
  {
   "cell_type": "code",
   "execution_count": 17,
   "metadata": {},
   "outputs": [],
   "source": [
    "values = reframed.values"
   ]
  },
  {
   "cell_type": "code",
   "execution_count": 18,
   "metadata": {},
   "outputs": [
    {
     "data": {
      "text/html": [
       "<div>\n",
       "<style scoped>\n",
       "    .dataframe tbody tr th:only-of-type {\n",
       "        vertical-align: middle;\n",
       "    }\n",
       "\n",
       "    .dataframe tbody tr th {\n",
       "        vertical-align: top;\n",
       "    }\n",
       "\n",
       "    .dataframe thead th {\n",
       "        text-align: right;\n",
       "    }\n",
       "</style>\n",
       "<table border=\"1\" class=\"dataframe\">\n",
       "  <thead>\n",
       "    <tr style=\"text-align: right;\">\n",
       "      <th></th>\n",
       "      <th>var1(t-1)</th>\n",
       "      <th>var2(t-1)</th>\n",
       "      <th>var3(t-1)</th>\n",
       "      <th>var1(t)</th>\n",
       "    </tr>\n",
       "  </thead>\n",
       "  <tbody>\n",
       "    <tr>\n",
       "      <th>1</th>\n",
       "      <td>-0.999723</td>\n",
       "      <td>-0.614849</td>\n",
       "      <td>0.366667</td>\n",
       "      <td>-0.999445</td>\n",
       "    </tr>\n",
       "    <tr>\n",
       "      <th>2</th>\n",
       "      <td>-0.999445</td>\n",
       "      <td>-0.522042</td>\n",
       "      <td>0.600000</td>\n",
       "      <td>-0.998751</td>\n",
       "    </tr>\n",
       "    <tr>\n",
       "      <th>3</th>\n",
       "      <td>-0.998751</td>\n",
       "      <td>-0.433875</td>\n",
       "      <td>0.333333</td>\n",
       "      <td>-0.997364</td>\n",
       "    </tr>\n",
       "    <tr>\n",
       "      <th>4</th>\n",
       "      <td>-0.997364</td>\n",
       "      <td>-0.522042</td>\n",
       "      <td>0.100000</td>\n",
       "      <td>-0.994728</td>\n",
       "    </tr>\n",
       "    <tr>\n",
       "      <th>5</th>\n",
       "      <td>-0.994728</td>\n",
       "      <td>-0.475638</td>\n",
       "      <td>-0.133333</td>\n",
       "      <td>-0.999029</td>\n",
       "    </tr>\n",
       "  </tbody>\n",
       "</table>\n",
       "</div>"
      ],
      "text/plain": [
       "   var1(t-1)  var2(t-1)  var3(t-1)   var1(t)\n",
       "1  -0.999723  -0.614849   0.366667 -0.999445\n",
       "2  -0.999445  -0.522042   0.600000 -0.998751\n",
       "3  -0.998751  -0.433875   0.333333 -0.997364\n",
       "4  -0.997364  -0.522042   0.100000 -0.994728\n",
       "5  -0.994728  -0.475638  -0.133333 -0.999029"
      ]
     },
     "execution_count": 18,
     "metadata": {},
     "output_type": "execute_result"
    }
   ],
   "source": [
    "reframed.head()"
   ]
  },
  {
   "cell_type": "markdown",
   "metadata": {},
   "source": [
    "### Data latih dan Data Uji"
   ]
  },
  {
   "cell_type": "code",
   "execution_count": 19,
   "metadata": {},
   "outputs": [],
   "source": [
    "# split into train and test sets\n",
    "train_size = int(len(values) * 0.8)\n",
    "test_size = len(values) - train_size\n",
    "train, test = values[0:train_size,:], values[train_size:len(values),:]"
   ]
  },
  {
   "cell_type": "code",
   "execution_count": 20,
   "metadata": {},
   "outputs": [],
   "source": [
    "# split into input and outputs\n",
    "train_X, train_y = train[:, :-1], train[:, -1]\n",
    "test_X, test_y = test[:, :-1], test[:, -1]"
   ]
  },
  {
   "cell_type": "markdown",
   "metadata": {},
   "source": [
    "- Check data train, for result supervised learning"
   ]
  },
  {
   "cell_type": "code",
   "execution_count": 21,
   "metadata": {},
   "outputs": [],
   "source": [
    "temp_train_X = pd.DataFrame(train_X)\n",
    "temp_train_y = pd.DataFrame(train_y)"
   ]
  },
  {
   "cell_type": "code",
   "execution_count": 22,
   "metadata": {},
   "outputs": [
    {
     "data": {
      "text/html": [
       "<div>\n",
       "<style scoped>\n",
       "    .dataframe tbody tr th:only-of-type {\n",
       "        vertical-align: middle;\n",
       "    }\n",
       "\n",
       "    .dataframe tbody tr th {\n",
       "        vertical-align: top;\n",
       "    }\n",
       "\n",
       "    .dataframe thead th {\n",
       "        text-align: right;\n",
       "    }\n",
       "</style>\n",
       "<table border=\"1\" class=\"dataframe\">\n",
       "  <thead>\n",
       "    <tr style=\"text-align: right;\">\n",
       "      <th></th>\n",
       "      <th>0</th>\n",
       "      <th>1</th>\n",
       "      <th>2</th>\n",
       "      <th>0</th>\n",
       "    </tr>\n",
       "  </thead>\n",
       "  <tbody>\n",
       "    <tr>\n",
       "      <th>0</th>\n",
       "      <td>-0.999723</td>\n",
       "      <td>-0.614849</td>\n",
       "      <td>0.366667</td>\n",
       "      <td>-0.999445</td>\n",
       "    </tr>\n",
       "    <tr>\n",
       "      <th>1</th>\n",
       "      <td>-0.999445</td>\n",
       "      <td>-0.522042</td>\n",
       "      <td>0.600000</td>\n",
       "      <td>-0.998751</td>\n",
       "    </tr>\n",
       "    <tr>\n",
       "      <th>2</th>\n",
       "      <td>-0.998751</td>\n",
       "      <td>-0.433875</td>\n",
       "      <td>0.333333</td>\n",
       "      <td>-0.997364</td>\n",
       "    </tr>\n",
       "    <tr>\n",
       "      <th>3</th>\n",
       "      <td>-0.997364</td>\n",
       "      <td>-0.522042</td>\n",
       "      <td>0.100000</td>\n",
       "      <td>-0.994728</td>\n",
       "    </tr>\n",
       "    <tr>\n",
       "      <th>4</th>\n",
       "      <td>-0.994728</td>\n",
       "      <td>-0.475638</td>\n",
       "      <td>-0.133333</td>\n",
       "      <td>-0.999029</td>\n",
       "    </tr>\n",
       "  </tbody>\n",
       "</table>\n",
       "</div>"
      ],
      "text/plain": [
       "          0         1         2         0\n",
       "0 -0.999723 -0.614849  0.366667 -0.999445\n",
       "1 -0.999445 -0.522042  0.600000 -0.998751\n",
       "2 -0.998751 -0.433875  0.333333 -0.997364\n",
       "3 -0.997364 -0.522042  0.100000 -0.994728\n",
       "4 -0.994728 -0.475638 -0.133333 -0.999029"
      ]
     },
     "execution_count": 22,
     "metadata": {},
     "output_type": "execute_result"
    }
   ],
   "source": [
    "hasil = pd.concat([temp_train_X, temp_train_y], axis=1)\n",
    "hasil.head()"
   ]
  },
  {
   "cell_type": "markdown",
   "metadata": {},
   "source": [
    "- Check data test, for result supervised learning"
   ]
  },
  {
   "cell_type": "code",
   "execution_count": 23,
   "metadata": {},
   "outputs": [],
   "source": [
    "temp_test_X = pd.DataFrame(test_X)\n",
    "temp_test_y = pd.DataFrame(test_y)"
   ]
  },
  {
   "cell_type": "code",
   "execution_count": 24,
   "metadata": {},
   "outputs": [
    {
     "data": {
      "text/html": [
       "<div>\n",
       "<style scoped>\n",
       "    .dataframe tbody tr th:only-of-type {\n",
       "        vertical-align: middle;\n",
       "    }\n",
       "\n",
       "    .dataframe tbody tr th {\n",
       "        vertical-align: top;\n",
       "    }\n",
       "\n",
       "    .dataframe thead th {\n",
       "        text-align: right;\n",
       "    }\n",
       "</style>\n",
       "<table border=\"1\" class=\"dataframe\">\n",
       "  <thead>\n",
       "    <tr style=\"text-align: right;\">\n",
       "      <th></th>\n",
       "      <th>0</th>\n",
       "      <th>1</th>\n",
       "      <th>2</th>\n",
       "      <th>0</th>\n",
       "    </tr>\n",
       "  </thead>\n",
       "  <tbody>\n",
       "    <tr>\n",
       "      <th>0</th>\n",
       "      <td>-0.999168</td>\n",
       "      <td>-0.415313</td>\n",
       "      <td>1.333333e-01</td>\n",
       "      <td>-0.998474</td>\n",
       "    </tr>\n",
       "    <tr>\n",
       "      <th>1</th>\n",
       "      <td>-0.998474</td>\n",
       "      <td>-0.382831</td>\n",
       "      <td>1.000000e-01</td>\n",
       "      <td>-0.999723</td>\n",
       "    </tr>\n",
       "    <tr>\n",
       "      <th>2</th>\n",
       "      <td>-0.999723</td>\n",
       "      <td>-0.215777</td>\n",
       "      <td>-1.179612e-16</td>\n",
       "      <td>-0.997503</td>\n",
       "    </tr>\n",
       "    <tr>\n",
       "      <th>3</th>\n",
       "      <td>-0.997503</td>\n",
       "      <td>-0.164733</td>\n",
       "      <td>3.333333e-01</td>\n",
       "      <td>-0.997364</td>\n",
       "    </tr>\n",
       "    <tr>\n",
       "      <th>4</th>\n",
       "      <td>-0.997364</td>\n",
       "      <td>-0.095128</td>\n",
       "      <td>-3.333333e-02</td>\n",
       "      <td>-0.994450</td>\n",
       "    </tr>\n",
       "  </tbody>\n",
       "</table>\n",
       "</div>"
      ],
      "text/plain": [
       "          0         1             2         0\n",
       "0 -0.999168 -0.415313  1.333333e-01 -0.998474\n",
       "1 -0.998474 -0.382831  1.000000e-01 -0.999723\n",
       "2 -0.999723 -0.215777 -1.179612e-16 -0.997503\n",
       "3 -0.997503 -0.164733  3.333333e-01 -0.997364\n",
       "4 -0.997364 -0.095128 -3.333333e-02 -0.994450"
      ]
     },
     "execution_count": 24,
     "metadata": {},
     "output_type": "execute_result"
    }
   ],
   "source": [
    "hasil = pd.concat([temp_test_X, temp_test_y], axis=1)\n",
    "hasil.head()"
   ]
  },
  {
   "cell_type": "markdown",
   "metadata": {},
   "source": [
    "- reshape input for samples, time steps, features"
   ]
  },
  {
   "cell_type": "code",
   "execution_count": 25,
   "metadata": {},
   "outputs": [],
   "source": [
    "# reshape input to be 3D [samples, timesteps, features]\n",
    "train_X = train_X.reshape((train_X.shape[0], 1, train_X.shape[1]))\n",
    "test_X = test_X.reshape((test_X.shape[0], 1, test_X.shape[1]))"
   ]
  },
  {
   "cell_type": "code",
   "execution_count": 26,
   "metadata": {},
   "outputs": [
    {
     "name": "stdout",
     "output_type": "stream",
     "text": [
      "(191, 1, 3) (191,)\n"
     ]
    }
   ],
   "source": [
    "print(train_X.shape, train_y.shape)"
   ]
  },
  {
   "cell_type": "code",
   "execution_count": 27,
   "metadata": {},
   "outputs": [
    {
     "name": "stdout",
     "output_type": "stream",
     "text": [
      "(48, 1, 3) (48,)\n"
     ]
    }
   ],
   "source": [
    "print(test_X.shape, test_y.shape)"
   ]
  },
  {
   "cell_type": "markdown",
   "metadata": {},
   "source": [
    "### Model Prediksi LSTM-RNN"
   ]
  },
  {
   "cell_type": "code",
   "execution_count": 28,
   "metadata": {},
   "outputs": [],
   "source": [
    "# design network grid serach\n",
    "model = Sequential()\n",
    "\n",
    "# First LSTM layer with Dropout regularisation\n",
    "model.add(\n",
    "    LSTM(\n",
    "        units=10,\n",
    "        activation='elu',\n",
    "        input_shape=(train_X.shape[1], train_X.shape[2])\n",
    "    )\n",
    ")\n",
    "model.add(Dropout(0.15))\n",
    "\n",
    "# The output layer\n",
    "model.add(Dense(1))\n",
    "\n",
    "# Compiling model the LSTM-RNN\n",
    "model.compile(\n",
    "    optimizer='rmsprop',\n",
    "    loss='mae',\n",
    "    metrics=[\n",
    "        tf.keras.metrics.MeanAbsoluteError(),\n",
    "        tf.keras.metrics.MeanSquaredError(),\n",
    "        tf.keras.metrics.RootMeanSquaredError()\n",
    "    ]\n",
    ")"
   ]
  },
  {
   "cell_type": "code",
   "execution_count": 29,
   "metadata": {},
   "outputs": [],
   "source": [
    "# fit network\n",
    "history = model.fit(train_X, train_y, epochs=2000, batch_size=16,\n",
    "                    validation_data=(test_X, test_y),\n",
    "                    verbose=0, shuffle=False)"
   ]
  },
  {
   "cell_type": "code",
   "execution_count": 30,
   "metadata": {},
   "outputs": [
    {
     "name": "stdout",
     "output_type": "stream",
     "text": [
      "Model: \"sequential\"\n",
      "_________________________________________________________________\n",
      " Layer (type)                Output Shape              Param #   \n",
      "=================================================================\n",
      " lstm (LSTM)                 (None, 10)                560       \n",
      "                                                                 \n",
      " dropout (Dropout)           (None, 10)                0         \n",
      "                                                                 \n",
      " dense (Dense)               (None, 1)                 11        \n",
      "                                                                 \n",
      "=================================================================\n",
      "Total params: 571\n",
      "Trainable params: 571\n",
      "Non-trainable params: 0\n",
      "_________________________________________________________________\n"
     ]
    }
   ],
   "source": [
    "model.summary()"
   ]
  },
  {
   "cell_type": "code",
   "execution_count": 31,
   "metadata": {},
   "outputs": [
    {
     "data": {
      "image/png": "[encoded data removed]",
      "text/plain": [
       "<Figure size 1000x500 with 1 Axes>"
      ]
     },
     "metadata": {},
     "output_type": "display_data"
    }
   ],
   "source": [
    "# membuat frame\n",
    "fig, ax = plt.subplots(figsize = (10,5))\n",
    "\n",
    "# membuat time series plot\n",
    "ax.plot(history.history['loss'], color=\"tab:blue\", label=\"train\", linewidth=1.5)\n",
    "ax.plot(history.history['val_loss'], color=\"tab:orange\", label=\"test\", linewidth=1.5)\n",
    "\n",
    "# membuat label-label\n",
    "ax.set_title(\"Grafik Loss Function\", fontsize=14)\n",
    "ax.legend(loc='upper right')\n",
    "ax.grid(True)\n",
    "\n",
    "# menampilkan plot\n",
    "plt.show()"
   ]
  },
  {
   "cell_type": "code",
   "execution_count": 32,
   "metadata": {},
   "outputs": [
    {
     "name": "stdout",
     "output_type": "stream",
     "text": [
      "[-0.98863137 -0.9874198  -0.98598224 -0.9883689  -0.9818949  -0.98236096\n",
      " -0.97377926 -0.981269   -0.97289246 -0.9656505  -0.98614985 -0.99171555\n",
      " -0.9905273  -0.9907518  -0.99059004 -0.9927926  -0.98756295 -0.98476905\n",
      " -0.9820239  -0.96900564 -0.9559489  -0.90233225 -0.95654994 -0.98053753\n",
      " -0.9941365  -0.98436624 -0.9775634  -0.98225677 -0.9839115  -0.97109663\n",
      " -0.9754317  -0.9648483  -0.8875386  -0.35493076 -0.61947364 -0.69216824\n",
      " -0.97536117 -0.9833219  -0.9818422  -0.9765627  -0.97925407 -0.9859692\n",
      " -0.98475885 -0.98543847 -0.98761487 -0.9896407  -0.99075323 -0.9928232 ]\n"
     ]
    }
   ],
   "source": [
    "# 5. make predictions\n",
    "predictions = model.predict(test_X, verbose=0)\n",
    "print(predictions[:, 0])"
   ]
  },
  {
   "cell_type": "markdown",
   "metadata": {},
   "source": [
    "### Evaluasi Model LSTM-RNN"
   ]
  },
  {
   "cell_type": "code",
   "execution_count": 33,
   "metadata": {},
   "outputs": [
    {
     "name": "stdout",
     "output_type": "stream",
     "text": [
      "6/6 [==============================] - 0s 2ms/step - loss: 0.0780 - mean_absolute_error: 0.0780 - mean_squared_error: 0.0448 - root_mean_squared_error: 0.2116\n"
     ]
    },
    {
     "data": {
      "text/plain": [
       "[0.0779871717095375,\n",
       " 0.0779871717095375,\n",
       " 0.044780366122722626,\n",
       " 0.2116137146949768]"
      ]
     },
     "execution_count": 33,
     "metadata": {},
     "output_type": "execute_result"
    }
   ],
   "source": [
    "scores = model.evaluate(train_X, train_y)\n",
    "scores"
   ]
  },
  {
   "cell_type": "code",
   "execution_count": 34,
   "metadata": {},
   "outputs": [
    {
     "name": "stdout",
     "output_type": "stream",
     "text": [
      "2/2 [==============================] - 0s 3ms/step - loss: 0.0327 - mean_absolute_error: 0.0327 - mean_squared_error: 0.0068 - root_mean_squared_error: 0.0824\n"
     ]
    },
    {
     "data": {
      "text/plain": [
       "[0.032676152884960175,\n",
       " 0.032676152884960175,\n",
       " 0.006797419860959053,\n",
       " 0.08244646340608597]"
      ]
     },
     "execution_count": 34,
     "metadata": {},
     "output_type": "execute_result"
    }
   ],
   "source": [
    "scores = model.evaluate(test_X, test_y)\n",
    "scores"
   ]
  },
  {
   "cell_type": "markdown",
   "metadata": {},
   "source": [
    "- MAE"
   ]
  },
  {
   "cell_type": "code",
   "execution_count": 35,
   "metadata": {},
   "outputs": [
    {
     "name": "stdout",
     "output_type": "stream",
     "text": [
      "Test MAE: 0.0327\n"
     ]
    }
   ],
   "source": [
    "mae = mean_absolute_error(test_y, predictions)\n",
    "print('Test MAE: %.4f' % mae)"
   ]
  },
  {
   "cell_type": "markdown",
   "metadata": {},
   "source": [
    "- MSE"
   ]
  },
  {
   "cell_type": "code",
   "execution_count": 36,
   "metadata": {},
   "outputs": [
    {
     "name": "stdout",
     "output_type": "stream",
     "text": [
      "Test MSE: 0.0068\n"
     ]
    }
   ],
   "source": [
    "mse = mean_squared_error(test_y, predictions)\n",
    "print('Test MSE: %.4f' % mse)"
   ]
  },
  {
   "cell_type": "markdown",
   "metadata": {},
   "source": [
    "- RMSE"
   ]
  },
  {
   "cell_type": "code",
   "execution_count": 37,
   "metadata": {},
   "outputs": [
    {
     "name": "stdout",
     "output_type": "stream",
     "text": [
      "Test RMSE: 0.0824\n"
     ]
    }
   ],
   "source": [
    "# calculate RMSE\n",
    "rmse = sqrt(mean_squared_error(test_y , predictions))\n",
    "print('Test RMSE: %.4f' % rmse)"
   ]
  },
  {
   "cell_type": "markdown",
   "metadata": {},
   "source": [
    "- korelasi dan signifikansi"
   ]
  },
  {
   "cell_type": "code",
   "execution_count": 38,
   "metadata": {},
   "outputs": [
    {
     "data": {
      "text/html": [
       "<div>\n",
       "<style scoped>\n",
       "    .dataframe tbody tr th:only-of-type {\n",
       "        vertical-align: middle;\n",
       "    }\n",
       "\n",
       "    .dataframe tbody tr th {\n",
       "        vertical-align: top;\n",
       "    }\n",
       "\n",
       "    .dataframe thead th {\n",
       "        text-align: right;\n",
       "    }\n",
       "</style>\n",
       "<table border=\"1\" class=\"dataframe\">\n",
       "  <thead>\n",
       "    <tr style=\"text-align: right;\">\n",
       "      <th></th>\n",
       "      <th>data_aktual</th>\n",
       "      <th>prediksi</th>\n",
       "    </tr>\n",
       "  </thead>\n",
       "  <tbody>\n",
       "    <tr>\n",
       "      <th>0</th>\n",
       "      <td>-0.998474</td>\n",
       "      <td>-0.988631</td>\n",
       "    </tr>\n",
       "    <tr>\n",
       "      <th>1</th>\n",
       "      <td>-0.999723</td>\n",
       "      <td>-0.987420</td>\n",
       "    </tr>\n",
       "    <tr>\n",
       "      <th>2</th>\n",
       "      <td>-0.997503</td>\n",
       "      <td>-0.985982</td>\n",
       "    </tr>\n",
       "    <tr>\n",
       "      <th>3</th>\n",
       "      <td>-0.997364</td>\n",
       "      <td>-0.988369</td>\n",
       "    </tr>\n",
       "    <tr>\n",
       "      <th>4</th>\n",
       "      <td>-0.994450</td>\n",
       "      <td>-0.981895</td>\n",
       "    </tr>\n",
       "  </tbody>\n",
       "</table>\n",
       "</div>"
      ],
      "text/plain": [
       "   data_aktual  prediksi\n",
       "0    -0.998474 -0.988631\n",
       "1    -0.999723 -0.987420\n",
       "2    -0.997503 -0.985982\n",
       "3    -0.997364 -0.988369\n",
       "4    -0.994450 -0.981895"
      ]
     },
     "execution_count": 38,
     "metadata": {},
     "output_type": "execute_result"
    }
   ],
   "source": [
    "hasil = np.stack((test_y.reshape(-1),predictions.reshape(-1)),axis=1)\n",
    "hasil = pd.DataFrame(hasil, columns = ['data_aktual','prediksi'])\n",
    "hasil.head()"
   ]
  },
  {
   "cell_type": "code",
   "execution_count": 39,
   "metadata": {},
   "outputs": [
    {
     "name": "stdout",
     "output_type": "stream",
     "text": [
      "korelasi data akual dengan hasil prediksi 0.7300 dengan signifikansi 0.0000 \n"
     ]
    }
   ],
   "source": [
    "import scipy.stats as sc\n",
    "r, p = sc.pearsonr(hasil[\"data_aktual\"], hasil[\"prediksi\"])\n",
    "print(\"korelasi data akual dengan hasil prediksi\" +\" {:.4f} \".format(r)+ \"dengan signifikansi\" +\" {:.4f} \".format(p))"
   ]
  },
  {
   "cell_type": "markdown",
   "metadata": {},
   "source": [
    "- Waktu komputasi"
   ]
  },
  {
   "cell_type": "code",
   "execution_count": 40,
   "metadata": {},
   "outputs": [],
   "source": [
    "# Set akhir waktu komputasi \n",
    "end = time.time()"
   ]
  },
  {
   "cell_type": "code",
   "execution_count": 41,
   "metadata": {},
   "outputs": [],
   "source": [
    "# Proses menghitung waktu komputasi\n",
    "hours, rem = divmod(end-start, 3600)\n",
    "minutes, seconds = divmod(rem, 60)"
   ]
  },
  {
   "cell_type": "code",
   "execution_count": 42,
   "metadata": {},
   "outputs": [
    {
     "name": "stdout",
     "output_type": "stream",
     "text": [
      "00:01:33.45\n"
     ]
    }
   ],
   "source": [
    "# Hasil waktu komputasi\n",
    "print(\"{:0>2}:{:0>2}:{:05.2f}\".format(int(hours),int(minutes),seconds))"
   ]
  },
  {
   "cell_type": "markdown",
   "metadata": {},
   "source": [
    "### Visualisasi hasil prediksi"
   ]
  },
  {
   "cell_type": "code",
   "execution_count": 43,
   "metadata": {},
   "outputs": [
    {
     "data": {
      "image/png": "[encoded data removed]",
      "text/plain": [
       "<Figure size 1000x500 with 1 Axes>"
      ]
     },
     "metadata": {},
     "output_type": "display_data"
    }
   ],
   "source": [
    "# generate urutan data sesuai panjang datanya\n",
    "x = pd.date_range(start=\"2017-01-01\", periods=len(test_y), freq='MS')\n",
    "\n",
    "# membuat frame\n",
    "fig, ax = plt.subplots(figsize = (10,5))\n",
    "\n",
    "# membuat time series plot\n",
    "ax.plot(x, test_y, color=\"tab:blue\", label=\"data aktual\", linewidth=2.5)\n",
    "ax.plot(x, predictions, color=\"tab:red\", label=\"hasil prediksi\", linewidth=2.5)\n",
    "\n",
    "# membuat label-label\n",
    "ax.xaxis.set_major_formatter(mdates.DateFormatter('%b-%Y'))\n",
    "ax.legend(loc='upper right')\n",
    "ax.grid(True)\n",
    "\n",
    "# menampilkan plot\n",
    "plt.show()"
   ]
  },
  {
   "cell_type": "markdown",
   "metadata": {},
   "source": [
    "### 9. Inverse Transform"
   ]
  },
  {
   "cell_type": "code",
   "execution_count": 44,
   "metadata": {},
   "outputs": [],
   "source": [
    "df_sumsel = np.array(dataset[\"hotspot_sumsel\"])"
   ]
  },
  {
   "cell_type": "code",
   "execution_count": 45,
   "metadata": {},
   "outputs": [],
   "source": [
    "scaler = MinMaxScaler(feature_range=(-1,1))\n",
    "df_sumsel = scaler.fit_transform(df_sumsel.reshape(-1,1))"
   ]
  },
  {
   "cell_type": "code",
   "execution_count": 46,
   "metadata": {},
   "outputs": [],
   "source": [
    "# inverse value test predictions\n",
    "testPredictions = scaler.inverse_transform(predictions)\n",
    "testActual = scaler.inverse_transform(np.array(test_y).reshape(-1, 1))"
   ]
  },
  {
   "cell_type": "code",
   "execution_count": 47,
   "metadata": {},
   "outputs": [
    {
     "data": {
      "image/png": "[encoded data removed]",
      "text/plain": [
       "<Figure size 1000x500 with 1 Axes>"
      ]
     },
     "metadata": {},
     "output_type": "display_data"
    }
   ],
   "source": [
    "# generate urutan data sesuai panjang datanya\n",
    "x = pd.date_range(start=\"2017-01-01\", periods=len(test_y), freq='MS')\n",
    "\n",
    "# membuat frame\n",
    "fig, ax = plt.subplots(figsize = (10,5))\n",
    "\n",
    "# membuat time series plot\n",
    "ax.plot(x, testActual, color=\"tab:blue\", label=\"actual data\", linewidth=2.5)\n",
    "ax.plot(x, testPredictions, color=\"tab:red\", label=\"prediction data\", linewidth=2.5)\n",
    "\n",
    "# membuat label-label\n",
    "ax.xaxis.set_major_formatter(mdates.DateFormatter('%b-%Y'))\n",
    "ax.legend(loc=\"best\")\n",
    "ax.grid(True)\n",
    "\n",
    "# menampilkan plot\n",
    "plt.show()"
   ]
  },
  {
   "cell_type": "code",
   "execution_count": 48,
   "metadata": {},
   "outputs": [],
   "source": [
    "#  shift test predictions for plotting\n",
    "testPredictionsPlot = np.empty_like(df_sumsel)\n",
    "testPredictionsPlot[:, :] = np.nan\n",
    "testPredictionsPlot[(len(dataset) - testPredictions.shape[0]):len(dataset), :] = testPredictions"
   ]
  },
  {
   "cell_type": "code",
   "execution_count": 49,
   "metadata": {},
   "outputs": [
    {
     "data": {
      "image/png": "[encoded data removed]",
      "text/plain": [
       "<Figure size 1000x500 with 1 Axes>"
      ]
     },
     "metadata": {},
     "output_type": "display_data"
    }
   ],
   "source": [
    "# membuat frame\n",
    "fig, ax = plt.subplots(figsize = (10,5))\n",
    "\n",
    "# membuat time series plot\n",
    "ax.plot(dataset.index.values, scaler.inverse_transform(df_sumsel), color=\"tab:blue\", label=\"actual data\", linewidth=2)\n",
    "ax.plot(dataset.index.values, testPredictionsPlot, color=\"tab:red\", label=\"predictions data\", linewidth=2)\n",
    "\n",
    "# membuat label-label\n",
    "ax.xaxis.set_major_formatter(mdates.DateFormatter('%b-%Y'))\n",
    "ax.legend(loc=\"best\")\n",
    "ax.grid(True)\n",
    "\n",
    "# menampilkan plot\n",
    "plt.show()"
   ]
  },
  {
   "cell_type": "code",
   "execution_count": null,
   "metadata": {},
   "outputs": [],
   "source": []
  }
 ],
 "metadata": {
  "kernelspec": {
   "display_name": "Python 3 (ipykernel)",
   "language": "python",
   "name": "python3"
  },
  "language_info": {
   "codemirror_mode": {
    "name": "ipython",
    "version": 3
   },
   "file_extension": ".py",
   "mimetype": "text/x-python",
   "name": "python",
   "nbconvert_exporter": "python",
   "pygments_lexer": "ipython3",
   "version": "3.9.16"
  },
  "vscode": {
   "interpreter": {
    "hash": "37197ad202cea1caf8a636a74cec7c83b945e4f29ac1505900600f740c02611d"
   }
  }
 },
 "nbformat": 4,
 "nbformat_minor": 4
}
