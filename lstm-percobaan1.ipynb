{
 "cells": [
  {
   "cell_type": "markdown",
   "id": "6a3d4522-e20a-4a4c-a0ad-219f6c1768ef",
   "metadata": {},
   "source": [
    "## Univariate LSTM-RNN Sumatera Selatan Percobaan 1"
   ]
  },
  {
   "cell_type": "markdown",
   "id": "023fd763-a166-439d-8847-09f68f5b40e9",
   "metadata": {},
   "source": [
    "### 1. Deklarasi Pustaka"
   ]
  },
  {
   "cell_type": "code",
   "execution_count": null,
   "id": "2482c1ca-ae1a-429c-b10f-2f3f7b71f4d9",
   "metadata": {},
   "outputs": [],
   "source": [
    "# pustaka untuk manipulasi data\n",
    "import pandas as pd\n",
    "from pandas import concat\n",
    "from pandas import DataFrame\n",
    "from pandas import read_csv\n",
    "from pandas import read_excel\n",
    "import numpy as np\n",
    "from numpy import concatenate\n",
    "from numpy import array\n",
    "\n",
    "# pustaka untuk waktu komputasi\n",
    "import time\n",
    "from datetime import datetime\n",
    "\n",
    "# Pustaka untuk visualisasi data\n",
    "import seaborn as sns\n",
    "from matplotlib import pyplot\n",
    "from matplotlib import pyplot as plt\n",
    "\n",
    "# Pustaka untuk visualisasi acf dan pacf\n",
    "import statsmodels.api as sm\n",
    "from statsmodels.graphics.tsaplots import plot_pacf\n",
    "from statsmodels.graphics.tsaplots import plot_acf\n",
    "        \n",
    "# Pustaka untuk membuat data latih dan data uji.\n",
    "from sklearn.preprocessing import MinMaxScaler\n",
    "from sklearn.preprocessing import LabelEncoder\n",
    "\n",
    "# Pustaka untuk membuat model prediksi LSTM-RNN\n",
    "import itertools\n",
    "import tensorflow as tf\n",
    "from keras.models import Sequential\n",
    "from keras.layers import RNN\n",
    "from keras.layers import LSTM\n",
    "from keras.layers import GRU\n",
    "from keras.layers import Dense\n",
    "from keras.layers import Dropout\n",
    "from keras.layers import TimeDistributed\n",
    "from keras.layers import Bidirectional\n",
    "from keras.optimizers import Adam, Adamax, RMSprop, SGD\n",
    "\n",
    "# Early stoping\n",
    "from keras.callbacks import EarlyStopping\n",
    "from keras.callbacks import ModelCheckpoint\n",
    "\n",
    "# Pustaka untuk  evaluasi model prediksi\n",
    "from math import sqrt\n",
    "from sklearn.metrics import mean_squared_error\n",
    "from sklearn.metrics import mean_absolute_error"
   ]
  },
  {
   "cell_type": "markdown",
   "id": "594fca14-45e5-4efa-aa9d-470ac664c2e0",
   "metadata": {},
   "source": [
    "### 2. Akuisisi Data"
   ]
  },
  {
   "cell_type": "code",
   "execution_count": null,
   "id": "48ed3834-ea60-4c43-a0af-c3010ea0d06a",
   "metadata": {},
   "outputs": [],
   "source": [
    "# Set waktu komputasi\n",
    "start = time.time()"
   ]
  },
  {
   "cell_type": "code",
   "execution_count": null,
   "id": "bef4dda6-0e4e-41b6-b367-ab4745adc6e8",
   "metadata": {},
   "outputs": [],
   "source": [
    "# fix random seed for reproducibility\n",
    "np.random.seed(1234)"
   ]
  },
  {
   "cell_type": "code",
   "execution_count": null,
   "id": "2ba8885c-781f-4e63-83ec-9bddbfbbb9af",
   "metadata": {},
   "outputs": [],
   "source": [
    "# membaca dataset via csv file\n",
    "dataset = pd.read_csv(\"dataset/modis_sumsel_bulanan.csv\", parse_dates=['acq_date'], engine=\"python\")"
   ]
  },
  {
   "cell_type": "code",
   "execution_count": null,
   "id": "9435954e-e4bd-417e-84be-062bdfb6abdd",
   "metadata": {},
   "outputs": [],
   "source": [
    "# menampilkan metadata dataset\n",
    "dataset.info()"
   ]
  },
  {
   "cell_type": "code",
   "execution_count": null,
   "id": "477ed857-d111-434e-bd8b-8e82255cd3c8",
   "metadata": {},
   "outputs": [],
   "source": [
    "# menampilkan dataset\n",
    "dataset"
   ]
  },
  {
   "cell_type": "markdown",
   "id": "8bf1d4dc-0dc9-4ef0-937e-2f4c72807f85",
   "metadata": {},
   "source": [
    "### 3. Eksplorasi Data Analisis"
   ]
  },
  {
   "cell_type": "markdown",
   "id": "44836e1a-a0e7-476a-86c0-cd84d85a72e8",
   "metadata": {},
   "source": [
    "- visualisasi data"
   ]
  },
  {
   "cell_type": "code",
   "execution_count": null,
   "id": "923103f0-c7c6-4d10-9ad2-973ea73b65af",
   "metadata": {},
   "outputs": [],
   "source": [
    "# membuat frame\n",
    "fig, ax = plt.subplots(figsize = (20,6))\n",
    "\n",
    "# membuat time series plot\n",
    "ax.plot(dataset[\"acq_date\"], dataset[\"hotspot\"], color=\"tab:blue\", label=\"hotspot sumsel 2001-2020\", linewidth=2.5)\n",
    "\n",
    "# membuat label-label\n",
    "ax.set_title(\"Hotspot Sumsel Sensor MODIS 2018-2020\", fontsize=14)\n",
    "ax.set_xlabel(\"Tanggal\", fontsize=12)\n",
    "ax.set_ylabel(\"Jumlah Hostpot\", fontsize=12)\n",
    "ax.legend(loc='best')\n",
    "ax.grid(True)\n",
    "\n",
    "# menampilkan plot\n",
    "plt.show()"
   ]
  },
  {
   "cell_type": "markdown",
   "id": "65e20dde-6aac-4e20-ad4f-8811eed15e16",
   "metadata": {},
   "source": [
    "- Analisa ACF dan PACF"
   ]
  },
  {
   "cell_type": "code",
   "execution_count": null,
   "id": "e18d498a-1809-4766-b373-973193b82c87",
   "metadata": {},
   "outputs": [],
   "source": [
    "# code autocorrelation\n",
    "# membuat frame\n",
    "fig, ax= plt.subplots(nrows=1, ncols=2, facecolor=\"#F0F0F0\", figsize = (20,5))\n",
    "\n",
    "# plot acf\n",
    "plot_acf(dataset[\"hotspot\"], lags=24, ax=ax[0])\n",
    "ax[0].grid(True)\n",
    "\n",
    "# plot pacf\n",
    "plot_pacf(dataset[\"hotspot\"],lags=24, ax=ax[1], method=\"yw\")\n",
    "ax[1].grid(True)\n",
    "\n",
    "# menampilkan plot acf dan pacf\n",
    "plt.show()"
   ]
  },
  {
   "cell_type": "markdown",
   "id": "aad5538b-e006-485a-81b8-daf87d1a17f1",
   "metadata": {},
   "source": [
    "### 4. Praproses Data"
   ]
  },
  {
   "cell_type": "markdown",
   "id": "a862d8b2-db17-42a6-a933-1d9663ce19c0",
   "metadata": {},
   "source": [
    "- selesi fitur"
   ]
  },
  {
   "cell_type": "code",
   "execution_count": null,
   "id": "f58ed43b-ebcc-415a-b641-9998f9b0f450",
   "metadata": {},
   "outputs": [],
   "source": [
    "# memilh fitur hotspot\n",
    "df_sumsel = dataset.filter([\"hotspot\"])"
   ]
  },
  {
   "cell_type": "code",
   "execution_count": null,
   "id": "9cf7e0cc-177e-4f76-8820-4aa4e856d2da",
   "metadata": {},
   "outputs": [],
   "source": [
    "# convert dataframe to series\n",
    "df_sumsel = df_sumsel.values"
   ]
  },
  {
   "cell_type": "code",
   "execution_count": null,
   "id": "826235b7-3a2f-42de-8dd5-1d203a5a83c4",
   "metadata": {},
   "outputs": [],
   "source": [
    "np.round(df_sumsel[:5],7)"
   ]
  },
  {
   "cell_type": "markdown",
   "id": "7a732b80-f8d6-47db-a5bb-d938ff36e692",
   "metadata": {},
   "source": [
    "- normalisasi data"
   ]
  },
  {
   "cell_type": "code",
   "execution_count": null,
   "id": "28899a78-cdde-4535-894b-61018e935cde",
   "metadata": {},
   "outputs": [],
   "source": [
    "# normalize features\n",
    "scaler = MinMaxScaler(feature_range=(0, 1))\n",
    "scaled_data = scaler.fit_transform(np.array(df_sumsel).reshape(-1,1))"
   ]
  },
  {
   "cell_type": "code",
   "execution_count": null,
   "id": "5492dc56-2893-468b-ad1c-b65b1a6563ec",
   "metadata": {},
   "outputs": [],
   "source": [
    "np.round(scaled_data[:5],7)"
   ]
  },
  {
   "cell_type": "code",
   "execution_count": null,
   "id": "e7f6f1e5-b6ef-431e-9729-356d8b98952c",
   "metadata": {},
   "outputs": [],
   "source": [
    "# membuat frame\n",
    "fig, ax = plt.subplots(figsize = (20,6))\n",
    "\n",
    "# membuat time series plot\n",
    "ax.plot(dataset[\"acq_date\"], scaled_data, color=\"tab:blue\", label=\"hotspot sumsel 2001-2020\", linewidth=2.5)\n",
    "\n",
    "# membuat label-label\n",
    "ax.set_title(\"Hotspot Sumsel Sensor MODIS 2018-2020\", fontsize=14)\n",
    "ax.set_xlabel(\"Tanggal\", fontsize=12)\n",
    "ax.set_ylabel(\"Jumlah Hostpot\", fontsize=12)\n",
    "ax.legend(loc='best')\n",
    "ax.grid(True)\n",
    "\n",
    "# menampilkan plot\n",
    "plt.show()"
   ]
  },
  {
   "cell_type": "markdown",
   "id": "f89a0cd9-49dd-4edc-b2bd-268ed1c8ba73",
   "metadata": {},
   "source": [
    "- Data latih dan Data uji"
   ]
  },
  {
   "cell_type": "code",
   "execution_count": null,
   "id": "38c85b28-e3a8-48d0-8155-b7010dc68a2e",
   "metadata": {},
   "outputs": [],
   "source": [
    "# split into train and test sets\n",
    "train_size = int(len(df_sumsel) * 0.8)\n",
    "test_size = len(df_sumsel) - train_size"
   ]
  },
  {
   "cell_type": "code",
   "execution_count": null,
   "id": "ddb9e0b9-54cc-42f0-abf3-cbe44f15ed8d",
   "metadata": {},
   "outputs": [],
   "source": [
    "train, test = scaled_data[0:train_size,:], scaled_data[train_size:len(df_sumsel),:]"
   ]
  },
  {
   "cell_type": "code",
   "execution_count": null,
   "id": "6de3f048-5221-46c9-8e5a-e61819d57071",
   "metadata": {},
   "outputs": [],
   "source": [
    "print(train.shape, test.shape)"
   ]
  },
  {
   "cell_type": "code",
   "execution_count": null,
   "id": "f9ce90a6-7dc8-471c-9d7b-426dc51d0552",
   "metadata": {},
   "outputs": [],
   "source": [
    "# membuat frame\n",
    "fig, ax = plt.subplots(figsize = (20,6))\n",
    "\n",
    "# membuat time series plot\n",
    "ax.plot(dataset.iloc[0:train_size,0], train, color=\"tab:blue\", label=\"Data Latih\", linewidth=2.5)\n",
    "ax.plot(dataset.iloc[train_size:len(df_sumsel),0], test, color=\"tab:red\", label=\"Data Uji\", linewidth=2.5)\n",
    "\n",
    "# membuat label-label\n",
    "ax.set_title(\"Hotspot Sumsel Sensor MODIS 2018-2020\", fontsize=14)\n",
    "ax.set_xlabel(\"Tanggal\", fontsize=12)\n",
    "ax.set_ylabel(\"Jumlah Hostpot\", fontsize=12)\n",
    "ax.legend(loc=\"best\")\n",
    "ax.grid(True)\n",
    "\n",
    "# menampilkan plot\n",
    "plt.show()"
   ]
  },
  {
   "cell_type": "code",
   "execution_count": null,
   "id": "94b3e755-b4ed-44f8-a190-6610e4e2ef95",
   "metadata": {},
   "outputs": [],
   "source": []
  },
  {
   "cell_type": "code",
   "execution_count": null,
   "id": "1fcb66bf-eba2-4410-ae63-56ad845bee18",
   "metadata": {},
   "outputs": [],
   "source": []
  }
 ],
 "metadata": {
  "kernelspec": {
   "display_name": "Python 3 (ipykernel)",
   "language": "python",
   "name": "python3"
  },
  "language_info": {
   "codemirror_mode": {
    "name": "ipython",
    "version": 3
   },
   "file_extension": ".py",
   "mimetype": "text/x-python",
   "name": "python",
   "nbconvert_exporter": "python",
   "pygments_lexer": "ipython3",
   "version": "3.9.13"
  }
 },
 "nbformat": 4,
 "nbformat_minor": 5
}
