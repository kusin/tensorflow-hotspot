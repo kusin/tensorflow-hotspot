{
 "cells": [
  {
   "cell_type": "markdown",
   "id": "6a3d4522-e20a-4a4c-a0ad-219f6c1768ef",
   "metadata": {},
   "source": [
    "## Univariate LSTM-RNN Sumatera Selatan Percobaan 1"
   ]
  },
  {
   "cell_type": "markdown",
   "id": "023fd763-a166-439d-8847-09f68f5b40e9",
   "metadata": {},
   "source": [
    "### 1. Declaration Library"
   ]
  },
  {
   "cell_type": "code",
   "execution_count": null,
   "id": "2482c1ca-ae1a-429c-b10f-2f3f7b71f4d9",
   "metadata": {},
   "outputs": [],
   "source": [
    "# library manipulation dataset\n",
    "import pandas as pd\n",
    "from pandas import concat\n",
    "from pandas import DataFrame\n",
    "from pandas import read_csv\n",
    "from pandas import read_excel\n",
    "\n",
    "# library manipulation array\n",
    "import numpy as np\n",
    "from numpy import concatenate\n",
    "from numpy import array\n",
    "\n",
    "# library configuration date and time\n",
    "import time\n",
    "from datetime import datetime\n",
    "\n",
    "# library data visualization\n",
    "import seaborn as sns\n",
    "from matplotlib import pyplot\n",
    "from matplotlib import pyplot as plt\n",
    "\n",
    "# library analysis acf and pacf\n",
    "import statsmodels.api as sm\n",
    "from statsmodels.graphics.tsaplots import plot_pacf\n",
    "from statsmodels.graphics.tsaplots import plot_acf\n",
    "\n",
    "# library normalize data with max-min algorithm\n",
    "from sklearn.preprocessing import MinMaxScaler\n",
    "from sklearn.preprocessing import LabelEncoder\n",
    "\n",
    "# library algorithm lstm-rnn with keras\n",
    "import tensorflow as tf\n",
    "from keras.models import Sequential\n",
    "from keras.layers import RNN\n",
    "from keras.layers import LSTM\n",
    "from keras.layers import GRU\n",
    "from keras.layers import Dense\n",
    "from keras.layers import Dropout\n",
    "from keras.layers import TimeDistributed\n",
    "from keras.layers import Bidirectional\n",
    "from keras.optimizers import Adam, Adamax, RMSprop, SGD\n",
    "\n",
    "# Early stoping\n",
    "from keras.callbacks import EarlyStopping\n",
    "from keras.callbacks import ModelCheckpoint\n",
    "\n",
    "# library evaluation model\n",
    "from math import sqrt\n",
    "from sklearn.metrics import mean_squared_error\n",
    "from sklearn.metrics import mean_absolute_error"
   ]
  },
  {
   "cell_type": "markdown",
   "id": "594fca14-45e5-4efa-aa9d-470ac664c2e0",
   "metadata": {},
   "source": [
    "### 2. Akuisisi Data"
   ]
  },
  {
   "cell_type": "code",
   "execution_count": null,
   "id": "48ed3834-ea60-4c43-a0af-c3010ea0d06a",
   "metadata": {},
   "outputs": [],
   "source": [
    "# set time for complexity computation\n",
    "start = time.time()"
   ]
  },
  {
   "cell_type": "code",
   "execution_count": null,
   "id": "bef4dda6-0e4e-41b6-b367-ab4745adc6e8",
   "metadata": {},
   "outputs": [],
   "source": [
    "# fix random seed for reproducibility\n",
    "np.random.seed(1234)"
   ]
  },
  {
   "cell_type": "code",
   "execution_count": null,
   "id": "2ba8885c-781f-4e63-83ec-9bddbfbbb9af",
   "metadata": {},
   "outputs": [],
   "source": [
    "# load dataset csv\n",
    "dataset = pd.read_csv(\"dataset/modis_sumsel_bulanan.csv\", parse_dates=['acq_date'], engine=\"python\")"
   ]
  },
  {
   "cell_type": "code",
   "execution_count": null,
   "id": "51cabe7e-5587-484c-a8a9-00bee163fd5f",
   "metadata": {},
   "outputs": [],
   "source": [
    "# # set index\n",
    "# dataset = dataset.set_index(\"Date\");"
   ]
  },
  {
   "cell_type": "code",
   "execution_count": null,
   "id": "9435954e-e4bd-417e-84be-062bdfb6abdd",
   "metadata": {},
   "outputs": [],
   "source": [
    "# show metadata dataset\n",
    "dataset.info()"
   ]
  },
  {
   "cell_type": "code",
   "execution_count": null,
   "id": "477ed857-d111-434e-bd8b-8e82255cd3c8",
   "metadata": {},
   "outputs": [],
   "source": [
    "# show dataset\n",
    "dataset"
   ]
  },
  {
   "cell_type": "markdown",
   "id": "8bf1d4dc-0dc9-4ef0-937e-2f4c72807f85",
   "metadata": {},
   "source": [
    "### 3. Exploration Data Analysis"
   ]
  },
  {
   "cell_type": "markdown",
   "id": "44836e1a-a0e7-476a-86c0-cd84d85a72e8",
   "metadata": {},
   "source": [
    "- Data Visualization"
   ]
  },
  {
   "cell_type": "code",
   "execution_count": null,
   "id": "923103f0-c7c6-4d10-9ad2-973ea73b65af",
   "metadata": {},
   "outputs": [],
   "source": [
    "# make frame\n",
    "fig, ax = plt.subplots(figsize = (20,6))\n",
    "\n",
    "# make time series plot\n",
    "ax.plot(dataset[\"acq_date\"], dataset[\"hotspot\"], color=\"tab:blue\", label=\"hotspot sumsel 2001-2020\", linewidth=3)\n",
    "\n",
    "# make are labels\n",
    "ax.set_title(\"Hotspot Sumsel 2001-2020\", fontsize=14)\n",
    "ax.set_xlabel(\"Date\", fontsize=12)\n",
    "ax.set_ylabel(\"Sum of hostpot\", fontsize=12)\n",
    "ax.legend(loc='best')\n",
    "ax.grid(True)\n",
    "\n",
    "# show plot time series\n",
    "plt.show()"
   ]
  },
  {
   "cell_type": "markdown",
   "id": "65e20dde-6aac-4e20-ad4f-8811eed15e16",
   "metadata": {},
   "source": [
    "- Analysis ACF and PACF"
   ]
  },
  {
   "cell_type": "code",
   "execution_count": null,
   "id": "e18d498a-1809-4766-b373-973193b82c87",
   "metadata": {},
   "outputs": [],
   "source": [
    "# make frame\n",
    "fig, ax= plt.subplots(nrows=1, ncols=2, facecolor=\"#F0F0F0\", figsize = (20,5))\n",
    "\n",
    "# plot acf\n",
    "plot_acf(dataset[\"hotspot\"], lags=24, ax=ax[0])\n",
    "ax[0].grid(True)\n",
    "\n",
    "# plot pacf\n",
    "plot_pacf(dataset[\"hotspot\"],lags=24, ax=ax[1], method=\"yw\")\n",
    "ax[1].grid(True)\n",
    "\n",
    "# show plot acf and pacf\n",
    "plt.show()"
   ]
  },
  {
   "cell_type": "markdown",
   "id": "aad5538b-e006-485a-81b8-daf87d1a17f1",
   "metadata": {},
   "source": [
    "### 4. Praproses Data"
   ]
  },
  {
   "cell_type": "markdown",
   "id": "a862d8b2-db17-42a6-a933-1d9663ce19c0",
   "metadata": {},
   "source": [
    "- feature selection"
   ]
  },
  {
   "cell_type": "code",
   "execution_count": null,
   "id": "f58ed43b-ebcc-415a-b641-9998f9b0f450",
   "metadata": {},
   "outputs": [],
   "source": [
    "# set a feature selection\n",
    "df_sumsel = dataset.filter([\"hotspot\"])"
   ]
  },
  {
   "cell_type": "code",
   "execution_count": null,
   "id": "9cf7e0cc-177e-4f76-8820-4aa4e856d2da",
   "metadata": {},
   "outputs": [],
   "source": [
    "# convert dataframe to series\n",
    "df_sumsel = df_sumsel.values"
   ]
  },
  {
   "cell_type": "code",
   "execution_count": null,
   "id": "826235b7-3a2f-42de-8dd5-1d203a5a83c4",
   "metadata": {},
   "outputs": [],
   "source": [
    "# show a dataset\n",
    "np.round(df_sumsel[:5],7)"
   ]
  },
  {
   "cell_type": "code",
   "execution_count": null,
   "id": "d2f59f82-bfe6-48f0-9425-d7eab98f4196",
   "metadata": {},
   "outputs": [],
   "source": [
    "# view a dimension dataset\n",
    "df_sumsel.shape"
   ]
  },
  {
   "cell_type": "markdown",
   "id": "7a732b80-f8d6-47db-a5bb-d938ff36e692",
   "metadata": {},
   "source": [
    "- normalization data"
   ]
  },
  {
   "cell_type": "code",
   "execution_count": null,
   "id": "28899a78-cdde-4535-894b-61018e935cde",
   "metadata": {},
   "outputs": [],
   "source": [
    "# normalize data with max-min algorithm\n",
    "scaler = MinMaxScaler(feature_range=(-1, 1))\n",
    "scaled_data = scaler.fit_transform(np.array(df_sumsel).reshape(-1,1))"
   ]
  },
  {
   "cell_type": "code",
   "execution_count": null,
   "id": "5492dc56-2893-468b-ad1c-b65b1a6563ec",
   "metadata": {},
   "outputs": [],
   "source": [
    "# show a dataset after normalize\n",
    "np.round(scaled_data[:5],7)"
   ]
  },
  {
   "cell_type": "code",
   "execution_count": null,
   "id": "39e245f5-8890-4486-88f5-20f425b276e0",
   "metadata": {},
   "outputs": [],
   "source": [
    "# view a dimension dataset after normalize\n",
    "scaled_data.shape"
   ]
  },
  {
   "cell_type": "code",
   "execution_count": null,
   "id": "e7f6f1e5-b6ef-431e-9729-356d8b98952c",
   "metadata": {},
   "outputs": [],
   "source": [
    "# make a frame\n",
    "fig, ax = plt.subplots(figsize = (20,6))\n",
    "\n",
    "# make a time series plot\n",
    "ax.plot(dataset[\"acq_date\"], scaled_data, color=\"tab:blue\", label=\"hotspot sumsel 2001-2020\", linewidth=2.5)\n",
    "\n",
    "# make a labels\n",
    "ax.set_title(\"Hotspot Sumsel Sensor MODIS 2001-2020\", fontsize=14)\n",
    "ax.set_xlabel(\"Tahun\", fontsize=12)\n",
    "ax.set_ylabel(\"Jumlah Hostpot\", fontsize=12)\n",
    "ax.legend(loc='best')\n",
    "ax.grid(True)\n",
    "\n",
    "# show plot time series\n",
    "plt.show()"
   ]
  },
  {
   "cell_type": "markdown",
   "id": "f89a0cd9-49dd-4edc-b2bd-268ed1c8ba73",
   "metadata": {},
   "source": [
    "- set data train and data test"
   ]
  },
  {
   "cell_type": "code",
   "execution_count": null,
   "id": "10adc00b-a7a2-450c-8930-be69f3af4dd9",
   "metadata": {},
   "outputs": [],
   "source": [
    "# set data train\n",
    "train_size = int(len(df_sumsel) * 0.8)"
   ]
  },
  {
   "cell_type": "code",
   "execution_count": null,
   "id": "25961b9f-b389-4159-9675-55df187308d8",
   "metadata": {},
   "outputs": [],
   "source": [
    "# set loc data train\n",
    "train_data = scaled_data[0:train_size,:]"
   ]
  },
  {
   "cell_type": "code",
   "execution_count": null,
   "id": "f03fd69e-7e85-4ca0-a8bc-dffdf4892f10",
   "metadata": {},
   "outputs": [],
   "source": [
    "# show data train\n",
    "np.round(train_data[:5],7)"
   ]
  },
  {
   "cell_type": "code",
   "execution_count": null,
   "id": "c388b30f-4276-4a1f-b2e4-ff6dba864a4e",
   "metadata": {},
   "outputs": [],
   "source": [
    "# view dimension of data train\n",
    "train_data.shape"
   ]
  },
  {
   "cell_type": "code",
   "execution_count": null,
   "id": "eec36db6-e4b5-4336-b6b2-dc944bee37f6",
   "metadata": {},
   "outputs": [],
   "source": [
    "# set data test\n",
    "test_size = len(df_sumsel) - train_size"
   ]
  },
  {
   "cell_type": "code",
   "execution_count": null,
   "id": "952fda3e-cac5-42e2-89df-eb636cd9f443",
   "metadata": {},
   "outputs": [],
   "source": [
    "# set loc data train\n",
    "test_data = scaled_data[train_size:len(df_sumsel),:]"
   ]
  },
  {
   "cell_type": "code",
   "execution_count": null,
   "id": "bef4be71-8d42-4101-b750-954fbc1a5795",
   "metadata": {},
   "outputs": [],
   "source": [
    "# show data train\n",
    "np.round(test_data[:5],7)"
   ]
  },
  {
   "cell_type": "code",
   "execution_count": null,
   "id": "a72729d6-95bd-49a5-81d7-d6cb84ccaf17",
   "metadata": {},
   "outputs": [],
   "source": [
    "# view dimension of data train\n",
    "test_data.shape"
   ]
  },
  {
   "cell_type": "code",
   "execution_count": null,
   "id": "f9ce90a6-7dc8-471c-9d7b-426dc51d0552",
   "metadata": {},
   "outputs": [],
   "source": [
    "# make a frame\n",
    "fig, ax = plt.subplots(figsize = (20,6))\n",
    "\n",
    "# make a time series plot\n",
    "ax.plot(dataset.iloc[0:train_size,0], train_data, color=\"tab:blue\", label=\"Data Latih\", linewidth=2.5)\n",
    "ax.plot(dataset.iloc[train_size:len(scaled_data),0], test_data, color=\"tab:red\", label=\"Data Uji\", linewidth=2.5)\n",
    "\n",
    "# make are labels\n",
    "ax.set_title(\"Hotspot Sumsel Sensor MODIS 2001-2020\", fontsize=14)\n",
    "ax.set_xlabel(\"Tahun\", fontsize=12)\n",
    "ax.set_ylabel(\"Jumlah Hostpot\", fontsize=12)\n",
    "ax.legend(loc=\"best\")\n",
    "ax.grid(True)\n",
    "\n",
    "# show plot time series\n",
    "plt.show()"
   ]
  },
  {
   "cell_type": "markdown",
   "id": "b46a6815-2638-4646-89fa-cc0e544168a3",
   "metadata": {},
   "source": [
    "### 5. Supervised Learning"
   ]
  },
  {
   "cell_type": "code",
   "execution_count": null,
   "id": "ed1d52c0-20e8-45cf-bfce-98216b375b17",
   "metadata": {},
   "outputs": [],
   "source": [
    "# function for supervised learning\n",
    "def create_dataset(dataset, look_back):\n",
    "    \n",
    "    # declare variable X and Y\n",
    "    dataX = []\n",
    "    dataY = []\n",
    "    \n",
    "    # for loop for create supervised learning\n",
    "    for i in range(look_back, len(dataset)):\n",
    "        \n",
    "        # insert value X and Y \n",
    "        dataX.append(dataset[i-look_back:i, 0])\n",
    "        dataY.append(dataset[i, 0])\n",
    "        \n",
    "    # return value X and Y\n",
    "    return np.array(dataX), np.array(dataY)"
   ]
  },
  {
   "cell_type": "markdown",
   "id": "f5a75b81-8f47-4767-b607-317dcb159534",
   "metadata": {},
   "source": [
    "- process supervised learning, with look back t-1 into X=t and Y=t+1"
   ]
  },
  {
   "cell_type": "code",
   "execution_count": null,
   "id": "977c8197-630d-4410-acd6-c645be70fa1f",
   "metadata": {},
   "outputs": [],
   "source": [
    "# set look back -1\n",
    "look_back = 1"
   ]
  },
  {
   "cell_type": "code",
   "execution_count": null,
   "id": "e9d88c2b-149e-4355-82aa-f10c5e5a00d4",
   "metadata": {},
   "outputs": [],
   "source": [
    "# set supervised learning for data train\n",
    "x_train, y_train = create_dataset(train_data, look_back)"
   ]
  },
  {
   "cell_type": "code",
   "execution_count": null,
   "id": "a1c72822-9f75-4909-8cc3-6d0c6f95e7a5",
   "metadata": {},
   "outputs": [],
   "source": [
    "# view a dimension dataset after supervised learning\n",
    "print(x_train.shape, y_train.shape)"
   ]
  },
  {
   "cell_type": "code",
   "execution_count": null,
   "id": "85e188e9-cca1-4fe6-b8ff-b571cfec4b34",
   "metadata": {},
   "outputs": [],
   "source": [
    "# set supervised learning for data test\n",
    "x_test, y_test = create_dataset(test_data, look_back)"
   ]
  },
  {
   "cell_type": "code",
   "execution_count": null,
   "id": "31e4194e-6715-4ba4-a108-03cc5fb93e5b",
   "metadata": {},
   "outputs": [],
   "source": [
    "# view a dimension dataset after supervised learning\n",
    "print(x_test.shape, y_test.shape)"
   ]
  },
  {
   "cell_type": "markdown",
   "id": "e1b7dd18-a643-4651-8506-db3993437938",
   "metadata": {},
   "source": [
    "- Check data train, for result supervised learning"
   ]
  },
  {
   "cell_type": "code",
   "execution_count": null,
   "id": "97594d00-1537-4ad4-b214-8efd1f31f1f3",
   "metadata": {},
   "outputs": [],
   "source": [
    "temp_trainX = pd.DataFrame(x_train, columns=['y train'])\n",
    "temp_trainY = pd.DataFrame(y_train, columns=['x train'])"
   ]
  },
  {
   "cell_type": "code",
   "execution_count": null,
   "id": "c93664de-fe58-4986-9501-67811a34e5cc",
   "metadata": {},
   "outputs": [],
   "source": [
    "hasil_train = pd.concat([temp_trainX, temp_trainY], axis=1)\n",
    "hasil_train.head()"
   ]
  },
  {
   "cell_type": "code",
   "execution_count": null,
   "id": "5011d409-32be-460c-9a34-784597134fbe",
   "metadata": {},
   "outputs": [],
   "source": [
    "hasil_train.info()"
   ]
  },
  {
   "cell_type": "markdown",
   "id": "ae2b2d0c-e6d3-4b9a-a805-a43ef725e31c",
   "metadata": {},
   "source": [
    "- Check data test, for result supervised learning"
   ]
  },
  {
   "cell_type": "code",
   "execution_count": null,
   "id": "9833b510-5876-416b-9078-3350515a62d3",
   "metadata": {},
   "outputs": [],
   "source": [
    "temp_testX = pd.DataFrame(x_test, columns=['y test'])\n",
    "temp_testY = pd.DataFrame(y_test, columns=['x test'])"
   ]
  },
  {
   "cell_type": "code",
   "execution_count": null,
   "id": "d1c22bb2-17b8-480f-9adc-35dfe9cac0b1",
   "metadata": {},
   "outputs": [],
   "source": [
    "hasil_test = pd.concat([temp_testX, temp_testY], axis=1)\n",
    "hasil_test.head()"
   ]
  },
  {
   "cell_type": "code",
   "execution_count": null,
   "id": "ee0c64a9-cc26-4406-acd7-5ce1b9cf1be0",
   "metadata": {},
   "outputs": [],
   "source": [
    "hasil_test.info()"
   ]
  },
  {
   "cell_type": "markdown",
   "id": "b113417f-4958-496b-92e0-b0842a935c9f",
   "metadata": {},
   "source": [
    "- reshape input to be [samples, time steps, features]"
   ]
  },
  {
   "cell_type": "code",
   "execution_count": null,
   "id": "ee873ee4-5885-4f81-abab-9c64bc730d4c",
   "metadata": {},
   "outputs": [],
   "source": [
    "# reshape data train\n",
    "x_train = np.reshape(x_train, (x_train.shape[0], x_train.shape[1], 1))"
   ]
  },
  {
   "cell_type": "code",
   "execution_count": null,
   "id": "313d3f8f-239e-43e8-9348-e45fe52c4a08",
   "metadata": {},
   "outputs": [],
   "source": [
    "print(x_train.shape, y_train.shape)"
   ]
  },
  {
   "cell_type": "code",
   "execution_count": null,
   "id": "942bff0c-0e40-4117-b352-b0f9bb9464eb",
   "metadata": {},
   "outputs": [],
   "source": [
    "# reshape data train\n",
    "x_test = np.reshape(x_test, (x_test.shape[0], x_test.shape[1], 1))"
   ]
  },
  {
   "cell_type": "code",
   "execution_count": null,
   "id": "549881e0-a250-4ac7-8af3-d6a58249c792",
   "metadata": {},
   "outputs": [],
   "source": [
    "print(x_test.shape, y_test.shape)"
   ]
  },
  {
   "cell_type": "markdown",
   "id": "95ffa4ed-0a66-48cc-ace4-45f8c1f131d5",
   "metadata": {},
   "source": [
    "### 6. Modeling LSTM-RNN"
   ]
  },
  {
   "cell_type": "code",
   "execution_count": null,
   "id": "36d7e2a1-d318-41dc-9dfc-8c8ac9e4cff1",
   "metadata": {},
   "outputs": [],
   "source": [
    "# Design network\n",
    "model = Sequential()\n",
    "\n",
    "# First LSTM layer with Dropout regularisation\n",
    "model.add(\n",
    "    LSTM(\n",
    "        units=10,\n",
    "        activation='selu',\n",
    "        input_shape=(x_train.shape[1], 1)\n",
    "    )\n",
    ")\n",
    "model.add(Dropout(0.2))\n",
    "\n",
    "# The output layer\n",
    "model.add(Dense(1))\n",
    "\n",
    "# Compiling model the LSTM-RNN\n",
    "# lr=0.0075, decay=0.00001\n",
    "model.compile(\n",
    "    optimizer='sgd',\n",
    "    loss='mae',\n",
    "    metrics=[\n",
    "        tf.keras.metrics.MeanAbsoluteError(),\n",
    "        tf.keras.metrics.MeanSquaredError(),\n",
    "        tf.keras.metrics.RootMeanSquaredError()\n",
    "    ]\n",
    ")"
   ]
  },
  {
   "cell_type": "code",
   "execution_count": null,
   "id": "e9fd0932-959f-48aa-94f2-cf05c58db7a5",
   "metadata": {},
   "outputs": [],
   "source": [
    "# fit network\n",
    "history = model.fit(x_train, y_train, epochs=2000, batch_size=8, validation_data=(x_test, y_test), verbose=1, shuffle=False)"
   ]
  },
  {
   "cell_type": "code",
   "execution_count": null,
   "id": "dfa4bb8e-936c-454e-906b-e1f7b458bc17",
   "metadata": {},
   "outputs": [],
   "source": [
    "model.summary()"
   ]
  },
  {
   "cell_type": "code",
   "execution_count": null,
   "id": "5abe4528-57bf-489c-9e58-b3cf3d672f06",
   "metadata": {},
   "outputs": [],
   "source": [
    "# membuat frame\n",
    "fig, ax = plt.subplots(figsize = (20,5))\n",
    "\n",
    "# membuat time series plot\n",
    "ax.plot(history.history['loss'], color=\"tab:blue\", label=\"train\", linewidth=2)\n",
    "ax.plot(history.history['val_loss'], color=\"tab:orange\", label=\"test\", linewidth=2)\n",
    "\n",
    "# membuat label-label\n",
    "ax.set_title(\"Grafik Loss Function\", fontsize=14)\n",
    "ax.legend(loc='upper right')\n",
    "ax.grid(True)\n",
    "\n",
    "# menampilkan plot\n",
    "plt.show()"
   ]
  },
  {
   "cell_type": "code",
   "execution_count": null,
   "id": "689516d3-7eab-46dd-bb97-9396a54da24c",
   "metadata": {},
   "outputs": [],
   "source": [
    "# make predictions\n",
    "predictions = model.predict(x_test, verbose=0)\n",
    "print(predictions[:, 0])"
   ]
  },
  {
   "cell_type": "markdown",
   "id": "eba15464-8d59-4566-8db2-f200b837f20f",
   "metadata": {},
   "source": [
    "### 7. Evaluasi Model LSTM-RNN"
   ]
  },
  {
   "cell_type": "code",
   "execution_count": null,
   "id": "955a1777-a005-44d5-913c-4b7c69d48fc7",
   "metadata": {},
   "outputs": [],
   "source": [
    "scores = model.evaluate(x_train, y_train)\n",
    "scores"
   ]
  },
  {
   "cell_type": "code",
   "execution_count": null,
   "id": "1602f778-d716-474c-b74b-8f8163066045",
   "metadata": {},
   "outputs": [],
   "source": [
    "scores = model.evaluate(x_test, y_test)\n",
    "scores"
   ]
  },
  {
   "cell_type": "markdown",
   "id": "4bb303fa-e9d0-4e60-8928-84272ed38ad3",
   "metadata": {},
   "source": [
    "- MAE (Mean Absolute Error)"
   ]
  },
  {
   "cell_type": "code",
   "execution_count": null,
   "id": "24a0d78e-7ae5-416d-9ceb-bfee13827918",
   "metadata": {},
   "outputs": [],
   "source": [
    "mae = mean_absolute_error(y_test, predictions)\n",
    "print('Test MAE : %.4f' % mae)"
   ]
  },
  {
   "cell_type": "markdown",
   "id": "b6c72ebc-d18a-4f4e-85e2-1301ae5481f6",
   "metadata": {},
   "source": [
    "- MSE (Mean Squared Error)"
   ]
  },
  {
   "cell_type": "code",
   "execution_count": null,
   "id": "c89762e0-6a3b-458d-b124-ecc932949892",
   "metadata": {},
   "outputs": [],
   "source": [
    "mse = mean_squared_error(y_test, predictions)\n",
    "print('Test MSE: %.4f' % mse)"
   ]
  },
  {
   "cell_type": "markdown",
   "id": "b76b7181-653d-4e86-b046-9c88785fd9c2",
   "metadata": {},
   "source": [
    "- RMSE (Root Mean Squared Error)"
   ]
  },
  {
   "cell_type": "code",
   "execution_count": null,
   "id": "3c572ce6-7d98-493d-a0c0-9c1fc50c88d7",
   "metadata": {},
   "outputs": [],
   "source": [
    "# calculate RMSE\n",
    "rmse = sqrt(mse)\n",
    "print('Test RMSE: %.4f' % rmse)"
   ]
  },
  {
   "cell_type": "markdown",
   "id": "8568b7e7-eec7-4131-b588-b7d4468f27e8",
   "metadata": {},
   "source": [
    "- Corelation pearson"
   ]
  },
  {
   "cell_type": "code",
   "execution_count": null,
   "id": "ebf1e7d6-c275-4390-a885-a7d1928cf5f8",
   "metadata": {},
   "outputs": [],
   "source": [
    "hasil = np.stack((y_test.reshape(-1), predictions.reshape(-1)), axis=1)\n",
    "hasil = pd.DataFrame(hasil, columns = ['data_aktual','prediksi'])"
   ]
  },
  {
   "cell_type": "code",
   "execution_count": null,
   "id": "0d275279-dcd3-4ff8-bfbf-0dc453ca8721",
   "metadata": {},
   "outputs": [],
   "source": [
    "hasil.head()"
   ]
  },
  {
   "cell_type": "code",
   "execution_count": null,
   "id": "e576aed3-6f3d-4fb0-a072-cf71f6a409ef",
   "metadata": {},
   "outputs": [],
   "source": [
    "import scipy.stats as sc\n",
    "r, p = sc.pearsonr(hasil[\"data_aktual\"], hasil[\"prediksi\"])\n",
    "print(\"korelasi data akual dengan hasil prediksi\" +\" {:.4f} \".format(r)+ \"dengan signifikansi\" +\" {:.4f} \".format(p))"
   ]
  },
  {
   "cell_type": "markdown",
   "id": "fdc6e31c-ce6a-4ae9-967d-72a832d4d9c5",
   "metadata": {},
   "source": [
    "- Complexity time"
   ]
  },
  {
   "cell_type": "code",
   "execution_count": null,
   "id": "225bdb51-dfe1-4946-98ae-13be244f588d",
   "metadata": {},
   "outputs": [],
   "source": [
    "# Set akhir waktu komputasi \n",
    "end = time.time()"
   ]
  },
  {
   "cell_type": "code",
   "execution_count": null,
   "id": "29696ce8-9b47-460c-a0cf-6d09248f46c8",
   "metadata": {},
   "outputs": [],
   "source": [
    "# Proses menghitung waktu komputasi\n",
    "hours, rem = divmod(end-start, 3600)\n",
    "minutes, seconds = divmod(rem, 60)"
   ]
  },
  {
   "cell_type": "code",
   "execution_count": null,
   "id": "aefed3cc-2781-4d19-804b-995257c9e2a8",
   "metadata": {},
   "outputs": [],
   "source": [
    "# Hasil waktu komputasi\n",
    "print(\"{:0>2}:{:0>2}:{:05.2f}\".format(int(hours),int(minutes),seconds))"
   ]
  },
  {
   "cell_type": "markdown",
   "id": "111d6431-6323-4ade-8301-c1d63f3c7ddb",
   "metadata": {},
   "source": [
    "### 8. Visualisasi Data"
   ]
  },
  {
   "cell_type": "code",
   "execution_count": null,
   "id": "7c857719-a0a0-407d-9d0d-85f94b54a4eb",
   "metadata": {},
   "outputs": [],
   "source": [
    "# generate urutan data sesuai panjang datanya\n",
    "x = pd.date_range(start=\"2017-01-01\", periods=len(y_test), freq='MS')\n",
    "\n",
    "# membuat frame\n",
    "fig, ax = plt.subplots(figsize = (10,5))\n",
    "\n",
    "# membuat time series plot\n",
    "ax.plot(x, y_test, color=\"tab:blue\", label=\"data aktual\", linewidth=2.5)\n",
    "ax.plot(x, predictions, color=\"tab:red\", label=\"hasil prediksi\", linewidth=2.5)\n",
    "\n",
    "# membuat label-label\n",
    "# ax.set_title(\"Hotspot Sumsel Sensor MODIS 2018-2020\", fontsize=14)\n",
    "ax.set_xlabel(\"Tanggal\", fontsize=12)\n",
    "ax.set_ylabel(\"Jumlah Hostpot\", fontsize=12)\n",
    "ax.legend(loc='upper right')\n",
    "ax.grid(True)\n",
    "\n",
    "# menampilkan plot\n",
    "plt.show()"
   ]
  },
  {
   "cell_type": "code",
   "execution_count": null,
   "id": "51a99242-0a31-4dcb-9828-0a2a0bc6d01e",
   "metadata": {},
   "outputs": [],
   "source": []
  }
 ],
 "metadata": {
  "kernelspec": {
   "display_name": "Python 3 (ipykernel)",
   "language": "python",
   "name": "python3"
  },
  "language_info": {
   "codemirror_mode": {
    "name": "ipython",
    "version": 3
   },
   "file_extension": ".py",
   "mimetype": "text/x-python",
   "name": "python",
   "nbconvert_exporter": "python",
   "pygments_lexer": "ipython3",
   "version": "3.9.13"
  }
 },
 "nbformat": 4,
 "nbformat_minor": 5
}
